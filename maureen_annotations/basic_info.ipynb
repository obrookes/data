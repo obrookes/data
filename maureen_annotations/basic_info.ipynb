{
 "cells": [
  {
   "cell_type": "code",
   "execution_count": 1,
   "id": "d23bccc1-5414-4a02-a4f4-b22d3b5dac61",
   "metadata": {},
   "outputs": [],
   "source": [
    "import os\n",
    "import json\n",
    "import shutil\n",
    "import pandas as pd\n",
    "import numpy as np\n",
    "from glob import glob\n",
    "from tqdm import tqdm\n",
    "import matplotlib.pyplot as plt\n",
    "import random, math"
   ]
  },
  {
   "cell_type": "code",
   "execution_count": 2,
   "id": "b82af76b-88c6-4d7b-b041-d3e25a2871fa",
   "metadata": {},
   "outputs": [],
   "source": [
    "csv_files = glob('data/sites/csv/**/*.csv', recursive=True)\n",
    "sorted_csv_files = sorted(csv_files, key=lambda x: x.split('/')[-1])\n",
    "initialiser, remainder = sorted_csv_files[0], sorted_csv_files[1:]\n",
    "df = pd.read_csv(initialiser, encoding=\"ISO-8859-1\")\n",
    "for file in remainder:\n",
    "    site = pd.read_csv(file, encoding=\"ISO-8859-1\")\n",
    "    df = pd.concat([df, site])\n",
    "df['subdir_video'] = df.subfolder.astype(str) + '_' + df.video_file_name.astype(str)"
   ]
  },
  {
   "cell_type": "markdown",
   "id": "07fb9bd7-de17-47cf-9a76-0fb44fc16920",
   "metadata": {},
   "source": [
    "**Basic analysis**"
   ]
  },
  {
   "cell_type": "code",
   "execution_count": 3,
   "id": "8dee505c-f218-45d1-b400-76cfcbb4afeb",
   "metadata": {},
   "outputs": [
    {
     "data": {
      "text/plain": [
       "Index(['new_row_id', 'country', 'research_site', 'genus', 'species',\n",
       "       'cam_coverage_area', 'location_metadata', 'habitat', 'utm_zone',\n",
       "       'utm_long', 'utm_lat', 'cam_id', 'vid_res', 'vid_duration',\n",
       "       'panaf_datasheet_comments', 'year', 'month', 'day', 'time_hr',\n",
       "       'time_min', 'cell_id', 'subfolder', 'video_file_name', 'event_id',\n",
       "       'min_number_chimps_per_video', 'max_number_chimps_per_video',\n",
       "       'age_class', 'sex', 'tool_use', 'vocalization', 'bipedal',\n",
       "       'camera_reaction', 'behavioral_context', 'other_species',\n",
       "       'additional_comments', 'record_type', 'subdir_video'],\n",
       "      dtype='object')"
      ]
     },
     "execution_count": 3,
     "metadata": {},
     "output_type": "execute_result"
    }
   ],
   "source": [
    "df.columns"
   ]
  },
  {
   "cell_type": "code",
   "execution_count": 4,
   "id": "6e8986af-8616-4972-a103-80864a7045dd",
   "metadata": {},
   "outputs": [
    {
     "data": {
      "text/plain": [
       "troglodytes verus             29823\n",
       "troglodytes troglodytes       10159\n",
       "troglodytes schweinfurthii     8516\n",
       "troglodytes ellioti            2163\n",
       "Name: species, dtype: int64"
      ]
     },
     "execution_count": 4,
     "metadata": {},
     "output_type": "execute_result"
    }
   ],
   "source": [
    "# Genus and species\n",
    "df.genus.value_counts()\n",
    "df.species.value_counts()"
   ]
  },
  {
   "cell_type": "code",
   "execution_count": 5,
   "id": "db59b62b-3cb1-4e5f-97bb-79b43a2bc184",
   "metadata": {},
   "outputs": [
    {
     "data": {
      "text/plain": [
       "trail                          17265\n",
       "termite site                    8890\n",
       "water source                    5264\n",
       "fruit tree                      2439\n",
       "water source / feeding site     2219\n",
       "                               ...  \n",
       "natural bridge/trail               2\n",
       "trail / ravine                     1\n",
       "fruit tree / rock                  1\n",
       "clearing / termite site            1\n",
       "tree / liana                       1\n",
       "Name: location_metadata, Length: 114, dtype: int64"
      ]
     },
     "execution_count": 5,
     "metadata": {},
     "output_type": "execute_result"
    }
   ],
   "source": [
    "# Location and habitat\n",
    "df.habitat.value_counts()\n",
    "df.location_metadata.value_counts()"
   ]
  },
  {
   "cell_type": "code",
   "execution_count": 7,
   "id": "9bc6b093-cbdf-483e-9002-d9648f91ecc6",
   "metadata": {},
   "outputs": [
    {
     "data": {
      "text/plain": [
       "412.0     489\n",
       "559.0     402\n",
       "848.0     394\n",
       "32.0      389\n",
       "284.0     315\n",
       "         ... \n",
       "5148.0      1\n",
       "905.0       1\n",
       "908.0       1\n",
       "5024.0      1\n",
       "5283.0      1\n",
       "Name: event_id, Length: 1217, dtype: int64"
      ]
     },
     "execution_count": 7,
     "metadata": {},
     "output_type": "execute_result"
    }
   ],
   "source": [
    "# What is this?\n",
    "df.event_id.value_counts()"
   ]
  },
  {
   "cell_type": "code",
   "execution_count": 8,
   "id": "54581d96-dcb5-4946-8162-0555bc9e1eff",
   "metadata": {},
   "outputs": [
    {
     "data": {
      "text/plain": [
       "adult             27781\n",
       "juvenile           9189\n",
       "infant             8166\n",
       "adolescent         3778\n",
       "unidentifiable     1545\n",
       "unclear              14\n",
       "Name: age_class, dtype: int64"
      ]
     },
     "execution_count": 8,
     "metadata": {},
     "output_type": "execute_result"
    }
   ],
   "source": [
    "df.age_class.value_counts()"
   ]
  },
  {
   "cell_type": "code",
   "execution_count": 9,
   "id": "d048d7cf-29ea-416d-ba6e-4872dc722f77",
   "metadata": {},
   "outputs": [
    {
     "data": {
      "text/plain": [
       "male              19247\n",
       "female            17581\n",
       "unclear           12201\n",
       "unidentifiable     1444\n",
       "Name: sex, dtype: int64"
      ]
     },
     "execution_count": 9,
     "metadata": {},
     "output_type": "execute_result"
    }
   ],
   "source": [
    "df.sex.value_counts()"
   ]
  },
  {
   "cell_type": "markdown",
   "id": "4ee0f959-c7de-4f6e-a308-569b2702571e",
   "metadata": {},
   "source": [
    "**Get entry counts for each country**"
   ]
  },
  {
   "cell_type": "code",
   "execution_count": 23,
   "id": "3640f0ee-69c4-4388-be77-f8ee492baa21",
   "metadata": {},
   "outputs": [
    {
     "data": {
      "text/plain": [
       "dorsal infant                                                     885\n",
       "ventral infant                                                    458\n",
       "carrying young dorsally                                           245\n",
       "carried                                                           187\n",
       "same individual from last video                                   147\n",
       "                                                                 ... \n",
       "injured in the right hand                                           1\n",
       "aside the adolescent (partially visible in background)              1\n",
       "dorsal infant; seems male                                           1\n",
       "possibly male; only partially visible in first second of video      1\n",
       "walks past in last second of video; not fully visible               1\n",
       "Name: additional_comments, Length: 4509, dtype: int64"
      ]
     },
     "execution_count": 23,
     "metadata": {},
     "output_type": "execute_result"
    }
   ],
   "source": [
    "df[df.behavioral_context=='travel'].additional_comments.value_counts()"
   ]
  },
  {
   "cell_type": "code",
   "execution_count": 12,
   "id": "eefd2cd5-ca21-48f4-8619-0b53b7b50050",
   "metadata": {},
   "outputs": [
    {
     "data": {
      "text/plain": [
       "same individual from last video                                                      2717\n",
       "dorsal infant                                                                        1182\n",
       "ventral infant                                                                        919\n",
       "using tool for eating termites                                                        421\n",
       "carrying young dorsally                                                               313\n",
       "drinking water                                                                        303\n",
       "using stick as tool for eating termites                                               260\n",
       "carried                                                                               245\n",
       "being carried                                                                         212\n",
       "carrying young ventrally                                                              172\n",
       "algae fishing                                                                         171\n",
       "paired-camera                                                                         164\n",
       "camera inspection                                                                     161\n",
       "climbing                                                                              156\n",
       "carrying infant                                                                       151\n",
       "leaving                                                                               149\n",
       "climbing down                                                                         137\n",
       "feeding on figs                                                                       124\n",
       "playing                                                                               121\n",
       "using tool for taking the termites from the nest; same individual from last video     101\n",
       "carrying ventral infant                                                                99\n",
       "Same chimp as the above event, different day, but again fishing insects                95\n",
       "carrying young dorsaly                                                                 91\n",
       "eating bark                                                                            90\n",
       "grooming                                                                               88\n",
       "Rides ventrally on the above chimp                                                     83\n",
       "carrying dorsal infant                                                                 82\n",
       "added extra-row for matching the max number of individuals                             76\n",
       "Rides dorsally on the above chimp                                                      75\n",
       "second                                                                                 73\n",
       "drinking water from the tree dipping                                                   69\n",
       "bark peeling                                                                           67\n",
       "running                                                                                63\n",
       "sex visible in next video                                                              62\n",
       "drinking water using leafs as sponge                                                   61\n",
       "probably male                                                                          60\n",
       "first                                                                                  58\n",
       "resting                                                                                56\n",
       "using stick as tool for eating termites; same individual from last video               56\n",
       "drinking                                                                               55\n",
       "on the left                                                                            55\n",
       "in back                                                                                49\n",
       "male; bottom seen throughout other clips in event ID #220                              48\n",
       "barely visible in background                                                           47\n",
       "just the back visible                                                                  46\n",
       "carrying young ventraly                                                                45\n",
       "peeling the bark; same individual from last video                                      45\n",
       "same individual fom last video                                                         43\n",
       "swelling                                                                               43\n",
       "drinking water from the tree dipping by using a stick as tool                          42\n",
       "Name: additional_comments, dtype: int64"
      ]
     },
     "execution_count": 12,
     "metadata": {},
     "output_type": "execute_result"
    }
   ],
   "source": [
    "df.additional_comments.value_counts()[:50]"
   ]
  },
  {
   "cell_type": "code",
   "execution_count": 19,
   "id": "f89d6dfc-14aa-473a-8257-8dc9af8f3d41",
   "metadata": {},
   "outputs": [],
   "source": [
    "from glob import glob\n",
    "local = [x.split('.')[0].split('/')[-1].lower() for x in glob('/home/dl18206/Desktop/phd/data/panaf/machine_annotations/videos/tracked/drc/bili/**/*.mp4', recursive=True)]"
   ]
  },
  {
   "cell_type": "code",
   "execution_count": null,
   "id": "45e6aafe-e53c-45c9-a624-3711029665e7",
   "metadata": {},
   "outputs": [],
   "source": [
    "df[(df.max_number_chimps_per_video==1) & (df.behavioral_context=='travel')].additional_comments.unique()"
   ]
  },
  {
   "cell_type": "code",
   "execution_count": 67,
   "id": "4266110a-f200-48ca-bf0e-57201add75b5",
   "metadata": {},
   "outputs": [
    {
     "data": {
      "text/plain": [
       "travel                     3125\n",
       "tool use termites          1848\n",
       "feeding                     944\n",
       "resting                     563\n",
       "tool use                    546\n",
       "unclear                     473\n",
       "tool use unknown            371\n",
       "climbing                    343\n",
       "camera reaction             274\n",
       "displaying                  112\n",
       "tool use ants                86\n",
       "tool use nuts                77\n",
       "tool use stone throwing      66\n",
       "tool use algae               56\n",
       "playing                       4\n",
       "aggression                    4\n",
       "grooming                      2\n",
       "greeting                      1\n",
       "displaying                    1\n",
       "no                            1\n",
       "Name: behavioral_context, dtype: int64"
      ]
     },
     "execution_count": 67,
     "metadata": {},
     "output_type": "execute_result"
    }
   ],
   "source": [
    "df[(df.max_number_chimps_per_video==1)].behavioral_context.value_counts()"
   ]
  },
  {
   "cell_type": "code",
   "execution_count": 56,
   "id": "1a49c990-7c6e-4ccc-b2b4-381346c91918",
   "metadata": {},
   "outputs": [
    {
     "data": {
      "text/plain": [
       "{'behaviours': {'travel': 3125,\n",
       "  'tool_use': {'tool_use': 546,\n",
       "   'termite': 1848,\n",
       "   'unknown': 371,\n",
       "   'ants': 86,\n",
       "   'nuts': 77,\n",
       "   'stone_throwing': 66,\n",
       "   'algae': 56}}}"
      ]
     },
     "execution_count": 56,
     "metadata": {},
     "output_type": "execute_result"
    }
   ],
   "source": [
    "dict(\n",
    "    behaviours=dict(\n",
    "        travel=3125,\n",
    "        tool_use=dict(\n",
    "            tool_use=546,\n",
    "            termite=1848,\n",
    "            unknown=371,\n",
    "            ants=86,\n",
    "            nuts=77,\n",
    "            stone_throwing=66,\n",
    "            algae=56,\n",
    "        ),\n",
    "        feeding=944,\n",
    "        resting=563,\n",
    "        climbing=343,\n",
    "        camera_reaction=274,\n",
    "        displaying=112,\n",
    "    )\n",
    ")"
   ]
  },
  {
   "cell_type": "code",
   "execution_count": null,
   "id": "44323e4e-6338-4e74-bf98-8bfc359a17df",
   "metadata": {},
   "outputs": [],
   "source": [
    "df[(df.max_number_chimps_per_video==1) & (df.camera_reaction=='yes')].additional_comments.unique()"
   ]
  },
  {
   "cell_type": "code",
   "execution_count": 10,
   "id": "203c52cc-e712-4797-a146-567e35386539",
   "metadata": {},
   "outputs": [
    {
     "data": {
      "text/html": [
       "<div>\n",
       "<style scoped>\n",
       "    .dataframe tbody tr th:only-of-type {\n",
       "        vertical-align: middle;\n",
       "    }\n",
       "\n",
       "    .dataframe tbody tr th {\n",
       "        vertical-align: top;\n",
       "    }\n",
       "\n",
       "    .dataframe thead th {\n",
       "        text-align: right;\n",
       "    }\n",
       "</style>\n",
       "<table border=\"1\" class=\"dataframe\">\n",
       "  <thead>\n",
       "    <tr style=\"text-align: right;\">\n",
       "      <th></th>\n",
       "      <th>new_row_id</th>\n",
       "      <th>country</th>\n",
       "      <th>research_site</th>\n",
       "      <th>genus</th>\n",
       "      <th>species</th>\n",
       "      <th>cam_coverage_area</th>\n",
       "      <th>location_metadata</th>\n",
       "      <th>habitat</th>\n",
       "      <th>utm_zone</th>\n",
       "      <th>utm_long</th>\n",
       "      <th>...</th>\n",
       "      <th>sex</th>\n",
       "      <th>tool_use</th>\n",
       "      <th>vocalization</th>\n",
       "      <th>bipedal</th>\n",
       "      <th>camera_reaction</th>\n",
       "      <th>behavioral_context</th>\n",
       "      <th>other_species</th>\n",
       "      <th>additional_comments</th>\n",
       "      <th>record_type</th>\n",
       "      <th>subdir_video</th>\n",
       "    </tr>\n",
       "  </thead>\n",
       "  <tbody>\n",
       "    <tr>\n",
       "      <th>0</th>\n",
       "      <td>1</td>\n",
       "      <td>guinea</td>\n",
       "      <td>sobory</td>\n",
       "      <td>Pan</td>\n",
       "      <td>troglodytes verus</td>\n",
       "      <td>86.33</td>\n",
       "      <td>trail</td>\n",
       "      <td>gallery forest</td>\n",
       "      <td>29n</td>\n",
       "      <td>254649.0</td>\n",
       "      <td>...</td>\n",
       "      <td>unclear</td>\n",
       "      <td>no</td>\n",
       "      <td>no</td>\n",
       "      <td>no</td>\n",
       "      <td>no</td>\n",
       "      <td>travel</td>\n",
       "      <td>NaN</td>\n",
       "      <td>NaN</td>\n",
       "      <td>60s_video</td>\n",
       "      <td>sob_vid01_0254649_1309636_20160524_ek000117</td>\n",
       "    </tr>\n",
       "    <tr>\n",
       "      <th>1</th>\n",
       "      <td>2</td>\n",
       "      <td>guinea</td>\n",
       "      <td>sobory</td>\n",
       "      <td>Pan</td>\n",
       "      <td>troglodytes verus</td>\n",
       "      <td>86.33</td>\n",
       "      <td>trail</td>\n",
       "      <td>gallery forest</td>\n",
       "      <td>29n</td>\n",
       "      <td>254649.0</td>\n",
       "      <td>...</td>\n",
       "      <td>male</td>\n",
       "      <td>no</td>\n",
       "      <td>no</td>\n",
       "      <td>no</td>\n",
       "      <td>yes</td>\n",
       "      <td>resting</td>\n",
       "      <td>NaN</td>\n",
       "      <td>NaN</td>\n",
       "      <td>60s_video</td>\n",
       "      <td>sob_vid01_0254649_1309636_20160622_ek000010</td>\n",
       "    </tr>\n",
       "    <tr>\n",
       "      <th>2</th>\n",
       "      <td>3</td>\n",
       "      <td>guinea</td>\n",
       "      <td>sobory</td>\n",
       "      <td>Pan</td>\n",
       "      <td>troglodytes verus</td>\n",
       "      <td>86.33</td>\n",
       "      <td>trail</td>\n",
       "      <td>gallery forest</td>\n",
       "      <td>29n</td>\n",
       "      <td>254649.0</td>\n",
       "      <td>...</td>\n",
       "      <td>male</td>\n",
       "      <td>no</td>\n",
       "      <td>no</td>\n",
       "      <td>no</td>\n",
       "      <td>yes</td>\n",
       "      <td>resting</td>\n",
       "      <td>NaN</td>\n",
       "      <td>NaN</td>\n",
       "      <td>60s_video</td>\n",
       "      <td>sob_vid01_0254649_1309636_20160622_ek000023</td>\n",
       "    </tr>\n",
       "    <tr>\n",
       "      <th>3</th>\n",
       "      <td>4</td>\n",
       "      <td>guinea</td>\n",
       "      <td>sobory</td>\n",
       "      <td>Pan</td>\n",
       "      <td>troglodytes verus</td>\n",
       "      <td>86.33</td>\n",
       "      <td>trail</td>\n",
       "      <td>gallery forest</td>\n",
       "      <td>29n</td>\n",
       "      <td>254649.0</td>\n",
       "      <td>...</td>\n",
       "      <td>female</td>\n",
       "      <td>no</td>\n",
       "      <td>no</td>\n",
       "      <td>no</td>\n",
       "      <td>yes</td>\n",
       "      <td>resting</td>\n",
       "      <td>NaN</td>\n",
       "      <td>NaN</td>\n",
       "      <td>60s_video</td>\n",
       "      <td>sob_vid01_0254649_1309636_20160622_ek000023</td>\n",
       "    </tr>\n",
       "    <tr>\n",
       "      <th>4</th>\n",
       "      <td>5</td>\n",
       "      <td>guinea</td>\n",
       "      <td>sobory</td>\n",
       "      <td>Pan</td>\n",
       "      <td>troglodytes verus</td>\n",
       "      <td>86.33</td>\n",
       "      <td>trail</td>\n",
       "      <td>gallery forest</td>\n",
       "      <td>29n</td>\n",
       "      <td>254649.0</td>\n",
       "      <td>...</td>\n",
       "      <td>unclear</td>\n",
       "      <td>no</td>\n",
       "      <td>no</td>\n",
       "      <td>no</td>\n",
       "      <td>yes</td>\n",
       "      <td>resting</td>\n",
       "      <td>NaN</td>\n",
       "      <td>dorsal infant</td>\n",
       "      <td>60s_video</td>\n",
       "      <td>sob_vid01_0254649_1309636_20160622_ek000023</td>\n",
       "    </tr>\n",
       "  </tbody>\n",
       "</table>\n",
       "<p>5 rows × 37 columns</p>\n",
       "</div>"
      ],
      "text/plain": [
       "   new_row_id country research_site genus            species  \\\n",
       "0           1  guinea        sobory   Pan  troglodytes verus   \n",
       "1           2  guinea        sobory   Pan  troglodytes verus   \n",
       "2           3  guinea        sobory   Pan  troglodytes verus   \n",
       "3           4  guinea        sobory   Pan  troglodytes verus   \n",
       "4           5  guinea        sobory   Pan  troglodytes verus   \n",
       "\n",
       "   cam_coverage_area location_metadata         habitat utm_zone  utm_long  \\\n",
       "0              86.33             trail  gallery forest      29n  254649.0   \n",
       "1              86.33             trail  gallery forest      29n  254649.0   \n",
       "2              86.33             trail  gallery forest      29n  254649.0   \n",
       "3              86.33             trail  gallery forest      29n  254649.0   \n",
       "4              86.33             trail  gallery forest      29n  254649.0   \n",
       "\n",
       "   ...      sex tool_use vocalization  bipedal camera_reaction  \\\n",
       "0  ...  unclear       no           no       no              no   \n",
       "1  ...     male       no           no       no             yes   \n",
       "2  ...     male       no           no       no             yes   \n",
       "3  ...   female       no           no       no             yes   \n",
       "4  ...  unclear       no           no       no             yes   \n",
       "\n",
       "   behavioral_context  other_species  additional_comments  record_type  \\\n",
       "0              travel            NaN                  NaN    60s_video   \n",
       "1             resting            NaN                  NaN    60s_video   \n",
       "2             resting            NaN                  NaN    60s_video   \n",
       "3             resting            NaN                  NaN    60s_video   \n",
       "4             resting            NaN        dorsal infant    60s_video   \n",
       "\n",
       "                                  subdir_video  \n",
       "0  sob_vid01_0254649_1309636_20160524_ek000117  \n",
       "1  sob_vid01_0254649_1309636_20160622_ek000010  \n",
       "2  sob_vid01_0254649_1309636_20160622_ek000023  \n",
       "3  sob_vid01_0254649_1309636_20160622_ek000023  \n",
       "4  sob_vid01_0254649_1309636_20160622_ek000023  \n",
       "\n",
       "[5 rows x 37 columns]"
      ]
     },
     "execution_count": 10,
     "metadata": {},
     "output_type": "execute_result"
    }
   ],
   "source": [
    "df[(df.country=='guinea')&(df.research_site=='sobory')].head()"
   ]
  },
  {
   "cell_type": "markdown",
   "id": "074a3be1-c9ea-4d94-8fab-60b6139c4139",
   "metadata": {},
   "source": [
    "**Cross referencing annotations**"
   ]
  },
  {
   "cell_type": "code",
   "execution_count": 38,
   "id": "0d2a3ece-2ba8-426d-b99b-adb5cbf3cccf",
   "metadata": {},
   "outputs": [],
   "source": [
    "annotations = open('annotations.txt', 'r').read().splitlines()\n",
    "videos = list(df.subdir_video.unique())"
   ]
  },
  {
   "cell_type": "code",
   "execution_count": 70,
   "id": "7a68bc80-d0d1-47f5-9c4d-9ae11e62baee",
   "metadata": {},
   "outputs": [
    {
     "name": "stderr",
     "output_type": "stream",
     "text": [
      "100%|██████████| 10752/10752 [00:08<00:00, 1333.73it/s]\n"
     ]
    },
    {
     "data": {
      "text/html": [
       "<div>\n",
       "<style scoped>\n",
       "    .dataframe tbody tr th:only-of-type {\n",
       "        vertical-align: middle;\n",
       "    }\n",
       "\n",
       "    .dataframe tbody tr th {\n",
       "        vertical-align: top;\n",
       "    }\n",
       "\n",
       "    .dataframe thead th {\n",
       "        text-align: right;\n",
       "    }\n",
       "</style>\n",
       "<table border=\"1\" class=\"dataframe\">\n",
       "  <thead>\n",
       "    <tr style=\"text-align: right;\">\n",
       "      <th></th>\n",
       "      <th>new_row_id</th>\n",
       "      <th>country</th>\n",
       "      <th>research_site</th>\n",
       "      <th>genus</th>\n",
       "      <th>species</th>\n",
       "      <th>cam_coverage_area</th>\n",
       "      <th>location_metadata</th>\n",
       "      <th>habitat</th>\n",
       "      <th>utm_zone</th>\n",
       "      <th>utm_long</th>\n",
       "      <th>...</th>\n",
       "      <th>sex</th>\n",
       "      <th>tool_use</th>\n",
       "      <th>vocalization</th>\n",
       "      <th>bipedal</th>\n",
       "      <th>camera_reaction</th>\n",
       "      <th>behavioral_context</th>\n",
       "      <th>other_species</th>\n",
       "      <th>additional_comments</th>\n",
       "      <th>record_type</th>\n",
       "      <th>subdir_video</th>\n",
       "    </tr>\n",
       "  </thead>\n",
       "  <tbody>\n",
       "    <tr>\n",
       "      <th>0</th>\n",
       "      <td>1</td>\n",
       "      <td>mali</td>\n",
       "      <td>bafing</td>\n",
       "      <td>Pan</td>\n",
       "      <td>troglodytes verus</td>\n",
       "      <td>9.87</td>\n",
       "      <td>trail</td>\n",
       "      <td>forest on rock</td>\n",
       "      <td>29n</td>\n",
       "      <td>342661.0</td>\n",
       "      <td>...</td>\n",
       "      <td>male</td>\n",
       "      <td>no</td>\n",
       "      <td>no</td>\n",
       "      <td>no</td>\n",
       "      <td>no</td>\n",
       "      <td>travel</td>\n",
       "      <td>NaN</td>\n",
       "      <td>Not very clear screen</td>\n",
       "      <td>60s_video</td>\n",
       "      <td>baf_vid1_0342661_1432807_20141103_11160014</td>\n",
       "    </tr>\n",
       "    <tr>\n",
       "      <th>5</th>\n",
       "      <td>6</td>\n",
       "      <td>mali</td>\n",
       "      <td>bafing</td>\n",
       "      <td>Pan</td>\n",
       "      <td>troglodytes verus</td>\n",
       "      <td>14.00</td>\n",
       "      <td>feeding site/fruit tree</td>\n",
       "      <td>gallery forest</td>\n",
       "      <td>29n</td>\n",
       "      <td>346467.0</td>\n",
       "      <td>...</td>\n",
       "      <td>male</td>\n",
       "      <td>no</td>\n",
       "      <td>no</td>\n",
       "      <td>no</td>\n",
       "      <td>yes</td>\n",
       "      <td>feeding</td>\n",
       "      <td>NaN</td>\n",
       "      <td>Near the camera, with a fruit in his mouth</td>\n",
       "      <td>60s_video</td>\n",
       "      <td>baf_vid10_0346467_1436892_20151112_11280025</td>\n",
       "    </tr>\n",
       "    <tr>\n",
       "      <th>10</th>\n",
       "      <td>11</td>\n",
       "      <td>mali</td>\n",
       "      <td>bafing</td>\n",
       "      <td>Pan</td>\n",
       "      <td>troglodytes verus</td>\n",
       "      <td>7.00</td>\n",
       "      <td>water source</td>\n",
       "      <td>forest on rock</td>\n",
       "      <td>29n</td>\n",
       "      <td>343264.0</td>\n",
       "      <td>...</td>\n",
       "      <td>female</td>\n",
       "      <td>no</td>\n",
       "      <td>no</td>\n",
       "      <td>no</td>\n",
       "      <td>no</td>\n",
       "      <td>resting</td>\n",
       "      <td>NaN</td>\n",
       "      <td>Carries an infant ventrally</td>\n",
       "      <td>60s_video</td>\n",
       "      <td>baf_vid11_0343264_1434832_20151019_12100066</td>\n",
       "    </tr>\n",
       "    <tr>\n",
       "      <th>11</th>\n",
       "      <td>12</td>\n",
       "      <td>mali</td>\n",
       "      <td>bafing</td>\n",
       "      <td>Pan</td>\n",
       "      <td>troglodytes verus</td>\n",
       "      <td>7.00</td>\n",
       "      <td>water source</td>\n",
       "      <td>forest on rock</td>\n",
       "      <td>29n</td>\n",
       "      <td>343264.0</td>\n",
       "      <td>...</td>\n",
       "      <td>unclear</td>\n",
       "      <td>no</td>\n",
       "      <td>no</td>\n",
       "      <td>no</td>\n",
       "      <td>no</td>\n",
       "      <td>resting</td>\n",
       "      <td>NaN</td>\n",
       "      <td>Rides ventrally on the above chimp</td>\n",
       "      <td>60s_video</td>\n",
       "      <td>baf_vid11_0343264_1434832_20151019_12100066</td>\n",
       "    </tr>\n",
       "    <tr>\n",
       "      <th>12</th>\n",
       "      <td>13</td>\n",
       "      <td>mali</td>\n",
       "      <td>bafing</td>\n",
       "      <td>Pan</td>\n",
       "      <td>troglodytes verus</td>\n",
       "      <td>7.00</td>\n",
       "      <td>water source</td>\n",
       "      <td>forest on rock</td>\n",
       "      <td>29n</td>\n",
       "      <td>343264.0</td>\n",
       "      <td>...</td>\n",
       "      <td>female</td>\n",
       "      <td>no</td>\n",
       "      <td>yes</td>\n",
       "      <td>no</td>\n",
       "      <td>yes</td>\n",
       "      <td>resting</td>\n",
       "      <td>NaN</td>\n",
       "      <td>At the top right side of the screen. Seems to ...</td>\n",
       "      <td>60s_video</td>\n",
       "      <td>baf_vid11_0343264_1434832_20151019_12100066</td>\n",
       "    </tr>\n",
       "  </tbody>\n",
       "</table>\n",
       "<p>5 rows × 37 columns</p>\n",
       "</div>"
      ],
      "text/plain": [
       "    new_row_id country research_site genus            species  \\\n",
       "0            1    mali        bafing   Pan  troglodytes verus   \n",
       "5            6    mali        bafing   Pan  troglodytes verus   \n",
       "10          11    mali        bafing   Pan  troglodytes verus   \n",
       "11          12    mali        bafing   Pan  troglodytes verus   \n",
       "12          13    mali        bafing   Pan  troglodytes verus   \n",
       "\n",
       "    cam_coverage_area        location_metadata         habitat utm_zone  \\\n",
       "0                9.87                    trail  forest on rock      29n   \n",
       "5               14.00  feeding site/fruit tree  gallery forest      29n   \n",
       "10               7.00             water source  forest on rock      29n   \n",
       "11               7.00             water source  forest on rock      29n   \n",
       "12               7.00             water source  forest on rock      29n   \n",
       "\n",
       "    utm_long  ...      sex tool_use vocalization  bipedal camera_reaction  \\\n",
       "0   342661.0  ...     male       no           no       no              no   \n",
       "5   346467.0  ...     male       no           no       no             yes   \n",
       "10  343264.0  ...   female       no           no       no              no   \n",
       "11  343264.0  ...  unclear       no           no       no              no   \n",
       "12  343264.0  ...   female       no          yes       no             yes   \n",
       "\n",
       "    behavioral_context  other_species  \\\n",
       "0               travel            NaN   \n",
       "5              feeding            NaN   \n",
       "10             resting            NaN   \n",
       "11             resting            NaN   \n",
       "12             resting            NaN   \n",
       "\n",
       "                                  additional_comments  record_type  \\\n",
       "0                               Not very clear screen    60s_video   \n",
       "5          Near the camera, with a fruit in his mouth    60s_video   \n",
       "10                        Carries an infant ventrally    60s_video   \n",
       "11                 Rides ventrally on the above chimp    60s_video   \n",
       "12  At the top right side of the screen. Seems to ...    60s_video   \n",
       "\n",
       "                                   subdir_video  \n",
       "0    baf_vid1_0342661_1432807_20141103_11160014  \n",
       "5   baf_vid10_0346467_1436892_20151112_11280025  \n",
       "10  baf_vid11_0343264_1434832_20151019_12100066  \n",
       "11  baf_vid11_0343264_1434832_20151019_12100066  \n",
       "12  baf_vid11_0343264_1434832_20151019_12100066  \n",
       "\n",
       "[5 rows x 37 columns]"
      ]
     },
     "execution_count": 70,
     "metadata": {},
     "output_type": "execute_result"
    }
   ],
   "source": [
    "from tqdm import tqdm\n",
    "match = [x for x in tqdm(annotations) if x in videos]\n",
    "m_df = df[df.subdir_video.isin(match)]\n",
    "m_df.head()"
   ]
  },
  {
   "cell_type": "markdown",
   "id": "06ba706b-3d2a-42c4-984d-782bdadcbe6f",
   "metadata": {},
   "source": [
    "**Build annotation file for Boe site**"
   ]
  },
  {
   "cell_type": "code",
   "execution_count": null,
   "id": "408d7091-b8c5-416b-8a8c-d7ad359775fc",
   "metadata": {},
   "outputs": [],
   "source": [
    "# Filter by only guineabissau, boe and single-chimp videos\n",
    "boe = df[(df.country=='guineabissau') & (df.research_site=='boe') & (df.max_number_chimps_per_video==1)]\n",
    "\n",
    "# Confirm there are only unique labels for each video\n",
    "assert len(boe) == len(boe.subdir_video.unique())\n",
    "\n",
    "# Print distribution of beahioural contexts\n",
    "print(boe.behavioral_context.value_counts())\n",
    "\n",
    "# Create index labels for training\n",
    "boe['label'] = boe.behavioral_context.astype('category').cat.codes.astype('int')\n",
    "\n",
    "# Create train-test splits for Boe site\n",
    "\n",
    "from sklearn.model_selection import train_test_split\n",
    "train, test = train_test_split(boe, test_size=0.4)\n",
    "train['split'] = 'train'\n",
    "test['split'] = 'test'\n",
    "boe = pd.concat([train, test])\n",
    "\n",
    "# export as csv\n",
    "boe.to_csv('guineabissau_boe_labels.csv')"
   ]
  },
  {
   "cell_type": "code",
   "execution_count": 130,
   "id": "f001285e-1b6f-4fed-a961-21d2c9a7f8a8",
   "metadata": {},
   "outputs": [
    {
     "data": {
      "text/plain": [
       "9"
      ]
     },
     "execution_count": 130,
     "metadata": {},
     "output_type": "execute_result"
    }
   ],
   "source": [
    "len(boe.label.unique())"
   ]
  },
  {
   "cell_type": "code",
   "execution_count": 39,
   "id": "8634d011-d807-47ec-afcc-cffe91ed34e5",
   "metadata": {},
   "outputs": [
    {
     "data": {
      "text/html": [
       "<div>\n",
       "<style scoped>\n",
       "    .dataframe tbody tr th:only-of-type {\n",
       "        vertical-align: middle;\n",
       "    }\n",
       "\n",
       "    .dataframe tbody tr th {\n",
       "        vertical-align: top;\n",
       "    }\n",
       "\n",
       "    .dataframe thead th {\n",
       "        text-align: right;\n",
       "    }\n",
       "</style>\n",
       "<table border=\"1\" class=\"dataframe\">\n",
       "  <thead>\n",
       "    <tr style=\"text-align: right;\">\n",
       "      <th></th>\n",
       "      <th>new_row_id</th>\n",
       "      <th>country</th>\n",
       "      <th>research_site</th>\n",
       "      <th>genus</th>\n",
       "      <th>species</th>\n",
       "      <th>cam_coverage_area</th>\n",
       "      <th>location_metadata</th>\n",
       "      <th>habitat</th>\n",
       "      <th>utm_zone</th>\n",
       "      <th>utm_long</th>\n",
       "      <th>...</th>\n",
       "      <th>sex</th>\n",
       "      <th>tool_use</th>\n",
       "      <th>vocalization</th>\n",
       "      <th>bipedal</th>\n",
       "      <th>camera_reaction</th>\n",
       "      <th>behavioral_context</th>\n",
       "      <th>other_species</th>\n",
       "      <th>additional_comments</th>\n",
       "      <th>record_type</th>\n",
       "      <th>subdir_video</th>\n",
       "    </tr>\n",
       "  </thead>\n",
       "  <tbody>\n",
       "    <tr>\n",
       "      <th>60</th>\n",
       "      <td>61</td>\n",
       "      <td>mali</td>\n",
       "      <td>bafing</td>\n",
       "      <td>Pan</td>\n",
       "      <td>troglodytes verus</td>\n",
       "      <td>11.93</td>\n",
       "      <td>water source</td>\n",
       "      <td>gallery forest</td>\n",
       "      <td>29n</td>\n",
       "      <td>345506.0</td>\n",
       "      <td>...</td>\n",
       "      <td>unclear</td>\n",
       "      <td>no</td>\n",
       "      <td>no</td>\n",
       "      <td>no</td>\n",
       "      <td>yes</td>\n",
       "      <td>camera reaction</td>\n",
       "      <td>NaN</td>\n",
       "      <td>Can not see nothing, just its back and a bit o...</td>\n",
       "      <td>60s_video</td>\n",
       "      <td>baf_vid13_0345506_1436561_20150216/2170022</td>\n",
       "    </tr>\n",
       "    <tr>\n",
       "      <th>306</th>\n",
       "      <td>307</td>\n",
       "      <td>mali</td>\n",
       "      <td>bafing</td>\n",
       "      <td>Pan</td>\n",
       "      <td>troglodytes verus</td>\n",
       "      <td>10.50</td>\n",
       "      <td>nesting site/trail</td>\n",
       "      <td>forest on rock</td>\n",
       "      <td>29n</td>\n",
       "      <td>345381.0</td>\n",
       "      <td>...</td>\n",
       "      <td>female</td>\n",
       "      <td>no</td>\n",
       "      <td>no</td>\n",
       "      <td>no</td>\n",
       "      <td>yes</td>\n",
       "      <td>camera reaction</td>\n",
       "      <td>NaN</td>\n",
       "      <td>NaN</td>\n",
       "      <td>60s_video</td>\n",
       "      <td>baf_vid22_0345381_1438099_20151023/10250005</td>\n",
       "    </tr>\n",
       "    <tr>\n",
       "      <th>443</th>\n",
       "      <td>444</td>\n",
       "      <td>mali</td>\n",
       "      <td>bafing</td>\n",
       "      <td>Pan</td>\n",
       "      <td>troglodytes verus</td>\n",
       "      <td>15.30</td>\n",
       "      <td>nesting site</td>\n",
       "      <td>forest on rock</td>\n",
       "      <td>29n</td>\n",
       "      <td>345509.0</td>\n",
       "      <td>...</td>\n",
       "      <td>unclear</td>\n",
       "      <td>no</td>\n",
       "      <td>no</td>\n",
       "      <td>no</td>\n",
       "      <td>yes</td>\n",
       "      <td>camera reaction</td>\n",
       "      <td>NaN</td>\n",
       "      <td>Investigates the camera</td>\n",
       "      <td>60s_video</td>\n",
       "      <td>baf_vid24_0345509_1436557_20160303/3070026</td>\n",
       "    </tr>\n",
       "    <tr>\n",
       "      <th>451</th>\n",
       "      <td>452</td>\n",
       "      <td>mali</td>\n",
       "      <td>bafing</td>\n",
       "      <td>Pan</td>\n",
       "      <td>troglodytes verus</td>\n",
       "      <td>12.24</td>\n",
       "      <td>nesting site</td>\n",
       "      <td>forest on rock</td>\n",
       "      <td>29n</td>\n",
       "      <td>345509.0</td>\n",
       "      <td>...</td>\n",
       "      <td>unclear</td>\n",
       "      <td>no</td>\n",
       "      <td>no</td>\n",
       "      <td>no</td>\n",
       "      <td>yes</td>\n",
       "      <td>camera reaction</td>\n",
       "      <td>NaN</td>\n",
       "      <td>camera inspection</td>\n",
       "      <td>60s_video</td>\n",
       "      <td>baf_vid24a_0345509_1436557_20151112/11160028</td>\n",
       "    </tr>\n",
       "    <tr>\n",
       "      <th>454</th>\n",
       "      <td>455</td>\n",
       "      <td>mali</td>\n",
       "      <td>bafing</td>\n",
       "      <td>Pan</td>\n",
       "      <td>troglodytes verus</td>\n",
       "      <td>12.24</td>\n",
       "      <td>nesting site</td>\n",
       "      <td>forest on rock</td>\n",
       "      <td>29n</td>\n",
       "      <td>345509.0</td>\n",
       "      <td>...</td>\n",
       "      <td>unclear</td>\n",
       "      <td>no</td>\n",
       "      <td>no</td>\n",
       "      <td>no</td>\n",
       "      <td>yes</td>\n",
       "      <td>camera reaction</td>\n",
       "      <td>NaN</td>\n",
       "      <td>camera inspection</td>\n",
       "      <td>60s_video</td>\n",
       "      <td>baf_vid24a_0345509_1436557_20151112/12220265</td>\n",
       "    </tr>\n",
       "  </tbody>\n",
       "</table>\n",
       "<p>5 rows × 37 columns</p>\n",
       "</div>"
      ],
      "text/plain": [
       "     new_row_id country research_site genus            species  \\\n",
       "60           61    mali        bafing   Pan  troglodytes verus   \n",
       "306         307    mali        bafing   Pan  troglodytes verus   \n",
       "443         444    mali        bafing   Pan  troglodytes verus   \n",
       "451         452    mali        bafing   Pan  troglodytes verus   \n",
       "454         455    mali        bafing   Pan  troglodytes verus   \n",
       "\n",
       "     cam_coverage_area   location_metadata         habitat utm_zone  utm_long  \\\n",
       "60               11.93        water source  gallery forest      29n  345506.0   \n",
       "306              10.50  nesting site/trail  forest on rock      29n  345381.0   \n",
       "443              15.30        nesting site  forest on rock      29n  345509.0   \n",
       "451              12.24        nesting site  forest on rock      29n  345509.0   \n",
       "454              12.24        nesting site  forest on rock      29n  345509.0   \n",
       "\n",
       "     ...      sex tool_use vocalization  bipedal camera_reaction  \\\n",
       "60   ...  unclear       no           no       no             yes   \n",
       "306  ...   female       no           no       no             yes   \n",
       "443  ...  unclear       no           no       no             yes   \n",
       "451  ...  unclear       no           no       no             yes   \n",
       "454  ...  unclear       no           no       no             yes   \n",
       "\n",
       "     behavioral_context  other_species  \\\n",
       "60      camera reaction            NaN   \n",
       "306     camera reaction            NaN   \n",
       "443     camera reaction            NaN   \n",
       "451     camera reaction            NaN   \n",
       "454     camera reaction            NaN   \n",
       "\n",
       "                                   additional_comments  record_type  \\\n",
       "60   Can not see nothing, just its back and a bit o...    60s_video   \n",
       "306                                                NaN    60s_video   \n",
       "443                            Investigates the camera    60s_video   \n",
       "451                                  camera inspection    60s_video   \n",
       "454                                  camera inspection    60s_video   \n",
       "\n",
       "                                     subdir_video  \n",
       "60     baf_vid13_0345506_1436561_20150216/2170022  \n",
       "306   baf_vid22_0345381_1438099_20151023/10250005  \n",
       "443    baf_vid24_0345509_1436557_20160303/3070026  \n",
       "451  baf_vid24a_0345509_1436557_20151112/11160028  \n",
       "454  baf_vid24a_0345509_1436557_20151112/12220265  \n",
       "\n",
       "[5 rows x 37 columns]"
      ]
     },
     "execution_count": 39,
     "metadata": {},
     "output_type": "execute_result"
    }
   ],
   "source": [
    "df[(df.max_number_chimps_per_video==1)&(df.behavioral_context=='camera reaction')].head()"
   ]
  },
  {
   "cell_type": "code",
   "execution_count": 136,
   "id": "b0cf4457-91fc-43e7-8ba0-eabfbc829ea4",
   "metadata": {},
   "outputs": [
    {
     "data": {
      "text/plain": [
       "no                            1\n",
       "greeting                      1\n",
       "displaying                    1\n",
       "grooming                      2\n",
       "aggression                    4\n",
       "playing                       4\n",
       "tool use algae               56\n",
       "tool use stone throwing      62\n",
       "tool use nuts                77\n",
       "tool use ants                86\n",
       "displaying                  103\n",
       "camera reaction             258\n",
       "climbing                    337\n",
       "tool use unknown            371\n",
       "unclear                     458\n",
       "tool use                    546\n",
       "resting                     551\n",
       "feeding                     939\n",
       "tool use termites          1848\n",
       "travel                     3031\n",
       "Name: behavioral_context, dtype: int64"
      ]
     },
     "execution_count": 136,
     "metadata": {},
     "output_type": "execute_result"
    }
   ],
   "source": [
    "df.behavioral_context.value_counts().sort_values()"
   ]
  },
  {
   "cell_type": "code",
   "execution_count": 130,
   "id": "a521f3e3-0ae3-4d7f-bd81-42b4edf51cbf",
   "metadata": {},
   "outputs": [
    {
     "data": {
      "text/plain": [
       "<AxesSubplot:>"
      ]
     },
     "execution_count": 130,
     "metadata": {},
     "output_type": "execute_result"
    },
    {
     "data": {
      "image/png": "[encoded data removed]",
      "text/plain": [
       "<Figure size 1080x720 with 1 Axes>"
      ]
     },
     "metadata": {
      "needs_background": "light"
     },
     "output_type": "display_data"
    }
   ],
   "source": [
    "plt.figure(figsize=(15,10))\n",
    "df.behavioral_context.value_counts().sort_values().plot(kind ='barh', logx=True)"
   ]
  },
  {
   "cell_type": "code",
   "execution_count": 120,
   "id": "7ae47516-cd46-4677-ac0e-0cc770358216",
   "metadata": {},
   "outputs": [
    {
     "data": {
      "image/png": "[encoded data removed]",
      "text/plain": [
       "<Figure size 1080x720 with 2 Axes>"
      ]
     },
     "metadata": {
      "needs_background": "light"
     },
     "output_type": "display_data"
    }
   ],
   "source": [
    "# Co occurence\n",
    "co_matrix = pd.crosstab(df.behavioral_context, df.habitat)\n",
    "plt.figure(figsize=(15,10))\n",
    "sns.heatmap(co_matrix, cmap=sns.cm.rocket_r);"
   ]
  },
  {
   "cell_type": "code",
   "execution_count": 121,
   "id": "7c95aee0-c680-4ee4-943c-e9434abe56ec",
   "metadata": {},
   "outputs": [
    {
     "data": {
      "image/png": "[encoded data removed]",
      "text/plain": [
       "<Figure size 1080x720 with 2 Axes>"
      ]
     },
     "metadata": {
      "needs_background": "light"
     },
     "output_type": "display_data"
    }
   ],
   "source": [
    "# Co occurence\n",
    "co_matrix = pd.crosstab(df.behavioral_context, df.location_metadata)\n",
    "plt.figure(figsize=(15,10))\n",
    "sns.heatmap(co_matrix, cmap=sns.cm.rocket_r);"
   ]
  }
 ],
 "metadata": {
  "kernelspec": {
   "display_name": "Python 3",
   "language": "python",
   "name": "python3"
  },
  "language_info": {
   "codemirror_mode": {
    "name": "ipython",
    "version": 3
   },
   "file_extension": ".py",
   "mimetype": "text/x-python",
   "name": "python",
   "nbconvert_exporter": "python",
   "pygments_lexer": "ipython3",
   "version": "3.8.13"
  }
 },
 "nbformat": 4,
 "nbformat_minor": 5
}
