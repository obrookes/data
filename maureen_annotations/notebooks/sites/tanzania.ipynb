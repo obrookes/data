{
 "cells": [
  {
   "cell_type": "code",
   "execution_count": 183,
   "id": "de8fb3ca-d054-4496-bb7e-b06dd0d54ded",
   "metadata": {},
   "outputs": [],
   "source": [
    "import json\n",
    "import shutil\n",
    "import pandas as pd\n",
    "import numpy as np\n",
    "from glob import glob\n",
    "from tqdm import tqdm"
   ]
  },
  {
   "cell_type": "code",
   "execution_count": 184,
   "id": "721a10b5-9f53-4588-8ef3-77cc10e6d077",
   "metadata": {},
   "outputs": [],
   "source": [
    "bili = pd.read_csv('sites/bili_chimp_video_data.csv', encoding = \"ISO-8859-1\")\n",
    "rt = pd.read_csv('sites/rubi_tele_chimp_video_data.csv', encoding = \"ISO-8859-1\")\n",
    "df = pd.concat([bili, rt])"
   ]
  },
  {
   "cell_type": "code",
   "execution_count": 185,
   "id": "2c4a10c3-eafb-4ff2-aa6b-db3a7cd2b11f",
   "metadata": {},
   "outputs": [
    {
     "data": {
      "text/plain": [
       "Index(['new_row_id', 'country', 'research_site', 'genus', 'species',\n",
       "       'cam_coverage_area', 'location_metadata', 'habitat', 'utm_zone',\n",
       "       'utm_long', 'utm_lat', 'cam_id', 'vid_res', 'vid_duration',\n",
       "       'panaf_datasheet_comments', 'year', 'month', 'day', 'time_hr',\n",
       "       'time_min', 'cell_id', 'subfolder', 'video_file_name', 'event_id',\n",
       "       'min_number_chimps_per_video', 'max_number_chimps_per_video',\n",
       "       'age_class', 'sex', 'tool_use', 'vocalization', 'bipedal',\n",
       "       'camera_reaction', 'behavioral_context', 'other_species',\n",
       "       'additional_comments', 'record_type'],\n",
       "      dtype='object')"
      ]
     },
     "execution_count": 185,
     "metadata": {},
     "output_type": "execute_result"
    }
   ],
   "source": [
    "df.columns"
   ]
  },
  {
   "cell_type": "code",
   "execution_count": 186,
   "id": "88aa095d-95c5-49c5-9919-ea8cec1ce455",
   "metadata": {},
   "outputs": [
    {
     "data": {
      "text/plain": [
       "0      bili_vid11_243341_480435_20120830\n",
       "1      bili_vid11_243341_480435_20120830\n",
       "2      bili_vid11_243341_480435_20120830\n",
       "3      bili_vid11_243341_480435_20120830\n",
       "4      bili_vid12_243386_480442_20121113\n",
       "                     ...                \n",
       "213    rt_vidak_0287171_0270621_20160307\n",
       "214    rt_vidak_0287171_0270621_20160307\n",
       "215    rt_vid24_0290889_0276612_20150424\n",
       "216    rt_vid24_0290889_0276612_20150424\n",
       "217    rt_vid24_0290889_0276612_20150424\n",
       "Name: subfolder, Length: 406, dtype: object"
      ]
     },
     "execution_count": 186,
     "metadata": {},
     "output_type": "execute_result"
    }
   ],
   "source": [
    "df.subfolder"
   ]
  },
  {
   "cell_type": "code",
   "execution_count": 187,
   "id": "98a59349-437a-4b29-b09b-f14ee3536dcc",
   "metadata": {},
   "outputs": [
    {
     "data": {
      "text/plain": [
       "0      pict0005\n",
       "1      pict0022\n",
       "2      pict0022\n",
       "3      pict0029\n",
       "4      pict0053\n",
       "         ...   \n",
       "213     3290012\n",
       "214     3290012\n",
       "215     5140053\n",
       "216     5140053\n",
       "217     5140053\n",
       "Name: video_file_name, Length: 406, dtype: object"
      ]
     },
     "execution_count": 187,
     "metadata": {},
     "output_type": "execute_result"
    }
   ],
   "source": [
    "df.video_file_name"
   ]
  },
  {
   "cell_type": "code",
   "execution_count": 188,
   "id": "d2502e3f-0738-4847-819c-9d8e69feedd9",
   "metadata": {},
   "outputs": [
    {
     "data": {
      "text/plain": [
       "78"
      ]
     },
     "execution_count": 188,
     "metadata": {},
     "output_type": "execute_result"
    }
   ],
   "source": [
    "df['subdir_video'] = df['subfolder'] + '_' + df['video_file_name']\n",
    "df['subdir_video'] = df['subdir_video'].str.lower()\n",
    "\n",
    "df['subdir_video_0'] = df.subdir_video.str.split('_').str[:5] + pd.Series('0' + df.subdir_video.str.split('_').str[5]).apply(lambda x: [x])\n",
    "df['subdir_video_0'] = df['subdir_video_0'].str.join('_') \n",
    "\n",
    "# Only videos with 1 ape\n",
    "df = df[df.max_number_chimps_per_video==1]\n",
    "len(df)"
   ]
  },
  {
   "cell_type": "code",
   "execution_count": 189,
   "id": "c0575d45-92fe-48d8-8f72-7c02b0012fa6",
   "metadata": {},
   "outputs": [],
   "source": [
    "# What we have locally\n",
    "local_filenames = glob('/home/dl18206/Desktop/phd/data/panaf/chimp_videos/drc/**/*.mp4', recursive=True)\n",
    "local_filenames = [x.split('/')[-2:] for x in local_filenames]\n",
    "local_filenames = [x[-1].split('.')[0].lower() for x in local_filenames]"
   ]
  },
  {
   "cell_type": "code",
   "execution_count": 190,
   "id": "482a2eeb-c277-4b3f-a763-8787ef7deaa9",
   "metadata": {},
   "outputs": [
    {
     "name": "stdout",
     "output_type": "stream",
     "text": [
      "Total: 78\n"
     ]
    }
   ],
   "source": [
    "df[df.subdir_video.isin(local_filenames)].behavioral_context.value_counts().sum()\n",
    "df[df.subdir_video_0.isin(local_filenames)].behavioral_context.value_counts().sum()\n",
    "print(f\"Total: {df[df.subdir_video.isin(local_filenames)].behavioral_context.value_counts().sum() + df[df.subdir_video_0.isin(local_filenames)].behavioral_context.value_counts().sum()}\")"
   ]
  }
 ],
 "metadata": {
  "kernelspec": {
   "display_name": "Python 3",
   "language": "python",
   "name": "python3"
  },
  "language_info": {
   "codemirror_mode": {
    "name": "ipython",
    "version": 3
   },
   "file_extension": ".py",
   "mimetype": "text/x-python",
   "name": "python",
   "nbconvert_exporter": "python",
   "pygments_lexer": "ipython3",
   "version": "3.8.13"
  }
 },
 "nbformat": 4,
 "nbformat_minor": 5
}
