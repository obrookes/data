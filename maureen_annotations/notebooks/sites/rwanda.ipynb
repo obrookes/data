{
 "cells": [
  {
   "cell_type": "code",
   "execution_count": 5,
   "id": "de8fb3ca-d054-4496-bb7e-b06dd0d54ded",
   "metadata": {},
   "outputs": [],
   "source": [
    "import json\n",
    "import shutil\n",
    "import pandas as pd\n",
    "import numpy as np\n",
    "from glob import glob\n",
    "from tqdm import tqdm"
   ]
  },
  {
   "cell_type": "code",
   "execution_count": 6,
   "id": "721a10b5-9f53-4588-8ef3-77cc10e6d077",
   "metadata": {},
   "outputs": [],
   "source": [
    "gis = pd.read_csv('sites/gishwati_chimp_video_data.csv', encoding = \"ISO-8859-1\")\n",
    "nnp = pd.read_csv('sites/nyungwe_chimp_video_data.csv', encoding = \"ISO-8859-1\")\n",
    "df = pd.concat([gis,nnp])"
   ]
  },
  {
   "cell_type": "code",
   "execution_count": 7,
   "id": "2c4a10c3-eafb-4ff2-aa6b-db3a7cd2b11f",
   "metadata": {},
   "outputs": [
    {
     "data": {
      "text/plain": [
       "Index(['new_row_id', 'country', 'research_site', 'genus', 'species',\n",
       "       'cam_coverage_area', 'location_metadata', 'habitat', 'utm_zone',\n",
       "       'utm_long', 'utm_lat', 'cam_id', 'vid_res', 'vid_duration',\n",
       "       'panaf_datasheet_comments', 'year', 'month', 'day', 'time_hr',\n",
       "       'time_min', 'cell_id', 'subfolder', 'video_file_name', 'event_id',\n",
       "       'min_number_chimps_per_video', 'max_number_chimps_per_video',\n",
       "       'age_class', 'sex', 'tool_use', 'vocalization', 'bipedal',\n",
       "       'camera_reaction', 'behavioral_context', 'other_species',\n",
       "       'additional_comments', 'record_type'],\n",
       "      dtype='object')"
      ]
     },
     "execution_count": 7,
     "metadata": {},
     "output_type": "execute_result"
    }
   ],
   "source": [
    "df.columns"
   ]
  },
  {
   "cell_type": "code",
   "execution_count": 8,
   "id": "88aa095d-95c5-49c5-9919-ea8cec1ce455",
   "metadata": {},
   "outputs": [
    {
     "data": {
      "text/plain": [
       "0      gis_vid1_762418_9799548_20111103\n",
       "1      gis_vid2_762955_9797814_20110713\n",
       "2      gis_vid2_762955_9797814_20110713\n",
       "3      gis_vid2_762955_9797814_20110804\n",
       "4      gis_vid2_762955_9797814_20110804\n",
       "                     ...               \n",
       "473           nnp_vidukn_13_13_20131009\n",
       "474           nnp_vidukn_13_13_20131009\n",
       "475           nnp_vidukn_13_13_20131009\n",
       "476           nnp_vidukn_13_13_20131009\n",
       "477           nnp_vidukn_13_13_20131009\n",
       "Name: subfolder, Length: 750, dtype: object"
      ]
     },
     "execution_count": 8,
     "metadata": {},
     "output_type": "execute_result"
    }
   ],
   "source": [
    "df.subfolder"
   ]
  },
  {
   "cell_type": "code",
   "execution_count": 9,
   "id": "98a59349-437a-4b29-b09b-f14ee3536dcc",
   "metadata": {},
   "outputs": [
    {
     "data": {
      "text/plain": [
       "0      pict0002\n",
       "1      pict0144\n",
       "2      pict0144\n",
       "3      pict0032\n",
       "4      pict0032\n",
       "         ...   \n",
       "473    ek000008\n",
       "474    ek000010\n",
       "475    ek000010\n",
       "476    ek000011\n",
       "477    ek000012\n",
       "Name: video_file_name, Length: 750, dtype: object"
      ]
     },
     "execution_count": 9,
     "metadata": {},
     "output_type": "execute_result"
    }
   ],
   "source": [
    "df.video_file_name"
   ]
  },
  {
   "cell_type": "code",
   "execution_count": 10,
   "id": "f3667b20-ab0f-4813-80a2-d2bb5ea7c424",
   "metadata": {},
   "outputs": [
    {
     "data": {
      "text/plain": [
       "0    pict0002\n",
       "0    ek000049\n",
       "Name: video_file_name, dtype: object"
      ]
     },
     "execution_count": 10,
     "metadata": {},
     "output_type": "execute_result"
    }
   ],
   "source": [
    "df.video_file_name[0]"
   ]
  },
  {
   "cell_type": "code",
   "execution_count": 11,
   "id": "d2502e3f-0738-4847-819c-9d8e69feedd9",
   "metadata": {},
   "outputs": [
    {
     "data": {
      "text/plain": [
       "157"
      ]
     },
     "execution_count": 11,
     "metadata": {},
     "output_type": "execute_result"
    }
   ],
   "source": [
    "df['subdir_video'] = df['subfolder'] + '_' + df['video_file_name'].apply(lambda x: str(x))\n",
    "df['subdir_video'] = df['subdir_video'].str.lower()\n",
    "\n",
    "df['subdir_video_0'] = df.subdir_video.str.split('_').str[:5] + pd.Series('0' + df.subdir_video.str.split('_').str[5]).apply(lambda x: [x])\n",
    "df['subdir_video_0'] = df['subdir_video_0'].str.join('_') \n",
    "\n",
    "# Only videos with 1 ape\n",
    "df = df[df.max_number_chimps_per_video==1]\n",
    "len(df)"
   ]
  },
  {
   "cell_type": "code",
   "execution_count": 14,
   "id": "c0575d45-92fe-48d8-8f72-7c02b0012fa6",
   "metadata": {},
   "outputs": [],
   "source": [
    "# What we have locally\n",
    "local_filenames = glob('/home/dl18206/Desktop/phd/data/panaf/chimp_videos/rwanda/**/*.mp4', recursive=True)\n",
    "local_filenames = [x.split('/')[-2:] for x in local_filenames]\n",
    "local_filenames = [x[-1].split('.')[0].lower() for x in local_filenames]"
   ]
  },
  {
   "cell_type": "code",
   "execution_count": 15,
   "id": "482a2eeb-c277-4b3f-a763-8787ef7deaa9",
   "metadata": {},
   "outputs": [
    {
     "name": "stdout",
     "output_type": "stream",
     "text": [
      "Total: 151\n"
     ]
    }
   ],
   "source": [
    "df[df.subdir_video.isin(local_filenames)].behavioral_context.value_counts().sum()\n",
    "df[df.subdir_video_0.isin(local_filenames)].behavioral_context.value_counts().sum()\n",
    "print(f\"Total: {df[df.subdir_video.isin(local_filenames)].behavioral_context.value_counts().sum() + df[df.subdir_video_0.isin(local_filenames)].behavioral_context.value_counts().sum()}\")"
   ]
  },
  {
   "cell_type": "code",
   "execution_count": 16,
   "id": "31e76e9b-f2a7-41ad-8d85-b2adbe9c55ff",
   "metadata": {},
   "outputs": [
    {
     "data": {
      "text/html": [
       "<div>\n",
       "<style scoped>\n",
       "    .dataframe tbody tr th:only-of-type {\n",
       "        vertical-align: middle;\n",
       "    }\n",
       "\n",
       "    .dataframe tbody tr th {\n",
       "        vertical-align: top;\n",
       "    }\n",
       "\n",
       "    .dataframe thead th {\n",
       "        text-align: right;\n",
       "    }\n",
       "</style>\n",
       "<table border=\"1\" class=\"dataframe\">\n",
       "  <thead>\n",
       "    <tr style=\"text-align: right;\">\n",
       "      <th></th>\n",
       "      <th>new_row_id</th>\n",
       "      <th>country</th>\n",
       "      <th>research_site</th>\n",
       "      <th>genus</th>\n",
       "      <th>species</th>\n",
       "      <th>cam_coverage_area</th>\n",
       "      <th>location_metadata</th>\n",
       "      <th>habitat</th>\n",
       "      <th>utm_zone</th>\n",
       "      <th>utm_long</th>\n",
       "      <th>...</th>\n",
       "      <th>tool_use</th>\n",
       "      <th>vocalization</th>\n",
       "      <th>bipedal</th>\n",
       "      <th>camera_reaction</th>\n",
       "      <th>behavioral_context</th>\n",
       "      <th>other_species</th>\n",
       "      <th>additional_comments</th>\n",
       "      <th>record_type</th>\n",
       "      <th>subdir_video</th>\n",
       "      <th>subdir_video_0</th>\n",
       "    </tr>\n",
       "  </thead>\n",
       "  <tbody>\n",
       "    <tr>\n",
       "      <th>154</th>\n",
       "      <td>155</td>\n",
       "      <td>rwanda</td>\n",
       "      <td>gishwati</td>\n",
       "      <td>Pan</td>\n",
       "      <td>troglodytes schweinfurthii</td>\n",
       "      <td>19.20</td>\n",
       "      <td>treefall</td>\n",
       "      <td>forest - young secondary</td>\n",
       "      <td>35n</td>\n",
       "      <td>764192.0</td>\n",
       "      <td>...</td>\n",
       "      <td>no</td>\n",
       "      <td>no</td>\n",
       "      <td>no</td>\n",
       "      <td>yes</td>\n",
       "      <td>feeding</td>\n",
       "      <td>NaN</td>\n",
       "      <td>feeding on decaying wood ??</td>\n",
       "      <td>60s_video</td>\n",
       "      <td>gis_vid4_764192_9798159_20110901_pict0008</td>\n",
       "      <td>gis_vid4_764192_9798159_20110901_0pict0008</td>\n",
       "    </tr>\n",
       "    <tr>\n",
       "      <th>59</th>\n",
       "      <td>60</td>\n",
       "      <td>rwanda</td>\n",
       "      <td>nyungwe</td>\n",
       "      <td>Pan</td>\n",
       "      <td>troglodytes schweinfurthii</td>\n",
       "      <td>11.16</td>\n",
       "      <td>trail</td>\n",
       "      <td>forest - mixed, closed understorey</td>\n",
       "      <td>35s</td>\n",
       "      <td>748181.0</td>\n",
       "      <td>...</td>\n",
       "      <td>no</td>\n",
       "      <td>no</td>\n",
       "      <td>no</td>\n",
       "      <td>yes</td>\n",
       "      <td>travel</td>\n",
       "      <td>NaN</td>\n",
       "      <td>NaN</td>\n",
       "      <td>60s_video</td>\n",
       "      <td>nnp_vid10_0748181_9728906_20150506_ek000007</td>\n",
       "      <td>nnp_vid10_0748181_9728906_20150506_0ek000007</td>\n",
       "    </tr>\n",
       "    <tr>\n",
       "      <th>333</th>\n",
       "      <td>334</td>\n",
       "      <td>rwanda</td>\n",
       "      <td>nyungwe</td>\n",
       "      <td>Pan</td>\n",
       "      <td>troglodytes schweinfurthii</td>\n",
       "      <td>10.54</td>\n",
       "      <td>feeding site</td>\n",
       "      <td>forest - mixed, open understorey</td>\n",
       "      <td>35s</td>\n",
       "      <td>747239.0</td>\n",
       "      <td>...</td>\n",
       "      <td>no</td>\n",
       "      <td>no</td>\n",
       "      <td>no</td>\n",
       "      <td>yes</td>\n",
       "      <td>climbing</td>\n",
       "      <td>NaN</td>\n",
       "      <td>NaN</td>\n",
       "      <td>60s_video</td>\n",
       "      <td>nnp_vid34_0747239_9728367_20150319_ek000047</td>\n",
       "      <td>nnp_vid34_0747239_9728367_20150319_0ek000047</td>\n",
       "    </tr>\n",
       "    <tr>\n",
       "      <th>342</th>\n",
       "      <td>343</td>\n",
       "      <td>rwanda</td>\n",
       "      <td>nyungwe</td>\n",
       "      <td>Pan</td>\n",
       "      <td>troglodytes schweinfurthii</td>\n",
       "      <td>10.54</td>\n",
       "      <td>feeding site</td>\n",
       "      <td>forest - mixed, open understorey</td>\n",
       "      <td>35s</td>\n",
       "      <td>747239.0</td>\n",
       "      <td>...</td>\n",
       "      <td>no</td>\n",
       "      <td>no</td>\n",
       "      <td>no</td>\n",
       "      <td>yes</td>\n",
       "      <td>climbing</td>\n",
       "      <td>NaN</td>\n",
       "      <td>NaN</td>\n",
       "      <td>60s_video</td>\n",
       "      <td>nnp_vid34_0747239_9728367_20150319_ek000066</td>\n",
       "      <td>nnp_vid34_0747239_9728367_20150319_0ek000066</td>\n",
       "    </tr>\n",
       "    <tr>\n",
       "      <th>390</th>\n",
       "      <td>391</td>\n",
       "      <td>rwanda</td>\n",
       "      <td>nyungwe</td>\n",
       "      <td>Pan</td>\n",
       "      <td>troglodytes schweinfurthii</td>\n",
       "      <td>8.71</td>\n",
       "      <td>feeding site</td>\n",
       "      <td>forest - mixed, open understorey</td>\n",
       "      <td>35s</td>\n",
       "      <td>748944.0</td>\n",
       "      <td>...</td>\n",
       "      <td>no</td>\n",
       "      <td>no</td>\n",
       "      <td>no</td>\n",
       "      <td>yes</td>\n",
       "      <td>travel</td>\n",
       "      <td>NaN</td>\n",
       "      <td>NaN</td>\n",
       "      <td>non_60s_video</td>\n",
       "      <td>nnp_vid37_0748944_9728646_20150622_ek000017</td>\n",
       "      <td>nnp_vid37_0748944_9728646_20150622_0ek000017</td>\n",
       "    </tr>\n",
       "    <tr>\n",
       "      <th>393</th>\n",
       "      <td>394</td>\n",
       "      <td>rwanda</td>\n",
       "      <td>nyungwe</td>\n",
       "      <td>Pan</td>\n",
       "      <td>troglodytes schweinfurthii</td>\n",
       "      <td>8.71</td>\n",
       "      <td>feeding site</td>\n",
       "      <td>forest - mixed, open understorey</td>\n",
       "      <td>35s</td>\n",
       "      <td>748944.0</td>\n",
       "      <td>...</td>\n",
       "      <td>no</td>\n",
       "      <td>yes</td>\n",
       "      <td>no</td>\n",
       "      <td>no</td>\n",
       "      <td>climbing</td>\n",
       "      <td>NaN</td>\n",
       "      <td>NaN</td>\n",
       "      <td>non_60s_video</td>\n",
       "      <td>nnp_vid37_0748944_9728646_20150622_ek000019</td>\n",
       "      <td>nnp_vid37_0748944_9728646_20150622_0ek000019</td>\n",
       "    </tr>\n",
       "  </tbody>\n",
       "</table>\n",
       "<p>6 rows × 38 columns</p>\n",
       "</div>"
      ],
      "text/plain": [
       "     new_row_id country research_site genus                     species  \\\n",
       "154         155  rwanda      gishwati   Pan  troglodytes schweinfurthii   \n",
       "59           60  rwanda       nyungwe   Pan  troglodytes schweinfurthii   \n",
       "333         334  rwanda       nyungwe   Pan  troglodytes schweinfurthii   \n",
       "342         343  rwanda       nyungwe   Pan  troglodytes schweinfurthii   \n",
       "390         391  rwanda       nyungwe   Pan  troglodytes schweinfurthii   \n",
       "393         394  rwanda       nyungwe   Pan  troglodytes schweinfurthii   \n",
       "\n",
       "     cam_coverage_area location_metadata                             habitat  \\\n",
       "154              19.20          treefall            forest - young secondary   \n",
       "59               11.16             trail  forest - mixed, closed understorey   \n",
       "333              10.54      feeding site    forest - mixed, open understorey   \n",
       "342              10.54      feeding site    forest - mixed, open understorey   \n",
       "390               8.71      feeding site    forest - mixed, open understorey   \n",
       "393               8.71      feeding site    forest - mixed, open understorey   \n",
       "\n",
       "    utm_zone  utm_long  ...  tool_use  vocalization bipedal  camera_reaction  \\\n",
       "154      35n  764192.0  ...        no            no      no              yes   \n",
       "59       35s  748181.0  ...        no            no      no              yes   \n",
       "333      35s  747239.0  ...        no            no      no              yes   \n",
       "342      35s  747239.0  ...        no            no      no              yes   \n",
       "390      35s  748944.0  ...        no            no      no              yes   \n",
       "393      35s  748944.0  ...        no           yes      no               no   \n",
       "\n",
       "    behavioral_context  other_species          additional_comments  \\\n",
       "154            feeding            NaN  feeding on decaying wood ??   \n",
       "59              travel            NaN                          NaN   \n",
       "333           climbing            NaN                          NaN   \n",
       "342           climbing            NaN                          NaN   \n",
       "390             travel            NaN                          NaN   \n",
       "393           climbing            NaN                          NaN   \n",
       "\n",
       "       record_type                                 subdir_video  \\\n",
       "154      60s_video    gis_vid4_764192_9798159_20110901_pict0008   \n",
       "59       60s_video  nnp_vid10_0748181_9728906_20150506_ek000007   \n",
       "333      60s_video  nnp_vid34_0747239_9728367_20150319_ek000047   \n",
       "342      60s_video  nnp_vid34_0747239_9728367_20150319_ek000066   \n",
       "390  non_60s_video  nnp_vid37_0748944_9728646_20150622_ek000017   \n",
       "393  non_60s_video  nnp_vid37_0748944_9728646_20150622_ek000019   \n",
       "\n",
       "                                   subdir_video_0  \n",
       "154    gis_vid4_764192_9798159_20110901_0pict0008  \n",
       "59   nnp_vid10_0748181_9728906_20150506_0ek000007  \n",
       "333  nnp_vid34_0747239_9728367_20150319_0ek000047  \n",
       "342  nnp_vid34_0747239_9728367_20150319_0ek000066  \n",
       "390  nnp_vid37_0748944_9728646_20150622_0ek000017  \n",
       "393  nnp_vid37_0748944_9728646_20150622_0ek000019  \n",
       "\n",
       "[6 rows x 38 columns]"
      ]
     },
     "execution_count": 16,
     "metadata": {},
     "output_type": "execute_result"
    }
   ],
   "source": [
    "# Don't have...\n",
    "df[~df.subdir_video_0.isin(local_filenames) & ~df.subdir_video.isin(local_filenames)]"
   ]
  },
  {
   "cell_type": "code",
   "execution_count": null,
   "id": "c2e25adc-f8ad-4932-99b5-5edf1c46949f",
   "metadata": {},
   "outputs": [],
   "source": []
  }
 ],
 "metadata": {
  "kernelspec": {
   "display_name": "Python 3",
   "language": "python",
   "name": "python3"
  },
  "language_info": {
   "codemirror_mode": {
    "name": "ipython",
    "version": 3
   },
   "file_extension": ".py",
   "mimetype": "text/x-python",
   "name": "python",
   "nbconvert_exporter": "python",
   "pygments_lexer": "ipython3",
   "version": "3.8.13"
  }
 },
 "nbformat": 4,
 "nbformat_minor": 5
}
