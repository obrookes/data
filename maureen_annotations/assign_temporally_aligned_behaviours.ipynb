{
 "cells": [
  {
   "cell_type": "code",
   "execution_count": null,
   "metadata": {},
   "outputs": [],
   "source": [
    "import ast\n",
    "import inflect\n",
    "import calendar\n",
    "import numpy as np\n",
    "import pandas as pd\n",
    "from glob import glob\n",
    "from tqdm import tqdm\n",
    "from skmultilearn.model_selection import iterative_train_test_split"
   ]
  },
  {
   "cell_type": "markdown",
   "metadata": {},
   "source": [
    "### **Assign temporally aligned parent behaviours to clips**"
   ]
  },
  {
   "cell_type": "code",
   "execution_count": null,
   "metadata": {},
   "outputs": [],
   "source": [
    "df = pd.read_csv(\"assign_full_video_multilabel.csv\")"
   ]
  },
  {
   "cell_type": "code",
   "execution_count": null,
   "metadata": {},
   "outputs": [],
   "source": [
    "# Filter videos that need removing\n",
    "videos_to_remove = pd.read_csv(\"videos_to_remove.csv\")\n",
    "df = df[~df.video_id.isin(videos_to_remove.videos_to_remove.unique())]\n",
    "df = df[~df.video_id.isin([\"djo_cam09_0698421_0598444_20130109_pict0017\"])]\n",
    "df = df[~df.month.isna()]"
   ]
  },
  {
   "cell_type": "code",
   "execution_count": null,
   "metadata": {},
   "outputs": [],
   "source": [
    "df[\"sp\"] = df.tags.str.lower()\n",
    "df[\"sp\"] = df.sp.str.split(\",\")\n",
    "df.sp.fillna(\"\", inplace=True)\n",
    "df.sp = df.sp.apply(lambda x: list(enumerate(x)))\n",
    "\n",
    "df[\"sb\"] = df.behavior.str.lower()\n",
    "df[\"sb\"] = df.sb.str.split(\",\")\n",
    "df.sb.fillna(\"\", inplace=True)\n",
    "df.sb = df.sb.apply(lambda x: list(enumerate(x)))\n",
    "\n",
    "df[\"split_tags\"] = df.sp + df.sb\n",
    "df[\"split_tags\"] = df.split_tags.apply(lambda x: sorted(x, key=lambda x: x[0]))"
   ]
  },
  {
   "cell_type": "code",
   "execution_count": null,
   "metadata": {},
   "outputs": [],
   "source": [
    "# DONT RUN THIS CELL - RUN THE ONE BELOW :-)\n",
    "tag_df = pd.read_csv(\"data/internal/all_tags_behaviours.csv\")\n",
    "\n",
    "\n",
    "def get_new_tags(x, tag_df):\n",
    "    store = []\n",
    "    for i, t in enumerate(x):\n",
    "        tmp = tag_df[tag_df.Tags == t[-1]].drop_duplicates()\n",
    "        if len(tmp.index) == 0:\n",
    "            continue\n",
    "        else:\n",
    "            extract = [x for x in tmp.values[0, 1:] if isinstance(x, str)]\n",
    "            if not extract:\n",
    "                continue\n",
    "            else:\n",
    "                store.append((t[0], extract))\n",
    "    return store\n",
    "\n",
    "\n",
    "df[\"new_tags\"] = df.split_tags.apply(lambda x: get_new_tags(x, tag_df))\n",
    "df.new_tags = df.new_tags.apply(lambda x: str(x.tolist()))\n",
    "df.label = df.label.apply(lambda x: str(x.tolist()))\n",
    "\n",
    "# The above takes approx. 45 minutes hence saving the intermediate file\n",
    "df.to_csv(\"clips_w_temporally_aligned_behaviours_tmp.csv\", index=False)"
   ]
  },
  {
   "cell_type": "code",
   "execution_count": null,
   "metadata": {},
   "outputs": [],
   "source": [
    "# Reload from checkpoint to stop recalulation\n",
    "df = pd.read_csv(\"clips_w_temporally_aligned_behaviours_tmp.csv\")\n",
    "df.label = df.label.apply(lambda x: ast.literal_eval(x))\n",
    "df.new_tags = df.new_tags.apply(lambda x: ast.literal_eval(x))\n",
    "df.new_tags = df.new_tags.apply(lambda x: sorted(x, key=lambda x: x[0]))"
   ]
  },
  {
   "cell_type": "code",
   "execution_count": null,
   "metadata": {},
   "outputs": [],
   "source": [
    "behaviours = [\n",
    "    \"p_camera_reaction\",\n",
    "    \"p_tool_use\",\n",
    "    \"p_object_carrying\",\n",
    "    \"p_bipedal\",\n",
    "    \"p_feeding\",\n",
    "    \"p_chimp_carrying\",\n",
    "    \"p_vocalisation\",\n",
    "    \"p_climbing\",\n",
    "    \"p_aggression\",\n",
    "    \"p_travel\",\n",
    "    \"p_sex\",\n",
    "    \"p_piloerection\",\n",
    "    \"p_social_interaction\",\n",
    "    \"p_grooming\",\n",
    "    \"p_display\",\n",
    "    \"p_cross_species_interaction\",\n",
    "    \"p_resting\",\n",
    "    \"p_playing\",\n",
    "]"
   ]
  },
  {
   "cell_type": "code",
   "execution_count": null,
   "metadata": {},
   "outputs": [],
   "source": [
    "conditions_dict = {\n",
    "    \"camera_reaction\": \"camera_reaction\",\n",
    "    \"tool_use\": \"(tool_use) | (termite_fishing) | (nut_cracking)\",\n",
    "    \"object_carrying\": \"object_carry\",\n",
    "    \"bipedal\": \"bipedal\",\n",
    "    \"feeding\": \"(feeding) | (wood_eating)\",\n",
    "    \"chimp_carrying\": \"chimp_carrying\",\n",
    "    \"vocalisation\": \"(vocalisation) | (hoot) | (grunt)\",\n",
    "    \"climbing\": \"climbing\",\n",
    "    \"aggression\": \"(aggression) | (charge) | (fight)\",\n",
    "    \"travel\": \"(travel) | (running) | (walking)\",\n",
    "    \"sex\": \"(sex) | (mounting)\",\n",
    "    \"piloerection\": \"piloerection\",\n",
    "    \"social_interaction\": \"(social_interaction) | (nursing)\",\n",
    "    \"grooming\": \"grooming\",\n",
    "    \"display\": \"(display) | (branch_shaking) | (stone_throw) | (drumming)\",\n",
    "    \"cross_species_interaction\": \"cross_species_interaction\",\n",
    "    \"resting\": \"resting\",\n",
    "    \"playing\": \"playing\",\n",
    "    \"no_behaviour\": \"(label_indicator == False) | (no_behaviour)\",\n",
    "}\n",
    "\n",
    "reversed_dict = {}\n",
    "for key, value in conditions_dict.items():\n",
    "    conditions = [condition.strip() for condition in value.split(\"|\")]\n",
    "    for condition in conditions:\n",
    "        reversed_dict[condition] = key\n",
    "\n",
    "modified_dict = {}\n",
    "for key, value in reversed_dict.items():\n",
    "    modified_key = key.replace(\"(\", \"\").replace(\")\", \"\").strip()\n",
    "    modified_dict[modified_key] = value\n",
    "\n",
    "# Remove 'label_indicator' and 'no_behaviour' keys from modified_dict\n",
    "modified_dict.pop(\"label_indicator == False\")\n",
    "modified_dict.pop(\"no_behaviour\")"
   ]
  },
  {
   "cell_type": "code",
   "execution_count": null,
   "metadata": {},
   "outputs": [],
   "source": [
    "def get_parent_tags(x, modified_dict):\n",
    "    store = []\n",
    "    for t in x:\n",
    "        if t[-1][0] in modified_dict.keys():\n",
    "            t[-1][0] = modified_dict[t[-1][0]]\n",
    "            store.append(t)\n",
    "    return store\n",
    "\n",
    "\n",
    "def order_tags(x):\n",
    "    store = []\n",
    "    tag_num = len(x)\n",
    "    for i in range(tag_num):\n",
    "        if x[i][1][0] not in store:\n",
    "            store.append(x[i][1][0])\n",
    "    return store\n",
    "\n",
    "\n",
    "# Decode multi hot binary labels to class labels\n",
    "def decode_label(x, behaviours):\n",
    "    decoded_behaviours = []\n",
    "    idxs = np.where(x)\n",
    "    for idx in idxs[0]:\n",
    "        decoded_behaviours.append(behaviours[idx].split(\"p_\")[-1])\n",
    "    return decoded_behaviours\n",
    "\n",
    "\n",
    "df[\"parent_new_tags\"] = df.new_tags.apply(lambda x: get_parent_tags(x, modified_dict))\n",
    "df[\"ordered_tags\"] = df.parent_new_tags.apply(lambda x: order_tags(x))\n",
    "df[\"decoded_labels\"] = df.label.apply(lambda x: decode_label(x, behaviours))"
   ]
  },
  {
   "cell_type": "code",
   "execution_count": null,
   "metadata": {},
   "outputs": [],
   "source": [
    "# df.columns[:20], df.columns[20:40], df.columns[40:60], df.columns[60:]\n",
    "# Not final but seems close to finished...\n",
    "df = df[\n",
    "    [\n",
    "        \"video_id\",\n",
    "        \"subject_id\",\n",
    "        \"start.time\",\n",
    "        \"age_groups\",\n",
    "        \"sex_groups\",\n",
    "        \"country\",\n",
    "        \"research_site\",\n",
    "        \"genus\",\n",
    "        \"species\",\n",
    "        \"location_metadata\",\n",
    "        \"habitat\",\n",
    "        \"min\",\n",
    "        \"max\",\n",
    "        \"day\",\n",
    "        \"month\",\n",
    "        \"year\",\n",
    "        \"time_hr\",\n",
    "        \"time_min\",\n",
    "        \"behavioral_context\",\n",
    "        \"p_camera_reaction\",\n",
    "        \"p_tool_use\",\n",
    "        \"p_object_carrying\",\n",
    "        \"p_bipedal\",\n",
    "        \"p_feeding\",\n",
    "        \"p_chimp_carrying\",\n",
    "        \"p_vocalisation\",\n",
    "        \"p_climbing\",\n",
    "        \"p_aggression\",\n",
    "        \"p_travel\",\n",
    "        \"p_sex\",\n",
    "        \"p_piloerection\",\n",
    "        \"p_social_interaction\",\n",
    "        \"p_grooming\",\n",
    "        \"p_display\",\n",
    "        \"p_cross_species_interaction\",\n",
    "        \"p_resting\",\n",
    "        \"p_playing\",\n",
    "        \"ordered_tags\",\n",
    "        \"label\",\n",
    "        \"decoded_labels\",\n",
    "    ]\n",
    "]"
   ]
  },
  {
   "cell_type": "code",
   "execution_count": null,
   "metadata": {},
   "outputs": [],
   "source": [
    "df.video_id = df.video_id.astype(str)\n",
    "df.info()"
   ]
  },
  {
   "cell_type": "code",
   "execution_count": null,
   "metadata": {},
   "outputs": [],
   "source": [
    "df.label = df.label.apply(lambda x: str(x))\n",
    "df.ordered_tags = df.ordered_tags.apply(lambda x: str(x))\n",
    "df.decoded_labels = df.decoded_labels.apply(lambda x: str(x))"
   ]
  },
  {
   "cell_type": "code",
   "execution_count": null,
   "metadata": {},
   "outputs": [],
   "source": [
    "pd.set_option(\"max_colwidth\", 400)\n",
    "df.drop_duplicates(inplace=True)"
   ]
  },
  {
   "cell_type": "code",
   "execution_count": 120,
   "metadata": {},
   "outputs": [
    {
     "data": {
      "text/html": [
       "<div>\n",
       "<style scoped>\n",
       "    .dataframe tbody tr th:only-of-type {\n",
       "        vertical-align: middle;\n",
       "    }\n",
       "\n",
       "    .dataframe tbody tr th {\n",
       "        vertical-align: top;\n",
       "    }\n",
       "\n",
       "    .dataframe thead th {\n",
       "        text-align: right;\n",
       "    }\n",
       "</style>\n",
       "<table border=\"1\" class=\"dataframe\">\n",
       "  <thead>\n",
       "    <tr style=\"text-align: right;\">\n",
       "      <th></th>\n",
       "      <th>video_id</th>\n",
       "      <th>subject_id</th>\n",
       "      <th>start.time</th>\n",
       "      <th>age_groups</th>\n",
       "      <th>sex_groups</th>\n",
       "      <th>country</th>\n",
       "      <th>research_site</th>\n",
       "      <th>genus</th>\n",
       "      <th>species</th>\n",
       "      <th>location_metadata</th>\n",
       "      <th>...</th>\n",
       "      <th>p_piloerection</th>\n",
       "      <th>p_social_interaction</th>\n",
       "      <th>p_grooming</th>\n",
       "      <th>p_display</th>\n",
       "      <th>p_cross_species_interaction</th>\n",
       "      <th>p_resting</th>\n",
       "      <th>p_playing</th>\n",
       "      <th>ordered_tags</th>\n",
       "      <th>label</th>\n",
       "      <th>decoded_labels</th>\n",
       "    </tr>\n",
       "  </thead>\n",
       "  <tbody>\n",
       "    <tr>\n",
       "      <th>4</th>\n",
       "      <td>baf_vid16_0340989_1432398_20151114_12010009</td>\n",
       "      <td>60886063</td>\n",
       "      <td>0.0</td>\n",
       "      <td>adult,adult</td>\n",
       "      <td>male,male</td>\n",
       "      <td>mali</td>\n",
       "      <td>bafing</td>\n",
       "      <td>Pan</td>\n",
       "      <td>troglodytes verus</td>\n",
       "      <td>nesting site/water source</td>\n",
       "      <td>...</td>\n",
       "      <td>False</td>\n",
       "      <td>False</td>\n",
       "      <td>False</td>\n",
       "      <td>False</td>\n",
       "      <td>False</td>\n",
       "      <td>False</td>\n",
       "      <td>False</td>\n",
       "      <td>['travel']</td>\n",
       "      <td>[1, 0, 0, 0, 0, 0, 0, 0, 0, 1, 0, 0, 0, 0, 0, 0, 1, 1]</td>\n",
       "      <td>['camera_reaction', 'travel', 'resting', 'playing']</td>\n",
       "    </tr>\n",
       "    <tr>\n",
       "      <th>6</th>\n",
       "      <td>baf_vid16_0340989_1432398_20151114_12010009</td>\n",
       "      <td>60886065</td>\n",
       "      <td>15.0</td>\n",
       "      <td>adult,adult</td>\n",
       "      <td>male,male</td>\n",
       "      <td>mali</td>\n",
       "      <td>bafing</td>\n",
       "      <td>Pan</td>\n",
       "      <td>troglodytes verus</td>\n",
       "      <td>nesting site/water source</td>\n",
       "      <td>...</td>\n",
       "      <td>False</td>\n",
       "      <td>False</td>\n",
       "      <td>False</td>\n",
       "      <td>False</td>\n",
       "      <td>False</td>\n",
       "      <td>False</td>\n",
       "      <td>False</td>\n",
       "      <td>[]</td>\n",
       "      <td>[1, 0, 0, 0, 0, 0, 0, 0, 0, 1, 0, 0, 0, 0, 0, 0, 1, 1]</td>\n",
       "      <td>['camera_reaction', 'travel', 'resting', 'playing']</td>\n",
       "    </tr>\n",
       "    <tr>\n",
       "      <th>8</th>\n",
       "      <td>baf_vid16_0340989_1432398_20151114_12010009</td>\n",
       "      <td>60886064</td>\n",
       "      <td>30.0</td>\n",
       "      <td>adult,adult</td>\n",
       "      <td>male,male</td>\n",
       "      <td>mali</td>\n",
       "      <td>bafing</td>\n",
       "      <td>Pan</td>\n",
       "      <td>troglodytes verus</td>\n",
       "      <td>nesting site/water source</td>\n",
       "      <td>...</td>\n",
       "      <td>False</td>\n",
       "      <td>False</td>\n",
       "      <td>False</td>\n",
       "      <td>False</td>\n",
       "      <td>False</td>\n",
       "      <td>True</td>\n",
       "      <td>True</td>\n",
       "      <td>['camera_reaction', 'playing', 'resting', 'travel']</td>\n",
       "      <td>[1, 0, 0, 0, 0, 0, 0, 0, 0, 1, 0, 0, 0, 0, 0, 0, 1, 1]</td>\n",
       "      <td>['camera_reaction', 'travel', 'resting', 'playing']</td>\n",
       "    </tr>\n",
       "    <tr>\n",
       "      <th>10</th>\n",
       "      <td>baf_vid16_0340989_1432398_20151114_12010009</td>\n",
       "      <td>60886066</td>\n",
       "      <td>45.0</td>\n",
       "      <td>adult,adult</td>\n",
       "      <td>male,male</td>\n",
       "      <td>mali</td>\n",
       "      <td>bafing</td>\n",
       "      <td>Pan</td>\n",
       "      <td>troglodytes verus</td>\n",
       "      <td>nesting site/water source</td>\n",
       "      <td>...</td>\n",
       "      <td>False</td>\n",
       "      <td>False</td>\n",
       "      <td>False</td>\n",
       "      <td>False</td>\n",
       "      <td>False</td>\n",
       "      <td>False</td>\n",
       "      <td>False</td>\n",
       "      <td>[]</td>\n",
       "      <td>[1, 0, 0, 0, 0, 0, 0, 0, 0, 1, 0, 0, 0, 0, 0, 0, 1, 1]</td>\n",
       "      <td>['camera_reaction', 'travel', 'resting', 'playing']</td>\n",
       "    </tr>\n",
       "  </tbody>\n",
       "</table>\n",
       "<p>4 rows × 40 columns</p>\n",
       "</div>"
      ],
      "text/plain": [
       "                                       video_id subject_id  start.time  \\\n",
       "4   baf_vid16_0340989_1432398_20151114_12010009   60886063         0.0   \n",
       "6   baf_vid16_0340989_1432398_20151114_12010009   60886065        15.0   \n",
       "8   baf_vid16_0340989_1432398_20151114_12010009   60886064        30.0   \n",
       "10  baf_vid16_0340989_1432398_20151114_12010009   60886066        45.0   \n",
       "\n",
       "     age_groups sex_groups country research_site genus            species  \\\n",
       "4   adult,adult  male,male    mali        bafing   Pan  troglodytes verus   \n",
       "6   adult,adult  male,male    mali        bafing   Pan  troglodytes verus   \n",
       "8   adult,adult  male,male    mali        bafing   Pan  troglodytes verus   \n",
       "10  adult,adult  male,male    mali        bafing   Pan  troglodytes verus   \n",
       "\n",
       "            location_metadata  ... p_piloerection  p_social_interaction  \\\n",
       "4   nesting site/water source  ...          False                 False   \n",
       "6   nesting site/water source  ...          False                 False   \n",
       "8   nesting site/water source  ...          False                 False   \n",
       "10  nesting site/water source  ...          False                 False   \n",
       "\n",
       "    p_grooming  p_display  p_cross_species_interaction  p_resting  p_playing  \\\n",
       "4        False      False                        False      False      False   \n",
       "6        False      False                        False      False      False   \n",
       "8        False      False                        False       True       True   \n",
       "10       False      False                        False      False      False   \n",
       "\n",
       "                                           ordered_tags  \\\n",
       "4                                            ['travel']   \n",
       "6                                                    []   \n",
       "8   ['camera_reaction', 'playing', 'resting', 'travel']   \n",
       "10                                                   []   \n",
       "\n",
       "                                                     label  \\\n",
       "4   [1, 0, 0, 0, 0, 0, 0, 0, 0, 1, 0, 0, 0, 0, 0, 0, 1, 1]   \n",
       "6   [1, 0, 0, 0, 0, 0, 0, 0, 0, 1, 0, 0, 0, 0, 0, 0, 1, 1]   \n",
       "8   [1, 0, 0, 0, 0, 0, 0, 0, 0, 1, 0, 0, 0, 0, 0, 0, 1, 1]   \n",
       "10  [1, 0, 0, 0, 0, 0, 0, 0, 0, 1, 0, 0, 0, 0, 0, 0, 1, 1]   \n",
       "\n",
       "                                         decoded_labels  \n",
       "4   ['camera_reaction', 'travel', 'resting', 'playing']  \n",
       "6   ['camera_reaction', 'travel', 'resting', 'playing']  \n",
       "8   ['camera_reaction', 'travel', 'resting', 'playing']  \n",
       "10  ['camera_reaction', 'travel', 'resting', 'playing']  \n",
       "\n",
       "[4 rows x 40 columns]"
      ]
     },
     "execution_count": 120,
     "metadata": {},
     "output_type": "execute_result"
    }
   ],
   "source": [
    "df[df.video_id == \"baf_vid16_0340989_1432398_20151114_12010009\"]"
   ]
  },
  {
   "cell_type": "code",
   "execution_count": null,
   "metadata": {},
   "outputs": [],
   "source": [
    "df.to_csv(\"clips_w_temporally_aligned_behaviours.csv\", index=False)"
   ]
  },
  {
   "cell_type": "markdown",
   "metadata": {},
   "source": [
    "**Create meta-text dataset**"
   ]
  },
  {
   "cell_type": "code",
   "execution_count": null,
   "metadata": {},
   "outputs": [],
   "source": [
    "composition = [\"age_groups\", \"sex_groups\", \"min\", \"max\"]\n",
    "location = [\"country\", \"research_site\", \"location_metadata\", \"habitat\"]\n",
    "time = [\"day\", \"month\", \"year\", \"time_hr\", \"time_min\"]\n",
    "tdf = df[[\"video_id\"] + composition + location + time + [\"label\"]]\n",
    "tdf.label = tdf.label.apply(lambda x: x[:-1])  # let 0 vector represent no behaviour\n",
    "tdf.label = tdf.label.apply(lambda x: str(list(x)))\n",
    "tdf.drop_duplicates(inplace=True)"
   ]
  },
  {
   "cell_type": "markdown",
   "metadata": {},
   "source": [
    "**Age cats: 'unidentifiable', 'infant', 'juvenile', 'adolescent', 'adult'**\n"
   ]
  },
  {
   "cell_type": "code",
   "execution_count": null,
   "metadata": {},
   "outputs": [],
   "source": [
    "def count_individual_age(x, age):\n",
    "    if age in x:\n",
    "        return x.count(age)\n",
    "    else:\n",
    "        return 0"
   ]
  },
  {
   "cell_type": "code",
   "execution_count": null,
   "metadata": {},
   "outputs": [],
   "source": [
    "ages = [\"unidentifiable\", \"infant\", \"juvenile\", \"adolescent\", \"adult\"]\n",
    "tdf.age_groups.fillna(\"\", inplace=True)\n",
    "tdf[\"unidentifiable_count\"] = tdf.age_groups.apply(\n",
    "    lambda x: count_individual_age(x.split(\",\"), \"unidentifiable\")\n",
    ")\n",
    "tdf[\"infant_count\"] = tdf.age_groups.apply(\n",
    "    lambda x: count_individual_age(x.split(\",\"), \"infant\")\n",
    ")\n",
    "tdf[\"juvenile_count\"] = tdf.age_groups.apply(\n",
    "    lambda x: count_individual_age(x.split(\",\"), \"juvenile\")\n",
    ")\n",
    "tdf[\"adolescent_count\"] = tdf.age_groups.apply(\n",
    "    lambda x: count_individual_age(x.split(\",\"), \"adolescent\")\n",
    ")\n",
    "tdf[\"adult_count\"] = tdf.age_groups.apply(\n",
    "    lambda x: count_individual_age(x.split(\",\"), \"adult\")\n",
    ")"
   ]
  },
  {
   "cell_type": "markdown",
   "metadata": {},
   "source": [
    "**Sex cats: 'unclear', 'unidentifiable', 'male', 'female'**"
   ]
  },
  {
   "cell_type": "code",
   "execution_count": null,
   "metadata": {},
   "outputs": [],
   "source": [
    "def count_individual_sex(x, sex):\n",
    "    if sex in x:\n",
    "        return x.count(sex)\n",
    "    else:\n",
    "        return 0"
   ]
  },
  {
   "cell_type": "code",
   "execution_count": null,
   "metadata": {},
   "outputs": [],
   "source": [
    "sexes = [\"unclear\", \"unidentifiable\", \"male\", \"female\"]\n",
    "tdf.sex_groups.fillna(\"\", inplace=True)\n",
    "tdf[\"unclear_count\"] = tdf.sex_groups.apply(\n",
    "    lambda x: count_individual_sex(x.split(\",\"), \"unclear\")\n",
    ")\n",
    "tdf[\"unidentifiable_count\"] = tdf.sex_groups.apply(\n",
    "    lambda x: count_individual_sex(x.split(\",\"), \"unidentifiable\")\n",
    ")\n",
    "tdf[\"male\"] = tdf.sex_groups.apply(lambda x: count_individual_sex(x.split(\",\"), \"male\"))\n",
    "tdf[\"female\"] = tdf.sex_groups.apply(\n",
    "    lambda x: count_individual_sex(x.split(\",\"), \"female\")\n",
    ")"
   ]
  },
  {
   "cell_type": "code",
   "execution_count": null,
   "metadata": {},
   "outputs": [],
   "source": [
    "def group_age_sex(age, sex):\n",
    "    assert len(age.split(\",\")), len(sex.split(\",\"))\n",
    "    pairings = []\n",
    "    for age, sex in zip(age.split(\",\"), sex.split(\",\")):\n",
    "        pair = f\"{age} {sex}\"\n",
    "        pairings.append(pair)\n",
    "    return \",\".join(pairings)\n",
    "\n",
    "\n",
    "tdf[\"age_sex_group\"] = tdf.apply(\n",
    "    lambda x: group_age_sex(x.age_groups, x.sex_groups), axis=1\n",
    ")"
   ]
  },
  {
   "cell_type": "code",
   "execution_count": null,
   "metadata": {},
   "outputs": [],
   "source": [
    "as_group = []\n",
    "for group in tdf[\"age_sex_group\"].unique():\n",
    "    for g in group.split(\",\"):\n",
    "        as_group.append(g)\n",
    "as_group = list(set(as_group))\n",
    "as_group = [i for i in as_group if i != \" \"]\n",
    "print(as_group)"
   ]
  },
  {
   "cell_type": "code",
   "execution_count": null,
   "metadata": {},
   "outputs": [],
   "source": [
    "def count_age_sex_pairs(x, g):\n",
    "    tmp = x.split(\",\")\n",
    "    count = tmp.count(g)\n",
    "    return count\n",
    "\n",
    "\n",
    "for g in as_group:\n",
    "    tdf[f\"{g}\"] = tdf.age_sex_group.apply(lambda x: count_age_sex_pairs(x, g))"
   ]
  },
  {
   "cell_type": "code",
   "execution_count": null,
   "metadata": {},
   "outputs": [],
   "source": [
    "tdf[\"month\"] = tdf.month.astype(int)\n",
    "tdf[\"year\"] = tdf.year.astype(int)\n",
    "tdf.month = tdf.month.apply(lambda x: calendar.month_name[x])"
   ]
  },
  {
   "cell_type": "code",
   "execution_count": null,
   "metadata": {},
   "outputs": [],
   "source": [
    "def desc_composition(x, pairings):\n",
    "    if x[\"max\"] == 1:\n",
    "        start = \"A video of\"\n",
    "        for pair in pairings:\n",
    "            if x[pair] == 1:\n",
    "                start += f\" {p.number_to_words(x[pair])} {pair} \"\n",
    "        start = start + \"chimpanzee\"\n",
    "    elif x[\"max\"] > 1:\n",
    "        start = (\n",
    "            f\"A video of {p.number_to_words(int(x['max']))} chimpanzees, composed of\"\n",
    "        )\n",
    "        tmp = []\n",
    "        for pair in pairings:\n",
    "            if x[pair] >= 1:\n",
    "                tmp.append(pair)\n",
    "\n",
    "        number_of_pairs = len(tmp)\n",
    "        only_one_pair = True if len(set(tmp)) == 1 else False\n",
    "\n",
    "        for i, pair in enumerate(tmp):\n",
    "            if only_one_pair:\n",
    "                start += f\" {p.number_to_words(x[pair])} {pair}s\"\n",
    "            elif i == number_of_pairs - 1:\n",
    "                start += f\" and {p.number_to_words(x[pair])} {pair}s\"\n",
    "            else:\n",
    "                if i == number_of_pairs - 2:\n",
    "                    start += f\" {p.number_to_words(x[pair])} {pair}s\"\n",
    "                else:\n",
    "                    start += f\" {p.number_to_words(x[pair])} {pair},\"\n",
    "        # start += f\" {p.number_to_words(x[pair])} {pair}s,\"\n",
    "    return start\n",
    "\n",
    "\n",
    "def desc_location(x):\n",
    "    return f\"It was filmed in {x['country']} at the {x['research_site']} research site\"\n",
    "\n",
    "\n",
    "def desc_habitat(x):\n",
    "    desc = f\"at a {x['location_metadata']} in {x['habitat']}\"\n",
    "    return desc\n",
    "\n",
    "\n",
    "def desc_time(x):\n",
    "    desc = f\"on {x['day']} {x['month']} {x['year']} at {x['time_hr']}:{x['time_min']}.\"\n",
    "    return desc"
   ]
  },
  {
   "cell_type": "code",
   "execution_count": null,
   "metadata": {},
   "outputs": [],
   "source": []
  },
  {
   "cell_type": "code",
   "execution_count": null,
   "metadata": {},
   "outputs": [],
   "source": [
    "pairings = tdf.columns[24:-1]\n",
    "tdf[\"desc\"] = tdf.apply(\n",
    "    lambda x: f\"{desc_composition(x, pairings)}. {desc_location(x)} {desc_habitat(x)} {desc_time(x)}\",\n",
    "    axis=1,\n",
    ")"
   ]
  },
  {
   "cell_type": "code",
   "execution_count": null,
   "metadata": {},
   "outputs": [],
   "source": [
    "tdf[tdf[\"max\"] == 5][[\"max\", \"desc\"]].desc.iloc[0]"
   ]
  },
  {
   "cell_type": "code",
   "execution_count": null,
   "metadata": {},
   "outputs": [],
   "source": [
    "train_tdf = train_vdf.merge(tdf, left_on=\"video\", right_on=\"video_id\", how=\"left\")\n",
    "train_tdf.rename(columns={\"label_y\": \"label\"}, inplace=True)\n",
    "train_tdf.drop(columns=[\"label_x\"], inplace=True)\n",
    "\n",
    "val_tdf = val_vdf.merge(tdf, left_on=\"video\", right_on=\"video_id\", how=\"left\")\n",
    "val_tdf.rename(columns={\"label_y\": \"label\"}, inplace=True)\n",
    "val_tdf.drop(columns=[\"label_x\"], inplace=True)\n",
    "\n",
    "test_tdf = test_vdf.merge(tdf, left_on=\"video\", right_on=\"video_id\", how=\"left\")\n",
    "test_tdf.rename(columns={\"label_y\": \"label\"}, inplace=True)\n",
    "test_tdf.drop(columns=[\"label_x\"], inplace=True)"
   ]
  },
  {
   "cell_type": "code",
   "execution_count": null,
   "metadata": {},
   "outputs": [],
   "source": [
    "train_tdf[[\"video_id\", \"descriptor\", \"label\"]].to_csv(\n",
    "    \"data/annotations/text_only/train_text_only.csv\", index=False\n",
    ")\n",
    "\n",
    "val_tdf[[\"video_id\", \"descriptor\", \"label\"]].to_csv(\n",
    "    \"data/annotations/text_only/val_text_only.csv\", index=False\n",
    ")\n",
    "\n",
    "test_tdf[[\"video_id\", \"descriptor\", \"label\"]].to_csv(\n",
    "    \"data/annotations/text_only/test_text_only.csv\", index=False\n",
    ")"
   ]
  },
  {
   "cell_type": "code",
   "execution_count": null,
   "metadata": {},
   "outputs": [],
   "source": [
    "df[[\"video_id\", \"split_tags\"]][\n",
    "    df[\"video_id\"] == \"tair_cam22_688836_647457_20131025_ek000246\"\n",
    "].groupby(\"video_id\").apply(lambda x: x.split_tags.values).iloc[0]"
   ]
  },
  {
   "cell_type": "markdown",
   "metadata": {},
   "source": [
    "**Create video dataset**"
   ]
  },
  {
   "cell_type": "code",
   "execution_count": null,
   "metadata": {},
   "outputs": [],
   "source": [
    "import ast\n",
    "import numpy as np\n",
    "\n",
    "vdf = df[[\"video_id\", \"label\"]]\n",
    "vdf.label = vdf.label.apply(lambda x: x[:-1])  # let 0 vector represent no behaviour\n",
    "vdf.label = vdf.label.apply(lambda x: str(list(x)))\n",
    "vdf = vdf.drop_duplicates()\n",
    "\n",
    "\n",
    "vdf.label = vdf.label.apply(lambda x: ast.literal_eval(x))\n",
    "labels = np.array(list(vdf.label.values))\n",
    "X = vdf.video_id.to_numpy().reshape((6675, 1))\n",
    "\n",
    "assert len(X) == len(labels)\n",
    "\n",
    "X_train, y_train, X_test, y_test = iterative_train_test_split(X, labels, test_size=0.30)\n",
    "X_test, y_test, X_val, y_val = iterative_train_test_split(\n",
    "    X_test, y_test, test_size=0.33\n",
    ")\n",
    "y_train, y_test, y_val = (\n",
    "    [str(list(x)) for x in y_train],\n",
    "    [str(list(x)) for x in y_test],\n",
    "    [str(list(x)) for x in y_val],\n",
    ")\n",
    "\n",
    "train_vdf = pd.DataFrame({\"video\": X_train[:, 0], \"label\": y_train})\n",
    "val_vdf = pd.DataFrame({\"video\": X_val[:, 0], \"label\": y_val})\n",
    "test_vdf = pd.DataFrame({\"video\": X_test[:, 0], \"label\": y_test})\n",
    "\n",
    "train_vdf.to_csv(\"data/annotations/video_only/train.csv\", index=False)\n",
    "val_vdf.to_csv(\"data/annotations/video_only/val.csv\", index=False)\n",
    "test_vdf.to_csv(\"data/annotations/video_only/test.csv\", index=False)"
   ]
  },
  {
   "cell_type": "markdown",
   "metadata": {},
   "source": [
    "**Test embedding metadata**"
   ]
  },
  {
   "cell_type": "code",
   "execution_count": null,
   "metadata": {},
   "outputs": [],
   "source": [
    "from transformers import CLIPTokenizer, CLIPTextModel"
   ]
  },
  {
   "cell_type": "code",
   "execution_count": null,
   "metadata": {},
   "outputs": [],
   "source": [
    "tokenizer = CLIPTokenizer.from_pretrained(\"openai/clip-vit-base-patch32\")\n",
    "text_model = CLIPTextModel.from_pretrained(\"openai/clip-vit-base-patch32\")\n",
    "\n",
    "for module in text_model.text_model.encoder.layers[:-1].modules():\n",
    "    for param in module.parameters():\n",
    "        param.requires_grad = False\n",
    "\n",
    "tokenized_text = tdf.descriptor.apply(\n",
    "    lambda x: tokenizer(\n",
    "        x, padding=\"max_length\", max_length=77, truncation=True, return_tensors=\"pt\"\n",
    "    )\n",
    ")"
   ]
  },
  {
   "cell_type": "code",
   "execution_count": null,
   "metadata": {},
   "outputs": [],
   "source": [
    "text_features = text_model(**tokenized_text[0])"
   ]
  },
  {
   "cell_type": "code",
   "execution_count": null,
   "metadata": {},
   "outputs": [],
   "source": [
    "#### This is for temporal processing of the dataset #####"
   ]
  },
  {
   "cell_type": "code",
   "execution_count": null,
   "metadata": {},
   "outputs": [],
   "source": [
    "test_df[\n",
    "    [\"video_id\", \"behavioral_context\", \"camera_\" \"start.time\"]\n",
    "    + list(test_df.columns[-19:])\n",
    "]"
   ]
  },
  {
   "cell_type": "code",
   "execution_count": null,
   "metadata": {},
   "outputs": [],
   "source": [
    "collection = []\n",
    "for video_name in test_df.video_id.unique():\n",
    "    item = {}\n",
    "    tmp = test_df[test_df.video_id == video_name]\n",
    "    item[\"video_name\"] = video_name\n",
    "    item[\"metadata\"] = dict(\n",
    "        age_groups=tmp.age_groups, sex_groups=tmp.sex_groups, max=tmp.max, min=tmp.min\n",
    "    )\n",
    "    item[\"behaviour\"] = tmp[\"start.time\"].to_dict()\n",
    "    collection.append(item)"
   ]
  },
  {
   "cell_type": "code",
   "execution_count": null,
   "metadata": {},
   "outputs": [],
   "source": [
    "collection[0][\"metadata\"][\"age_groups\"]"
   ]
  }
 ],
 "metadata": {
  "kernelspec": {
   "display_name": "dataset-upgrade",
   "language": "python",
   "name": "python3"
  },
  "language_info": {
   "codemirror_mode": {
    "name": "ipython",
    "version": 3
   },
   "file_extension": ".py",
   "mimetype": "text/x-python",
   "name": "python",
   "nbconvert_exporter": "python",
   "pygments_lexer": "ipython3",
   "version": "3.8.13"
  }
 },
 "nbformat": 4,
 "nbformat_minor": 2
}
