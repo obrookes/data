{
 "cells": [
  {
   "cell_type": "code",
   "execution_count": 14,
   "metadata": {},
   "outputs": [],
   "source": [
    "import ast\n",
    "import pandas as pd\n",
    "import numpy as np\n",
    "from skmultilearn.model_selection import iterative_train_test_split"
   ]
  },
  {
   "cell_type": "code",
   "execution_count": 3,
   "metadata": {},
   "outputs": [],
   "source": [
    "behaviour_attr = [\n",
    "    \"p_camera_reaction\",\n",
    "    \"p_tool_use\",\n",
    "    \"p_object_carrying\",\n",
    "    \"p_bipedal\",\n",
    "    \"p_feeding\",\n",
    "    \"p_chimp_carrying\",\n",
    "    \"p_vocalisation\",\n",
    "    \"p_climbing\",\n",
    "    \"p_aggression\",\n",
    "    \"p_travel\",\n",
    "    \"p_sex\",\n",
    "    \"p_piloerection\",\n",
    "    \"p_social_interaction\",\n",
    "    \"p_grooming\",\n",
    "    \"p_display\",\n",
    "    \"p_cross_species_interaction\",\n",
    "    \"p_resting\",\n",
    "    \"p_playing\",\n",
    "]"
   ]
  },
  {
   "cell_type": "code",
   "execution_count": 5,
   "metadata": {},
   "outputs": [],
   "source": [
    "df = pd.read_csv(\"full_video_w_descriptors.csv\")"
   ]
  },
  {
   "cell_type": "markdown",
   "metadata": {},
   "source": [
    "**Generic video-level splits**"
   ]
  },
  {
   "cell_type": "code",
   "execution_count": 17,
   "metadata": {},
   "outputs": [],
   "source": [
    "X, y = df[[\"video_id\", \"label\"]].video_id.values, np.array(\n",
    "    df[[\"video_id\", \"label\"]].label.apply(ast.literal_eval).values\n",
    ")"
   ]
  },
  {
   "cell_type": "code",
   "execution_count": null,
   "metadata": {},
   "outputs": [],
   "source": []
  },
  {
   "cell_type": "code",
   "execution_count": null,
   "metadata": {},
   "outputs": [],
   "source": [
    "import ast\n",
    "import numpy as np\n",
    "\n",
    "vdf = df[[\"video_id\", \"label\"]]\n",
    "vdf.label = vdf.label.apply(lambda x: x[:-1])  # let 0 vector represent no behaviour\n",
    "vdf.label = vdf.label.apply(lambda x: str(list(x)))\n",
    "vdf = vdf.drop_duplicates()\n",
    "\n",
    "\n",
    "vdf.label = vdf.label.apply(lambda x: ast.literal_eval(x))\n",
    "labels = np.array(list(vdf.label.values))\n",
    "X = vdf.video_id.to_numpy().reshape((6675, 1))\n",
    "\n",
    "assert len(X) == len(labels)\n",
    "\n",
    "X_train, y_train, X_test, y_test = iterative_train_test_split(X, labels, test_size=0.30)\n",
    "X_test, y_test, X_val, y_val = iterative_train_test_split(\n",
    "    X_test, y_test, test_size=0.33\n",
    ")\n",
    "y_train, y_test, y_val = (\n",
    "    [str(list(x)) for x in y_train],\n",
    "    [str(list(x)) for x in y_test],\n",
    "    [str(list(x)) for x in y_val],\n",
    ")"
   ]
  },
  {
   "cell_type": "code",
   "execution_count": null,
   "metadata": {},
   "outputs": [],
   "source": [
    "train_vdf = pd.DataFrame({\"video\": X_train[:, 0], \"label\": y_train})\n",
    "val_vdf = pd.DataFrame({\"video\": X_val[:, 0], \"label\": y_val})\n",
    "test_vdf = pd.DataFrame({\"video\": X_test[:, 0], \"label\": y_test})\n",
    "\n",
    "train_vdf.to_csv(\"data/annotations/video_only/train.csv\", index=False)\n",
    "val_vdf.to_csv(\"data/annotations/video_only/val.csv\", index=False)\n",
    "test_vdf.to_csv(\"data/annotations/video_only/test.csv\", index=False)"
   ]
  },
  {
   "cell_type": "code",
   "execution_count": null,
   "metadata": {},
   "outputs": [],
   "source": [
    "train_tdf = train_vdf.merge(tdf, left_on=\"video\", right_on=\"video_id\", how=\"left\")\n",
    "train_tdf.rename(columns={\"label_y\": \"label\"}, inplace=True)\n",
    "train_tdf.drop(columns=[\"label_x\"], inplace=True)\n",
    "\n",
    "val_tdf = val_vdf.merge(tdf, left_on=\"video\", right_on=\"video_id\", how=\"left\")\n",
    "val_tdf.rename(columns={\"label_y\": \"label\"}, inplace=True)\n",
    "val_tdf.drop(columns=[\"label_x\"], inplace=True)\n",
    "\n",
    "test_tdf = test_vdf.merge(tdf, left_on=\"video\", right_on=\"video_id\", how=\"left\")\n",
    "test_tdf.rename(columns={\"label_y\": \"label\"}, inplace=True)\n",
    "test_tdf.drop(columns=[\"label_x\"], inplace=True)\n",
    "\n",
    "train_tdf[[\"video_id\", \"descriptor\", \"label\"]].to_csv(\n",
    "    \"data/annotations/text_only/train_text_only.csv\", index=False\n",
    ")\n",
    "\n",
    "val_tdf[[\"video_id\", \"descriptor\", \"label\"]].to_csv(\n",
    "    \"data/annotations/text_only/val_text_only.csv\", index=False\n",
    ")\n",
    "\n",
    "test_tdf[[\"video_id\", \"descriptor\", \"label\"]].to_csv(\n",
    "    \"data/annotations/text_only/test_text_only.csv\", index=False\n",
    ")"
   ]
  }
 ],
 "metadata": {
  "kernelspec": {
   "display_name": "dataset-upgrade",
   "language": "python",
   "name": "python3"
  },
  "language_info": {
   "codemirror_mode": {
    "name": "ipython",
    "version": 3
   },
   "file_extension": ".py",
   "mimetype": "text/x-python",
   "name": "python",
   "nbconvert_exporter": "python",
   "pygments_lexer": "ipython3",
   "version": "3.8.13"
  }
 },
 "nbformat": 4,
 "nbformat_minor": 2
}
