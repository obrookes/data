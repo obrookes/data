{
 "cells": [
  {
   "cell_type": "code",
   "execution_count": null,
   "metadata": {},
   "outputs": [],
   "source": [
    "import ast\n",
    "import inflect\n",
    "import calendar\n",
    "import pandas as pd\n",
    "from glob import glob\n",
    "from tqdm import tqdm\n",
    "from skmultilearn.model_selection import iterative_train_test_split"
   ]
  },
  {
   "cell_type": "code",
   "execution_count": 75,
   "metadata": {},
   "outputs": [],
   "source": [
    "behaviour_attr = [\n",
    "    \"p_camera_reaction\",\n",
    "    \"p_tool_use\",\n",
    "    \"p_object_carrying\",\n",
    "    \"p_bipedal\",\n",
    "    \"p_feeding\",\n",
    "    \"p_chimp_carrying\",\n",
    "    \"p_vocalisation\",\n",
    "    \"p_climbing\",\n",
    "    \"p_aggression\",\n",
    "    \"p_travel\",\n",
    "    \"p_sex\",\n",
    "    \"p_piloerection\",\n",
    "    \"p_social_interaction\",\n",
    "    \"p_grooming\",\n",
    "    \"p_display\",\n",
    "    \"p_cross_species_interaction\",\n",
    "    \"p_resting\",\n",
    "    \"p_playing\",\n",
    "]"
   ]
  },
  {
   "cell_type": "code",
   "execution_count": 98,
   "metadata": {},
   "outputs": [],
   "source": [
    "df = pd.read_csv(\"clips_w_temporally_aligned_behaviours.csv\")\n",
    "dist_df = df[[\"video_id\", \"label\"]].drop_duplicates()\n",
    "dist_df.label = df.label.apply(lambda x: ast.literal_eval(x))"
   ]
  },
  {
   "cell_type": "code",
   "execution_count": 100,
   "metadata": {},
   "outputs": [],
   "source": [
    "# Create new columns for each label\n",
    "dist_df = pd.DataFrame(dist_df.label.tolist(), columns=behaviour_attr)"
   ]
  },
  {
   "cell_type": "code",
   "execution_count": 101,
   "metadata": {},
   "outputs": [
    {
     "data": {
      "text/plain": [
       "p_camera_reaction              2549\n",
       "p_tool_use                     1465\n",
       "p_object_carrying              1373\n",
       "p_bipedal                       194\n",
       "p_feeding                      3769\n",
       "p_chimp_carrying               1834\n",
       "p_vocalisation                  993\n",
       "p_climbing                     2244\n",
       "p_aggression                    387\n",
       "p_travel                       5447\n",
       "p_sex                           214\n",
       "p_piloerection                   68\n",
       "p_social_interaction           1896\n",
       "p_grooming                     1035\n",
       "p_display                       358\n",
       "p_cross_species_interaction     198\n",
       "p_resting                      3751\n",
       "p_playing                      1534\n",
       "dtype: int64"
      ]
     },
     "execution_count": 101,
     "metadata": {},
     "output_type": "execute_result"
    }
   ],
   "source": [
    "dist_df.sum(axis=0)"
   ]
  },
  {
   "cell_type": "code",
   "execution_count": 102,
   "metadata": {},
   "outputs": [
    {
     "data": {
      "text/plain": [
       "<AxesSubplot:>"
      ]
     },
     "execution_count": 102,
     "metadata": {},
     "output_type": "execute_result"
    },
    {
     "data": {
      "image/png": "[encoded data removed]",
      "text/plain": [
       "<Figure size 432x288 with 1 Axes>"
      ]
     },
     "metadata": {
      "needs_background": "light"
     },
     "output_type": "display_data"
    }
   ],
   "source": [
    "# Get the frequency of each column\n",
    "dist_df.sum(axis=0).plot.bar()"
   ]
  },
  {
   "cell_type": "code",
   "execution_count": 111,
   "metadata": {},
   "outputs": [
    {
     "name": "stdout",
     "output_type": "stream",
     "text": [
      "Strategy: most_frequent\n",
      "mAP: 0.24904635548591614\n",
      "camera_reaction: 0.35573410987854004\n",
      "tool_use: 0.26953980326652527\n",
      "object_carrying: 0.24470415711402893\n",
      "bipedal: 0.029948867857456207\n",
      "feeding: 0.5690284967422485\n",
      "chimp_carrying: 0.2731921076774597\n",
      "vocalisation: 0.15193572640419006\n",
      "climbing: 0.3754565417766571\n",
      "aggression: 0.07085464149713516\n",
      "travel: 0.7954711318016052\n",
      "sex: 0.027757486328482628\n",
      "piloerection: 0.010226442478597164\n",
      "social_interaction: 0.2863403856754303\n",
      "grooming: 0.1533966362476349\n",
      "display: 0.051862671971321106\n",
      "cross_species_interaction: 0.029948867857456207\n",
      "resting: 0.5602629780769348\n",
      "playing: 0.2271731197834015\n",
      "\n",
      "\n",
      "Strategy: prior\n",
      "mAP: 0.24904635548591614\n",
      "camera_reaction: 0.35573410987854004\n",
      "tool_use: 0.26953980326652527\n",
      "object_carrying: 0.24470415711402893\n",
      "bipedal: 0.029948867857456207\n",
      "feeding: 0.5690284967422485\n",
      "chimp_carrying: 0.2731921076774597\n",
      "vocalisation: 0.15193572640419006\n",
      "climbing: 0.3754565417766571\n",
      "aggression: 0.07085464149713516\n",
      "travel: 0.7954711318016052\n",
      "sex: 0.027757486328482628\n",
      "piloerection: 0.010226442478597164\n",
      "social_interaction: 0.2863403856754303\n",
      "grooming: 0.1533966362476349\n",
      "display: 0.051862671971321106\n",
      "cross_species_interaction: 0.029948867857456207\n",
      "resting: 0.5602629780769348\n",
      "playing: 0.2271731197834015\n",
      "\n",
      "\n",
      "Strategy: stratified\n",
      "mAP: 0.24881011247634888\n",
      "camera_reaction: 0.35692381858825684\n",
      "tool_use: 0.27781134843826294\n",
      "object_carrying: 0.25139307975769043\n",
      "bipedal: 0.029948867857456207\n",
      "feeding: 0.5616580247879028\n",
      "chimp_carrying: 0.2819381058216095\n",
      "vocalisation: 0.1569913625717163\n",
      "climbing: 0.3737713694572449\n",
      "aggression: 0.07003455609083176\n",
      "travel: 0.7859214544296265\n",
      "sex: 0.02761182188987732\n",
      "piloerection: 0.012897342443466187\n",
      "social_interaction: 0.2806868553161621\n",
      "grooming: 0.15786375105381012\n",
      "display: 0.05132254213094711\n",
      "cross_species_interaction: 0.029915273189544678\n",
      "resting: 0.5449919700622559\n",
      "playing: 0.22690071165561676\n",
      "\n",
      "\n",
      "Strategy: uniform\n",
      "mAP: 0.25030192732810974\n",
      "camera_reaction: 0.3692254424095154\n",
      "tool_use: 0.2691599130630493\n",
      "object_carrying: 0.2481275200843811\n",
      "bipedal: 0.03355809673666954\n",
      "feeding: 0.565107524394989\n",
      "chimp_carrying: 0.2693064510822296\n",
      "vocalisation: 0.15146756172180176\n",
      "climbing: 0.3698270618915558\n",
      "aggression: 0.07620050758123398\n",
      "travel: 0.7972474694252014\n",
      "sex: 0.029509520158171654\n",
      "piloerection: 0.010178344324231148\n",
      "social_interaction: 0.2955338954925537\n",
      "grooming: 0.15233901143074036\n",
      "display: 0.049391984939575195\n",
      "cross_species_interaction: 0.03064703568816185\n",
      "resting: 0.5582109689712524\n",
      "playing: 0.2303965836763382\n",
      "\n",
      "\n"
     ]
    },
    {
     "name": "stderr",
     "output_type": "stream",
     "text": [
      "<ipython-input-111-c610290b7ff1>:21: UserWarning: To copy construct from a tensor, it is recommended to use sourceTensor.clone().detach() or sourceTensor.clone().detach().requires_grad_(True), rather than torch.tensor(sourceTensor).\n",
      "  y_test = torch.tensor(y_test, dtype=torch.float32)\n"
     ]
    }
   ],
   "source": [
    "import torch\n",
    "import numpy as np\n",
    "from sklearn.dummy import DummyClassifier\n",
    "from skmultilearn.model_selection import iterative_train_test_split\n",
    "from torchmetrics.functional.classification import multilabel_average_precision\n",
    "\n",
    "# create X with shape (n_samples,)\n",
    "X = np.arange(labels.shape[0]).reshape((6675, 1))\n",
    "y = np.array(labels.tolist())\n",
    "\n",
    "# Iterative train test split\n",
    "X_train, y_train, X_test, y_test = iterative_train_test_split(X, y, test_size=0.20)\n",
    "\n",
    "for strat in [\"most_frequent\", \"prior\", \"stratified\", \"uniform\"]:\n",
    "    dummy_clf = DummyClassifier(strategy=strat)\n",
    "    dummy_clf.fit(X_train, y_train)\n",
    "    predictions = dummy_clf.predict(X_test)\n",
    "\n",
    "    # Convert preds and labels to tensors\n",
    "    predictions = torch.tensor(predictions, dtype=torch.float32)\n",
    "    y_test = torch.tensor(y_test, dtype=torch.float32)\n",
    "\n",
    "    path_to_labels = \"/home/dl18206/Desktop/phd/code/personal/panaf-models/src/supervised/modules/metadata_classifier/labels.txt\"\n",
    "    with open(path_to_labels) as f:\n",
    "        class_names = f.read().splitlines()\n",
    "\n",
    "    macro_average_precision = multilabel_average_precision(\n",
    "        predictions, y_test, num_labels=18, average=\"macro\"\n",
    "    )\n",
    "    per_class_average_precision = multilabel_average_precision(\n",
    "        predictions, y_test, num_labels=18, average=None\n",
    "    )\n",
    "    per_class_average_precision = [\n",
    "        {f\"{class_names[idx]}\": ap.item()}\n",
    "        for idx, ap in enumerate(per_class_average_precision)\n",
    "    ]\n",
    "    print(f\"Strategy: {strat}\")\n",
    "    print(f\"mAP: {macro_average_precision.item()}\")\n",
    "    for ap in per_class_average_precision:\n",
    "        for k, v in ap.items():\n",
    "            print(f\"{k}: {v}\")\n",
    "    print(\"\\n\")"
   ]
  },
  {
   "cell_type": "code",
   "execution_count": 107,
   "metadata": {},
   "outputs": [
    {
     "data": {
      "text/plain": [
       "[{'camera_reaction': 0.3552631437778473},\n",
       " {'tool_use': 0.2697368562221527},\n",
       " {'object_carrying': 0.24415205419063568},\n",
       " {'bipedal': 0.03143274784088135},\n",
       " {'feeding': 0.5687134265899658},\n",
       " {'chimp_carrying': 0.2726608216762543},\n",
       " {'vocalisation': 0.1520467847585678},\n",
       " {'climbing': 0.3757309913635254},\n",
       " {'aggression': 0.07236842066049576},\n",
       " {'travel': 0.7960526347160339},\n",
       " {'sex': 0.02777777798473835},\n",
       " {'piloerection': 0.010233918204903603},\n",
       " {'social_interaction': 0.28654971718788147},\n",
       " {'grooming': 0.15570175647735596},\n",
       " {'display': 0.05190058425068855},\n",
       " {'cross_species_interaction': 0.030701754614710808},\n",
       " {'resting': 0.5592105388641357},\n",
       " {'playing': 0.22587719559669495}]"
      ]
     },
     "execution_count": 107,
     "metadata": {},
     "output_type": "execute_result"
    }
   ],
   "source": [
    "per_class_average_precision"
   ]
  }
 ],
 "metadata": {
  "kernelspec": {
   "display_name": "dataset-upgrade",
   "language": "python",
   "name": "python3"
  },
  "language_info": {
   "codemirror_mode": {
    "name": "ipython",
    "version": 3
   },
   "file_extension": ".py",
   "mimetype": "text/x-python",
   "name": "python",
   "nbconvert_exporter": "python",
   "pygments_lexer": "ipython3",
   "version": "3.8.13"
  }
 },
 "nbformat": 4,
 "nbformat_minor": 2
}
