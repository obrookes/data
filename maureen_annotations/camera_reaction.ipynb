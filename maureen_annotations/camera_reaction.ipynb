{
 "cells": [
  {
   "cell_type": "code",
   "execution_count": 1,
   "id": "d23bccc1-5414-4a02-a4f4-b22d3b5dac61",
   "metadata": {},
   "outputs": [],
   "source": [
    "import os\n",
    "import json\n",
    "import shutil\n",
    "import random, math\n",
    "import pandas as pd\n",
    "import numpy as np\n",
    "from glob import glob\n",
    "from tqdm import tqdm\n",
    "import matplotlib.pyplot as plt\n",
    "from sklearn.model_selection import train_test_split"
   ]
  },
  {
   "cell_type": "code",
   "execution_count": 2,
   "id": "b82af76b-88c6-4d7b-b041-d3e25a2871fa",
   "metadata": {},
   "outputs": [],
   "source": [
    "# Load Maureens annotations\n",
    "csv_files = glob(\"data/sites/csv/**/*.csv\", recursive=True)\n",
    "sorted_csv_files = sorted(csv_files, key=lambda x: x.split(\"/\")[-1])\n",
    "initialiser, remainder = sorted_csv_files[0], sorted_csv_files[1:]\n",
    "df = pd.read_csv(initialiser, encoding=\"ISO-8859-1\")\n",
    "for file in remainder:\n",
    "    site = pd.read_csv(file, encoding=\"ISO-8859-1\")\n",
    "    df = pd.concat([df, site])\n",
    "df.camera_reaction.replace({\"ues\": \"yes\"}, inplace=True)\n",
    "df[\"subdir_video\"] = df.subfolder.astype(str) + \"_\" + df.video_file_name.astype(str)\n",
    "df.subdir_video = df.subdir_video.apply(lambda x: x.lower())\n",
    "df.subdir_video = df.subdir_video.str.split(\".\").str[0]\n",
    "df[\"prepend_zero\"] = df.subdir_video.apply(\n",
    "    lambda x: f'{\"_\".join(x.split(\"_\")[:-1])}_{\"0\" + x.split(\"_\")[-1]}'\n",
    ")"
   ]
  },
  {
   "cell_type": "code",
   "execution_count": 5,
   "id": "316dce3e",
   "metadata": {},
   "outputs": [],
   "source": [
    "# Load filepaths from Jade2\n",
    "jf = pd.read_csv(\"data/jade2/chimp_videos.csv\", index_col=False)\n",
    "jf.drop(columns=[\"Unnamed: 0\"], inplace=True)\n",
    "jf.files = jf.files.apply(lambda x: x.split(\".\")[0].lower())"
   ]
  },
  {
   "cell_type": "code",
   "execution_count": 6,
   "id": "7197bd57",
   "metadata": {},
   "outputs": [
    {
     "data": {
      "text/plain": [
       "Index(['new_row_id', 'country', 'research_site', 'genus', 'species',\n",
       "       'cam_coverage_area', 'location_metadata', 'habitat', 'utm_zone',\n",
       "       'utm_long', 'utm_lat', 'cam_id', 'vid_res', 'vid_duration',\n",
       "       'panaf_datasheet_comments', 'year', 'month', 'day', 'time_hr',\n",
       "       'time_min', 'cell_id', 'subfolder', 'video_file_name', 'event_id',\n",
       "       'min_number_chimps_per_video', 'max_number_chimps_per_video',\n",
       "       'age_class', 'sex', 'tool_use', 'vocalization', 'bipedal',\n",
       "       'camera_reaction', 'behavioral_context', 'other_species',\n",
       "       'additional_comments', 'record_type', 'subdir_video', 'prepend_zero'],\n",
       "      dtype='object')"
      ]
     },
     "execution_count": 6,
     "metadata": {},
     "output_type": "execute_result"
    }
   ],
   "source": [
    "df.columns"
   ]
  },
  {
   "cell_type": "code",
   "execution_count": 7,
   "id": "46d28191",
   "metadata": {},
   "outputs": [],
   "source": [
    "x1 = df[(df.camera_reaction == \"yes\")].subdir_video.unique().tolist()\n",
    "x2 = df[df.behavioral_context == \"camera reaction\"].subdir_video.unique().tolist()\n",
    "cam_reaction_videos = list(set(x1 + x2))"
   ]
  },
  {
   "cell_type": "code",
   "execution_count": 8,
   "id": "67202538",
   "metadata": {},
   "outputs": [],
   "source": [
    "reaction_df = pd.DataFrame(\n",
    "    df[df.subdir_video.isin(cam_reaction_videos)].subdir_video.unique(),\n",
    "    columns=[\"video\"],\n",
    ")\n",
    "no_reaction_df = pd.DataFrame(\n",
    "    df[~df.subdir_video.isin(cam_reaction_videos)].subdir_video.unique(),\n",
    "    columns=[\"video\"],\n",
    ")\n",
    "reaction_df[\"p_camera_reaction\"] = True\n",
    "no_reaction_df[\"p_camera_reaction\"] = False\n",
    "cr_df = pd.concat([reaction_df, no_reaction_df])\n",
    "cr_df = cr_df[cr_df.video.isin(jf.files.values)]"
   ]
  },
  {
   "cell_type": "code",
   "execution_count": 94,
   "id": "1d570fe1",
   "metadata": {},
   "outputs": [
    {
     "data": {
      "text/plain": [
       "False    9286\n",
       "True     4174\n",
       "Name: p_camera_reaction, dtype: int64"
      ]
     },
     "execution_count": 94,
     "metadata": {},
     "output_type": "execute_result"
    }
   ],
   "source": [
    "cr_df.p_camera_reaction.value_counts()"
   ]
  },
  {
   "cell_type": "code",
   "execution_count": 9,
   "id": "e6bb90f0",
   "metadata": {},
   "outputs": [
    {
     "data": {
      "text/html": [
       "<div>\n",
       "<style scoped>\n",
       "    .dataframe tbody tr th:only-of-type {\n",
       "        vertical-align: middle;\n",
       "    }\n",
       "\n",
       "    .dataframe tbody tr th {\n",
       "        vertical-align: top;\n",
       "    }\n",
       "\n",
       "    .dataframe thead th {\n",
       "        text-align: right;\n",
       "    }\n",
       "</style>\n",
       "<table border=\"1\" class=\"dataframe\">\n",
       "  <thead>\n",
       "    <tr style=\"text-align: right;\">\n",
       "      <th></th>\n",
       "      <th>video</th>\n",
       "      <th>p_camera_reaction</th>\n",
       "    </tr>\n",
       "  </thead>\n",
       "  <tbody>\n",
       "    <tr>\n",
       "      <th>0</th>\n",
       "      <td>baf_vid10_0346467_1436892_20151112_11280025</td>\n",
       "      <td>True</td>\n",
       "    </tr>\n",
       "    <tr>\n",
       "      <th>3</th>\n",
       "      <td>baf_vid11_0343264_1434832_20151019_12100066</td>\n",
       "      <td>True</td>\n",
       "    </tr>\n",
       "    <tr>\n",
       "      <th>4</th>\n",
       "      <td>baf_vid12_0345234_1438195_20151123_11280008</td>\n",
       "      <td>True</td>\n",
       "    </tr>\n",
       "    <tr>\n",
       "      <th>8</th>\n",
       "      <td>baf_vid15_0342480_1431181_20141110_11150010</td>\n",
       "      <td>True</td>\n",
       "    </tr>\n",
       "    <tr>\n",
       "      <th>9</th>\n",
       "      <td>baf_vid15_0342480_1431181_20141110_11150011</td>\n",
       "      <td>True</td>\n",
       "    </tr>\n",
       "    <tr>\n",
       "      <th>...</th>\n",
       "      <td>...</td>\n",
       "      <td>...</td>\n",
       "    </tr>\n",
       "    <tr>\n",
       "      <th>14765</th>\n",
       "      <td>uga_vidba4_231634_9390066_20141027_ek000017</td>\n",
       "      <td>False</td>\n",
       "    </tr>\n",
       "    <tr>\n",
       "      <th>14766</th>\n",
       "      <td>uga_vidba4_231634_9390066_20141027_ek000018</td>\n",
       "      <td>False</td>\n",
       "    </tr>\n",
       "    <tr>\n",
       "      <th>14767</th>\n",
       "      <td>uga_vidba4_231634_9390066_20141027_ek000029</td>\n",
       "      <td>False</td>\n",
       "    </tr>\n",
       "    <tr>\n",
       "      <th>14768</th>\n",
       "      <td>uga_vidba4_231634_9390066_20141027_ek000044</td>\n",
       "      <td>False</td>\n",
       "    </tr>\n",
       "    <tr>\n",
       "      <th>14769</th>\n",
       "      <td>uga_vidba4_231634_9390066_20141027_ek000050</td>\n",
       "      <td>False</td>\n",
       "    </tr>\n",
       "  </tbody>\n",
       "</table>\n",
       "<p>13460 rows × 2 columns</p>\n",
       "</div>"
      ],
      "text/plain": [
       "                                             video  p_camera_reaction\n",
       "0      baf_vid10_0346467_1436892_20151112_11280025               True\n",
       "3      baf_vid11_0343264_1434832_20151019_12100066               True\n",
       "4      baf_vid12_0345234_1438195_20151123_11280008               True\n",
       "8      baf_vid15_0342480_1431181_20141110_11150010               True\n",
       "9      baf_vid15_0342480_1431181_20141110_11150011               True\n",
       "...                                            ...                ...\n",
       "14765  uga_vidba4_231634_9390066_20141027_ek000017              False\n",
       "14766  uga_vidba4_231634_9390066_20141027_ek000018              False\n",
       "14767  uga_vidba4_231634_9390066_20141027_ek000029              False\n",
       "14768  uga_vidba4_231634_9390066_20141027_ek000044              False\n",
       "14769  uga_vidba4_231634_9390066_20141027_ek000050              False\n",
       "\n",
       "[13460 rows x 2 columns]"
      ]
     },
     "execution_count": 9,
     "metadata": {},
     "output_type": "execute_result"
    }
   ],
   "source": [
    "cr_df"
   ]
  },
  {
   "cell_type": "code",
   "execution_count": 127,
   "id": "dedefc62",
   "metadata": {},
   "outputs": [
    {
     "data": {
      "text/plain": [
       "False    0.689896\n",
       "True     0.310104\n",
       "Name: p_camera_reaction, dtype: float64"
      ]
     },
     "execution_count": 127,
     "metadata": {},
     "output_type": "execute_result"
    }
   ],
   "source": [
    "cr_df.p_camera_reaction.value_counts() / len(cr_df)"
   ]
  },
  {
   "cell_type": "code",
   "execution_count": 106,
   "id": "f7726855",
   "metadata": {},
   "outputs": [],
   "source": [
    "X = cr_df[\"video\"]\n",
    "y = cr_df[\"p_camera_reaction\"]"
   ]
  },
  {
   "cell_type": "code",
   "execution_count": 119,
   "id": "681b79dc",
   "metadata": {},
   "outputs": [],
   "source": [
    "X_train, X_test, y_train, y_test = train_test_split(\n",
    "    X, y, random_state=42, test_size=0.3, shuffle=True, stratify=y\n",
    ")\n",
    "X_test, X_val, y_test, y_val = train_test_split(\n",
    "    X_test, y_test, random_state=42, test_size=0.3, shuffle=True, stratify=y_test\n",
    ")"
   ]
  },
  {
   "cell_type": "code",
   "execution_count": 142,
   "id": "43768c1e",
   "metadata": {},
   "outputs": [],
   "source": [
    "# Make df from X_train and y_train\n",
    "train_df = pd.DataFrame({\"video\": X_train, \"p_camera_reaction\": y_train})\n",
    "val_df = pd.DataFrame({\"video\": X_val, \"p_camera_reaction\": y_val})\n",
    "test_df = pd.DataFrame({\"video\": X_test, \"p_camera_reaction\": y_test})\n",
    "\n",
    "# Add label column\n",
    "train_df[\"label\"] = train_df.p_camera_reaction.apply(lambda x: str([int(x)]))\n",
    "val_df[\"label\"] = val_df.p_camera_reaction.apply(lambda x: str([int(x)]))\n",
    "test_df[\"label\"] = test_df.p_camera_reaction.apply(lambda x: str([int(x)]))"
   ]
  },
  {
   "cell_type": "code",
   "execution_count": 143,
   "id": "3073aa14",
   "metadata": {},
   "outputs": [],
   "source": [
    "train_df.to_csv(\"data/splits/train.csv\", index=False)\n",
    "val_df.to_csv(\"data/splits/val.csv\", index=False)\n",
    "test_df.to_csv(\"data/splits/test.csv\", index=False)"
   ]
  }
 ],
 "metadata": {
  "kernelspec": {
   "display_name": "Python 3",
   "language": "python",
   "name": "python3"
  },
  "language_info": {
   "codemirror_mode": {
    "name": "ipython",
    "version": 3
   },
   "file_extension": ".py",
   "mimetype": "text/x-python",
   "name": "python",
   "nbconvert_exporter": "python",
   "pygments_lexer": "ipython3",
   "version": "3.8.13"
  }
 },
 "nbformat": 4,
 "nbformat_minor": 5
}
