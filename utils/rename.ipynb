{
 "cells": [
  {
   "cell_type": "code",
   "execution_count": null,
   "id": "53a03c64-fd2d-4c0a-8188-8322b62fe042",
   "metadata": {},
   "outputs": [],
   "source": [
    "import os\n",
    "from glob import glob"
   ]
  },
  {
   "cell_type": "code",
   "execution_count": null,
   "id": "69784780-7540-42ee-988f-3a24da827108",
   "metadata": {},
   "outputs": [],
   "source": [
    "videos = glob(\"./**/*.mp4\", recursive=True)\n",
    "\n",
    "for v in videos:\n",
    "    subdir_video = v.split('/')[-2:]\n",
    "    video = subdir_video[-1].split('.')[0] + \".mp4\"\n",
    "    new = \"_\".join([subdir_video[0],video])\\n\"\n",
    "    # os.rename(v, new)"
   ]
  }
 ],
 "metadata": {
  "kernelspec": {
   "display_name": "Python 3",
   "language": "python",
   "name": "python3"
  },
  "language_info": {
   "codemirror_mode": {
    "name": "ipython",
    "version": 3
   },
   "file_extension": ".py",
   "mimetype": "text/x-python",
   "name": "python",
   "nbconvert_exporter": "python",
   "pygments_lexer": "ipython3",
   "version": "3.8.13"
  }
 },
 "nbformat": 4,
 "nbformat_minor": 5
}
