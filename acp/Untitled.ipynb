{
 "cells": [
  {
   "cell_type": "code",
   "execution_count": 20,
   "id": "9c6b25aa-7b3d-4b7f-879f-cb1368ec6ac5",
   "metadata": {},
   "outputs": [],
   "source": [
    "import os\n",
    "import glob\n",
    "import json\n",
    "import pickle\n",
    "import shutil\n",
    "from tqdm import tqdm"
   ]
  },
  {
   "cell_type": "code",
   "execution_count": 7,
   "id": "a3308ff7-0ad6-4e7b-a929-dc89a17c974c",
   "metadata": {},
   "outputs": [],
   "source": [
    "files = glob.glob('annotations_json/**/*.pkl', recursive=True)"
   ]
  },
  {
   "cell_type": "code",
   "execution_count": null,
   "id": "3f65c945-c438-424a-8d22-25483752aa69",
   "metadata": {},
   "outputs": [],
   "source": [
    "with open(files[0], 'rb') as handle:\n",
    "    data = pickle.load(handle)"
   ]
  },
  {
   "cell_type": "code",
   "execution_count": 8,
   "id": "ad95d7b1-5066-4b02-b3a0-6e2b63948348",
   "metadata": {},
   "outputs": [],
   "source": [
    "def get_writepath(name):\n",
    "    return \"/\".join(name.split('/')[:-1])"
   ]
  },
  {
   "cell_type": "code",
   "execution_count": 9,
   "id": "3bf5887a-e00d-4d98-ad4c-c216710a72d0",
   "metadata": {},
   "outputs": [],
   "source": [
    "def get_filename(name):\n",
    "    return name.split('/')[-1].split('.')[0] + '.json'"
   ]
  },
  {
   "cell_type": "code",
   "execution_count": 10,
   "id": "f12bd4a7-46c7-4f36-9186-5d88b0cf6064",
   "metadata": {},
   "outputs": [],
   "source": [
    "def process_annotation(data):\n",
    "    for frame in data['annotations']:\n",
    "        for det in frame['detections']:\n",
    "            try:\n",
    "                det['score'] = float(det['score'])\n",
    "                det['bbox'] = list(map(float, det['bbox']))\n",
    "                det['behaviour_pdist'] = list(map(float, det['behaviour_pdist']))\n",
    "            except:\n",
    "                pass\n",
    "    return data"
   ]
  },
  {
   "cell_type": "code",
   "execution_count": 17,
   "id": "690aff14-4154-4845-b036-4d0045d77c5c",
   "metadata": {},
   "outputs": [
    {
     "name": "stderr",
     "output_type": "stream",
     "text": [
      "100%|██████████| 19967/19967 [04:57<00:00, 67.15it/s] \n"
     ]
    }
   ],
   "source": [
    "for file in tqdm(files):\n",
    "    \n",
    "    outpath = get_writepath(file)\n",
    "    filename = get_filename(file)\n",
    "    \n",
    "    with open(file, 'rb') as handle:\n",
    "        data = pickle.load(handle)\n",
    "    data = process_annotation(data)\n",
    "    \n",
    "    outfile = os.path.join(outpath, filename)\n",
    "    with open(outfile, 'w') as handle:\n",
    "        json.dump(data, handle, indent=4, sort_keys=True)"
   ]
  },
  {
   "cell_type": "code",
   "execution_count": 18,
   "id": "304f69ab-29f9-4f49-89bf-b3058b561eb7",
   "metadata": {},
   "outputs": [
    {
     "name": "stdout",
     "output_type": "stream",
     "text": [
      "19967 19967\n"
     ]
    }
   ],
   "source": [
    "json_files = glob.glob('annotations_json/**/*.json', recursive=True)\n",
    "pkl_files = glob.glob('annotations_json/**/*.pkl', recursive=True)\n",
    "print(len(json_files), len(pkl_files))"
   ]
  },
  {
   "cell_type": "markdown",
   "id": "582eeaa2-3582-4b97-aec5-016333f7551c",
   "metadata": {},
   "source": [
    "**Copy annotations to batch**"
   ]
  },
  {
   "cell_type": "code",
   "execution_count": 14,
   "id": "85f64ad1-2860-4841-96eb-6bd7ef5a2343",
   "metadata": {},
   "outputs": [],
   "source": [
    "path_to_annotations = \"/home/dl18206/Desktop/phd/data/panaf/acp/annotations/machine/json/all\"\n",
    "annotations = os.listdir(path_to_annotations)\n",
    "\n",
    "annotation_dst = \"/home/dl18206/Desktop/phd/data/panaf/acp/annotations/machine/json/batch/\"\n",
    "\n",
    "videos = glob.glob('/home/dl18206/Desktop/phd/data/panaf/acp/videos/**/*.mp4', recursive=True)"
   ]
  },
  {
   "cell_type": "code",
   "execution_count": 22,
   "id": "5f29e83f-e2d6-45c8-bc3c-1df1fe5bbebd",
   "metadata": {},
   "outputs": [],
   "source": [
    "for v in videos:\n",
    "    batch = v.split('/')[-2]\n",
    "    filename = v.split('/')[-1].split('.')[0] + '.json'\n",
    "    anno_file = f\"/home/dl18206/Desktop/phd/data/panaf/acp/annotations/machine/json/all/{filename}\"\n",
    "    if(os.path.isfile(anno_file)):\n",
    "        shutil.copy(anno_file, f\"{annotation_dst}/{batch}\")"
   ]
  },
  {
   "cell_type": "code",
   "execution_count": 29,
   "id": "eca45c93-905d-485f-a0bc-313de16b7845",
   "metadata": {},
   "outputs": [],
   "source": [
    "a = glob.glob('/home/dl18206/Desktop/phd/data/panaf/acp/annotations/machine/json/batch/**/*.json', recursive=True)\n",
    "a = [x.split('/')[-1].split('.')[0] for x in a]"
   ]
  },
  {
   "cell_type": "code",
   "execution_count": 30,
   "id": "b314f19c-1f80-4a15-a44c-c774722129af",
   "metadata": {},
   "outputs": [],
   "source": [
    "b = glob.glob('/home/dl18206/Desktop/phd/data/panaf/acp/videos/**/*.mp4', recursive=True)\n",
    "b = [x.split('/')[-1].split('.')[0] for x in b]"
   ]
  },
  {
   "cell_type": "code",
   "execution_count": 31,
   "id": "c6939df2-320f-4c88-b37c-6966b3654560",
   "metadata": {},
   "outputs": [
    {
     "data": {
      "text/plain": [
       "['ACP000gc12',\n",
       " 'ACP0000b7c',\n",
       " 'ACP000cx6q',\n",
       " 'ACP000czeu',\n",
       " 'ACP000daq8',\n",
       " 'ACP000d6h0',\n",
       " 'ACP000dkrd',\n",
       " 'ACP000dqzd',\n",
       " 'ACP000dmz9',\n",
       " 'ACP000fpew']"
      ]
     },
     "execution_count": 31,
     "metadata": {},
     "output_type": "execute_result"
    }
   ],
   "source": [
    "list(set(b) - set(a))"
   ]
  },
  {
   "cell_type": "code",
   "execution_count": null,
   "id": "e43465bb-9485-47b9-9627-094c46f7bd6e",
   "metadata": {},
   "outputs": [],
   "source": []
  }
 ],
 "metadata": {
  "kernelspec": {
   "display_name": "Python 3",
   "language": "python",
   "name": "python3"
  },
  "language_info": {
   "codemirror_mode": {
    "name": "ipython",
    "version": 3
   },
   "file_extension": ".py",
   "mimetype": "text/x-python",
   "name": "python",
   "nbconvert_exporter": "python",
   "pygments_lexer": "ipython3",
   "version": "3.8.11"
  }
 },
 "nbformat": 4,
 "nbformat_minor": 5
}
