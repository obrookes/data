{
 "cells": [
  {
   "cell_type": "code",
   "execution_count": null,
   "id": "f2ac728a-e557-4c24-9ba0-f4e3ee25e87a",
   "metadata": {},
   "outputs": [],
   "source": [
    "import json\n",
    "import mmcv\n",
    "import pickle\n",
    "from glob import glob\n",
    "from tqdm import tqdm"
   ]
  },
  {
   "cell_type": "code",
   "execution_count": null,
   "id": "01956c05-5b0b-42ad-aa20-4d651c980b8a",
   "metadata": {},
   "outputs": [],
   "source": [
    "def get_videoname(video):\n",
    "    return video.split('/')[-1].split('.')[0]"
   ]
  },
  {
   "cell_type": "code",
   "execution_count": null,
   "id": "448c2228-33f5-4c0a-88df-063e482f6a3c",
   "metadata": {},
   "outputs": [],
   "source": [
    "def is_frame_empty(idx, ann):\n",
    "    for frame in ann['annotations']:\n",
    "        if(isinstance(frame, dict)):\n",
    "            if(frame['frame_id']==idx and frame['detections'] != []):\n",
    "                return False\n",
    "    return True"
   ]
  },
  {
   "cell_type": "code",
   "execution_count": null,
   "id": "3d596e1f-df5b-4b33-b149-e51cf3b66fe1",
   "metadata": {},
   "outputs": [],
   "source": [
    "def add_empties(vid, ann):\n",
    "    # Iterate through each frame\n",
    "    for i in range(1, len(vid)+1):\n",
    "        empty = is_frame_empty(i, ann)\n",
    "        if(empty==True):\n",
    "            ann['annotations'].append({'frame_id': i, 'detections': []})\n",
    "    # Sort by frame idx\n",
    "    ann['annotations'] = sorted(ann['annotations'], key=lambda x: x['frame_id'])\n",
    "    assert(len(ann['annotations'])==len(vid)), print(f\"Ugh oh!\")\n",
    "    return ann"
   ]
  },
  {
   "cell_type": "code",
   "execution_count": null,
   "id": "498fb1f2-a180-4708-b4a4-4feb10902cad",
   "metadata": {},
   "outputs": [],
   "source": [
    "# List all videos\n",
    "videos = glob(\"acp/videos/**/*.mp4\", recursive=True)\n",
    "\n",
    "for video in tqdm(videos):\n",
    "    vid = mmcv.VideoReader(video)\n",
    "    name = get_videoname(video)\n",
    "    try:\n",
    "        with open(f\"acp/annotations/machine/json/all/short/{name}.json\", \"rb\") as handle:\n",
    "            ann = json.load(handle)\n",
    "            \n",
    "    except:\n",
    "        print(f'Annotation for {name} does not exist!')\n",
    "        continue\n",
    "    ann  = add_empties(vid, ann)\n",
    "    with open(f\"acp/annotations/machine/json/all/long/{name}.json\", \"w\") as file:\n",
    "        json.dump(ann, file, indent=4)"
   ]
  },
  {
   "cell_type": "code",
   "execution_count": 1,
   "id": "878a1c27-3d4b-4448-b470-2977b71e3e3d",
   "metadata": {},
   "outputs": [],
   "source": [
    "import json\n",
    "import pandas as pd"
   ]
  },
  {
   "cell_type": "code",
   "execution_count": null,
   "id": "3a7355a7-0986-4041-9d0d-ac9cacd383d7",
   "metadata": {},
   "outputs": [],
   "source": [
    "prefix = '/user/home/dl18206/kinetics/videos/'\n",
    "for file in ['train.csv', 'val.csv', 'test.csv']:\n",
    "    df = pd.read_csv(file, sep=' ', names=['filename','label'])\n",
    "    df['filename'] = prefix + df.filename.str.split('/').str[-1]\n",
    "    df.to_csv(file, sep=' ', header=False, index=False)"
   ]
  },
  {
   "cell_type": "code",
   "execution_count": null,
   "id": "5e0a44dd-16a4-47e6-a4fc-d88049ff3bd2",
   "metadata": {},
   "outputs": [],
   "source": [
    "# /rds/project/rds-oqQ0697DY5c/panaf/500/annotations/train.csv"
   ]
  },
  {
   "cell_type": "code",
   "execution_count": null,
   "id": "31b0a724-f9b3-43a2-89ba-424c75ab2007",
   "metadata": {},
   "outputs": [],
   "source": [
    "import pandas as pd"
   ]
  },
  {
   "cell_type": "markdown",
   "id": "1a2ced96-4fcf-44c7-8a71-73a8603c0984",
   "metadata": {},
   "source": [
    "**Validation**"
   ]
  },
  {
   "cell_type": "code",
   "execution_count": null,
   "id": "a33ab99c-9bc7-4e8e-b4e7-704be5ddf59d",
   "metadata": {},
   "outputs": [],
   "source": [
    "val_df = pd.read_csv('val.csv', names=['videos', 'label'], sep=' ', header=None)\n",
    "val_df['behaviour'] = val_df.videos.str.split('/').str[-1].str.split('_').str[-1].str.split('.').str[0]\n",
    "val_df.videos = val_df.videos.str.split('/').str[-1].str.split('_').str[0]"
   ]
  },
  {
   "cell_type": "code",
   "execution_count": null,
   "id": "fef98ed9-bf1b-4ddb-bad8-0e44678bd96e",
   "metadata": {},
   "outputs": [],
   "source": [
    "val_df.behaviour.unique()"
   ]
  },
  {
   "cell_type": "code",
   "execution_count": null,
   "id": "cdc7257f-1d30-4460-ba9c-ca39daa1f200",
   "metadata": {},
   "outputs": [],
   "source": [
    "val_df.behaviour.value_counts()"
   ]
  },
  {
   "cell_type": "code",
   "execution_count": null,
   "id": "3d73fd43-d98f-447f-bb73-4626e328cbf8",
   "metadata": {},
   "outputs": [],
   "source": [
    "val_df[val_df.behaviour=='running']"
   ]
  },
  {
   "cell_type": "markdown",
   "id": "6bdc1624-4797-4f39-9947-e22894421619",
   "metadata": {},
   "source": [
    "**Train**"
   ]
  },
  {
   "cell_type": "code",
   "execution_count": null,
   "id": "6d3d689e-8b91-4be4-9b1f-785696a87179",
   "metadata": {},
   "outputs": [],
   "source": [
    "train_df = pd.read_csv('train.csv', names=['videos', 'label'], sep=' ', header=None)\n",
    "train_df['behaviour'] = train_df.videos.str.split('/').str[-1].str.split('_').str[-1].str.split('.').str[0]\n",
    "train_df.videos = train_df.videos.str.split('/').str[-1].str.split('_').str[0]"
   ]
  },
  {
   "cell_type": "code",
   "execution_count": null,
   "id": "a03d28f4-b61f-4ca3-ab9a-3fb95c7de736",
   "metadata": {},
   "outputs": [],
   "source": [
    "train_df.behaviour.value_counts()"
   ]
  },
  {
   "cell_type": "code",
   "execution_count": null,
   "id": "0327bbad-fc1f-4a67-857f-f9ad8b866aca",
   "metadata": {},
   "outputs": [],
   "source": [
    "train_df[train_df.behaviour=='running']"
   ]
  },
  {
   "cell_type": "markdown",
   "id": "f1c1378a-ed59-44e9-9d60-23d1ca6e97b3",
   "metadata": {},
   "source": [
    "**How long is each action performed?**"
   ]
  },
  {
   "cell_type": "code",
   "execution_count": null,
   "id": "70c4f84d-eb5d-47c5-b24a-54159644355f",
   "metadata": {},
   "outputs": [],
   "source": []
  },
  {
   "cell_type": "code",
   "execution_count": 17,
   "id": "f8e7fccb-9fe7-459b-ad38-493b2141fbea",
   "metadata": {},
   "outputs": [],
   "source": [
    "file_path = '/home/dl18206/Desktop/phd/data/panaf/obfuscated/annotations/json_obfuscated/9uIpm1xLeI.json'"
   ]
  },
  {
   "cell_type": "code",
   "execution_count": 18,
   "id": "e78d7f2a-ed72-4d9e-994b-ffcbd62e601e",
   "metadata": {},
   "outputs": [],
   "source": [
    "# Open json annotation\n",
    "def open_json(path2file):\n",
    "    with open(path2file, 'rb') as handle:\n",
    "        file = json.load(handle)\n",
    "    return file"
   ]
  },
  {
   "cell_type": "code",
   "execution_count": 19,
   "id": "a63a9992-737d-40a5-84eb-e846e1fadda0",
   "metadata": {},
   "outputs": [],
   "source": [
    "# Get unique ape IDs from file\n",
    "def get_ape_ids(annotation):\n",
    "    ids = list()\n",
    "    frames = annotation['annotations']\n",
    "    for f in frames:\n",
    "        for d in f['detections']:\n",
    "            ids.append(d['ape_id'])\n",
    "    return list(set(ids))"
   ]
  },
  {
   "cell_type": "code",
   "execution_count": 55,
   "id": "c62a7d57-6849-4cfd-95b6-d4bac85d57f4",
   "metadata": {},
   "outputs": [],
   "source": [
    "# Flatten detections\n",
    "def get_flat_df(annotation):\n",
    "    video = annotation['video']\n",
    "    new_detections = []\n",
    "    for frame in annotation['annotations']:\n",
    "        frame_idx = frame['frame_id']\n",
    "        for d in frame['detections']:\n",
    "            new_d = d\n",
    "            new_d['frame_idx'] = frame_idx\n",
    "            new_d['video'] = video\n",
    "            new_detections.append(new_d)\n",
    "    return pd.DataFrame(new_detections)"
   ]
  },
  {
   "cell_type": "code",
   "execution_count": 66,
   "id": "73e9c9ad-d3f9-4ac6-b750-fd28aa775537",
   "metadata": {},
   "outputs": [],
   "source": [
    "file = open_json(file_path)\n",
    "ape_ids = get_ape_ids(file)\n",
    "flat_df = get_flat_df(file)"
   ]
  },
  {
   "cell_type": "code",
   "execution_count": 79,
   "id": "2fce3c60-923c-48b0-9399-3f0721ffa70a",
   "metadata": {},
   "outputs": [],
   "source": [
    "def assign_groups(per_ape_df):\n",
    "    \n",
    "    \"\"\"\n",
    "    Required to assign group to instances where the frames are\n",
    "    consectutive but behaviours change.\n",
    "    \"\"\"\n",
    "    \n",
    "    frame_idxs = per_ape_df.frame_idx.to_list()\n",
    "    behaviours = per_ape_df.behaviour.to_list()\n",
    "    \n",
    "    # always begin groupings from 0\n",
    "    group = 0\n",
    "    groups = []\n",
    "    \n",
    "    for i in range(len(frame_idxs)-1):\n",
    "        # Check if frames are consecutive\n",
    "        if ((frame_idxs[i+1] == frame_idxs[i] + 1) and (behaviours[i+1] == behaviours[i])):\n",
    "            groups.append(group)\n",
    "        else:\n",
    "            groups.append(group)\n",
    "            group += 1\n",
    "\n",
    "    # Handle last frame\n",
    "    if ((frame_idxs[-1] == frame_idxs[-2] + 1) and (behaviours[-1] == behaviours[-2])):\n",
    "        groups.append(group)\n",
    "    else:\n",
    "        group += 1 \n",
    "        groups.append(group)\n",
    "        \n",
    "    per_ape_df['group'] = groups\n",
    "    return per_ape_df"
   ]
  },
  {
   "cell_type": "code",
   "execution_count": 83,
   "id": "8a70bb30-7a83-4a12-8862-4a2fe88eb7ad",
   "metadata": {},
   "outputs": [
    {
     "name": "stdout",
     "output_type": "stream",
     "text": [
      "running 60 0 9uIpm1xLeI\n",
      "walking 181 0 9uIpm1xLeI\n",
      "standing 43 1 9uIpm1xLeI\n",
      "running 262 1 9uIpm1xLeI\n",
      "running 181 2 9uIpm1xLeI\n"
     ]
    }
   ],
   "source": [
    "# for a single ape\n",
    "for ape_id in ape_ids:\n",
    "    # filter by specific ape id\n",
    "    video = flat_df.video.unique()[0]\n",
    "    per_ape_df = flat_df[flat_df.ape_id==ape_id].sort_values(by='frame_idx')\n",
    "    per_ape_df = assign_groups(per_ape_df)\n",
    "    # then filter by assigned temporal group\n",
    "    for g in per_ape_df.group.unique():\n",
    "        index = per_ape_df[per_ape_df.group==g].behaviour.value_counts().index[0]\n",
    "        value = per_ape_df[per_ape_df.group==g].behaviour.value_counts().values[0]\n",
    "        print(index, value, ape_id, video)"
   ]
  },
  {
   "cell_type": "code",
   "execution_count": null,
   "id": "eaad72f3-3e5c-45b6-9036-b62784e93598",
   "metadata": {},
   "outputs": [],
   "source": []
  }
 ],
 "metadata": {
  "kernelspec": {
   "display_name": "Python 3",
   "language": "python",
   "name": "python3"
  },
  "language_info": {
   "codemirror_mode": {
    "name": "ipython",
    "version": 3
   },
   "file_extension": ".py",
   "mimetype": "text/x-python",
   "name": "python",
   "nbconvert_exporter": "python",
   "pygments_lexer": "ipython3",
   "version": "3.8.13"
  }
 },
 "nbformat": 4,
 "nbformat_minor": 5
}
