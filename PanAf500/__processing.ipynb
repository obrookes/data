{
 "cells": [
  {
   "cell_type": "code",
   "execution_count": 36,
   "id": "e9d0e1db-8191-46db-8373-cfdee9f8309b",
   "metadata": {},
   "outputs": [],
   "source": [
    "import os\n",
    "import json\n",
    "import glob\n",
    "import mmcv\n",
    "import pickle\n",
    "from tqdm import tqdm\n",
    "import xml.etree.ElementTree as ET"
   ]
  },
  {
   "cell_type": "markdown",
   "id": "78476d2a",
   "metadata": {},
   "source": [
    "**Extract frames**"
   ]
  },
  {
   "cell_type": "code",
   "execution_count": 37,
   "id": "0ab90504",
   "metadata": {},
   "outputs": [],
   "source": [
    "path2videos = \"videos/raw/validation\"\n",
    "videopaths = glob.glob(f\"{path2videos}/**/*.mp4\", recursive=True)"
   ]
  },
  {
   "cell_type": "code",
   "execution_count": 38,
   "id": "851eeb56",
   "metadata": {},
   "outputs": [
    {
     "name": "stdout",
     "output_type": "stream",
     "text": [
      "[>>>>>>>>>>>>>>>>>>>>>>>>>>>>>>>>>>>>>>>>>>>>>>>>>>] 360/360, 104.2 task/s, elapsed: 3s, ETA:     0s\n",
      "[>>>>>>>>>>>>>>>>>>>>>>>>>>>>>>>>>>>>>>>>>>>>>>>>>>] 360/360, 105.4 task/s, elapsed: 3s, ETA:     0s\n",
      "[>>>>>>>>>>>>>>>>>>>>>>>>>>>>>>>>>>>>>>>>>>>>>>>>>>] 360/360, 102.4 task/s, elapsed: 4s, ETA:     0s\n",
      "[>>>>>>>>>>>>>>>>>>>>>>>>>>>>>>>>>>>>>>>>>>>>>>>>>>] 360/360, 104.1 task/s, elapsed: 3s, ETA:     0s\n",
      "[>>>>>>>>>>>>>>>>>>>>>>>>>>>>>>>>>>>>>>>>>>>>>>>>>>] 360/360, 101.7 task/s, elapsed: 4s, ETA:     0s\n",
      "[>>>>>>>>>>>>>>>>>>>>>>>>>>>>>>>>>>>>>>>>>>>>>>>>>>] 360/360, 107.4 task/s, elapsed: 3s, ETA:     0s\n",
      "[>>>>>>>>>>>>>>>>>>>>>>>>>>>>>>>>>>>>>>>>>>>>>>>>>>] 360/360, 79.0 task/s, elapsed: 5s, ETA:     0s\n",
      "[>>>>>>>>>>>>>>>>>>>>>>>>>>>>>>>>>>>>>>>>>>>>>>>>>>] 360/360, 65.7 task/s, elapsed: 5s, ETA:     0s\n",
      "[>>>>>>>>>>>>>>>>>>>>>>>>>>>>>>>>>>>>>>>>>>>>>>>>>>] 360/360, 86.8 task/s, elapsed: 4s, ETA:     0s\n",
      "[>>>>>>>>>>>>>>>>>>>>>>>>>>>>>>>>>>>>>>>>>>>>>>>>>>] 360/360, 82.3 task/s, elapsed: 4s, ETA:     0s\n",
      "[>>>>>>>>>>>>>>>>>>>>>>>>>>>>>>>>>>>>>>>>>>>>>>>>>>] 360/360, 71.7 task/s, elapsed: 5s, ETA:     0s\n",
      "[>>>>>>>>>>>>>>>>>>>>>>>>>>>>>>>>>>>>>>>>>>>>>>>>>>] 360/360, 112.4 task/s, elapsed: 3s, ETA:     0s\n",
      "[>>>>>>>>>>>>>>>>>>>>>>>>>>>>>>>>>>>>>>>>>>>>>>>>>>] 360/360, 88.5 task/s, elapsed: 4s, ETA:     0s\n",
      "[>>>>>>>>>>>>>>>>>>>>>>>>>>>>>>>>>>>>>>>>>>>>>>>>>>] 360/360, 88.2 task/s, elapsed: 4s, ETA:     0s\n",
      "[>>>>>>>>>>>>>>>>>>>>>>>>>>>>>>>>>>>>>>>>>>>>>>>>>>] 360/360, 95.4 task/s, elapsed: 4s, ETA:     0s\n",
      "[>>>>>>>>>>>>>>>>>>>>>>>>>>>>>>>>>>>>>>>>>>>>>>>>>>] 360/360, 72.4 task/s, elapsed: 5s, ETA:     0s\n",
      "[>>>>>>>>>>>>>>>>>>>>>>>>>>>>>>>>>>>>>>>>>>>>>>>>>>] 360/360, 86.8 task/s, elapsed: 4s, ETA:     0s\n",
      "[>>>>>>>>>>>>>>>>>>>>>>>>>>>>>>>>>>>>>>>>>>>>>>>>>>] 360/360, 93.0 task/s, elapsed: 4s, ETA:     0s\n",
      "[>>>>>>>>>>>>>>>>>>>>>>>>>>>>>>>>>>>>>>>>>>>>>>>>>>] 360/360, 96.9 task/s, elapsed: 4s, ETA:     0s\n",
      "[>>>>>>>>>>>>>>>>>>>>>>>>>>>>>>>>>>>>>>>>>>>>>>>>>>] 360/360, 113.1 task/s, elapsed: 3s, ETA:     0s\n",
      "[>>>>>>>>>>>>>>>>>>>>>>>>>>>>>>>>>>>>>>>>>>>>>>>>>>] 360/360, 91.9 task/s, elapsed: 4s, ETA:     0s\n",
      "[>>>>>>>>>>>>>>>>>>>>>>>>>>>>>>>>>>>>>>>>>>>>>>>>>>] 360/360, 118.4 task/s, elapsed: 3s, ETA:     0s\n",
      "[>>>>>>>>>>>>>>>>>>>>>>>>>>>>>>>>>>>>>>>>>>>>>>>>>>] 360/360, 99.6 task/s, elapsed: 4s, ETA:     0ss\n",
      "[>>>>>>>>>>>>>>>>>>>>>>>>>>>>>>>>>>>>>>>>>>>>>>>>>>] 360/360, 91.3 task/s, elapsed: 4s, ETA:     0s\n",
      "[>>>>>>>>>>>>>>>>>>>>>>>>>>>>>>>>>>>>>>>>>>>>>>>>>>] 360/360, 90.9 task/s, elapsed: 4s, ETA:     0s\n"
     ]
    }
   ],
   "source": [
    "for video in videopaths:\n",
    "    videoname = video.split(\"/\")[-1].split(\".\")[0]\n",
    "    open_video = mmcv.VideoReader(video)\n",
    "    open_video.cvt2frames(\n",
    "        f\"videos/frames/validation/{videoname}/\", filename_tmpl=\"frame_{:d}.jpg\"\n",
    "    )\n",
    "    frames = glob.glob(f\"videos/frames/validation/{videoname}/**/*.jpg\", recursive=True)\n",
    "    frames.sort(key=lambda x: int(x.split(\"/\")[-1].split(\".\")[0].split(\"_\")[-1]))\n",
    "    \n",
    "    # Rename inmage files and increase idx by 1\n",
    "    for idx, frame in enumerate(frames):\n",
    "        if os.path.isfile(frame):\n",
    "            assert int(frame.split('/')[-1].split('.')[0].split('_')[-1]) == idx, f\"{int(frame.split('/')[-1].split('.')[0])}, {idx}\"\n",
    "            os.rename(frame, f\"videos/frames/validation/{videoname}/{videoname}_frame_{idx+1}.jpg\")\n",
    "        else:\n",
    "            raise ValueError(f\"{frame} is not a file...\")"
   ]
  },
  {
   "cell_type": "code",
   "execution_count": 29,
   "id": "3f36d2a4-1b85-4a6d-8cc3-0073fd63658f",
   "metadata": {},
   "outputs": [
    {
     "data": {
      "text/plain": [
       "360"
      ]
     },
     "execution_count": 29,
     "metadata": {},
     "output_type": "execute_result"
    }
   ],
   "source": [
    "len(glob.glob(f\"videos/frames/test/{videoname}/**/*.jpg\", recursive=True))"
   ]
  },
  {
   "cell_type": "markdown",
   "id": "9bf51e2c-11ea-4fcb-9ebf-37b58c67d621",
   "metadata": {},
   "source": [
    "**Get video dimensions**"
   ]
  },
  {
   "cell_type": "code",
   "execution_count": null,
   "id": "4b831a62-dfe5-4b06-aa82-4e5780af65e4",
   "metadata": {},
   "outputs": [],
   "source": [
    "video_details = {}\n",
    "videos = [x for x in os.listdir(\"videos/\") if x.endswith(\".mp4\")]\n",
    "for v in tqdm(videos):\n",
    "    open_video = mmcv.VideoReader(f\"videos/{v}\")\n",
    "    width, height = open_video.width, open_video.height\n",
    "    video_details[v] = dict(width=width, height=height)"
   ]
  },
  {
   "cell_type": "code",
   "execution_count": null,
   "id": "3b43d81d-40f4-405f-89ae-d27200ef1990",
   "metadata": {},
   "outputs": [],
   "source": [
    "video_details"
   ]
  },
  {
   "cell_type": "code",
   "execution_count": null,
   "id": "0ceaacc4-4968-4afb-ae63-a128fd6ed1bc",
   "metadata": {},
   "outputs": [],
   "source": [
    "videos = os.listdir(\"annotations/\")"
   ]
  },
  {
   "cell_type": "code",
   "execution_count": null,
   "id": "bba232e7-f387-4b11-aca4-5bac371eb98e",
   "metadata": {},
   "outputs": [],
   "source": [
    "def get_ape_coordinates(ape):\n",
    "    coordinates = []\n",
    "    for coordinate in ape.find(\"bndbox\"):\n",
    "        coordinates.append(float(coordinate.text))\n",
    "    return coordinates\n",
    "\n",
    "\n",
    "def get_ape_id(ape):\n",
    "    return int(ape.find(\"id\").text)\n",
    "\n",
    "\n",
    "def get_species(ape):\n",
    "    return ape.find(\"name\").text\n",
    "\n",
    "\n",
    "def get_behaviour(ape):\n",
    "    return ape.find(\"activity\").text"
   ]
  },
  {
   "cell_type": "code",
   "execution_count": null,
   "id": "b3b812aa-9fcd-47a9-9754-154415d009a2",
   "metadata": {},
   "outputs": [],
   "source": [
    "for video in tqdm(videos):\n",
    "    entry = dict()\n",
    "    entry[\"video\"] = video\n",
    "    entry[\"annotations\"] = []\n",
    "\n",
    "    frames = len([x for x in os.listdir(f\"annotations/{video}\") if x.endswith(\".xml\")])\n",
    "\n",
    "    for i in range(1, frames + 1):\n",
    "        xmlfile = f\"annotations/{video}/{video}_frame_{i}.xml\"\n",
    "\n",
    "        xml = open(xmlfile)\n",
    "        tree = ET.parse(xml)\n",
    "        root = tree.getroot()\n",
    "\n",
    "        item = dict()\n",
    "        item[\"frame_id\"] = int(root.find(\"frameid\").text)\n",
    "        item[\"detections\"] = []\n",
    "\n",
    "        for ape in root.findall(\"object\"):\n",
    "            det = dict()\n",
    "            det[\"bbox\"] = get_ape_coordinates(ape)\n",
    "            det[\"ape_id\"] = get_ape_id(ape)\n",
    "            det[\"species\"] = get_species(ape)\n",
    "            det[\"behaviour\"] = get_behaviour(ape)\n",
    "\n",
    "            item[\"detections\"].append(det)\n",
    "\n",
    "        entry[\"annotations\"].append(item)\n",
    "\n",
    "    with open(f\"{video}.json\", \"w\") as handle:\n",
    "        json.dump(entry, handle)"
   ]
  },
  {
   "cell_type": "code",
   "execution_count": null,
   "id": "c6d691b5-1409-47b0-82e7-a7d3df1be0d9",
   "metadata": {},
   "outputs": [],
   "source": [
    "entry.keys()"
   ]
  },
  {
   "cell_type": "markdown",
   "id": "d97de8e6-ed95-4022-8707-a3896db285eb",
   "metadata": {},
   "source": [
    "**Restructure Dataset**"
   ]
  },
  {
   "cell_type": "code",
   "execution_count": null,
   "id": "0ce383c9-5668-4ad5-81f3-fe3e64dc24a1",
   "metadata": {},
   "outputs": [],
   "source": [
    "import shutil\n",
    "from tqdm import tqdm"
   ]
  },
  {
   "cell_type": "code",
   "execution_count": null,
   "id": "b2832fd7-2092-462a-9ae0-124c283b8a12",
   "metadata": {},
   "outputs": [],
   "source": [
    "videos = open(\"splits/traindata.txt\").read().strip().split()"
   ]
  },
  {
   "cell_type": "code",
   "execution_count": null,
   "id": "137b506c-f6a1-4903-977a-f6705ed5b7da",
   "metadata": {},
   "outputs": [],
   "source": [
    "for v in tqdm(videos):\n",
    "    try:\n",
    "        shutil.copy(\n",
    "            f\"restructure/densepose_annotations/{v}_dense.pkl\",\n",
    "            \"restructure/densepose_annotations/train\",\n",
    "        )\n",
    "    except:\n",
    "        pass"
   ]
  },
  {
   "cell_type": "code",
   "execution_count": null,
   "id": "c8be099b-adcb-400c-be58-10d4659fc002",
   "metadata": {},
   "outputs": [],
   "source": [
    "shutil.copy(\n",
    "    f\"restructure/densepose_annotations/TsFCsskzig_dense.pkl\",\n",
    "    \"restructure/densepose_annotations/validation\",\n",
    ")"
   ]
  },
  {
   "cell_type": "code",
   "execution_count": null,
   "id": "980662c5-823f-46f4-8549-d8ce5c6d90fb",
   "metadata": {},
   "outputs": [],
   "source": [
    "import pickle"
   ]
  },
  {
   "cell_type": "code",
   "execution_count": null,
   "id": "b044e99a-05a5-44d2-9359-f1db3a32410e",
   "metadata": {},
   "outputs": [],
   "source": [
    "with open(\n",
    "    \"restructure/densepose_annotations/train/p3feC1D6cK_dense.pkl\", \"rb\"\n",
    ") as handle:\n",
    "    data = pickle.load(handle)"
   ]
  },
  {
   "cell_type": "code",
   "execution_count": null,
   "id": "b62549a4-6007-4ddf-824e-c19309b759c6",
   "metadata": {},
   "outputs": [],
   "source": [
    "data"
   ]
  },
  {
   "cell_type": "code",
   "execution_count": null,
   "id": "44b9cff5-9eda-4f4c-827d-79db5cc56b62",
   "metadata": {},
   "outputs": [],
   "source": [
    "for frame in data[\"annotations\"]:\n",
    "    for det in frame[\"detections\"]:\n",
    "        if det[\"ape_id\"] == 2:\n",
    "            det[\"ape_id\"] = 1"
   ]
  },
  {
   "cell_type": "code",
   "execution_count": null,
   "id": "5cf24bb2-ba54-4731-adee-e2253286331f",
   "metadata": {},
   "outputs": [],
   "source": [
    "with open(\n",
    "    \"restructure/densepose_annotations/train/p3feC1D6cK_dense.pkl\", \"wb\"\n",
    ") as handle:\n",
    "    pickle.dump(data, handle, pickle.HIGHEST_PROTOCOL)"
   ]
  },
  {
   "cell_type": "markdown",
   "id": "3d3d736d-6f0a-4e93-bdb7-192ca15a897c",
   "metadata": {},
   "source": [
    "**Find videos with duplicate apes**"
   ]
  },
  {
   "cell_type": "code",
   "execution_count": null,
   "id": "33a601f4-81bd-475c-af4a-0fd854b4eabd",
   "metadata": {},
   "outputs": [],
   "source": [
    "videos = glob.glob(\"restructure/annotations/standard/**/*.json\", recursive=True)"
   ]
  },
  {
   "cell_type": "code",
   "execution_count": null,
   "id": "f7185ed4-98ad-4176-accf-ffbbd461450e",
   "metadata": {},
   "outputs": [],
   "source": [
    "duplicates, apes = [], []\n",
    "\n",
    "for v in tqdm(videos):\n",
    "    with open(v, \"rb\") as handle:\n",
    "        data = json.load(handle)\n",
    "\n",
    "        for frame in data[\"annotations\"]:\n",
    "            apes = [x[\"ape_id\"] for x in frame[\"detections\"]]\n",
    "            if len(set(apes)) != len(apes):\n",
    "                duplicates.append(v.split(\"/\")[-1])"
   ]
  },
  {
   "cell_type": "code",
   "execution_count": null,
   "id": "f27945f6-8f02-44be-9a38-1447f9aaa3cc",
   "metadata": {},
   "outputs": [],
   "source": [
    "apes"
   ]
  },
  {
   "cell_type": "code",
   "execution_count": null,
   "id": "09267d7f-736c-4491-b865-f27544874598",
   "metadata": {},
   "outputs": [],
   "source": [
    "list(set(duplicates))"
   ]
  },
  {
   "cell_type": "code",
   "execution_count": null,
   "id": "afd78a60-1567-4562-956b-500a0e7f17dc",
   "metadata": {},
   "outputs": [],
   "source": [
    "len(duplicates)\n",
    "\n",
    "# Remove these videos and see if everything works..."
   ]
  },
  {
   "cell_type": "markdown",
   "id": "ed260cad-6b65-49ce-b286-696a662dcf5d",
   "metadata": {},
   "source": [
    "**Checking all partitions are the same...**"
   ]
  },
  {
   "cell_type": "code",
   "execution_count": null,
   "id": "6d6e438a-0c48-48b0-8f5e-a6f5a51345df",
   "metadata": {},
   "outputs": [],
   "source": [
    "import os\n",
    "from glob import glob"
   ]
  },
  {
   "cell_type": "code",
   "execution_count": null,
   "id": "6a1475c5-8a26-4cd0-9011-ec8263b97118",
   "metadata": {},
   "outputs": [],
   "source": [
    "videos1 = [\n",
    "    x.split(\"/\")[-1]\n",
    "    for x in glob(\"annotations/json/obfu/all/**/*.json\", recursive=True)\n",
    "]\n",
    "videos2 = [\n",
    "    x.split(\"/\")[-1]\n",
    "    for x in glob(\"restructure/annotations/standard/all/**/*.json\", recursive=True)\n",
    "]"
   ]
  },
  {
   "cell_type": "code",
   "execution_count": null,
   "id": "f5ae37af-5955-4838-a0be-9df9f81ac08a",
   "metadata": {},
   "outputs": [],
   "source": []
  },
  {
   "cell_type": "code",
   "execution_count": null,
   "id": "54ac57b0-3b24-4376-a38f-ee212c19129a",
   "metadata": {},
   "outputs": [],
   "source": []
  }
 ],
 "metadata": {
  "kernelspec": {
   "display_name": "Python 3",
   "language": "python",
   "name": "python3"
  },
  "language_info": {
   "codemirror_mode": {
    "name": "ipython",
    "version": 3
   },
   "file_extension": ".py",
   "mimetype": "text/x-python",
   "name": "python",
   "nbconvert_exporter": "python",
   "pygments_lexer": "ipython3",
   "version": "3.8.13"
  }
 },
 "nbformat": 4,
 "nbformat_minor": 5
}
