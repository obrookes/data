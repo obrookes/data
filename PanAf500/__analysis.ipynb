{
 "cells": [
  {
   "cell_type": "code",
   "execution_count": 30,
   "id": "f2ac728a-e557-4c24-9ba0-f4e3ee25e87a",
   "metadata": {},
   "outputs": [],
   "source": [
    "import json\n",
    "import mmcv\n",
    "import pickle\n",
    "from scipy import stats\n",
    "from glob import glob\n",
    "from tqdm import tqdm\n",
    "import numpy as np\n",
    "import pandas as pd"
   ]
  },
  {
   "attachments": {},
   "cell_type": "markdown",
   "id": "857a66ab",
   "metadata": {},
   "source": [
    "**Helper functions**"
   ]
  },
  {
   "cell_type": "code",
   "execution_count": 31,
   "id": "33202d5a",
   "metadata": {},
   "outputs": [],
   "source": [
    "# Open json annotation\n",
    "def open_json(path2file):\n",
    "    with open(path2file, \"rb\") as handle:\n",
    "        file = json.load(handle)\n",
    "    return file\n",
    "\n",
    "\n",
    "# Get unique ape IDs from file\n",
    "def get_ape_ids(annotation):\n",
    "    ids = list()\n",
    "    frames = annotation[\"annotations\"]\n",
    "    for f in frames:\n",
    "        for d in f[\"detections\"]:\n",
    "            ids.append(d[\"ape_id\"])\n",
    "    return list(set(ids))\n",
    "\n",
    "\n",
    "# Flatten detections\n",
    "def get_flat_df(annotation):\n",
    "    video = annotation[\"video\"]\n",
    "    new_detections = []\n",
    "    for frame in annotation[\"annotations\"]:\n",
    "        frame_idx = frame[\"frame_id\"]\n",
    "        for d in frame[\"detections\"]:\n",
    "            new_d = d\n",
    "            new_d[\"frame_idx\"] = frame_idx\n",
    "            new_d[\"video\"] = video\n",
    "            new_detections.append(new_d)\n",
    "    return pd.DataFrame(new_detections)\n",
    "\n",
    "\n",
    "# Assign groups to detections for each ape\n",
    "def assign_groups(per_ape_df):\n",
    "    \"\"\"\n",
    "    Required to assign group to instances where the frames are\n",
    "    consectutive but behaviours change.\n",
    "    \"\"\"\n",
    "\n",
    "    frame_idxs = per_ape_df.frame_idx.to_list()\n",
    "    behaviours = per_ape_df.behaviour.to_list()\n",
    "\n",
    "    assert len(frame_idxs) == len(behaviours)\n",
    "\n",
    "    # always begin groupings from 0\n",
    "    group = 0\n",
    "    groups = []\n",
    "\n",
    "    for i in range(len(frame_idxs) - 1):\n",
    "        # Check if frames are consecutive\n",
    "        if (frame_idxs[i + 1] == frame_idxs[i] + 1) and (\n",
    "            behaviours[i + 1] == behaviours[i]\n",
    "        ):\n",
    "            groups.append(group)\n",
    "        else:\n",
    "            groups.append(group)\n",
    "            group += 1\n",
    "\n",
    "    # Handle last frame\n",
    "    if (frame_idxs[-1] == frame_idxs[-2] + 1) and (behaviours[-1] == behaviours[-2]):\n",
    "        groups.append(group)\n",
    "    else:\n",
    "        group += 1\n",
    "        groups.append(group)\n",
    "\n",
    "    per_ape_df[\"group\"] = groups\n",
    "    return per_ape_df\n",
    "\n",
    "\n",
    "def store_groups(flat_df, ape_ids):\n",
    "    store = list()\n",
    "    # for a single ape\n",
    "    for ape_id in ape_ids:\n",
    "        # filter by specific ape id\n",
    "        video = flat_df.video.unique()[0]\n",
    "        per_ape_df = flat_df[flat_df.ape_id == ape_id].sort_values(by=\"frame_idx\")\n",
    "        per_ape_df = assign_groups(per_ape_df)\n",
    "        for g in per_ape_df.group.unique():\n",
    "            index = per_ape_df[per_ape_df.group == g].behaviour.value_counts().index[0]\n",
    "            value = per_ape_df[per_ape_df.group == g].behaviour.value_counts().values[0]\n",
    "            info = dict(behaviour=index, frame_count=value, ape_id=ape_id, video=video)\n",
    "            store.append(info)\n",
    "    return store"
   ]
  },
  {
   "attachments": {},
   "cell_type": "markdown",
   "id": "fc379e35",
   "metadata": {},
   "source": [
    "**FPS for all PanAf500 videos**"
   ]
  },
  {
   "cell_type": "code",
   "execution_count": 32,
   "id": "107bae78",
   "metadata": {},
   "outputs": [
    {
     "name": "stderr",
     "output_type": "stream",
     "text": [
      "100%|██████████| 500/500 [00:06<00:00, 79.62it/s]"
     ]
    },
    {
     "name": "stdout",
     "output_type": "stream",
     "text": [
      "Mean FPS: 24.0\n",
      "STD FPS: 0.0\n"
     ]
    },
    {
     "name": "stderr",
     "output_type": "stream",
     "text": [
      "\n"
     ]
    }
   ],
   "source": [
    "fps = []\n",
    "video_file_paths = glob(\"videos/raw/all/**/*.mp4\", recursive=True)\n",
    "for video_file_path in tqdm(video_file_paths):\n",
    "    video = mmcv.VideoReader(video_file_path)\n",
    "    fps.append(video.fps)\n",
    "print(f\"Mean FPS: {np.array(fps).mean()}\")\n",
    "print(f\"STD FPS: {np.array(fps).std()}\")"
   ]
  },
  {
   "attachments": {},
   "cell_type": "markdown",
   "id": "f7fbcfa6",
   "metadata": {},
   "source": [
    "**Video Resolutions**"
   ]
  },
  {
   "cell_type": "code",
   "execution_count": 33,
   "id": "0cc7edc3",
   "metadata": {},
   "outputs": [
    {
     "name": "stderr",
     "output_type": "stream",
     "text": [
      "100%|██████████| 500/500 [00:05<00:00, 88.45it/s]\n"
     ]
    }
   ],
   "source": [
    "names, widths, heights = [], [], []\n",
    "video_file_paths = glob(\"videos/raw/all/**/*.mp4\", recursive=True)\n",
    "for video_file_path in tqdm(video_file_paths):\n",
    "    video = mmcv.VideoReader(video_file_path)\n",
    "    width, height = video.width, video.height\n",
    "    video_name = video_file_path.split(\"/\")[-1].split(\".\")[0]\n",
    "    names.append(video_name)\n",
    "    widths.append(width)\n",
    "    heights.append(height)"
   ]
  },
  {
   "cell_type": "code",
   "execution_count": 34,
   "id": "64146fcd",
   "metadata": {},
   "outputs": [],
   "source": [
    "resolution_df = pd.DataFrame({\"name\": names, \"width\": widths, \"height\": heights})"
   ]
  },
  {
   "cell_type": "code",
   "execution_count": 35,
   "id": "03cc2fe8",
   "metadata": {},
   "outputs": [
    {
     "data": {
      "text/html": [
       "<div>\n",
       "<style scoped>\n",
       "    .dataframe tbody tr th:only-of-type {\n",
       "        vertical-align: middle;\n",
       "    }\n",
       "\n",
       "    .dataframe tbody tr th {\n",
       "        vertical-align: top;\n",
       "    }\n",
       "\n",
       "    .dataframe thead th {\n",
       "        text-align: right;\n",
       "    }\n",
       "</style>\n",
       "<table border=\"1\" class=\"dataframe\">\n",
       "  <thead>\n",
       "    <tr style=\"text-align: right;\">\n",
       "      <th></th>\n",
       "      <th>name</th>\n",
       "      <th>width</th>\n",
       "      <th>height</th>\n",
       "    </tr>\n",
       "  </thead>\n",
       "  <tbody>\n",
       "    <tr>\n",
       "      <th>0</th>\n",
       "      <td>aaJN6ZZbPh</td>\n",
       "      <td>720</td>\n",
       "      <td>404</td>\n",
       "    </tr>\n",
       "    <tr>\n",
       "      <th>1</th>\n",
       "      <td>DPw52gwsl1</td>\n",
       "      <td>720</td>\n",
       "      <td>404</td>\n",
       "    </tr>\n",
       "    <tr>\n",
       "      <th>2</th>\n",
       "      <td>JkF4v2WLfX</td>\n",
       "      <td>960</td>\n",
       "      <td>540</td>\n",
       "    </tr>\n",
       "    <tr>\n",
       "      <th>3</th>\n",
       "      <td>TsFCsskzig</td>\n",
       "      <td>720</td>\n",
       "      <td>404</td>\n",
       "    </tr>\n",
       "    <tr>\n",
       "      <th>4</th>\n",
       "      <td>D5D1IoY7jA</td>\n",
       "      <td>720</td>\n",
       "      <td>404</td>\n",
       "    </tr>\n",
       "    <tr>\n",
       "      <th>...</th>\n",
       "      <td>...</td>\n",
       "      <td>...</td>\n",
       "      <td>...</td>\n",
       "    </tr>\n",
       "    <tr>\n",
       "      <th>495</th>\n",
       "      <td>DvK4T8ZJIr</td>\n",
       "      <td>720</td>\n",
       "      <td>404</td>\n",
       "    </tr>\n",
       "    <tr>\n",
       "      <th>496</th>\n",
       "      <td>fTsHMGBZk4</td>\n",
       "      <td>720</td>\n",
       "      <td>404</td>\n",
       "    </tr>\n",
       "    <tr>\n",
       "      <th>497</th>\n",
       "      <td>0hu96Jv2As</td>\n",
       "      <td>720</td>\n",
       "      <td>404</td>\n",
       "    </tr>\n",
       "    <tr>\n",
       "      <th>498</th>\n",
       "      <td>hDJ8vi3TJM</td>\n",
       "      <td>720</td>\n",
       "      <td>404</td>\n",
       "    </tr>\n",
       "    <tr>\n",
       "      <th>499</th>\n",
       "      <td>AaPaEOB349</td>\n",
       "      <td>720</td>\n",
       "      <td>404</td>\n",
       "    </tr>\n",
       "  </tbody>\n",
       "</table>\n",
       "<p>500 rows × 3 columns</p>\n",
       "</div>"
      ],
      "text/plain": [
       "           name  width  height\n",
       "0    aaJN6ZZbPh    720     404\n",
       "1    DPw52gwsl1    720     404\n",
       "2    JkF4v2WLfX    960     540\n",
       "3    TsFCsskzig    720     404\n",
       "4    D5D1IoY7jA    720     404\n",
       "..          ...    ...     ...\n",
       "495  DvK4T8ZJIr    720     404\n",
       "496  fTsHMGBZk4    720     404\n",
       "497  0hu96Jv2As    720     404\n",
       "498  hDJ8vi3TJM    720     404\n",
       "499  AaPaEOB349    720     404\n",
       "\n",
       "[500 rows x 3 columns]"
      ]
     },
     "execution_count": 35,
     "metadata": {},
     "output_type": "execute_result"
    }
   ],
   "source": [
    "resolution_df"
   ]
  },
  {
   "attachments": {},
   "cell_type": "markdown",
   "id": "f1c1378a-ed59-44e9-9d60-23d1ca6e97b3",
   "metadata": {},
   "source": [
    "**How long is each action performed?**"
   ]
  },
  {
   "cell_type": "code",
   "execution_count": 36,
   "id": "73e9c9ad-d3f9-4ac6-b750-fd28aa775537",
   "metadata": {},
   "outputs": [
    {
     "name": "stderr",
     "output_type": "stream",
     "text": [
      "  1%|          | 5/500 [00:00<00:09, 49.92it/s]"
     ]
    },
    {
     "name": "stderr",
     "output_type": "stream",
     "text": [
      "100%|██████████| 500/500 [00:06<00:00, 77.36it/s]\n"
     ]
    }
   ],
   "source": [
    "file_paths = glob(\"annotations/standard/json/obfu/all/**/*.json\", recursive=True)\n",
    "\n",
    "main_store = []\n",
    "for fp in tqdm(file_paths):\n",
    "    file = open_json(fp)\n",
    "    ape_ids = get_ape_ids(file)\n",
    "    flat_df = get_flat_df(file)\n",
    "    store = store_groups(flat_df, ape_ids)\n",
    "    main_store = main_store + store\n",
    "df = pd.DataFrame(main_store)"
   ]
  },
  {
   "cell_type": "code",
   "execution_count": 37,
   "id": "fad113f8",
   "metadata": {},
   "outputs": [
    {
     "name": "stderr",
     "output_type": "stream",
     "text": [
      "100%|██████████| 500/500 [00:09<00:00, 54.66it/s] \n"
     ]
    }
   ],
   "source": [
    "file_paths = glob(\"annotations/standard/json/obfu/all/**/*.json\", recursive=True)\n",
    "\n",
    "main_df = None\n",
    "for i, fp in enumerate(tqdm(file_paths)):\n",
    "    file = open_json(fp)\n",
    "    ape_ids = get_ape_ids(file)\n",
    "    flat_df = get_flat_df(file)\n",
    "    if i == 0:\n",
    "        main_df = flat_df\n",
    "    else:\n",
    "        main_df = pd.concat([main_df, flat_df])"
   ]
  },
  {
   "cell_type": "code",
   "execution_count": 38,
   "id": "4d4f76f0",
   "metadata": {},
   "outputs": [],
   "source": [
    "main_df = main_df.join(resolution_df.set_index(\"name\"), on=\"video\")"
   ]
  },
  {
   "attachments": {},
   "cell_type": "markdown",
   "id": "e3aa5a8e",
   "metadata": {},
   "source": [
    "##### **Count apes per frame**"
   ]
  },
  {
   "cell_type": "code",
   "execution_count": 39,
   "id": "3af11e17",
   "metadata": {},
   "outputs": [],
   "source": [
    "# Add column called frame which increments from 0 to the number of rows in the dataframe\n",
    "# main_df['frame'] = range(len(main_df))"
   ]
  },
  {
   "cell_type": "code",
   "execution_count": 40,
   "id": "4065f48a",
   "metadata": {},
   "outputs": [],
   "source": [
    "frame_count = list()\n",
    "for v in main_df.video.unique():\n",
    "    frame_count.extend(\n",
    "        main_df[main_df.video == v]\n",
    "        .groupby(by=\"frame_idx\")[\"ape_id\"]\n",
    "        .apply(lambda x: 0 if x.unique() is None else len(x.unique()))\n",
    "        .values\n",
    "    )\n",
    "frame_df = pd.DataFrame(frame_count, columns=[\"ape_count\"])"
   ]
  },
  {
   "cell_type": "code",
   "execution_count": 56,
   "id": "7cf455be",
   "metadata": {},
   "outputs": [
    {
     "data": {
      "image/png": "[encoded data removed]",
      "text/plain": [
       "<Figure size 432x288 with 1 Axes>"
      ]
     },
     "metadata": {
      "needs_background": "light"
     },
     "output_type": "display_data"
    }
   ],
   "source": [
    "frame_df[\"frames\"] = range(len(frame_df))\n",
    "ax = (\n",
    "    frame_df.groupby(by=\"ape_count\")[\"frames\"]\n",
    "    .count()\n",
    "    .plot(\n",
    "        kind=\"bar\",\n",
    "        xlabel=\"No. of Apes\",\n",
    "        ylabel=\"No. of Frames (Log-scale)\",\n",
    "        align=\"edge\",\n",
    "        color=\"cornflowerblue\",\n",
    "        edgecolor=\"black\",\n",
    "        logy=True,\n",
    "        width=1.0,\n",
    "    )\n",
    ")\n",
    "\n",
    "ax.figure.savefig(\"p500_apes_per_frame.pdf\", dpi=300, bbox_inches=\"tight\")"
   ]
  },
  {
   "cell_type": "code",
   "execution_count": 42,
   "id": "e4070a72",
   "metadata": {},
   "outputs": [
    {
     "data": {
      "text/plain": [
       "ape_count\n",
       "1    110765\n",
       "2     25611\n",
       "3      8829\n",
       "4      2023\n",
       "5       414\n",
       "6       254\n",
       "7       130\n",
       "8        45\n",
       "Name: frames, dtype: int64"
      ]
     },
     "execution_count": 42,
     "metadata": {},
     "output_type": "execute_result"
    }
   ],
   "source": [
    "frame_df.groupby(by=\"ape_count\")[\"frames\"].count()"
   ]
  },
  {
   "attachments": {},
   "cell_type": "markdown",
   "id": "8e6866f0",
   "metadata": {},
   "source": [
    "##### **Count apes per video**"
   ]
  },
  {
   "cell_type": "code",
   "execution_count": 43,
   "id": "794721e2-2d3c-47ed-b62f-cb121db928f1",
   "metadata": {},
   "outputs": [],
   "source": [
    "videos = df.groupby(by=\"video\")[\"ape_id\"].apply(lambda x: len(x.unique())).index\n",
    "values = df.groupby(by=\"video\")[\"ape_id\"].apply(lambda x: len(x.unique())).values\n",
    "count_df = pd.DataFrame({\"video\": videos, \"ape_count\": values})"
   ]
  },
  {
   "cell_type": "code",
   "execution_count": 64,
   "id": "e50217b5",
   "metadata": {},
   "outputs": [
    {
     "data": {
      "image/png": "[encoded data removed]",
      "text/plain": [
       "<Figure size 432x288 with 1 Axes>"
      ]
     },
     "metadata": {
      "needs_background": "light"
     },
     "output_type": "display_data"
    }
   ],
   "source": [
    "ax = (\n",
    "    count_df.groupby(by=\"ape_count\")[\"video\"]\n",
    "    .count()\n",
    "    .plot(\n",
    "        kind=\"bar\",\n",
    "        xlabel=\"No. of Apes\",\n",
    "        ylabel=\"No. of Videos (Log-scale)\",\n",
    "        color=\"aquamarine\",\n",
    "        edgecolor=\"black\",\n",
    "        logy=True,\n",
    "        width=1.0,\n",
    "    )\n",
    ")\n",
    "\n",
    "ax.figure.savefig(\"p500_apes_per_video.pdf\", dpi=300, bbox_inches=\"tight\")"
   ]
  },
  {
   "cell_type": "code",
   "execution_count": 62,
   "metadata": {},
   "outputs": [
    {
     "data": {
      "text/html": [
       "<div>\n",
       "<style scoped>\n",
       "    .dataframe tbody tr th:only-of-type {\n",
       "        vertical-align: middle;\n",
       "    }\n",
       "\n",
       "    .dataframe tbody tr th {\n",
       "        vertical-align: top;\n",
       "    }\n",
       "\n",
       "    .dataframe thead th {\n",
       "        text-align: right;\n",
       "    }\n",
       "</style>\n",
       "<table border=\"1\" class=\"dataframe\">\n",
       "  <thead>\n",
       "    <tr style=\"text-align: right;\">\n",
       "      <th></th>\n",
       "      <th>video</th>\n",
       "      <th>ape_count</th>\n",
       "    </tr>\n",
       "  </thead>\n",
       "  <tbody>\n",
       "    <tr>\n",
       "      <th>176</th>\n",
       "      <td>MnYV3cYzBq</td>\n",
       "      <td>8</td>\n",
       "    </tr>\n",
       "    <tr>\n",
       "      <th>407</th>\n",
       "      <td>pbMMPocj0m</td>\n",
       "      <td>8</td>\n",
       "    </tr>\n",
       "  </tbody>\n",
       "</table>\n",
       "</div>"
      ],
      "text/plain": [
       "          video  ape_count\n",
       "176  MnYV3cYzBq          8\n",
       "407  pbMMPocj0m          8"
      ]
     },
     "execution_count": 62,
     "metadata": {},
     "output_type": "execute_result"
    }
   ],
   "source": [
    "count_df[count_df[\"ape_count\"] == 8]"
   ]
  },
  {
   "attachments": {},
   "cell_type": "markdown",
   "id": "04a94dd8",
   "metadata": {},
   "source": [
    "**Calulate area of bounding box & proportion of whole image**"
   ]
  },
  {
   "cell_type": "code",
   "execution_count": 45,
   "id": "2416eeee",
   "metadata": {},
   "outputs": [],
   "source": [
    "def calc_area(x):\n",
    "    # Calculate the width and height of the bounding box\n",
    "    x1, y1, x2, y2 = x\n",
    "    width = x2 - x1\n",
    "    height = y2 - y1\n",
    "\n",
    "    # Calculate the area\n",
    "    area = width * height\n",
    "    return area\n",
    "\n",
    "\n",
    "main_df[\"area\"] = main_df[\"bbox\"].apply(lambda x: calc_area(x))\n",
    "main_df[\"image_area\"] = (\n",
    "    main_df[\"height\"] * main_df[\"width\"]\n",
    ")  # Amend for actual per image resolution\n",
    "main_df[\"area_ratio\"] = (main_df[\"area\"] / main_df[\"image_area\"]) * 100\n",
    "main_df[\"size_cat\"] = main_df.area.apply(\n",
    "    lambda x: \"small\"\n",
    "    if x <= 32**2\n",
    "    else \"medium\"\n",
    "    if x <= 96**2 and x > 32**2\n",
    "    else \"large\"\n",
    ")"
   ]
  },
  {
   "cell_type": "code",
   "execution_count": 46,
   "id": "6fabc645",
   "metadata": {},
   "outputs": [
    {
     "data": {
      "text/plain": [
       "<AxesSubplot:>"
      ]
     },
     "execution_count": 46,
     "metadata": {},
     "output_type": "execute_result"
    },
    {
     "data": {
      "image/png": "[encoded data removed]",
      "text/plain": [
       "<Figure size 432x288 with 1 Axes>"
      ]
     },
     "metadata": {
      "needs_background": "light"
     },
     "output_type": "display_data"
    }
   ],
   "source": [
    "main_df[\"area_ratio\"].hist(\n",
    "    bins=100, color=\"purple\", edgecolor=\"black\", alpha=0.6, log=True, label=\"size_cat\"\n",
    ")\n",
    "# Add set of images showing examples of small -> large bounding boxes"
   ]
  },
  {
   "cell_type": "code",
   "execution_count": 53,
   "id": "6e0b3ab4",
   "metadata": {},
   "outputs": [
    {
     "data": {
      "image/png": "[encoded data removed]",
      "text/plain": [
       "<Figure size 432x288 with 1 Axes>"
      ]
     },
     "metadata": {
      "needs_background": "light"
     },
     "output_type": "display_data"
    }
   ],
   "source": [
    "ax = (\n",
    "    main_df.groupby(by=\"size_cat\")[\"bbox\"]\n",
    "    .count()\n",
    "    .plot(\n",
    "        kind=\"bar\",\n",
    "        xlabel=\"Size Category\",\n",
    "        ylabel=\"No. of Frames (Log-scale)\",\n",
    "        color=\"aquamarine\",\n",
    "        edgecolor=\"black\",\n",
    "        logy=True,\n",
    "        width=1.0,\n",
    "    )\n",
    ")\n",
    "\n",
    "ax.figure.savefig(\"p500_small_medium_large.pdf\", dpi=300, bbox_inches=\"tight\")"
   ]
  },
  {
   "cell_type": "code",
   "execution_count": 19,
   "id": "b8bf90fc",
   "metadata": {},
   "outputs": [
    {
     "data": {
      "text/plain": [
       "(large     111286\n",
       " medium     85899\n",
       " small       4245\n",
       " Name: size_cat, dtype: int64,\n",
       " large     0.552480\n",
       " medium    0.426446\n",
       " small     0.021074\n",
       " Name: size_cat, dtype: float64,\n",
       " 201430)"
      ]
     },
     "execution_count": 19,
     "metadata": {},
     "output_type": "execute_result"
    }
   ],
   "source": [
    "main_df.size_cat.value_counts(), main_df.size_cat.value_counts() / len(\n",
    "    main_df\n",
    "), main_df.size_cat.value_counts().sum()"
   ]
  },
  {
   "attachments": {},
   "cell_type": "markdown",
   "id": "08e93725",
   "metadata": {},
   "source": [
    "**Per frame behaviour counts**"
   ]
  },
  {
   "cell_type": "code",
   "execution_count": 20,
   "id": "f6dd1d94",
   "metadata": {},
   "outputs": [
    {
     "name": "stderr",
     "output_type": "stream",
     "text": [
      "/home/dl18206/anaconda3/envs/dataset-upgrade/lib/python3.8/site-packages/pandas/plotting/_matplotlib/core.py:568: UserWarning: Attempted to set non-positive bottom ylim on a log-scaled axis.\n",
      "Invalid limit will be ignored.\n",
      "  ax.set_ylim(self.ylim)\n"
     ]
    },
    {
     "data": {
      "text/plain": [
       "<AxesSubplot:>"
      ]
     },
     "execution_count": 20,
     "metadata": {},
     "output_type": "execute_result"
    },
    {
     "data": {
      "image/png": "[encoded data removed]",
      "text/plain": [
       "<Figure size 432x288 with 1 Axes>"
      ]
     },
     "metadata": {
      "needs_background": "light"
     },
     "output_type": "display_data"
    }
   ],
   "source": [
    "main_df.behaviour.value_counts().plot(\n",
    "    kind=\"bar\", logy=True, edgecolor=\"black\", width=1.0, ylim=(0, 11**5)\n",
    ")"
   ]
  },
  {
   "cell_type": "code",
   "execution_count": 21,
   "id": "a03c3ace",
   "metadata": {},
   "outputs": [
    {
     "data": {
      "text/plain": [
       "sitting               76117\n",
       "walking               62515\n",
       "standing              41934\n",
       "hanging                8814\n",
       "climbing_up            4098\n",
       "sitting_on_back        2430\n",
       "running                2128\n",
       "camera_interaction     1939\n",
       "climbing_down          1455\n",
       "Name: behaviour, dtype: int64"
      ]
     },
     "execution_count": 21,
     "metadata": {},
     "output_type": "execute_result"
    }
   ],
   "source": [
    "main_df.behaviour.value_counts()"
   ]
  },
  {
   "attachments": {},
   "cell_type": "markdown",
   "id": "7cb7666e",
   "metadata": {},
   "source": [
    "**Total number of instances for each behaviour**"
   ]
  },
  {
   "cell_type": "code",
   "execution_count": 22,
   "id": "57fc28c4-3885-4649-83d3-ea16f470fe91",
   "metadata": {},
   "outputs": [
    {
     "data": {
      "text/plain": [
       "walking               747\n",
       "standing              366\n",
       "sitting               308\n",
       "climbing_up            81\n",
       "hanging                50\n",
       "climbing_down          35\n",
       "running                34\n",
       "camera_interaction     32\n",
       "sitting_on_back        26\n",
       "Name: behaviour, dtype: int64"
      ]
     },
     "execution_count": 22,
     "metadata": {},
     "output_type": "execute_result"
    }
   ],
   "source": [
    "df.behaviour.value_counts()"
   ]
  },
  {
   "attachments": {},
   "cell_type": "markdown",
   "id": "d94af313",
   "metadata": {},
   "source": [
    "**Average duration (and std) of each behaviour/activity**"
   ]
  },
  {
   "cell_type": "code",
   "execution_count": 23,
   "id": "614d527d",
   "metadata": {},
   "outputs": [
    {
     "data": {
      "text/html": [
       "<div>\n",
       "<style scoped>\n",
       "    .dataframe tbody tr th:only-of-type {\n",
       "        vertical-align: middle;\n",
       "    }\n",
       "\n",
       "    .dataframe tbody tr th {\n",
       "        vertical-align: top;\n",
       "    }\n",
       "\n",
       "    .dataframe thead th {\n",
       "        text-align: right;\n",
       "    }\n",
       "</style>\n",
       "<table border=\"1\" class=\"dataframe\">\n",
       "  <thead>\n",
       "    <tr style=\"text-align: right;\">\n",
       "      <th></th>\n",
       "      <th>action</th>\n",
       "      <th>instances</th>\n",
       "      <th>seconds</th>\n",
       "      <th>seconds_std</th>\n",
       "      <th>frames</th>\n",
       "      <th>frames_std</th>\n",
       "    </tr>\n",
       "  </thead>\n",
       "  <tbody>\n",
       "    <tr>\n",
       "      <th>0</th>\n",
       "      <td>walking</td>\n",
       "      <td>747</td>\n",
       "      <td>3.487004</td>\n",
       "      <td>2.940185</td>\n",
       "      <td>62515</td>\n",
       "      <td>70.564445</td>\n",
       "    </tr>\n",
       "    <tr>\n",
       "      <th>1</th>\n",
       "      <td>standing</td>\n",
       "      <td>366</td>\n",
       "      <td>4.773907</td>\n",
       "      <td>4.591186</td>\n",
       "      <td>41934</td>\n",
       "      <td>110.188475</td>\n",
       "    </tr>\n",
       "    <tr>\n",
       "      <th>2</th>\n",
       "      <td>sitting</td>\n",
       "      <td>308</td>\n",
       "      <td>10.297213</td>\n",
       "      <td>5.514578</td>\n",
       "      <td>76117</td>\n",
       "      <td>132.349866</td>\n",
       "    </tr>\n",
       "    <tr>\n",
       "      <th>3</th>\n",
       "      <td>climbing_up</td>\n",
       "      <td>81</td>\n",
       "      <td>2.108025</td>\n",
       "      <td>1.671539</td>\n",
       "      <td>4098</td>\n",
       "      <td>40.116947</td>\n",
       "    </tr>\n",
       "    <tr>\n",
       "      <th>4</th>\n",
       "      <td>hanging</td>\n",
       "      <td>50</td>\n",
       "      <td>7.345000</td>\n",
       "      <td>5.235951</td>\n",
       "      <td>8814</td>\n",
       "      <td>125.662821</td>\n",
       "    </tr>\n",
       "    <tr>\n",
       "      <th>5</th>\n",
       "      <td>climbing_down</td>\n",
       "      <td>35</td>\n",
       "      <td>1.732143</td>\n",
       "      <td>1.244198</td>\n",
       "      <td>1455</td>\n",
       "      <td>29.860741</td>\n",
       "    </tr>\n",
       "    <tr>\n",
       "      <th>6</th>\n",
       "      <td>running</td>\n",
       "      <td>34</td>\n",
       "      <td>2.607843</td>\n",
       "      <td>2.063112</td>\n",
       "      <td>2128</td>\n",
       "      <td>49.514686</td>\n",
       "    </tr>\n",
       "    <tr>\n",
       "      <th>7</th>\n",
       "      <td>camera_interaction</td>\n",
       "      <td>32</td>\n",
       "      <td>2.524740</td>\n",
       "      <td>3.774470</td>\n",
       "      <td>1939</td>\n",
       "      <td>90.587281</td>\n",
       "    </tr>\n",
       "    <tr>\n",
       "      <th>8</th>\n",
       "      <td>sitting_on_back</td>\n",
       "      <td>26</td>\n",
       "      <td>3.894231</td>\n",
       "      <td>4.040614</td>\n",
       "      <td>2430</td>\n",
       "      <td>96.974731</td>\n",
       "    </tr>\n",
       "  </tbody>\n",
       "</table>\n",
       "</div>"
      ],
      "text/plain": [
       "               action  instances    seconds  seconds_std  frames  frames_std\n",
       "0             walking        747   3.487004     2.940185   62515   70.564445\n",
       "1            standing        366   4.773907     4.591186   41934  110.188475\n",
       "2             sitting        308  10.297213     5.514578   76117  132.349866\n",
       "3         climbing_up         81   2.108025     1.671539    4098   40.116947\n",
       "4             hanging         50   7.345000     5.235951    8814  125.662821\n",
       "5       climbing_down         35   1.732143     1.244198    1455   29.860741\n",
       "6             running         34   2.607843     2.063112    2128   49.514686\n",
       "7  camera_interaction         32   2.524740     3.774470    1939   90.587281\n",
       "8     sitting_on_back         26   3.894231     4.040614    2430   96.974731"
      ]
     },
     "execution_count": 23,
     "metadata": {},
     "output_type": "execute_result"
    }
   ],
   "source": [
    "action, seconds, std, frames, frames_std = [], [], [], [], []\n",
    "for behaviour in df.behaviour.value_counts().index:\n",
    "    action.append(behaviour)\n",
    "    seconds.append(\n",
    "        df[df.behaviour == behaviour][\"frame_count\"].mean() / np.array(fps).mean()\n",
    "    )\n",
    "    std.append(\n",
    "        df[df.behaviour == behaviour][\"frame_count\"].std() / np.array(fps).mean()\n",
    "    )\n",
    "\n",
    "    frames.append(df[df.behaviour == behaviour][\"frame_count\"].sum())\n",
    "    frames_std.append(df[df.behaviour == behaviour][\"frame_count\"].std())\n",
    "\n",
    "duration_df = pd.DataFrame(\n",
    "    dict(\n",
    "        action=action,\n",
    "        instances=df.behaviour.value_counts().values,\n",
    "        seconds=seconds,\n",
    "        seconds_std=std,\n",
    "        frames=frames,\n",
    "        frames_std=frames_std,\n",
    "    )\n",
    ")\n",
    "duration_df"
   ]
  },
  {
   "cell_type": "code",
   "execution_count": 24,
   "id": "be90c002-5a2e-48b5-802e-ab74d050e47c",
   "metadata": {},
   "outputs": [
    {
     "name": "stdout",
     "output_type": "stream",
     "text": [
      "walking 2.940185213848922\n",
      "standing 4.591186458263594\n",
      "sitting 5.514577762270317\n",
      "climbing_up 1.6715394624066509\n",
      "hanging 5.235950859767086\n",
      "climbing_down 1.2441975503717542\n",
      "running 2.06311190410438\n",
      "camera_interaction 3.774470033519695\n",
      "sitting_on_back 4.040613793603619\n"
     ]
    }
   ],
   "source": [
    "for behaviour in df.behaviour.value_counts().index:\n",
    "    print(\n",
    "        behaviour,\n",
    "        df[df.behaviour == behaviour][\"frame_count\"].std() / np.array(fps).mean(),\n",
    "    )"
   ]
  },
  {
   "attachments": {},
   "cell_type": "markdown",
   "id": "2891ce99",
   "metadata": {},
   "source": [
    "##### **Behaviour Distribution per Threshold**"
   ]
  },
  {
   "cell_type": "code",
   "execution_count": 4,
   "id": "b8e58787",
   "metadata": {},
   "outputs": [
    {
     "name": "stderr",
     "output_type": "stream",
     "text": [
      "/home/dl18206/anaconda3/envs/dataset-upgrade/lib/python3.8/site-packages/torchvision/datapoints/__init__.py:12: UserWarning: The torchvision.datapoints and torchvision.transforms.v2 namespaces are still Beta. While we do not expect major breaking changes, some APIs may still change according to user feedback. Please submit any feedback you may have in this issue: https://github.com/pytorch/vision/issues/6753, and you can also check out https://github.com/pytorch/vision/issues/7319 to learn more about the APIs that we suspect might involve future changes. You can silence this warning by calling torchvision.disable_beta_transforms_warning().\n",
      "  warnings.warn(_BETA_TRANSFORMS_WARNING)\n",
      "/home/dl18206/anaconda3/envs/dataset-upgrade/lib/python3.8/site-packages/torchvision/transforms/v2/__init__.py:54: UserWarning: The torchvision.datapoints and torchvision.transforms.v2 namespaces are still Beta. While we do not expect major breaking changes, some APIs may still change according to user feedback. Please submit any feedback you may have in this issue: https://github.com/pytorch/vision/issues/6753, and you can also check out https://github.com/pytorch/vision/issues/7319 to learn more about the APIs that we suspect might involve future changes. You can silence this warning by calling torchvision.disable_beta_transforms_warning().\n",
      "  warnings.warn(_BETA_TRANSFORMS_WARNING)\n",
      "/home/dl18206/anaconda3/envs/dataset-upgrade/lib/python3.8/site-packages/torchvision/transforms/v2/_deprecated.py:41: UserWarning: The transform `ToTensor()` is deprecated and will be removed in a future release. Instead, please use `transforms.Compose([transforms.ToImageTensor(), transforms.ConvertImageDtype()])`.\n",
      "  warnings.warn(\n"
     ]
    },
    {
     "name": "stdout",
     "output_type": "stream",
     "text": [
      "Initialising thresholds...\n"
     ]
    },
    {
     "name": "stderr",
     "output_type": "stream",
     "text": [
      "100%|██████████| 400/400 [00:13<00:00, 29.30it/s]\n",
      "100%|██████████| 400/400 [00:12<00:00, 31.33it/s]\n",
      "100%|██████████| 400/400 [00:12<00:00, 31.52it/s]\n",
      "100%|██████████| 400/400 [00:12<00:00, 31.93it/s]\n"
     ]
    },
    {
     "name": "stdout",
     "output_type": "stream",
     "text": [
      "Initialising itvls...\n"
     ]
    },
    {
     "name": "stderr",
     "output_type": "stream",
     "text": [
      "100%|██████████| 400/400 [00:12<00:00, 31.79it/s]\n",
      "100%|██████████| 400/400 [00:12<00:00, 31.61it/s]\n",
      "100%|██████████| 400/400 [00:12<00:00, 31.81it/s]\n",
      "100%|██████████| 400/400 [00:12<00:00, 32.45it/s]\n"
     ]
    }
   ],
   "source": [
    "import torch\n",
    "from torchvision import transforms\n",
    "from panaf.datasets import SupervisedPanAf\n",
    "from torchvision.transforms.v2 import (\n",
    "    ToTensor,\n",
    "    Resize,\n",
    "    ConvertDtype,\n",
    "    Normalize,\n",
    "    TrivialAugmentWide,\n",
    ")\n",
    "\n",
    "spatial_train_transform = transforms.Compose(\n",
    "    [\n",
    "        ToTensor(),\n",
    "        Resize((224, 224)),\n",
    "        TrivialAugmentWide(),\n",
    "        ConvertDtype(dtype=torch.float32),\n",
    "        Normalize(mean=[0.5017, 0.5159, 0.5168], std=[0.2814, 0.2778, 0.2635]),\n",
    "    ]\n",
    ")\n",
    "spatial_test_transform = transforms.Compose(\n",
    "    [\n",
    "        ToTensor(),\n",
    "        Resize((224, 224)),\n",
    "        ConvertDtype(dtype=torch.float32),\n",
    "        Normalize(mean=[0.5017, 0.5159, 0.5168], std=[0.2814, 0.2778, 0.2635]),\n",
    "    ]\n",
    ")\n",
    "temporal_transform = transforms.Compose(\n",
    "    [\n",
    "        transforms.ToTensor(),\n",
    "        transforms.Resize((224, 224)),\n",
    "        transforms.Normalize(mean=[0.5], std=[0.5]),\n",
    "    ]\n",
    ")\n",
    "\n",
    "data_dir = \"/home/dl18206/Desktop/phd/data/panaf/PanAf500/videos/raw/train\"\n",
    "ann_dir = (\n",
    "    \"/home/dl18206/Desktop/phd/data/panaf/PanAf500/annotations/standard/json/obfu/train\"\n",
    ")\n",
    "dense_dir = \"/home/dl18206/Desktop/phd/data/panaf/obfuscated/restructure/annotations/dense/train\"\n",
    "flow_dir = \"/home/dl18206/Desktop/phd/data/panaf/obfuscated/frames\"\n",
    "\n",
    "threshold_dict = {}\n",
    "train_thresholds = [16, 32, 64, 128]\n",
    "print(\"Initialising thresholds...\")\n",
    "\n",
    "for threshold in train_thresholds:\n",
    "    dataset = SupervisedPanAf(\n",
    "        data_dir=data_dir,\n",
    "        ann_dir=ann_dir,\n",
    "        dense_dir=dense_dir,\n",
    "        flow_dir=flow_dir,\n",
    "        sequence_len=16,\n",
    "        sample_itvl=1,\n",
    "        stride=16,\n",
    "        type=\"r\",\n",
    "        spatial_transform=spatial_train_transform,\n",
    "        temporal_transform=temporal_transform,\n",
    "        behaviour_threshold=threshold,\n",
    "    )\n",
    "\n",
    "    threshold_dict[f\"t{threshold}\"] = dict(\n",
    "        sorted(dataset.samples_by_class.items(), key=lambda item: item[1], reverse=True)\n",
    "    )\n",
    "\n",
    "sample_itvl_dict = {}\n",
    "sample_itvls = [1, 2, 3, 4]\n",
    "print(\"Initialising itvls...\")\n",
    "\n",
    "for itvl in sample_itvls:\n",
    "    dataset = SupervisedPanAf(\n",
    "        data_dir=data_dir,\n",
    "        ann_dir=ann_dir,\n",
    "        dense_dir=dense_dir,\n",
    "        flow_dir=flow_dir,\n",
    "        sequence_len=16,\n",
    "        sample_itvl=itvl,\n",
    "        stride=16 * itvl,\n",
    "        type=\"r\",\n",
    "        spatial_transform=spatial_train_transform,\n",
    "        temporal_transform=temporal_transform,\n",
    "        behaviour_threshold=16 * itvl,\n",
    "    )\n",
    "\n",
    "    sample_itvl_dict[f\"s{itvl}\"] = dict(\n",
    "        sorted(dataset.samples_by_class.items(), key=lambda item: item[1], reverse=True)\n",
    "    )"
   ]
  },
  {
   "cell_type": "code",
   "execution_count": 7,
   "id": "6d987318",
   "metadata": {},
   "outputs": [
    {
     "data": {
      "text/plain": [
       "<AxesSubplot:>"
      ]
     },
     "execution_count": 7,
     "metadata": {},
     "output_type": "execute_result"
    },
    {
     "data": {
      "image/png": "[encoded data removed]",
      "text/plain": [
       "<Figure size 1080x720 with 1 Axes>"
      ]
     },
     "metadata": {
      "needs_background": "light"
     },
     "output_type": "display_data"
    }
   ],
   "source": [
    "import pandas as pd\n",
    "\n",
    "pd.DataFrame(sample_itvl_dict).plot(\n",
    "    kind=\"bar\",\n",
    "    logy=True,\n",
    "    figsize=(15, 10),\n",
    "    width=0.8,\n",
    "    edgecolor=\"black\",\n",
    "    color=[\"springgreen\", \"aquamarine\", \"purple\", \"orange\"],\n",
    "    rot=-45,\n",
    "    fontsize=20,\n",
    ")\n",
    "\n",
    "# ax.figure.savefig(\"p500_small_medium_large.pdf\", dpi=300, bbox_inches=\"tight\")"
   ]
  },
  {
   "cell_type": "code",
   "execution_count": 13,
   "id": "2a317664",
   "metadata": {},
   "outputs": [
    {
     "data": {
      "image/png": "[encoded data removed]",
      "text/plain": [
       "<Figure size 1080x720 with 1 Axes>"
      ]
     },
     "metadata": {
      "needs_background": "light"
     },
     "output_type": "display_data"
    }
   ],
   "source": [
    "import pandas as pd\n",
    "\n",
    "ax = pd.DataFrame(threshold_dict).plot(\n",
    "    kind=\"bar\",\n",
    "    logy=True,\n",
    "    figsize=(15, 10),\n",
    "    width=0.8,\n",
    "    edgecolor=\"black\",\n",
    "    color=[\"springgreen\", \"aquamarine\", \"darkturquoise\", \"lightcyan\"],\n",
    "    rot=-45,\n",
    "    fontsize=20,\n",
    ")\n",
    "\n",
    "ax.figure.savefig(\"p500_thresh_dist.pdf\", dpi=300, bbox_inches=\"tight\")"
   ]
  },
  {
   "cell_type": "code",
   "execution_count": 28,
   "id": "f5cb35e0",
   "metadata": {},
   "outputs": [
    {
     "data": {
      "text/html": [
       "<div>\n",
       "<style scoped>\n",
       "    .dataframe tbody tr th:only-of-type {\n",
       "        vertical-align: middle;\n",
       "    }\n",
       "\n",
       "    .dataframe tbody tr th {\n",
       "        vertical-align: top;\n",
       "    }\n",
       "\n",
       "    .dataframe thead th {\n",
       "        text-align: right;\n",
       "    }\n",
       "</style>\n",
       "<table border=\"1\" class=\"dataframe\">\n",
       "  <thead>\n",
       "    <tr style=\"text-align: right;\">\n",
       "      <th></th>\n",
       "      <th>t16</th>\n",
       "      <th>t32</th>\n",
       "      <th>t64</th>\n",
       "      <th>t128</th>\n",
       "    </tr>\n",
       "  </thead>\n",
       "  <tbody>\n",
       "    <tr>\n",
       "      <th>sitting</th>\n",
       "      <td>3686</td>\n",
       "      <td>3677</td>\n",
       "      <td>3652</td>\n",
       "      <td>3496.0</td>\n",
       "    </tr>\n",
       "    <tr>\n",
       "      <th>walking</th>\n",
       "      <td>2639</td>\n",
       "      <td>2569</td>\n",
       "      <td>2262</td>\n",
       "      <td>1351.0</td>\n",
       "    </tr>\n",
       "    <tr>\n",
       "      <th>standing</th>\n",
       "      <td>1754</td>\n",
       "      <td>1724</td>\n",
       "      <td>1610</td>\n",
       "      <td>1345.0</td>\n",
       "    </tr>\n",
       "    <tr>\n",
       "      <th>hanging</th>\n",
       "      <td>434</td>\n",
       "      <td>430</td>\n",
       "      <td>420</td>\n",
       "      <td>391.0</td>\n",
       "    </tr>\n",
       "    <tr>\n",
       "      <th>climbing_up</th>\n",
       "      <td>188</td>\n",
       "      <td>173</td>\n",
       "      <td>130</td>\n",
       "      <td>47.0</td>\n",
       "    </tr>\n",
       "    <tr>\n",
       "      <th>sitting_on_back</th>\n",
       "      <td>115</td>\n",
       "      <td>114</td>\n",
       "      <td>103</td>\n",
       "      <td>82.0</td>\n",
       "    </tr>\n",
       "    <tr>\n",
       "      <th>running</th>\n",
       "      <td>88</td>\n",
       "      <td>82</td>\n",
       "      <td>60</td>\n",
       "      <td>27.0</td>\n",
       "    </tr>\n",
       "    <tr>\n",
       "      <th>camera_interaction</th>\n",
       "      <td>70</td>\n",
       "      <td>69</td>\n",
       "      <td>62</td>\n",
       "      <td>55.0</td>\n",
       "    </tr>\n",
       "    <tr>\n",
       "      <th>climbing_down</th>\n",
       "      <td>58</td>\n",
       "      <td>52</td>\n",
       "      <td>36</td>\n",
       "      <td>NaN</td>\n",
       "    </tr>\n",
       "  </tbody>\n",
       "</table>\n",
       "</div>"
      ],
      "text/plain": [
       "                     t16   t32   t64    t128\n",
       "sitting             3686  3677  3652  3496.0\n",
       "walking             2639  2569  2262  1351.0\n",
       "standing            1754  1724  1610  1345.0\n",
       "hanging              434   430   420   391.0\n",
       "climbing_up          188   173   130    47.0\n",
       "sitting_on_back      115   114   103    82.0\n",
       "running               88    82    60    27.0\n",
       "camera_interaction    70    69    62    55.0\n",
       "climbing_down         58    52    36     NaN"
      ]
     },
     "execution_count": 28,
     "metadata": {},
     "output_type": "execute_result"
    }
   ],
   "source": [
    "pd.DataFrame(threshold_dict)"
   ]
  },
  {
   "cell_type": "code",
   "execution_count": 29,
   "id": "4e8178c3",
   "metadata": {},
   "outputs": [
    {
     "data": {
      "text/plain": [
       "{'t16': {'sitting': 3686,\n",
       "  'walking': 2639,\n",
       "  'standing': 1754,\n",
       "  'hanging': 434,\n",
       "  'climbing_up': 188,\n",
       "  'sitting_on_back': 115,\n",
       "  'running': 88,\n",
       "  'camera_interaction': 70,\n",
       "  'climbing_down': 58},\n",
       " 't32': {'sitting': 3677,\n",
       "  'walking': 2569,\n",
       "  'standing': 1724,\n",
       "  'hanging': 430,\n",
       "  'climbing_up': 173,\n",
       "  'sitting_on_back': 114,\n",
       "  'running': 82,\n",
       "  'camera_interaction': 69,\n",
       "  'climbing_down': 52},\n",
       " 't64': {'sitting': 3652,\n",
       "  'walking': 2262,\n",
       "  'standing': 1610,\n",
       "  'hanging': 420,\n",
       "  'climbing_up': 130,\n",
       "  'sitting_on_back': 103,\n",
       "  'camera_interaction': 62,\n",
       "  'running': 60,\n",
       "  'climbing_down': 36},\n",
       " 't128': {'sitting': 3496,\n",
       "  'walking': 1351,\n",
       "  'standing': 1345,\n",
       "  'hanging': 391,\n",
       "  'sitting_on_back': 82,\n",
       "  'camera_interaction': 55,\n",
       "  'climbing_up': 47,\n",
       "  'running': 27}}"
      ]
     },
     "execution_count": 29,
     "metadata": {},
     "output_type": "execute_result"
    }
   ],
   "source": [
    "threshold_dict"
   ]
  },
  {
   "attachments": {},
   "cell_type": "markdown",
   "id": "11b988f9",
   "metadata": {},
   "source": [
    "**Number of apes per video**"
   ]
  },
  {
   "cell_type": "code",
   "execution_count": null,
   "id": "39883cc1",
   "metadata": {},
   "outputs": [],
   "source": [
    "videos, apes_per_video = [], []\n",
    "for video in df.video.unique():\n",
    "    apes_per_video.append(len(df[df.video == video].ape_id.unique()))\n",
    "    videos.append(video)\n",
    "num_apes_per_video = pd.DataFrame({\"video\": videos, \"apes_per_video\": apes_per_video})"
   ]
  },
  {
   "cell_type": "code",
   "execution_count": null,
   "id": "7714ead2",
   "metadata": {},
   "outputs": [],
   "source": [
    "print(\"Mean apes per video: \", num_apes_per_video.apes_per_video.mean())\n",
    "print(\"Mode apes per video: \", num_apes_per_video.apes_per_video.mode()[0])\n",
    "\n",
    "print(\"\\nMaximum number of apes per video: \", num_apes_per_video.apes_per_video.max())\n",
    "print(\"Min number of apes per video: \", num_apes_per_video.apes_per_video.min())"
   ]
  },
  {
   "cell_type": "code",
   "execution_count": null,
   "id": "086c0ef6-64ff-4f4d-8843-bd3152b6583a",
   "metadata": {},
   "outputs": [],
   "source": [
    "# Videos with too high behaviour counts; Rx8tC9AIfs, atQUtTKhMJ, pbMMPocj0m"
   ]
  },
  {
   "attachments": {},
   "cell_type": "markdown",
   "id": "809b9a86",
   "metadata": {},
   "source": [
    "**Find annotation errors: duplicate ape_ids**"
   ]
  },
  {
   "cell_type": "code",
   "execution_count": null,
   "id": "73df300c-5036-4db6-b7cb-4e4a8773c997",
   "metadata": {},
   "outputs": [],
   "source": [
    "for file in file_paths:\n",
    "    f = open_json(file)\n",
    "    ape_ids = get_ape_ids(f)\n",
    "    current_df = get_flat_df(f)\n",
    "    for ape in current_df.ape_id.unique():\n",
    "        frame_list = current_df[current_df.ape_id == ape].frame_idx.values.tolist()\n",
    "        frames = list(set([x for x in frame_list if frame_list.count(x) > 1]))\n",
    "        if frames:\n",
    "            print(file, ape, frames)"
   ]
  },
  {
   "cell_type": "code",
   "execution_count": null,
   "id": "42974043",
   "metadata": {},
   "outputs": [],
   "source": []
  },
  {
   "cell_type": "code",
   "execution_count": null,
   "id": "33f59636",
   "metadata": {},
   "outputs": [],
   "source": []
  },
  {
   "cell_type": "code",
   "execution_count": null,
   "id": "33bbb0fd",
   "metadata": {},
   "outputs": [],
   "source": []
  },
  {
   "cell_type": "code",
   "execution_count": null,
   "id": "468c28d7",
   "metadata": {},
   "outputs": [],
   "source": []
  },
  {
   "cell_type": "code",
   "execution_count": null,
   "id": "78bc22f6",
   "metadata": {},
   "outputs": [],
   "source": []
  }
 ],
 "metadata": {
  "kernelspec": {
   "display_name": "Python 3",
   "language": "python",
   "name": "python3"
  },
  "language_info": {
   "codemirror_mode": {
    "name": "ipython",
    "version": 3
   },
   "file_extension": ".py",
   "mimetype": "text/x-python",
   "name": "python",
   "nbconvert_exporter": "python",
   "pygments_lexer": "ipython3",
   "version": "3.8.13"
  }
 },
 "nbformat": 4,
 "nbformat_minor": 5
}
