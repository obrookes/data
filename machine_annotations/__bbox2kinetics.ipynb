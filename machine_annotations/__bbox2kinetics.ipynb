{
 "cells": [
  {
   "cell_type": "code",
   "execution_count": 1,
   "id": "f67fee3b-67dc-41bf-819e-7c14bea6e0da",
   "metadata": {},
   "outputs": [
    {
     "name": "stderr",
     "output_type": "stream",
     "text": [
      "/home/dl18206/anaconda3/envs/dataset-upgrade/lib/python3.8/site-packages/torchvision/io/image.py:13: UserWarning: Failed to load image Python extension: libc10_cuda.so: cannot open shared object file: No such file or directory\n",
      "  warn(f\"Failed to load image Python extension: {e}\")\n"
     ]
    }
   ],
   "source": [
    "import mmcv\n",
    "import torch\n",
    "import torchvision\n",
    "from tqdm import tqdm\n",
    "from glob import glob\n",
    "from einops import rearrange\n",
    "import pandas as pd\n",
    "from torch.utils.data import DataLoader\n",
    "from torchvision.utils import make_grid\n",
    "import torchvision.transforms as transforms\n",
    "from panaf.datasets import SSLKineticsProcessing"
   ]
  },
  {
   "cell_type": "code",
   "execution_count": 2,
   "id": "f83c47ad-31e8-4d74-83a9-02f92e6fd11c",
   "metadata": {},
   "outputs": [],
   "source": [
    "def tensor2video(x, video_name, ape_id, frame_idx, outpath):\n",
    "    \n",
    "    outfile = f\"{video_name}_f{frame_idx}_ape_{ape_id}.mp4\"\n",
    "    \n",
    "    # Input tensor shape: BxTxCxWxH\n",
    "    x = x.permute(0, 2, 1, 3, 4)[0].detach().cpu()\n",
    "    min_val = x.min()\n",
    "    max_val = x.max()\n",
    "    x = ((x - min_val) * 255/(max_val-min_val)).to(torch.uint8)\n",
    "    x = torch.permute(x, (1, 2, 3, 0))\n",
    "    \n",
    "    # Write tensor to video\n",
    "    torchvision.io.write_video(filename=f\"{outpath}/{outfile}\", video_array=x, fps=24)"
   ]
  },
  {
   "cell_type": "code",
   "execution_count": 3,
   "id": "ed344183-4c22-4986-b655-76c133b3044c",
   "metadata": {},
   "outputs": [
    {
     "name": "stderr",
     "output_type": "stream",
     "text": [
      "0it [00:00, ?it/s]\n"
     ]
    }
   ],
   "source": [
    "# Define basic transforms with short side scaling\n",
    "transform = transforms.Compose(\n",
    "    [\n",
    "        transforms.ToTensor(),\n",
    "        transforms.Resize((256, 320)) # 256, 320\n",
    "    ]\n",
    ")\n",
    "\n",
    "# Full paths to train and test data + annoations\n",
    "data = \"videos/original/drc/rt\"\n",
    "ann = \"detections/scaled/convnext_cascade_rcnn/drc/rt\"\n",
    "\n",
    "train_dataset = SSLKineticsProcessing(\n",
    "    data_dir=data,\n",
    "    ann_dir=ann,\n",
    "    sequence_len=96,\n",
    "    sample_itvl=1,\n",
    "    stride=96,\n",
    "    spatial_transform=transform,\n",
    "    temporal_transform=transform,\n",
    "    behaviour_threshold=96,\n",
    "    type='r'\n",
    ")"
   ]
  },
  {
   "cell_type": "code",
   "execution_count": 46,
   "id": "6961de0e-6556-4129-b32d-134c8d063a78",
   "metadata": {},
   "outputs": [],
   "source": [
    "loader = DataLoader(train_dataset, shuffle=False, batch_size=1)"
   ]
  },
  {
   "cell_type": "code",
   "execution_count": 47,
   "id": "a04390af-e4b5-4c56-8825-fee07e838e52",
   "metadata": {},
   "outputs": [],
   "source": [
    "x, name, ape_id, frame_idx = next(iter(loader))\n",
    "grid = make_grid(rearrange(x, 'b t c h w -> (b t) c h w'), nrow=16)\n",
    "img = torchvision.transforms.ToPILImage()(grid)\n",
    "img.show()"
   ]
  },
  {
   "cell_type": "code",
   "execution_count": 48,
   "id": "837afd2d-5eac-4509-9671-3d742120f9e7",
   "metadata": {},
   "outputs": [
    {
     "name": "stderr",
     "output_type": "stream",
     "text": [
      "100%|██████████| 797/797 [1:08:44<00:00,  5.17s/it]\n"
     ]
    }
   ],
   "source": [
    "# Generate cropped train videos\n",
    "for x, video_name, ape_id, frame_idx in tqdm(loader):\n",
    "    tensor2video(x, next(iter(video_name)), ape_id.item(), frame_idx.item(), outpath='videos/cropped/drc/rt')"
   ]
  },
  {
   "cell_type": "markdown",
   "id": "19c11bf7-173a-4fb9-b492-04b0e37dc955",
   "metadata": {},
   "source": [
    "**Generate Kinetics-like csv annotation file**"
   ]
  },
  {
   "cell_type": "code",
   "execution_count": 36,
   "id": "f7536885-cf60-4b6c-96ad-f36192bdc679",
   "metadata": {},
   "outputs": [],
   "source": [
    "def generate_kinetics_annotation_file(path_to_videos, outfile):\n",
    "    videos = glob(f'{path_to_videos}/**/*.mp4', recursive=True)\n",
    "    df = pd.DataFrame(videos, columns=['videos'])\n",
    "    df['label_index'] = 9 # Dummy label for SS training\n",
    "    df.to_csv(outfile, sep=' ', header=None, index=False)"
   ]
  },
  {
   "cell_type": "code",
   "execution_count": 34,
   "id": "30beac63-190c-4466-9d89-904a54a93baf",
   "metadata": {},
   "outputs": [],
   "source": [
    "df = generate_kinetics_annotation_file(path_to_videos='videos/cropped/', outfile='test.csv')"
   ]
  },
  {
   "cell_type": "code",
   "execution_count": 38,
   "id": "409955ca-9cfe-40b3-bc4f-dd2cbf54f050",
   "metadata": {},
   "outputs": [],
   "source": [
    "videos = glob(f'videos/cropped/**/*.mp4', recursive=True)\n",
    "df = pd.DataFrame(videos, columns=['videos'])\n",
    "df['label_index'] = 9 # Dummy label for SS training"
   ]
  },
  {
   "cell_type": "code",
   "execution_count": 45,
   "id": "4e7f3a28-683b-4dcf-bcb1-59529cfe5356",
   "metadata": {},
   "outputs": [],
   "source": [
    "index = round(len(df) * 0.2)"
   ]
  },
  {
   "cell_type": "code",
   "execution_count": 46,
   "id": "f842f89f-8204-4055-ba15-fecdb1a6effc",
   "metadata": {},
   "outputs": [
    {
     "data": {
      "text/html": [
       "<div>\n",
       "<style scoped>\n",
       "    .dataframe tbody tr th:only-of-type {\n",
       "        vertical-align: middle;\n",
       "    }\n",
       "\n",
       "    .dataframe tbody tr th {\n",
       "        vertical-align: top;\n",
       "    }\n",
       "\n",
       "    .dataframe thead th {\n",
       "        text-align: right;\n",
       "    }\n",
       "</style>\n",
       "<table border=\"1\" class=\"dataframe\">\n",
       "  <thead>\n",
       "    <tr style=\"text-align: right;\">\n",
       "      <th></th>\n",
       "      <th>videos</th>\n",
       "      <th>label_index</th>\n",
       "    </tr>\n",
       "  </thead>\n",
       "  <tbody>\n",
       "    <tr>\n",
       "      <th>8057</th>\n",
       "      <td>videos/cropped/guineabissau/boe/boe_vid23_0618...</td>\n",
       "      <td>9</td>\n",
       "    </tr>\n",
       "    <tr>\n",
       "      <th>2214</th>\n",
       "      <td>videos/cropped/sierraleone/oknp/OKNP_vid3_0811...</td>\n",
       "      <td>9</td>\n",
       "    </tr>\n",
       "    <tr>\n",
       "      <th>2604</th>\n",
       "      <td>videos/cropped/rwanda/nnp/NNP_Vid21_0745465_97...</td>\n",
       "      <td>9</td>\n",
       "    </tr>\n",
       "    <tr>\n",
       "      <th>6806</th>\n",
       "      <td>videos/cropped/guineabissau/boe/boe_vid26_0620...</td>\n",
       "      <td>9</td>\n",
       "    </tr>\n",
       "    <tr>\n",
       "      <th>8008</th>\n",
       "      <td>videos/cropped/guineabissau/boe/boe_vid22_0622...</td>\n",
       "      <td>9</td>\n",
       "    </tr>\n",
       "    <tr>\n",
       "      <th>...</th>\n",
       "      <td>...</td>\n",
       "      <td>...</td>\n",
       "    </tr>\n",
       "    <tr>\n",
       "      <th>470</th>\n",
       "      <td>videos/cropped/drc/bili/bili_vid04_242372_4794...</td>\n",
       "      <td>9</td>\n",
       "    </tr>\n",
       "    <tr>\n",
       "      <th>9202</th>\n",
       "      <td>videos/cropped/guineabissau/boe/boe_vid31_0617...</td>\n",
       "      <td>9</td>\n",
       "    </tr>\n",
       "    <tr>\n",
       "      <th>3411</th>\n",
       "      <td>videos/cropped/rwanda/nnp/NNP_Vid21_0745465_97...</td>\n",
       "      <td>9</td>\n",
       "    </tr>\n",
       "    <tr>\n",
       "      <th>2833</th>\n",
       "      <td>videos/cropped/rwanda/nnp/NNP_Vid23_0747217_97...</td>\n",
       "      <td>9</td>\n",
       "    </tr>\n",
       "    <tr>\n",
       "      <th>9754</th>\n",
       "      <td>videos/cropped/guineabissau/boe/boe_vid31_0617...</td>\n",
       "      <td>9</td>\n",
       "    </tr>\n",
       "  </tbody>\n",
       "</table>\n",
       "<p>2332 rows × 2 columns</p>\n",
       "</div>"
      ],
      "text/plain": [
       "                                                 videos  label_index\n",
       "8057  videos/cropped/guineabissau/boe/boe_vid23_0618...            9\n",
       "2214  videos/cropped/sierraleone/oknp/OKNP_vid3_0811...            9\n",
       "2604  videos/cropped/rwanda/nnp/NNP_Vid21_0745465_97...            9\n",
       "6806  videos/cropped/guineabissau/boe/boe_vid26_0620...            9\n",
       "8008  videos/cropped/guineabissau/boe/boe_vid22_0622...            9\n",
       "...                                                 ...          ...\n",
       "470   videos/cropped/drc/bili/bili_vid04_242372_4794...            9\n",
       "9202  videos/cropped/guineabissau/boe/boe_vid31_0617...            9\n",
       "3411  videos/cropped/rwanda/nnp/NNP_Vid21_0745465_97...            9\n",
       "2833  videos/cropped/rwanda/nnp/NNP_Vid23_0747217_97...            9\n",
       "9754  videos/cropped/guineabissau/boe/boe_vid31_0617...            9\n",
       "\n",
       "[2332 rows x 2 columns]"
      ]
     },
     "execution_count": 46,
     "metadata": {},
     "output_type": "execute_result"
    }
   ],
   "source": [
    "df.sample(index)"
   ]
  },
  {
   "cell_type": "markdown",
   "id": "fc62bca8-deb3-44c0-8607-12b00a5e6e0e",
   "metadata": {},
   "source": [
    "**Get complete video list**"
   ]
  },
  {
   "cell_type": "code",
   "execution_count": 17,
   "id": "e1c637c7-0e13-4651-952c-7b169a57da74",
   "metadata": {},
   "outputs": [],
   "source": [
    "df = pd.read_csv('chimp_videos.csv', index_col=False)\n",
    "df.drop(columns=['Unnamed: 0'], inplace=True)"
   ]
  },
  {
   "cell_type": "code",
   "execution_count": 54,
   "id": "25ca1c44-51aa-4eb5-b0ec-ff557383f1ff",
   "metadata": {},
   "outputs": [],
   "source": [
    "lower_case = [shutil.move(x, x.lower()) for x in glob(\"detections/scaled/**/*.json\", recursive=True)]"
   ]
  },
  {
   "cell_type": "markdown",
   "id": "8febd35f-54f1-42c5-a75a-f5779eba860e",
   "metadata": {},
   "source": [
    "**Dindefolo - categorise videos by behavioral context**"
   ]
  },
  {
   "cell_type": "code",
   "execution_count": 40,
   "id": "5aaee016-398c-48fd-8730-e9b9ed015782",
   "metadata": {},
   "outputs": [],
   "source": [
    "import os\n",
    "import shutil"
   ]
  },
  {
   "cell_type": "code",
   "execution_count": 45,
   "id": "eb62a771-a699-4400-a8f6-d4a28bcf5f77",
   "metadata": {},
   "outputs": [],
   "source": [
    "din = pd.read_csv('../maureen_annotations/dindefelo.csv')\n",
    "videos = [x.split('/')[-1].split('.')[0] for x in glob(\"videos/original/din/**/*.mp4\", recursive=True)]"
   ]
  },
  {
   "cell_type": "code",
   "execution_count": 51,
   "id": "047148d2-8c69-4988-9667-c70170a320e1",
   "metadata": {},
   "outputs": [],
   "source": [
    "for path, category in list(zip(din.subdir_video, din.behavioral_context))[:-5]:\n",
    "    if not os.path.isdir(f\"categorised/{category}\"):\n",
    "        os.mkdir(f\"categorised/{category}\")\n",
    "        shutil.move(f\"videos/original/din/{path}.mp4\", f\"categorised/{category}/{path}.mp4\")\n",
    "    else:\n",
    "        shutil.move(f\"videos/original/din/{path}.mp4\", f\"categorised/{category}/{path}.mp4\")"
   ]
  },
  {
   "cell_type": "code",
   "execution_count": 52,
   "id": "5c4b706c-edce-401c-b951-3a8a9112d6ee",
   "metadata": {},
   "outputs": [],
   "source": [
    "moved_videos = [x.split('/')[-1].split('.')[0] for x in glob(\"videos/categorised/**/*.mp4\", recursive=True)]"
   ]
  },
  {
   "cell_type": "markdown",
   "id": "d890ce9a-47f1-492e-96e3-14e0cc3b183c",
   "metadata": {},
   "source": [
    "**Manual Kinetics-style video annotation**"
   ]
  },
  {
   "cell_type": "code",
   "execution_count": 148,
   "id": "39a787ec-3627-46c1-9e66-06f5308e7710",
   "metadata": {},
   "outputs": [],
   "source": [
    "import pandas as pd\n",
    "from glob import glob"
   ]
  },
  {
   "cell_type": "code",
   "execution_count": 25,
   "id": "683e0c4b-fc73-4e2d-ac59-86131b7f1f87",
   "metadata": {},
   "outputs": [],
   "source": [
    "country_site = 'uganda/bwi'\n",
    "videos = [x.split('/')[-1].lower() for x in glob(f\"videos/cropped/{country_site}/**/*.mp4\", recursive=True)]\n",
    "df = pd.DataFrame(videos, columns=['videos']).sort_values('videos')\n",
    "# Export \n",
    "# df.to_csv('uganda_bwi.csv', index=False)"
   ]
  },
  {
   "cell_type": "markdown",
   "id": "904c52d0-bb7a-47da-8c96-37f6505da4e0",
   "metadata": {},
   "source": [
    "**Convert .xlsx file to Kinetics-style annotation file**"
   ]
  },
  {
   "cell_type": "code",
   "execution_count": 7,
   "id": "f9478dc5-dd45-4b03-82b2-cb5043ae59c4",
   "metadata": {},
   "outputs": [],
   "source": [
    "# Load annotated cropped videos from xlsx file\n",
    "prefix = '/jmain02/home/J2AD001/wwp02/oxb63-wwp02/data/chimp_cropped_videos'\n",
    "\n",
    "df = pd.read_excel(\n",
    "    'ssl_annotation.xlsx', \n",
    "    sheet_name=None,\n",
    ")\n",
    "df = pd.concat(df.values(), ignore_index=True)\n",
    "\n",
    "# Need to check for whitespace etc.\n",
    "df.unclear = df.unclear.apply(lambda x: True if x=='y' else False)\n",
    "df.ape = df.ape.apply(lambda x: False if x=='n' else True)\n",
    "df = df[(df.ape)&(df.unclear==False)]\n",
    "\n",
    "df['path'] = prefix + '/' + df['country'].str.lower() + '/' + df['site'].str.lower() + '/' + df['videos'].str.lower()"
   ]
  },
  {
   "cell_type": "code",
   "execution_count": 8,
   "id": "e9c4054a-d970-42cb-bcf8-2144fa17f21f",
   "metadata": {},
   "outputs": [
    {
     "data": {
      "text/html": [
       "<div>\n",
       "<style scoped>\n",
       "    .dataframe tbody tr th:only-of-type {\n",
       "        vertical-align: middle;\n",
       "    }\n",
       "\n",
       "    .dataframe tbody tr th {\n",
       "        vertical-align: top;\n",
       "    }\n",
       "\n",
       "    .dataframe thead th {\n",
       "        text-align: right;\n",
       "    }\n",
       "</style>\n",
       "<table border=\"1\" class=\"dataframe\">\n",
       "  <thead>\n",
       "    <tr style=\"text-align: right;\">\n",
       "      <th></th>\n",
       "      <th>videos</th>\n",
       "      <th>ape</th>\n",
       "      <th>unclear</th>\n",
       "      <th>start-end</th>\n",
       "      <th>country</th>\n",
       "      <th>site</th>\n",
       "      <th>path</th>\n",
       "    </tr>\n",
       "  </thead>\n",
       "  <tbody>\n",
       "    <tr>\n",
       "      <th>0</th>\n",
       "      <td>bili_vid01_240967_477386_20121208_PICT0003_f19...</td>\n",
       "      <td>True</td>\n",
       "      <td>False</td>\n",
       "      <td>NaN</td>\n",
       "      <td>drc</td>\n",
       "      <td>bili</td>\n",
       "      <td>/jmain02/home/J2AD001/wwp02/oxb63-wwp02/data/c...</td>\n",
       "    </tr>\n",
       "    <tr>\n",
       "      <th>1</th>\n",
       "      <td>bili_vid01_240967_477386_20121208_PICT0003_f1_...</td>\n",
       "      <td>True</td>\n",
       "      <td>False</td>\n",
       "      <td>NaN</td>\n",
       "      <td>drc</td>\n",
       "      <td>bili</td>\n",
       "      <td>/jmain02/home/J2AD001/wwp02/oxb63-wwp02/data/c...</td>\n",
       "    </tr>\n",
       "    <tr>\n",
       "      <th>2</th>\n",
       "      <td>bili_vid01_240967_477386_20121208_PICT0003_f97...</td>\n",
       "      <td>True</td>\n",
       "      <td>False</td>\n",
       "      <td>NaN</td>\n",
       "      <td>drc</td>\n",
       "      <td>bili</td>\n",
       "      <td>/jmain02/home/J2AD001/wwp02/oxb63-wwp02/data/c...</td>\n",
       "    </tr>\n",
       "    <tr>\n",
       "      <th>3</th>\n",
       "      <td>bili_vid01_240967_477386_20121208_PICT0009_f10...</td>\n",
       "      <td>True</td>\n",
       "      <td>False</td>\n",
       "      <td>NaN</td>\n",
       "      <td>drc</td>\n",
       "      <td>bili</td>\n",
       "      <td>/jmain02/home/J2AD001/wwp02/oxb63-wwp02/data/c...</td>\n",
       "    </tr>\n",
       "    <tr>\n",
       "      <th>4</th>\n",
       "      <td>bili_vid01_240967_477386_20121208_PICT0009_f11...</td>\n",
       "      <td>True</td>\n",
       "      <td>False</td>\n",
       "      <td>NaN</td>\n",
       "      <td>drc</td>\n",
       "      <td>bili</td>\n",
       "      <td>/jmain02/home/J2AD001/wwp02/oxb63-wwp02/data/c...</td>\n",
       "    </tr>\n",
       "    <tr>\n",
       "      <th>...</th>\n",
       "      <td>...</td>\n",
       "      <td>...</td>\n",
       "      <td>...</td>\n",
       "      <td>...</td>\n",
       "      <td>...</td>\n",
       "      <td>...</td>\n",
       "      <td>...</td>\n",
       "    </tr>\n",
       "    <tr>\n",
       "      <th>7747</th>\n",
       "      <td>bwi_vid8_807741_9884282_20130222_pict0310_f497...</td>\n",
       "      <td>True</td>\n",
       "      <td>False</td>\n",
       "      <td>NaN</td>\n",
       "      <td>uganda</td>\n",
       "      <td>bwi</td>\n",
       "      <td>/jmain02/home/J2AD001/wwp02/oxb63-wwp02/data/c...</td>\n",
       "    </tr>\n",
       "    <tr>\n",
       "      <th>7748</th>\n",
       "      <td>bwi_vid8_807741_9884282_20130222_pict0310_f593...</td>\n",
       "      <td>True</td>\n",
       "      <td>False</td>\n",
       "      <td>NaN</td>\n",
       "      <td>uganda</td>\n",
       "      <td>bwi</td>\n",
       "      <td>/jmain02/home/J2AD001/wwp02/oxb63-wwp02/data/c...</td>\n",
       "    </tr>\n",
       "    <tr>\n",
       "      <th>7749</th>\n",
       "      <td>bwi_vid8_807741_9884282_20130222_pict0310_f740...</td>\n",
       "      <td>True</td>\n",
       "      <td>False</td>\n",
       "      <td>NaN</td>\n",
       "      <td>uganda</td>\n",
       "      <td>bwi</td>\n",
       "      <td>/jmain02/home/J2AD001/wwp02/oxb63-wwp02/data/c...</td>\n",
       "    </tr>\n",
       "    <tr>\n",
       "      <th>7750</th>\n",
       "      <td>bwi_vid8_807741_9884282_20130222_pict0310_f97_...</td>\n",
       "      <td>True</td>\n",
       "      <td>False</td>\n",
       "      <td>NaN</td>\n",
       "      <td>uganda</td>\n",
       "      <td>bwi</td>\n",
       "      <td>/jmain02/home/J2AD001/wwp02/oxb63-wwp02/data/c...</td>\n",
       "    </tr>\n",
       "    <tr>\n",
       "      <th>7751</th>\n",
       "      <td>bwi_vid9_810316_9882974_20120905_pict0064_f115...</td>\n",
       "      <td>True</td>\n",
       "      <td>False</td>\n",
       "      <td>NaN</td>\n",
       "      <td>uganda</td>\n",
       "      <td>bwi</td>\n",
       "      <td>/jmain02/home/J2AD001/wwp02/oxb63-wwp02/data/c...</td>\n",
       "    </tr>\n",
       "  </tbody>\n",
       "</table>\n",
       "<p>6640 rows × 7 columns</p>\n",
       "</div>"
      ],
      "text/plain": [
       "                                                 videos   ape  unclear  \\\n",
       "0     bili_vid01_240967_477386_20121208_PICT0003_f19...  True    False   \n",
       "1     bili_vid01_240967_477386_20121208_PICT0003_f1_...  True    False   \n",
       "2     bili_vid01_240967_477386_20121208_PICT0003_f97...  True    False   \n",
       "3     bili_vid01_240967_477386_20121208_PICT0009_f10...  True    False   \n",
       "4     bili_vid01_240967_477386_20121208_PICT0009_f11...  True    False   \n",
       "...                                                 ...   ...      ...   \n",
       "7747  bwi_vid8_807741_9884282_20130222_pict0310_f497...  True    False   \n",
       "7748  bwi_vid8_807741_9884282_20130222_pict0310_f593...  True    False   \n",
       "7749  bwi_vid8_807741_9884282_20130222_pict0310_f740...  True    False   \n",
       "7750  bwi_vid8_807741_9884282_20130222_pict0310_f97_...  True    False   \n",
       "7751  bwi_vid9_810316_9882974_20120905_pict0064_f115...  True    False   \n",
       "\n",
       "     start-end country  site  \\\n",
       "0          NaN     drc  bili   \n",
       "1          NaN     drc  bili   \n",
       "2          NaN     drc  bili   \n",
       "3          NaN     drc  bili   \n",
       "4          NaN     drc  bili   \n",
       "...        ...     ...   ...   \n",
       "7747       NaN  uganda   bwi   \n",
       "7748       NaN  uganda   bwi   \n",
       "7749       NaN  uganda   bwi   \n",
       "7750       NaN  uganda   bwi   \n",
       "7751       NaN  uganda   bwi   \n",
       "\n",
       "                                                   path  \n",
       "0     /jmain02/home/J2AD001/wwp02/oxb63-wwp02/data/c...  \n",
       "1     /jmain02/home/J2AD001/wwp02/oxb63-wwp02/data/c...  \n",
       "2     /jmain02/home/J2AD001/wwp02/oxb63-wwp02/data/c...  \n",
       "3     /jmain02/home/J2AD001/wwp02/oxb63-wwp02/data/c...  \n",
       "4     /jmain02/home/J2AD001/wwp02/oxb63-wwp02/data/c...  \n",
       "...                                                 ...  \n",
       "7747  /jmain02/home/J2AD001/wwp02/oxb63-wwp02/data/c...  \n",
       "7748  /jmain02/home/J2AD001/wwp02/oxb63-wwp02/data/c...  \n",
       "7749  /jmain02/home/J2AD001/wwp02/oxb63-wwp02/data/c...  \n",
       "7750  /jmain02/home/J2AD001/wwp02/oxb63-wwp02/data/c...  \n",
       "7751  /jmain02/home/J2AD001/wwp02/oxb63-wwp02/data/c...  \n",
       "\n",
       "[6640 rows x 7 columns]"
      ]
     },
     "execution_count": 8,
     "metadata": {},
     "output_type": "execute_result"
    }
   ],
   "source": [
    "# Preview dataframe\n",
    "df"
   ]
  },
  {
   "cell_type": "code",
   "execution_count": 9,
   "id": "63cad13b-53c7-4096-bc60-55237feda3ad",
   "metadata": {},
   "outputs": [],
   "source": [
    "# Get full paths to new data\n",
    "filenames = list(df.path.values)"
   ]
  },
  {
   "cell_type": "code",
   "execution_count": 19,
   "id": "7647be0e-1232-4858-9211-97001ad42ca5",
   "metadata": {},
   "outputs": [],
   "source": [
    "# Get full path to PanAf500 training data\n",
    "train = pd.read_csv('original_train.csv', sep=' ', header=None)\n",
    "original_filenames = list(train[0].values)\n",
    "# len(filenames), len(original_filenames)"
   ]
  },
  {
   "cell_type": "code",
   "execution_count": 21,
   "id": "95f0c488-5408-44af-b5a3-6a7579e781d2",
   "metadata": {},
   "outputs": [],
   "source": [
    "# Combine paths and assign dummy values\n",
    "x = filenames + original_filenames\n",
    "new_df = pd.DataFrame(x)\n",
    "new_df['label'] = 9"
   ]
  },
  {
   "cell_type": "code",
   "execution_count": 24,
   "id": "75cd6ce2-7f07-45aa-a1bf-778698109fe5",
   "metadata": {},
   "outputs": [],
   "source": [
    "# Write to new annotation file\n",
    "new_df.to_csv('drc-rt-bud-bwi_train.csv', sep=' ', header=False, index=False)"
   ]
  }
 ],
 "metadata": {
  "kernelspec": {
   "display_name": "Python 3",
   "language": "python",
   "name": "python3"
  },
  "language_info": {
   "codemirror_mode": {
    "name": "ipython",
    "version": 3
   },
   "file_extension": ".py",
   "mimetype": "text/x-python",
   "name": "python",
   "nbconvert_exporter": "python",
   "pygments_lexer": "ipython3",
   "version": "3.8.13"
  }
 },
 "nbformat": 4,
 "nbformat_minor": 5
}
