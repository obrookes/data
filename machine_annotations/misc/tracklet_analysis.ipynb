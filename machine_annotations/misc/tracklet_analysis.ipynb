{
 "cells": [
  {
   "cell_type": "code",
   "execution_count": 42,
   "id": "4ef3034a-ef91-4583-9ebc-c7c772d82c15",
   "metadata": {},
   "outputs": [],
   "source": [
    "import json\n",
    "import pandas as pd\n",
    "from glob import glob\n",
    "from tqdm import tqdm"
   ]
  },
  {
   "cell_type": "code",
   "execution_count": 35,
   "id": "1f16f470-6f62-4d6d-85fa-20b6abb87f38",
   "metadata": {},
   "outputs": [],
   "source": [
    "annotations = glob('tracked_detections/vfnet_annotations/vfnet_all/**/*.json', recursive=True)"
   ]
  },
  {
   "cell_type": "code",
   "execution_count": 40,
   "id": "672dea9a-9c78-49e6-be42-f5b8a87b918f",
   "metadata": {},
   "outputs": [],
   "source": [
    "def open_annotation(filename):\n",
    "    with open(filename, 'rb') as handle:\n",
    "        annotation = json.load(handle)\n",
    "    return annotation\n",
    "\n",
    "def get_ape_ids(annotation):\n",
    "    apes = []\n",
    "    for frame in annotation:\n",
    "        for d in frame['detections']:\n",
    "            if(d['ape_id'] not in apes):\n",
    "                apes.append(d['ape_id'])\n",
    "    return apes\n",
    "\n",
    "def measure_tracklets(ids, annotation):\n",
    "    lengths = []\n",
    "    for ape in ids:\n",
    "        count=0\n",
    "        for frame in annotation:\n",
    "            is_ape = False\n",
    "            for d in frame['detections']:\n",
    "                if ape == d['ape_id']:\n",
    "                    is_ape = True\n",
    "            if(is_ape==True):\n",
    "                count+=1\n",
    "            else:\n",
    "                continue\n",
    "        lengths.append(count)\n",
    "    return lengths\n",
    "\n",
    "def get_all_tracklet_lens(annotations):\n",
    "    lens = []\n",
    "    for a in tqdm(annotations):\n",
    "        annotation = open_annotation(a)\n",
    "        annotation = annotation['annotations']\n",
    "        ids = get_ape_ids(annotation)\n",
    "        lengths = measure_tracklets(ids, annotation)\n",
    "        lens.extend(lengths)\n",
    "    return lens"
   ]
  },
  {
   "cell_type": "code",
   "execution_count": 41,
   "id": "168e1afe-8362-4fe8-892c-57d840f84c88",
   "metadata": {},
   "outputs": [
    {
     "name": "stderr",
     "output_type": "stream",
     "text": [
      "100%|██████████| 19967/19967 [00:23<00:00, 850.78it/s] \n"
     ]
    }
   ],
   "source": [
    "lens = get_all_tracklet_lens(annotations)"
   ]
  },
  {
   "cell_type": "code",
   "execution_count": 67,
   "id": "00fcc21c-58c4-457b-963b-043a55105986",
   "metadata": {},
   "outputs": [
    {
     "data": {
      "text/plain": [
       "<AxesSubplot:ylabel='Density'>"
      ]
     },
     "execution_count": 67,
     "metadata": {},
     "output_type": "execute_result"
    },
    {
     "data": {
      "image/png": "[encoded data removed]",
      "text/plain": [
       "<Figure size 432x288 with 1 Axes>"
      ]
     },
     "metadata": {
      "needs_background": "light"
     },
     "output_type": "display_data"
    },
    {
     "data": {
      "image/png": "[encoded data removed]",
      "text/plain": [
       "<Figure size 432x288 with 1 Axes>"
      ]
     },
     "metadata": {
      "needs_background": "light"
     },
     "output_type": "display_data"
    }
   ],
   "source": [
    "df = pd.DataFrame(lens)\n",
    "df.plot.hist(bins=10, alpha=0.5)\n",
    "df.plot.kde()\n",
    "# print(f\"Mean: {df[0].mean()}\\nStd: {df[0].std()}\\nMed: {df[0].median()}\")"
   ]
  },
  {
   "cell_type": "code",
   "execution_count": null,
   "id": "70d3a7be-7426-4149-8f86-705d29f25f72",
   "metadata": {},
   "outputs": [],
   "source": []
  }
 ],
 "metadata": {
  "kernelspec": {
   "display_name": "Python 3",
   "language": "python",
   "name": "python3"
  },
  "language_info": {
   "codemirror_mode": {
    "name": "ipython",
    "version": 3
   },
   "file_extension": ".py",
   "mimetype": "text/x-python",
   "name": "python",
   "nbconvert_exporter": "python",
   "pygments_lexer": "ipython3",
   "version": "3.8.13"
  }
 },
 "nbformat": 4,
 "nbformat_minor": 5
}
