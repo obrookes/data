{
 "cells": [
  {
   "cell_type": "code",
   "execution_count": 1,
   "id": "874909a6-ca2e-4572-a768-d26429a80878",
   "metadata": {},
   "outputs": [],
   "source": [
    "import pickle\n",
    "import shutil\n",
    "import pandas as pd\n",
    "from tqdm import tqdm\n",
    "from glob import glob"
   ]
  },
  {
   "cell_type": "code",
   "execution_count": 3,
   "id": "02049c33-837e-4de9-bee1-92e99c629232",
   "metadata": {},
   "outputs": [],
   "source": [
    "# Renaming _result.pkl files\n",
    "detections =  glob('great_ape_detector_unlabelled/**/*.pkl', recursive=True)\n",
    "\n",
    "for d in detections:\n",
    "    name = d.split('/')[-1].split('_')[0] + '.pkl'\n",
    "    shutil.move(d, f\"great_ape_detector_unlabelled/{name}\")"
   ]
  },
  {
   "cell_type": "code",
   "execution_count": 4,
   "id": "3bb5524b-7bf7-4c25-89aa-490ca6353fe9",
   "metadata": {},
   "outputs": [
    {
     "name": "stderr",
     "output_type": "stream",
     "text": [
      "100%|██████████| 4187/4187 [00:10<00:00, 388.85it/s]\n"
     ]
    }
   ],
   "source": [
    "# Formatting detections\n",
    "detections =  glob('great_ape_detector_unlabelled/**/*.pkl', recursive=True)\n",
    "\n",
    "for det in tqdm(detections):\n",
    "    store = []\n",
    "    name = det.split('/')[-1].split('.')[0]\n",
    "\n",
    "    with open(det, 'rb') as handle:\n",
    "        d = pickle.load(handle)\n",
    "    \n",
    "    for i, elem in enumerate(d):\n",
    "        x = {}\n",
    "        x['filename']= f'{name}_frame_{i}.jpg'\n",
    "        x['result'] = elem\n",
    "\n",
    "        store.append(x)\n",
    "    \n",
    "    with open(det, 'wb') as handle:\n",
    "        pickle.dump(store, handle, pickle.HIGHEST_PROTOCOL)"
   ]
  },
  {
   "cell_type": "code",
   "execution_count": 8,
   "id": "cb8ace48-7d39-412a-abe2-34d8fe60928e",
   "metadata": {},
   "outputs": [],
   "source": [
    "# Remove none core videos\n",
    "with open('/home/dl18206/Desktop/phd/data/core_videos.pickle', 'rb') as handle:\n",
    "    core_videos = pickle.load(handle)\n",
    "\n",
    "core_videos = pd.DataFrame(core_videos, columns=['name'])\n",
    "core_videos.name = core_videos.name.str.split('.').str[0]\n",
    "\n",
    "detections = pd.DataFrame(glob('core_detections/**/*.pkl', recursive=True), columns=['name'])\n",
    "detections.name = detections.name.str.split('/').str[-1].str.split('.').str[0]\n",
    "\n",
    "trans = pd.read_csv('/home/dl18206/Desktop/phd/data/panaf/translation/core_video_translation.csv')\n",
    "core_acp_videos = trans[trans.obfu_id.isin(core_videos.name)]['zooniverse_id'].values\n",
    "\n",
    "for d in detections.name.values:\n",
    "    name = d.split('/')[-1].split('.')[0]\n",
    "    if(f\"{name}\" not in core_acp_videos):\n",
    "        shutil.move(f\"great_ape_detector_unlabelled/{d}.pkl\", f\"other_detections/{name}.pkl\")"
   ]
  },
  {
   "cell_type": "code",
   "execution_count": 5,
   "id": "44a1dcd7-0134-418d-badf-0bc87f831ded",
   "metadata": {},
   "outputs": [],
   "source": [
    "core_detections = [x.split('/')[-1].split('.')[0] for x in glob('core_detections/**/*.pkl', recursive=True)]\n",
    "other_detections = list(set(glob('great_ape_detector_unlabelled/**/*.pkl', recursive=True)))"
   ]
  },
  {
   "cell_type": "code",
   "execution_count": 6,
   "id": "b7e64ce1-9863-4cf5-b66d-fd7674d3efd6",
   "metadata": {},
   "outputs": [
    {
     "name": "stderr",
     "output_type": "stream",
     "text": [
      "100%|██████████| 4187/4187 [00:00<00:00, 8967.55it/s]\n"
     ]
    }
   ],
   "source": [
    "for d_i in tqdm(other_detections):\n",
    "    if d_i.split('/')[-1].split('.')[0] not in core_detections:\n",
    "        shutil.move(d_i, 'other_detections/')"
   ]
  },
  {
   "cell_type": "code",
   "execution_count": null,
   "id": "e69772ef-96b4-42c6-936e-36dc2550b226",
   "metadata": {},
   "outputs": [],
   "source": []
  }
 ],
 "metadata": {
  "kernelspec": {
   "display_name": "Python 3",
   "language": "python",
   "name": "python3"
  },
  "language_info": {
   "codemirror_mode": {
    "name": "ipython",
    "version": 3
   },
   "file_extension": ".py",
   "mimetype": "text/x-python",
   "name": "python",
   "nbconvert_exporter": "python",
   "pygments_lexer": "ipython3",
   "version": "3.8.11"
  }
 },
 "nbformat": 4,
 "nbformat_minor": 5
}
