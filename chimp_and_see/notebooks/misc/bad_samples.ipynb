{
 "cells": [
  {
   "cell_type": "code",
   "execution_count": 25,
   "id": "11c469aa-2c20-4f53-93d1-0ec6cc12cee6",
   "metadata": {},
   "outputs": [],
   "source": [
    "import torchvision\n",
    "from tqdm import tqdm\n",
    "from glob import glob\n",
    "import pandas as pd"
   ]
  },
  {
   "cell_type": "code",
   "execution_count": 35,
   "id": "261295f3-9cfb-413b-90c4-967e8e31c3a4",
   "metadata": {},
   "outputs": [
    {
     "name": "stdout",
     "output_type": "stream",
     "text": [
      "Annotated videos: 11390\n"
     ]
    }
   ],
   "source": [
    "annotated_videos = pd.read_csv('videos.csv')\n",
    "annotated_videos = annotated_videos.video.to_list()\n",
    "print(f\"Annotated videos: {len(annotated_videos)}\")"
   ]
  },
  {
   "cell_type": "code",
   "execution_count": 32,
   "id": "5a5741db-e071-455e-be19-aba03549e2dc",
   "metadata": {},
   "outputs": [],
   "source": [
    "videos = [x for x in glob('/home/dl18206/Desktop/phd/data/panaf/acp/videos/**/*.mp4', recursive=True) if x.split('/')[-1].split('.')[0].lower() in annotated_videos]"
   ]
  },
  {
   "cell_type": "code",
   "execution_count": 36,
   "id": "f6266274-40be-4e8e-96a1-b59cdffa57c6",
   "metadata": {},
   "outputs": [
    {
     "data": {
      "text/plain": [
       "11390"
      ]
     },
     "execution_count": 36,
     "metadata": {},
     "output_type": "execute_result"
    }
   ],
   "source": [
    "len(videos)"
   ]
  },
  {
   "cell_type": "code",
   "execution_count": 15,
   "id": "e9c0f274-32a3-485d-85dc-2f1d83929650",
   "metadata": {},
   "outputs": [
    {
     "data": {
      "text/plain": [
       "torch.Size([360, 404, 720, 3])"
      ]
     },
     "execution_count": 15,
     "metadata": {},
     "output_type": "execute_result"
    }
   ],
   "source": [
    "frames.shape"
   ]
  },
  {
   "cell_type": "code",
   "execution_count": 38,
   "id": "99920c5b-ca33-4aa0-9df4-4e9e5582a12f",
   "metadata": {},
   "outputs": [
    {
     "name": "stderr",
     "output_type": "stream",
     "text": [
      " 30%|██▉       | 3414/11390 [1:01:08<2:21:17,  1.06s/it]moov atom not found\n"
     ]
    },
    {
     "name": "stdout",
     "output_type": "stream",
     "text": [
      "/home/dl18206/Desktop/phd/data/panaf/acp/videos/acp000cx6q.mp4: torch.Size([0, 1, 1, 3])\n"
     ]
    },
    {
     "name": "stderr",
     "output_type": "stream",
     "text": [
      " 72%|███████▏  | 8213/11390 [2:21:18<55:03,  1.04s/it]  "
     ]
    },
    {
     "name": "stdout",
     "output_type": "stream",
     "text": [
      "/home/dl18206/Desktop/phd/data/panaf/acp/videos/acp000gc12.mp4: torch.Size([0, 1, 1, 3])\n"
     ]
    },
    {
     "name": "stderr",
     "output_type": "stream",
     "text": [
      " 97%|█████████▋| 11098/11390 [3:12:14<06:40,  1.37s/it] "
     ]
    },
    {
     "name": "stdout",
     "output_type": "stream",
     "text": [
      "/home/dl18206/Desktop/phd/data/panaf/acp/videos/acp000dkrd.mp4: torch.Size([0, 1, 1, 3])\n"
     ]
    },
    {
     "name": "stderr",
     "output_type": "stream",
     "text": [
      "100%|██████████| 11390/11390 [3:18:39<00:00,  1.05s/it]\n"
     ]
    }
   ],
   "source": [
    "for v in tqdm(videos):\n",
    "    frames = torchvision.io.read_video(v)[0]\n",
    "    if not frames.shape[0] > 0:\n",
    "        print(f\"{v}: {frames.shape}\")"
   ]
  },
  {
   "cell_type": "code",
   "execution_count": null,
   "id": "79b90113-8533-4230-a42d-8bdce90771b8",
   "metadata": {},
   "outputs": [],
   "source": []
  }
 ],
 "metadata": {
  "kernelspec": {
   "display_name": "Python 3",
   "language": "python",
   "name": "python3"
  },
  "language_info": {
   "codemirror_mode": {
    "name": "ipython",
    "version": 3
   },
   "file_extension": ".py",
   "mimetype": "text/x-python",
   "name": "python",
   "nbconvert_exporter": "python",
   "pygments_lexer": "ipython3",
   "version": "3.8.13"
  }
 },
 "nbformat": 4,
 "nbformat_minor": 5
}
