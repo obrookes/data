{
 "cells": [
  {
   "cell_type": "code",
   "execution_count": 1,
   "metadata": {},
   "outputs": [],
   "source": [
    "import ast\n",
    "import numpy as np\n",
    "import pandas as pd"
   ]
  },
  {
   "cell_type": "code",
   "execution_count": 5,
   "metadata": {},
   "outputs": [],
   "source": [
    "train = pd.read_csv(\"data/internal/splits/final/train.csv\")\n",
    "train[\"video\"] = train[\"video\"] + \".mp4\"\n",
    "test = pd.read_csv(\"data/internal/splits/final/test.csv\")\n",
    "test[\"video\"] = test[\"video\"] + \".mp4\"\n",
    "val = pd.read_csv(\"data/internal/splits/final/val.csv\")\n",
    "val[\"video\"] = val[\"video\"] + \".mp4\""
   ]
  },
  {
   "cell_type": "code",
   "execution_count": 6,
   "metadata": {},
   "outputs": [
    {
     "data": {
      "text/html": [
       "<div>\n",
       "<style scoped>\n",
       "    .dataframe tbody tr th:only-of-type {\n",
       "        vertical-align: middle;\n",
       "    }\n",
       "\n",
       "    .dataframe tbody tr th {\n",
       "        vertical-align: top;\n",
       "    }\n",
       "\n",
       "    .dataframe thead th {\n",
       "        text-align: right;\n",
       "    }\n",
       "</style>\n",
       "<table border=\"1\" class=\"dataframe\">\n",
       "  <thead>\n",
       "    <tr style=\"text-align: right;\">\n",
       "      <th></th>\n",
       "      <th>video</th>\n",
       "      <th>p_camera_reaction</th>\n",
       "      <th>p_tool_use</th>\n",
       "      <th>p_object_carrying</th>\n",
       "      <th>p_bipedal</th>\n",
       "      <th>p_feeding</th>\n",
       "      <th>p_chimp_carrying</th>\n",
       "      <th>p_vocalisation</th>\n",
       "      <th>p_climbing</th>\n",
       "      <th>p_aggression</th>\n",
       "      <th>p_travel</th>\n",
       "      <th>p_sex</th>\n",
       "      <th>p_piloerection</th>\n",
       "      <th>p_social_interaction</th>\n",
       "      <th>p_grooming</th>\n",
       "      <th>p_display</th>\n",
       "      <th>p_cross_species_interaction</th>\n",
       "      <th>p_resting</th>\n",
       "      <th>p_no_behaviour</th>\n",
       "      <th>label</th>\n",
       "    </tr>\n",
       "  </thead>\n",
       "  <tbody>\n",
       "    <tr>\n",
       "      <th>0</th>\n",
       "      <td>acp00000ga.mp4</td>\n",
       "      <td>False</td>\n",
       "      <td>False</td>\n",
       "      <td>False</td>\n",
       "      <td>False</td>\n",
       "      <td>False</td>\n",
       "      <td>False</td>\n",
       "      <td>False</td>\n",
       "      <td>False</td>\n",
       "      <td>False</td>\n",
       "      <td>True</td>\n",
       "      <td>False</td>\n",
       "      <td>False</td>\n",
       "      <td>False</td>\n",
       "      <td>False</td>\n",
       "      <td>False</td>\n",
       "      <td>False</td>\n",
       "      <td>False</td>\n",
       "      <td>False</td>\n",
       "      <td>[0, 0, 0, 0, 0, 0, 0, 0, 0, 1, 0, 0, 0, 0, 0, ...</td>\n",
       "    </tr>\n",
       "  </tbody>\n",
       "</table>\n",
       "</div>"
      ],
      "text/plain": [
       "            video  p_camera_reaction  p_tool_use  p_object_carrying  \\\n",
       "0  acp00000ga.mp4              False       False              False   \n",
       "\n",
       "   p_bipedal  p_feeding  p_chimp_carrying  p_vocalisation  p_climbing  \\\n",
       "0      False      False             False           False       False   \n",
       "\n",
       "   p_aggression  p_travel  p_sex  p_piloerection  p_social_interaction  \\\n",
       "0         False      True  False           False                 False   \n",
       "\n",
       "   p_grooming  p_display  p_cross_species_interaction  p_resting  \\\n",
       "0       False      False                        False      False   \n",
       "\n",
       "   p_no_behaviour                                              label  \n",
       "0           False  [0, 0, 0, 0, 0, 0, 0, 0, 0, 1, 0, 0, 0, 0, 0, ...  "
      ]
     },
     "execution_count": 6,
     "metadata": {},
     "output_type": "execute_result"
    }
   ],
   "source": [
    "train.head(1)"
   ]
  },
  {
   "cell_type": "markdown",
   "metadata": {},
   "source": [
    "**Binary C&S camera reaction**"
   ]
  },
  {
   "cell_type": "code",
   "execution_count": 13,
   "metadata": {},
   "outputs": [],
   "source": [
    "train[\"camera_reaction\"] = train.p_camera_reaction.apply(lambda x: 1 if x else 0)\n",
    "val[\"camera_reaction\"] = val.p_camera_reaction.apply(lambda x: 1 if x else 0)\n",
    "test[\"camera_reaction\"] = test.p_camera_reaction.apply(lambda x: 1 if x else 0)"
   ]
  },
  {
   "cell_type": "code",
   "execution_count": 14,
   "metadata": {},
   "outputs": [],
   "source": [
    "train[[\"video\", \"camera_reaction\"]].to_csv(\n",
    "    \"data/internal/splits/final/camera_reaction_binary/train.txt\",\n",
    "    header=None,\n",
    "    index=None,\n",
    "    sep=\" \",\n",
    ")\n",
    "val[[\"video\", \"camera_reaction\"]].to_csv(\n",
    "    \"data/internal/splits/final/camera_reaction_binary/val.txt\",\n",
    "    header=None,\n",
    "    index=None,\n",
    "    sep=\" \",\n",
    ")\n",
    "test[[\"video\", \"camera_reaction\"]].to_csv(\n",
    "    \"data/internal/splits/final/camera_reaction_binary/test.txt\",\n",
    "    header=None,\n",
    "    index=None,\n",
    "    sep=\" \",\n",
    ")"
   ]
  },
  {
   "cell_type": "code",
   "execution_count": 15,
   "metadata": {},
   "outputs": [],
   "source": [
    "# open text file\n",
    "def remove_whitespace(filename):\n",
    "    with open(filename, \"r\") as file:\n",
    "        # ensure only single whitespace between columns\n",
    "        data = file.read().replace(\"   \", \" \")\n",
    "\n",
    "    # write back to file\n",
    "    with open(filename, \"w\") as file:\n",
    "        file.write(data)\n",
    "\n",
    "    # open text file\n",
    "    with open(filename, \"r\") as file:\n",
    "        # ensure only single whitespace between columns\n",
    "        data = file.read().replace(\"  \", \" \")\n",
    "\n",
    "    # write back to file\n",
    "    with open(filename, \"w\") as file:\n",
    "        file.write(data)"
   ]
  },
  {
   "cell_type": "code",
   "execution_count": 16,
   "metadata": {},
   "outputs": [],
   "source": [
    "remove_whitespace(\"data/internal/splits/final/camera_reaction_binary/train.txt\")\n",
    "remove_whitespace(\"data/internal/splits/final/camera_reaction_binary/val.txt\")\n",
    "remove_whitespace(\"data/internal/splits/final/camera_reaction_binary/test.txt\")"
   ]
  },
  {
   "cell_type": "markdown",
   "metadata": {},
   "source": [
    "**Binary MM camera reaction**"
   ]
  },
  {
   "cell_type": "code",
   "execution_count": 19,
   "metadata": {},
   "outputs": [],
   "source": [
    "train = pd.read_csv(\"../maureen_annotations/data/splits/train.csv\")\n",
    "train[\"video\"] = train[\"video\"] + \".mp4\"\n",
    "test = pd.read_csv(\"../maureen_annotations/data/splits/test.csv\")\n",
    "test[\"video\"] = test[\"video\"] + \".mp4\"\n",
    "val = pd.read_csv(\"../maureen_annotations/data/splits/val.csv\")\n",
    "val[\"video\"] = val[\"video\"] + \".mp4\""
   ]
  },
  {
   "cell_type": "code",
   "execution_count": 23,
   "metadata": {},
   "outputs": [
    {
     "data": {
      "text/html": [
       "<div>\n",
       "<style scoped>\n",
       "    .dataframe tbody tr th:only-of-type {\n",
       "        vertical-align: middle;\n",
       "    }\n",
       "\n",
       "    .dataframe tbody tr th {\n",
       "        vertical-align: top;\n",
       "    }\n",
       "\n",
       "    .dataframe thead th {\n",
       "        text-align: right;\n",
       "    }\n",
       "</style>\n",
       "<table border=\"1\" class=\"dataframe\">\n",
       "  <thead>\n",
       "    <tr style=\"text-align: right;\">\n",
       "      <th></th>\n",
       "      <th>video</th>\n",
       "      <th>p_camera_reaction</th>\n",
       "      <th>label</th>\n",
       "    </tr>\n",
       "  </thead>\n",
       "  <tbody>\n",
       "    <tr>\n",
       "      <th>0</th>\n",
       "      <td>fjn_vid17_0234119_1221458_20130112_pict0157.mp4</td>\n",
       "      <td>False</td>\n",
       "      <td>[</td>\n",
       "    </tr>\n",
       "    <tr>\n",
       "      <th>1</th>\n",
       "      <td>boe_vid18_0621331_1321860_20140816_ek000039.mp4</td>\n",
       "      <td>True</td>\n",
       "      <td>[</td>\n",
       "    </tr>\n",
       "    <tr>\n",
       "      <th>2</th>\n",
       "      <td>lop_cam11_0791036_9973866_20141016_ek000106.mp4</td>\n",
       "      <td>True</td>\n",
       "      <td>[</td>\n",
       "    </tr>\n",
       "    <tr>\n",
       "      <th>3</th>\n",
       "      <td>gis_vid4_764192_9798159_20110725_pict0029.mp4</td>\n",
       "      <td>True</td>\n",
       "      <td>[</td>\n",
       "    </tr>\n",
       "    <tr>\n",
       "      <th>4</th>\n",
       "      <td>lop_cam16_0788558_9974445_20140524_ek000049.mp4</td>\n",
       "      <td>True</td>\n",
       "      <td>[</td>\n",
       "    </tr>\n",
       "  </tbody>\n",
       "</table>\n",
       "</div>"
      ],
      "text/plain": [
       "                                             video  p_camera_reaction label\n",
       "0  fjn_vid17_0234119_1221458_20130112_pict0157.mp4              False     [\n",
       "1  boe_vid18_0621331_1321860_20140816_ek000039.mp4               True     [\n",
       "2  lop_cam11_0791036_9973866_20141016_ek000106.mp4               True     [\n",
       "3    gis_vid4_764192_9798159_20110725_pict0029.mp4               True     [\n",
       "4  lop_cam16_0788558_9974445_20140524_ek000049.mp4               True     ["
      ]
     },
     "execution_count": 23,
     "metadata": {},
     "output_type": "execute_result"
    }
   ],
   "source": [
    "train.head()"
   ]
  },
  {
   "cell_type": "code",
   "execution_count": 24,
   "metadata": {},
   "outputs": [],
   "source": [
    "train[\"label\"] = train.p_camera_reaction.apply(lambda x: 1 if x else 0)\n",
    "val[\"label\"] = val.p_camera_reaction.apply(lambda x: 1 if x else 0)\n",
    "test[\"label\"] = test.p_camera_reaction.apply(lambda x: 1 if x else 0)"
   ]
  },
  {
   "cell_type": "code",
   "execution_count": 25,
   "metadata": {},
   "outputs": [
    {
     "data": {
      "text/html": [
       "<div>\n",
       "<style scoped>\n",
       "    .dataframe tbody tr th:only-of-type {\n",
       "        vertical-align: middle;\n",
       "    }\n",
       "\n",
       "    .dataframe tbody tr th {\n",
       "        vertical-align: top;\n",
       "    }\n",
       "\n",
       "    .dataframe thead th {\n",
       "        text-align: right;\n",
       "    }\n",
       "</style>\n",
       "<table border=\"1\" class=\"dataframe\">\n",
       "  <thead>\n",
       "    <tr style=\"text-align: right;\">\n",
       "      <th></th>\n",
       "      <th>video</th>\n",
       "      <th>label</th>\n",
       "    </tr>\n",
       "  </thead>\n",
       "  <tbody>\n",
       "    <tr>\n",
       "      <th>0</th>\n",
       "      <td>fjn_vid17_0234119_1221458_20130112_pict0157.mp4</td>\n",
       "      <td>0</td>\n",
       "    </tr>\n",
       "    <tr>\n",
       "      <th>1</th>\n",
       "      <td>boe_vid18_0621331_1321860_20140816_ek000039.mp4</td>\n",
       "      <td>1</td>\n",
       "    </tr>\n",
       "    <tr>\n",
       "      <th>2</th>\n",
       "      <td>lop_cam11_0791036_9973866_20141016_ek000106.mp4</td>\n",
       "      <td>1</td>\n",
       "    </tr>\n",
       "    <tr>\n",
       "      <th>3</th>\n",
       "      <td>gis_vid4_764192_9798159_20110725_pict0029.mp4</td>\n",
       "      <td>1</td>\n",
       "    </tr>\n",
       "    <tr>\n",
       "      <th>4</th>\n",
       "      <td>lop_cam16_0788558_9974445_20140524_ek000049.mp4</td>\n",
       "      <td>1</td>\n",
       "    </tr>\n",
       "    <tr>\n",
       "      <th>...</th>\n",
       "      <td>...</td>\n",
       "      <td>...</td>\n",
       "    </tr>\n",
       "    <tr>\n",
       "      <th>9417</th>\n",
       "      <td>lop_cam12_0790537_9974042_20141016_ek000069.mp4</td>\n",
       "      <td>0</td>\n",
       "    </tr>\n",
       "    <tr>\n",
       "      <th>9418</th>\n",
       "      <td>fouta_vid09_263938_1291005_20150406_pict0027.mp4</td>\n",
       "      <td>0</td>\n",
       "    </tr>\n",
       "    <tr>\n",
       "      <th>9419</th>\n",
       "      <td>bud_cam28_336939_191998_20120913_pict0082.mp4</td>\n",
       "      <td>0</td>\n",
       "    </tr>\n",
       "    <tr>\n",
       "      <th>9420</th>\n",
       "      <td>sap_vid13_0523401_0587911_20120203_pict0026.mp4</td>\n",
       "      <td>0</td>\n",
       "    </tr>\n",
       "    <tr>\n",
       "      <th>9421</th>\n",
       "      <td>bud_cam1_336731_190490_20120730_pict0003.mp4</td>\n",
       "      <td>0</td>\n",
       "    </tr>\n",
       "  </tbody>\n",
       "</table>\n",
       "<p>9422 rows × 2 columns</p>\n",
       "</div>"
      ],
      "text/plain": [
       "                                                 video  label\n",
       "0      fjn_vid17_0234119_1221458_20130112_pict0157.mp4      0\n",
       "1      boe_vid18_0621331_1321860_20140816_ek000039.mp4      1\n",
       "2      lop_cam11_0791036_9973866_20141016_ek000106.mp4      1\n",
       "3        gis_vid4_764192_9798159_20110725_pict0029.mp4      1\n",
       "4      lop_cam16_0788558_9974445_20140524_ek000049.mp4      1\n",
       "...                                                ...    ...\n",
       "9417   lop_cam12_0790537_9974042_20141016_ek000069.mp4      0\n",
       "9418  fouta_vid09_263938_1291005_20150406_pict0027.mp4      0\n",
       "9419     bud_cam28_336939_191998_20120913_pict0082.mp4      0\n",
       "9420   sap_vid13_0523401_0587911_20120203_pict0026.mp4      0\n",
       "9421      bud_cam1_336731_190490_20120730_pict0003.mp4      0\n",
       "\n",
       "[9422 rows x 2 columns]"
      ]
     },
     "execution_count": 25,
     "metadata": {},
     "output_type": "execute_result"
    }
   ],
   "source": [
    "train[[\"video\", \"label\"]]"
   ]
  },
  {
   "cell_type": "code",
   "execution_count": 26,
   "metadata": {},
   "outputs": [],
   "source": [
    "train[[\"video\", \"label\"]].to_csv(\n",
    "    \"../maureen_annotations/data/splits/train.txt\", header=None, index=None, sep=\" \"\n",
    ")\n",
    "\n",
    "val[[\"video\", \"label\"]].to_csv(\n",
    "    \"../maureen_annotations/data/splits/val.txt\", header=None, index=None, sep=\" \"\n",
    ")\n",
    "\n",
    "test[[\"video\", \"label\"]].to_csv(\n",
    "    \"../maureen_annotations/data/splits/test.txt\", header=None, index=None, sep=\" \"\n",
    ")"
   ]
  }
 ],
 "metadata": {
  "kernelspec": {
   "display_name": "dataset-upgrade",
   "language": "python",
   "name": "python3"
  },
  "language_info": {
   "codemirror_mode": {
    "name": "ipython",
    "version": 3
   },
   "file_extension": ".py",
   "mimetype": "text/x-python",
   "name": "python",
   "nbconvert_exporter": "python",
   "pygments_lexer": "ipython3",
   "version": "3.8.13"
  },
  "orig_nbformat": 4
 },
 "nbformat": 4,
 "nbformat_minor": 2
}
