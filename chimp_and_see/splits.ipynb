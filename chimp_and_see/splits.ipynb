{
 "cells": [
  {
   "cell_type": "code",
   "execution_count": 9,
   "metadata": {},
   "outputs": [],
   "source": [
    "import torch\n",
    "import pandas as pd\n",
    "import numpy as np"
   ]
  },
  {
   "cell_type": "code",
   "execution_count": 10,
   "metadata": {},
   "outputs": [],
   "source": [
    "train_df = pd.read_csv(\"data/internal/splits/final/train.csv\")\n",
    "attr = train_df.columns[1:19]"
   ]
  },
  {
   "cell_type": "code",
   "execution_count": 11,
   "metadata": {},
   "outputs": [
    {
     "data": {
      "text/plain": [
       "{'p_camera_reaction': 1561,\n",
       " 'p_tool_use': 807,\n",
       " 'p_object_carrying': 458,\n",
       " 'p_bipedal': 97,\n",
       " 'p_feeding': 4412,\n",
       " 'p_chimp_carrying': 1332,\n",
       " 'p_vocalisation': 722,\n",
       " 'p_climbing': 1430,\n",
       " 'p_aggression': 122,\n",
       " 'p_travel': 3655,\n",
       " 'p_sex': 116,\n",
       " 'p_piloerection': 33,\n",
       " 'p_social_interaction': 1359,\n",
       " 'p_grooming': 455,\n",
       " 'p_display': 160,\n",
       " 'p_cross_species_interaction': 81,\n",
       " 'p_resting': 3013,\n",
       " 'p_no_behaviour': 3091}"
      ]
     },
     "execution_count": 11,
     "metadata": {},
     "output_type": "execute_result"
    }
   ],
   "source": [
    "counts = train_df[attr].sum(axis=0)  # occurence counts\n",
    "dict(counts)"
   ]
  },
  {
   "cell_type": "code",
   "execution_count": 14,
   "metadata": {},
   "outputs": [],
   "source": [
    "label_freq = dict(counts)\n",
    "label_freq = dict(sorted(label_freq.items()))\n",
    "label_freq_array = np.array(list(label_freq.values()))\n",
    "label_freq_array = label_freq_array / label_freq_array.sum()\n",
    "adjustments = np.log(label_freq_array**1.0 + 1e-12)\n",
    "adjustments = torch.from_numpy(adjustments)"
   ]
  },
  {
   "cell_type": "code",
   "execution_count": 19,
   "metadata": {},
   "outputs": [
    {
     "name": "stderr",
     "output_type": "stream",
     "text": [
      "<ipython-input-19-28533b02d8e4>:1: UserWarning: Implicit dimension choice for softmax has been deprecated. Change the call to include dim=X as an argument.\n",
      "  torch.nn.functional.softmax(adjustments)\n"
     ]
    },
    {
     "data": {
      "text/plain": [
       "tensor([0.0053, 0.0042, 0.0682, 0.0582, 0.0624, 0.0035, 0.0070, 0.1926, 0.0199,\n",
       "        0.1350, 0.0200, 0.0014, 0.1315, 0.0051, 0.0593, 0.0352, 0.1596, 0.0315],\n",
       "       dtype=torch.float64)"
      ]
     },
     "execution_count": 19,
     "metadata": {},
     "output_type": "execute_result"
    }
   ],
   "source": [
    "torch.nn.functional.softmax(adjustments)"
   ]
  },
  {
   "cell_type": "code",
   "execution_count": 20,
   "metadata": {},
   "outputs": [
    {
     "data": {
      "text/plain": [
       "tensor([-5.2350, -5.4644, -2.6860, -2.8446, -2.7736, -5.6446, -4.9639, -1.6470,\n",
       "        -3.9188, -2.0028, -3.9122, -6.5426, -2.0284, -5.2855, -2.8246, -3.3457,\n",
       "        -1.8352, -3.4570], dtype=torch.float64)"
      ]
     },
     "execution_count": 20,
     "metadata": {},
     "output_type": "execute_result"
    }
   ],
   "source": [
    "adjustments"
   ]
  },
  {
   "cell_type": "code",
   "execution_count": 21,
   "metadata": {},
   "outputs": [],
   "source": [
    "x = torch.tensor(\n",
    "    [\n",
    "        -5.2350,\n",
    "        -5.4644,\n",
    "        -2.6860,\n",
    "        -2.8446,\n",
    "        -2.7736,\n",
    "        -5.6446,\n",
    "        -4.9639,\n",
    "        -1.6470,\n",
    "        -3.9188,\n",
    "        -2.0028,\n",
    "        -3.9122,\n",
    "        -6.5426,\n",
    "        -2.0284,\n",
    "        -5.2855,\n",
    "        -2.8246,\n",
    "        -3.3457,\n",
    "        -1.8352,\n",
    "        -3.4570,\n",
    "    ],\n",
    "    dtype=torch.float32,\n",
    ")"
   ]
  },
  {
   "cell_type": "code",
   "execution_count": 22,
   "metadata": {},
   "outputs": [
    {
     "data": {
      "text/plain": [
       "tensor([-5.2350, -5.4644, -2.6860, -2.8446, -2.7736, -5.6446, -4.9639, -1.6470,\n",
       "        -3.9188, -2.0028, -3.9122, -6.5426, -2.0284, -5.2855, -2.8246, -3.3457,\n",
       "        -1.8352, -3.4570])"
      ]
     },
     "execution_count": 22,
     "metadata": {},
     "output_type": "execute_result"
    }
   ],
   "source": [
    "x"
   ]
  },
  {
   "cell_type": "code",
   "execution_count": null,
   "metadata": {},
   "outputs": [],
   "source": []
  }
 ],
 "metadata": {
  "kernelspec": {
   "display_name": "dataset-upgrade",
   "language": "python",
   "name": "python3"
  },
  "language_info": {
   "codemirror_mode": {
    "name": "ipython",
    "version": 3
   },
   "file_extension": ".py",
   "mimetype": "text/x-python",
   "name": "python",
   "nbconvert_exporter": "python",
   "pygments_lexer": "ipython3",
   "version": "3.8.13"
  },
  "orig_nbformat": 4
 },
 "nbformat": 4,
 "nbformat_minor": 2
}
