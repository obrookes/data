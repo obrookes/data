{
 "cells": [
  {
   "cell_type": "code",
   "execution_count": 35,
   "id": "4991bfe7-3a51-47b3-9728-3da5bac3e723",
   "metadata": {},
   "outputs": [],
   "source": [
    "import pandas as pd\n",
    "from glob import glob\n",
    "import numpy as np\n",
    "import matplotlib.pyplot as plt\n",
    "import seaborn as sns"
   ]
  },
  {
   "cell_type": "markdown",
   "id": "a9764526-2b85-44b3-9643-faf3de5e5968",
   "metadata": {},
   "source": [
    "**Load relevant data**"
   ]
  },
  {
   "cell_type": "code",
   "execution_count": 36,
   "id": "c2533ea1-1ba2-4775-b871-9d3b98608e72",
   "metadata": {},
   "outputs": [],
   "source": [
    "# Translation table\n",
    "translation_df = pd.read_csv('data/external/candSID_PanAfID_translations_old_platform_2021_11_27.csv')\n",
    "translation_df['video'] = translation_df['clip.id'].str.lower()\n",
    "translation_df['video_id'] = translation_df['video.id'].str.lower()\n",
    "translation_df['new_file_name'] = translation_df['new.file.name'].str.lower()\n",
    "translation_df.drop(columns=['Unnamed: 0', 'clip.id', 'video.id', 'new.file.name'], inplace=True)"
   ]
  },
  {
   "cell_type": "code",
   "execution_count": 37,
   "id": "6ae5ce59-1bf2-48a4-a024-46b37e51eaae",
   "metadata": {},
   "outputs": [],
   "source": [
    "# ACP prefixed videos\n",
    "acp_df = pd.read_csv('data/internal/acp_prefixed_videos.csv', names=['video'], header=None)\n",
    "acp_df.video = acp_df.video.str.split('.').str[0].str.lower()"
   ]
  },
  {
   "cell_type": "code",
   "execution_count": 38,
   "id": "452a2d26-c8fd-4a1c-b4c9-59cd9c39e162",
   "metadata": {},
   "outputs": [],
   "source": [
    "# Maureens annotations\n",
    "csv_files = glob('/home/dl18206/Desktop/phd/data/panaf/maureen_annotations/data/sites/csv/**/*.csv', recursive=True)\n",
    "sorted_csv_files = sorted(csv_files, key=lambda x: x.split('/')[-1])\n",
    "initialiser, remainder = sorted_csv_files[0], sorted_csv_files[1:]\n",
    "df = pd.read_csv(initialiser, encoding=\"ISO-8859-1\")\n",
    "for file in remainder:\n",
    "    site = pd.read_csv(file, encoding=\"ISO-8859-1\")\n",
    "    df = pd.concat([df, site])\n",
    "df['subdir_video'] = df.subfolder.astype(str) + '_' + df.video_file_name.astype(str)\n",
    "df['subdir_video'] = df.subdir_video.str.lower()\n",
    "df['subdir_video'] = df.subdir_video.str.split('.').str[0]"
   ]
  },
  {
   "cell_type": "code",
   "execution_count": 76,
   "id": "3d54db8c-fd78-428b-a268-9b2d4f57ab73",
   "metadata": {},
   "outputs": [
    {
     "data": {
      "text/plain": [
       "gallery forest                             16435\n",
       "forest - mixed, open understorey           12968\n",
       "forest - mixed, closed understorey          5157\n",
       "forest - old secondary                      2693\n",
       "forest on rock                              2632\n",
       "marshes                                     2353\n",
       "forest - lianas                             1368\n",
       "rocks                                       1210\n",
       "forest - monodominant                       1210\n",
       "forest - marantaceae                         830\n",
       "savannah - wooded                            818\n",
       "forest - young secondary                     611\n",
       "forest - seasonally inundated                562\n",
       "forest - colonising                          453\n",
       "forest - bamboo                              396\n",
       "forest on rock / forest - old secondary      344\n",
       "savannah - bushy                             180\n",
       "forest fragment                              139\n",
       "fallow                                       108\n",
       "forest - gap                                  94\n",
       "raphia marshes                                54\n",
       "savannah - herbs                              37\n",
       "plantation                                     7\n",
       "Name: habitat, dtype: int64"
      ]
     },
     "execution_count": 76,
     "metadata": {},
     "output_type": "execute_result"
    }
   ],
   "source": [
    "df.habitat.value_counts()"
   ]
  },
  {
   "cell_type": "code",
   "execution_count": 81,
   "id": "c56de9e3-4445-4f40-8c8b-99e626a54d06",
   "metadata": {},
   "outputs": [
    {
     "data": {
      "text/plain": [
       "trail                          17265\n",
       "termite site                    8890\n",
       "water source                    5264\n",
       "fruit tree                      2439\n",
       "water source / feeding site     2219\n",
       "                               ...  \n",
       "natural bridge/trail               2\n",
       "trail / ravine                     1\n",
       "fruit tree / rock                  1\n",
       "clearing / termite site            1\n",
       "tree / liana                       1\n",
       "Name: location_metadata, Length: 114, dtype: int64"
      ]
     },
     "execution_count": 81,
     "metadata": {},
     "output_type": "execute_result"
    }
   ],
   "source": [
    "df.location_metadata.value_counts()"
   ]
  },
  {
   "cell_type": "code",
   "execution_count": 6,
   "id": "1c65166c-a035-4718-a567-1c0c5bb82dbd",
   "metadata": {},
   "outputs": [
    {
     "name": "stdout",
     "output_type": "stream",
     "text": [
      "Unique videos translation table: 562805\n",
      "Unique videos translation table: 19977\n"
     ]
    }
   ],
   "source": [
    "print(f'Unique videos translation table: {translation_df.video.unique().__len__()}')\n",
    "print(f'Unique videos translation table: {acp_df.video.unique().__len__() }')"
   ]
  },
  {
   "cell_type": "markdown",
   "id": "50c1991d-11ea-44fd-a45d-180652dd9d4c",
   "metadata": {},
   "source": [
    "**Merge acp-prefixed and translation dataframes**"
   ]
  },
  {
   "cell_type": "code",
   "execution_count": 7,
   "id": "cdc72846-995b-4a90-b2d2-6d53813fc0e9",
   "metadata": {},
   "outputs": [],
   "source": [
    "acp_trans_df = acp_df.merge(translation_df, on='video')\n",
    "# Create subdir_video column to allow downstream merging with \n",
    "acp_trans_df['subdir_video'] = acp_trans_df.new_file_name.apply(lambda x: '_'.join(x.split('/')[-2:]))\n",
    "acp_trans_df['subdir_video'] = acp_trans_df.subdir_video.apply(lambda x: x.split('.')[0])\n",
    "acp_trans_df.drop(columns=['video_id', 'new_file_name'], inplace=True)"
   ]
  },
  {
   "cell_type": "markdown",
   "id": "e16d8017-18ca-4899-9632-56f5300d6396",
   "metadata": {},
   "source": [
    "**Chimp & See annotations**"
   ]
  },
  {
   "cell_type": "code",
   "execution_count": 8,
   "id": "15e36833-bd7a-473e-94dc-2a8e9943d594",
   "metadata": {},
   "outputs": [],
   "source": [
    "# Read chimp and see annotations and merge with acp-prefixed and translation dataframes\n",
    "chimp_df = pd.read_excel('data/internal/Chimp & See master chimpanzee video list 2015-2018_OB_analysis.xlsx', sheet_name=\"Otto's Analysis (Plain Text)\")\n",
    "chimp_df['video'] = chimp_df.ID.str.lower()\n",
    "all_df = acp_trans_df.merge(chimp_df, on='video')\n",
    "\n",
    "# Convert tags to list of tokens\n",
    "all_df['split_tags'] = all_df.Tags.str.split(' ')"
   ]
  },
  {
   "cell_type": "code",
   "execution_count": 9,
   "id": "8be15dbc-e9d7-4e2c-b6f6-d06531a3f232",
   "metadata": {},
   "outputs": [],
   "source": [
    "# Import unique tag analysis\n",
    "tag_df = pd.read_excel('/home/dl18206/Downloads/unique_tags 1.xlsx', sheet_name='distilled')\n",
    "\n",
    "attr = tag_df.columns[1:]\n",
    "for col in tag_df.columns[1:]:\n",
    "    unique_tags = tag_df[tag_df[col]==col].tags.unique()\n",
    "    all_df[col] = all_df.split_tags.apply(lambda x: 1 if any(i in x for i in unique_tags) else 0)\n",
    "    \n",
    "# Create column indicating empties\n",
    "all_df['label_indicator'] = all_df[tag_df.columns[1:]].astype(int).apply(lambda x: True if any([i for i in x]) else False, axis=1)"
   ]
  },
  {
   "cell_type": "code",
   "execution_count": 10,
   "id": "f48ca620-2ad8-4f40-8afe-6013697a2ff2",
   "metadata": {},
   "outputs": [],
   "source": [
    "# Multi-class label conversion\n",
    "# Define a lambda function to convert binary columns to a multiclass label\n",
    "to_label = lambda x: ','.join([str(i) for i in x])\n",
    "\n",
    "# Apply the lambda function to each row to create a new column 'label'\n",
    "all_df['label'] = all_df[tag_df.columns[1:]].astype(int).apply(to_label, axis=1).astype('category')\n",
    "all_df['label'] = all_df.label.str.split(',')\n",
    "all_df['label'] = all_df.label.apply(lambda x: [int(i) for i in x])\n",
    "\n",
    "# print output\n",
    "# all_df.label.value_counts()"
   ]
  },
  {
   "cell_type": "code",
   "execution_count": 15,
   "id": "0d9f4e0c-a662-475d-9360-074ed8890f51",
   "metadata": {},
   "outputs": [
    {
     "data": {
      "text/plain": [
       "ngogo                3111\n",
       "bwindi               1001\n",
       "taieast               730\n",
       "budongo               596\n",
       "djouroutou            535\n",
       "taie                  517\n",
       "tair                  454\n",
       "kayan                 323\n",
       "sapo                  262\n",
       "east_nimba            230\n",
       "grebo_sala            164\n",
       "bili                   95\n",
       "equatorial_guinea       4\n",
       "azagny                  1\n",
       "Name: site, dtype: int64"
      ]
     },
     "execution_count": 15,
     "metadata": {},
     "output_type": "execute_result"
    }
   ],
   "source": [
    "all_df[all_df.label_indicator==True].site.value_counts()"
   ]
  },
  {
   "cell_type": "markdown",
   "id": "5a706e63-93a4-4a58-8a12-e75c74aee18c",
   "metadata": {},
   "source": [
    "**Investigate videos without any behavioural annotation**"
   ]
  },
  {
   "cell_type": "code",
   "execution_count": 16,
   "id": "e1d63426-6fc0-48cf-8f47-2aaceb16e552",
   "metadata": {},
   "outputs": [
    {
     "data": {
      "text/plain": [
       "Index(['video', 'site', 'subdir_video', 'new_row_id', 'country',\n",
       "       'research_site', 'genus', 'species', 'cam_coverage_area',\n",
       "       'location_metadata', 'habitat', 'utm_zone', 'utm_long', 'utm_lat',\n",
       "       'cam_id', 'vid_res', 'vid_duration', 'panaf_datasheet_comments', 'year',\n",
       "       'month', 'day', 'time_hr', 'time_min', 'cell_id', 'subfolder',\n",
       "       'video_file_name', 'event_id', 'min_number_chimps_per_video',\n",
       "       'max_number_chimps_per_video', 'age_class', 'sex', 'tool_use',\n",
       "       'vocalization', 'bipedal', 'camera_reaction', 'behavioral_context',\n",
       "       'other_species', 'additional_comments', 'record_type'],\n",
       "      dtype='object')"
      ]
     },
     "execution_count": 16,
     "metadata": {},
     "output_type": "execute_result"
    }
   ],
   "source": [
    "acp_trans_panaf_df = acp_trans_df.merge(df, on='subdir_video')\n",
    "acp_trans_panaf_df.columns"
   ]
  },
  {
   "cell_type": "code",
   "execution_count": 17,
   "id": "22eadf9b-1084-43fc-8009-cc093a1dc831",
   "metadata": {},
   "outputs": [],
   "source": [
    "# Filter ONLY videos which have 0 behavioural annotation\n",
    "no_annotations = all_df[all_df.label_indicator==False]['video']\n",
    "acp_trans_df = acp_trans_df[acp_trans_df.video.isin(no_annotations)]"
   ]
  },
  {
   "cell_type": "code",
   "execution_count": 18,
   "id": "5771145b-6e2a-4924-9191-7b880c6868a3",
   "metadata": {},
   "outputs": [],
   "source": [
    "# Merging PanAf annotations with new platform\n",
    "acp_trans_panaf_df = acp_trans_df.merge(df, on='subdir_video')"
   ]
  },
  {
   "cell_type": "code",
   "execution_count": 19,
   "id": "4ad3535c-2197-4b7d-996f-b7947e88783a",
   "metadata": {},
   "outputs": [
    {
     "data": {
      "text/plain": [
       "travel             44.255987\n",
       "feeding            33.725952\n",
       "climbing            8.197880\n",
       "resting             4.687868\n",
       "unclear             2.669808\n",
       "camera reaction     1.743227\n",
       "playing             1.295642\n",
       "tool use            1.107185\n",
       "tool use nuts       1.005104\n",
       "displaying          0.612485\n",
       "grooming            0.369062\n",
       "sexual              0.141343\n",
       "greeting            0.094229\n",
       "reassurance         0.047114\n",
       "aggression          0.047114\n",
       "Name: behavioral_context, dtype: float64"
      ]
     },
     "execution_count": 19,
     "metadata": {},
     "output_type": "execute_result"
    }
   ],
   "source": [
    "(acp_trans_panaf_df.behavioral_context.value_counts() / acp_trans_panaf_df.behavioral_context.value_counts().sum()) * 100"
   ]
  },
  {
   "cell_type": "code",
   "execution_count": 20,
   "id": "9350eb75-0803-42db-af26-7224b0583ba4",
   "metadata": {},
   "outputs": [
    {
     "name": "stderr",
     "output_type": "stream",
     "text": [
      "<ipython-input-20-faa76119fa2d>:2: FutureWarning: In a future version of pandas all arguments of DataFrame.drop except for the argument 'labels' will be keyword-only.\n",
      "  acp_trans_panaf_df.drop(acp_trans_panaf_df.columns.difference(['video', 'site', 'behavioral_context', 'tool_use','vocalization', 'bipedal', 'camera_reaction']), 1, inplace=True)\n"
     ]
    }
   ],
   "source": [
    "# Remove all columns except video_id and behavioural context\n",
    "acp_trans_panaf_df.drop(acp_trans_panaf_df.columns.difference(['video', 'site', 'behavioral_context', 'tool_use','vocalization', 'bipedal', 'camera_reaction']), 1, inplace=True)\n",
    "acp_trans_panaf_df.fillna('no', inplace=True)\n",
    "\n",
    "# Convert behavioural context to multiple columns with binary indicators\n",
    "behavioural_context_df = pd.get_dummies(acp_trans_panaf_df, columns=['behavioral_context'])\n",
    "behavioural_context_df.replace({'yes': 1, 'off_camera':1, 'offscreen':1, 'no': 0}, inplace=True)\n",
    "\n",
    "# Unify labels for multiple sub classes\n",
    "behavioural_context_df['true_tool_use']=(behavioural_context_df.tool_use==1)|(behavioural_context_df['behavioral_context_tool use']==1)|(behavioural_context_df['behavioral_context_tool use nuts']==1)\n",
    "behavioural_context_df['true_camera_reaction']=(behavioural_context_df['camera_reaction']==1)|(behavioural_context_df['behavioral_context_camera reaction']==1)\n",
    "behavioural_context_df['true_tool_use'] = behavioural_context_df['true_tool_use'].astype(int)\n",
    "behavioural_context_df['true_camera_reaction'] = behavioural_context_df['true_camera_reaction'].astype(int)"
   ]
  },
  {
   "cell_type": "code",
   "execution_count": 21,
   "id": "d200b31b-809d-4635-bf07-ffa3444f2949",
   "metadata": {},
   "outputs": [],
   "source": [
    "behavioural_context_df.drop(columns=['tool_use', 'camera_reaction', 'behavioral_context_camera reaction', 'behavioral_context_greeting', 'behavioral_context_resting', 'behavioral_context_tool use', 'behavioral_context_tool use nuts', 'behavioral_context_unclear'], inplace=True)"
   ]
  },
  {
   "cell_type": "code",
   "execution_count": 22,
   "id": "c57d96ca-1ba2-415d-a541-7128fbd406c0",
   "metadata": {},
   "outputs": [
    {
     "data": {
      "text/plain": [
       "Index(['video', 'site', 'vocalization', 'bipedal',\n",
       "       'behavioral_context_aggression', 'behavioral_context_climbing',\n",
       "       'behavioral_context_displaying', 'behavioral_context_feeding',\n",
       "       'behavioral_context_grooming', 'behavioral_context_playing',\n",
       "       'behavioral_context_reassurance', 'behavioral_context_sexual',\n",
       "       'behavioral_context_travel', 'true_tool_use', 'true_camera_reaction'],\n",
       "      dtype='object')"
      ]
     },
     "execution_count": 22,
     "metadata": {},
     "output_type": "execute_result"
    }
   ],
   "source": [
    "behavioural_context_df.columns"
   ]
  },
  {
   "cell_type": "code",
   "execution_count": 23,
   "id": "21af8090-40ad-4bfd-90be-304e1651b715",
   "metadata": {},
   "outputs": [],
   "source": [
    "behavioural_context_df.rename(\n",
    "    columns={\n",
    "    \"vocalization\": \"vocalisation\", \n",
    "    \"behavioral_context_aggression\": \"aggression\", \n",
    "    \"behavioral_context_climbing\":\"climbing\", \n",
    "    \"behavioral_context_displaying\":\"display\", \n",
    "    \"behavioral_context_feeding\":\"feeding\", \n",
    "    \"behavioral_context_grooming\":\"grooming\",\n",
    "    \"behavioral_context_sexual\":\"sex\", \n",
    "    \"behavioral_context_travel\":\"travel\",\n",
    "    \"true_tool_use\": \"tool_use\",\n",
    "    \"true_camera_reaction\": \"camera_reaction\",\n",
    "    },\n",
    "    inplace=True\n",
    ")\n",
    "\n",
    "behavioural_context_df['social_interaction']=(behavioural_context_df.behavioral_context_playing==1)|(behavioural_context_df.behavioral_context_reassurance==1)\n",
    "behavioural_context_df['social_interaction'] = behavioural_context_df['social_interaction'].astype(int)\n",
    "behavioural_context_df.drop(columns=['behavioral_context_playing', 'behavioral_context_reassurance'], inplace=True)"
   ]
  },
  {
   "cell_type": "code",
   "execution_count": 24,
   "id": "8574b4cc-5a19-4021-9a27-460eaa7d2be5",
   "metadata": {},
   "outputs": [],
   "source": [
    "to_label = lambda x: ','.join([str(i) for i in x])\n",
    "\n",
    "# Apply the lambda function to each row to create a new column 'label'\n",
    "behavioural_context_df['label'] = behavioural_context_df[behavioural_context_df.columns[2:]].apply(to_label, axis=1).astype('category')\n",
    "behavioural_context_df['label'] = behavioural_context_df.label.str.split(',')\n",
    "behavioural_context_df['label'] = behavioural_context_df.label.apply(lambda x: str([int(i) for i in x]))"
   ]
  },
  {
   "cell_type": "code",
   "execution_count": 25,
   "id": "8b81be79-f7f3-418a-bbbe-5342183bc36b",
   "metadata": {},
   "outputs": [],
   "source": [
    "multi_label_df = behavioural_context_df.groupby('video')['label'].apply(lambda x: True if len(x.unique())==1 else False).reset_index()\n",
    "multi_label_df = multi_label_df[multi_label_df.label==True]"
   ]
  },
  {
   "cell_type": "code",
   "execution_count": 26,
   "id": "cc65c36a-c273-47d8-97aa-b008224ba908",
   "metadata": {},
   "outputs": [],
   "source": [
    "videos2keep = multi_label_df.video\n",
    "behavioural_context_df = behavioural_context_df[behavioural_context_df.video.isin(videos2keep)]"
   ]
  },
  {
   "cell_type": "code",
   "execution_count": 27,
   "id": "6929d5cb-4276-418c-8790-9581a47234e2",
   "metadata": {},
   "outputs": [],
   "source": [
    "behavioural_context_df.drop(behavioural_context_df.columns.difference(['video', 'site', 'travel', 'feeding']), axis=1, inplace=True)"
   ]
  },
  {
   "cell_type": "code",
   "execution_count": 28,
   "id": "f573dd59-4359-47b8-9d66-ce7ed47665fb",
   "metadata": {},
   "outputs": [
    {
     "data": {
      "text/html": [
       "<div>\n",
       "<style scoped>\n",
       "    .dataframe tbody tr th:only-of-type {\n",
       "        vertical-align: middle;\n",
       "    }\n",
       "\n",
       "    .dataframe tbody tr th {\n",
       "        vertical-align: top;\n",
       "    }\n",
       "\n",
       "    .dataframe thead th {\n",
       "        text-align: right;\n",
       "    }\n",
       "</style>\n",
       "<table border=\"1\" class=\"dataframe\">\n",
       "  <thead>\n",
       "    <tr style=\"text-align: right;\">\n",
       "      <th></th>\n",
       "      <th>video</th>\n",
       "      <th>site</th>\n",
       "      <th>feeding</th>\n",
       "      <th>travel</th>\n",
       "    </tr>\n",
       "  </thead>\n",
       "  <tbody>\n",
       "    <tr>\n",
       "      <th>0</th>\n",
       "      <td>acp000cfoz</td>\n",
       "      <td>bwindi</td>\n",
       "      <td>0</td>\n",
       "      <td>1</td>\n",
       "    </tr>\n",
       "    <tr>\n",
       "      <th>1</th>\n",
       "      <td>acp00055t9</td>\n",
       "      <td>east_nimba</td>\n",
       "      <td>0</td>\n",
       "      <td>1</td>\n",
       "    </tr>\n",
       "    <tr>\n",
       "      <th>2</th>\n",
       "      <td>acp00072rb</td>\n",
       "      <td>kayan</td>\n",
       "      <td>0</td>\n",
       "      <td>1</td>\n",
       "    </tr>\n",
       "    <tr>\n",
       "      <th>3</th>\n",
       "      <td>acp00072rb</td>\n",
       "      <td>kayan</td>\n",
       "      <td>0</td>\n",
       "      <td>1</td>\n",
       "    </tr>\n",
       "    <tr>\n",
       "      <th>4</th>\n",
       "      <td>acp00072ra</td>\n",
       "      <td>kayan</td>\n",
       "      <td>0</td>\n",
       "      <td>1</td>\n",
       "    </tr>\n",
       "    <tr>\n",
       "      <th>...</th>\n",
       "      <td>...</td>\n",
       "      <td>...</td>\n",
       "      <td>...</td>\n",
       "      <td>...</td>\n",
       "    </tr>\n",
       "    <tr>\n",
       "      <th>12718</th>\n",
       "      <td>acp000ba92</td>\n",
       "      <td>budongo</td>\n",
       "      <td>0</td>\n",
       "      <td>1</td>\n",
       "    </tr>\n",
       "    <tr>\n",
       "      <th>12719</th>\n",
       "      <td>acp000bb8w</td>\n",
       "      <td>budongo</td>\n",
       "      <td>0</td>\n",
       "      <td>1</td>\n",
       "    </tr>\n",
       "    <tr>\n",
       "      <th>12720</th>\n",
       "      <td>acp000bb8w</td>\n",
       "      <td>budongo</td>\n",
       "      <td>0</td>\n",
       "      <td>1</td>\n",
       "    </tr>\n",
       "    <tr>\n",
       "      <th>12721</th>\n",
       "      <td>acp000dtt9</td>\n",
       "      <td>ngogo</td>\n",
       "      <td>1</td>\n",
       "      <td>0</td>\n",
       "    </tr>\n",
       "    <tr>\n",
       "      <th>12722</th>\n",
       "      <td>acp0004pkb</td>\n",
       "      <td>tair</td>\n",
       "      <td>0</td>\n",
       "      <td>1</td>\n",
       "    </tr>\n",
       "  </tbody>\n",
       "</table>\n",
       "<p>10990 rows × 4 columns</p>\n",
       "</div>"
      ],
      "text/plain": [
       "            video        site  feeding  travel\n",
       "0      acp000cfoz      bwindi        0       1\n",
       "1      acp00055t9  east_nimba        0       1\n",
       "2      acp00072rb       kayan        0       1\n",
       "3      acp00072rb       kayan        0       1\n",
       "4      acp00072ra       kayan        0       1\n",
       "...           ...         ...      ...     ...\n",
       "12718  acp000ba92     budongo        0       1\n",
       "12719  acp000bb8w     budongo        0       1\n",
       "12720  acp000bb8w     budongo        0       1\n",
       "12721  acp000dtt9       ngogo        1       0\n",
       "12722  acp0004pkb        tair        0       1\n",
       "\n",
       "[10990 rows x 4 columns]"
      ]
     },
     "execution_count": 28,
     "metadata": {},
     "output_type": "execute_result"
    }
   ],
   "source": [
    "behavioural_context_df"
   ]
  },
  {
   "cell_type": "markdown",
   "id": "bf34ab36-de52-4350-9a90-d420deb3cd41",
   "metadata": {},
   "source": [
    "**Combine ACP-prefixed data with Maureens annotations**"
   ]
  },
  {
   "cell_type": "code",
   "execution_count": 29,
   "id": "fe972943-fc99-48bf-b810-e6829c5fd747",
   "metadata": {},
   "outputs": [],
   "source": [
    "all_df = all_df[all_df.label_indicator==True]\n",
    "all_df.drop(columns=['subdir_video', 'ID', 'Tags', 'Unnamed: 2', 'split_tags', 'label_indicator', 'label'], inplace=True)\n",
    "\n",
    "missing_columns = [x for x in all_df.columns if x not in behavioural_context_df.columns]\n",
    "for col in missing_columns:\n",
    "    behavioural_context_df[col] = 0\n",
    "final_df = pd.concat([all_df, behavioural_context_df]).drop_duplicates()"
   ]
  },
  {
   "cell_type": "code",
   "execution_count": 57,
   "id": "ca933d57-ec91-40e4-8a94-85f1ec7e9217",
   "metadata": {},
   "outputs": [
    {
     "data": {
      "text/plain": [
       "array(['bwindi', 'taieast', 'budongo', 'taie', 'ngogo', 'sapo', 'kayan',\n",
       "       'east_nimba', 'tair', 'djouroutou', 'bili', 'grebo_sala',\n",
       "       'equatorial_guinea', 'azagny'], dtype=object)"
      ]
     },
     "execution_count": 57,
     "metadata": {},
     "output_type": "execute_result"
    }
   ],
   "source": [
    "final_df.site.unique()"
   ]
  },
  {
   "cell_type": "markdown",
   "id": "81ddd267-f016-4c29-a5a0-24c2b0c31bd0",
   "metadata": {},
   "source": [
    "**Process final df: index cols, add label indicator etc.**"
   ]
  },
  {
   "cell_type": "code",
   "execution_count": null,
   "id": "097ea109-e57a-4cd1-bd0d-e4827ee0cb3b",
   "metadata": {},
   "outputs": [],
   "source": [
    "sorted_columns_df = final_df.reindex(sorted(all_df.columns[1:-5]), axis=1)\n",
    "video_df = final_df[final_df.columns[:1]]\n",
    "indicator_df = final_df[final_df.columns[-5:]]\n",
    "final_df = pd.concat([video_df, indicator_df, sorted_columns_df], axis=1)\n",
    "\n",
    "# Create column indicating empties\n",
    "final_df['label_indicator'] = final_df[final_df.columns[6:]].astype(int).apply(lambda x: True if any([i for i in x]) else False, axis=1)\n",
    "\n",
    "final_df = final_df[final_df.label_indicator==True].drop(columns=['label_indicator'])"
   ]
  },
  {
   "cell_type": "code",
   "execution_count": 14,
   "id": "9c872619-f93f-49f7-b784-c701b1c85d54",
   "metadata": {},
   "outputs": [
    {
     "ename": "NameError",
     "evalue": "name 'final_df' is not defined",
     "output_type": "error",
     "traceback": [
      "\u001b[0;31m---------------------------------------------------------------------------\u001b[0m",
      "\u001b[0;31mNameError\u001b[0m                                 Traceback (most recent call last)",
      "\u001b[0;32m<ipython-input-14-efce9ad3c068>\u001b[0m in \u001b[0;36m<module>\u001b[0;34m\u001b[0m\n\u001b[0;32m----> 1\u001b[0;31m \u001b[0mfinal_df\u001b[0m\u001b[0;34m\u001b[0m\u001b[0;34m\u001b[0m\u001b[0m\n\u001b[0m",
      "\u001b[0;31mNameError\u001b[0m: name 'final_df' is not defined"
     ]
    }
   ],
   "source": [
    "final_df"
   ]
  },
  {
   "cell_type": "markdown",
   "id": "7ce9392c-619b-4f3d-8770-efc20d356b7e",
   "metadata": {},
   "source": [
    "**Qualitative testing: vis samples**"
   ]
  },
  {
   "cell_type": "code",
   "execution_count": null,
   "id": "f6b42fe9-9f23-4fe5-93ae-1607b159a5b0",
   "metadata": {},
   "outputs": [],
   "source": [
    "# Lazy: for ease of typing\n",
    "f = final_df"
   ]
  },
  {
   "cell_type": "code",
   "execution_count": null,
   "id": "8f34d944-d610-41d9-8c9a-d8c4d4777e60",
   "metadata": {},
   "outputs": [],
   "source": [
    "f[f.vocalisation==1]"
   ]
  },
  {
   "cell_type": "code",
   "execution_count": null,
   "id": "0726e6b6-617e-4803-ad44-0ba2acc3cedf",
   "metadata": {},
   "outputs": [],
   "source": [
    "final_df.columns[6:]"
   ]
  },
  {
   "cell_type": "markdown",
   "id": "965e752f-462c-4058-ae83-2f1ee68caf23",
   "metadata": {},
   "source": [
    "**Summary and distribution**"
   ]
  },
  {
   "cell_type": "code",
   "execution_count": null,
   "id": "0b234292-2931-4984-96b3-fa0abf972236",
   "metadata": {
    "tags": []
   },
   "outputs": [],
   "source": [
    "# Plot freq dist\n",
    "attr = final_df.columns[6:]\n",
    "counts=final_df[attr].sum(axis=0).sort_values(ascending=False) # occurence counts\n",
    "ax = counts.plot.bar(figsize=(15,5));\n",
    "plt.yscale('log');\n",
    "ax.set_xlabel(\"Behaviours\");\n",
    "ax.set_ylabel(\"Occurence\");"
   ]
  },
  {
   "cell_type": "code",
   "execution_count": null,
   "id": "b0496c3b-5b37-4e29-8581-d097c74a134a",
   "metadata": {
    "tags": []
   },
   "outputs": [],
   "source": [
    "# Plot co-occurence matrix\n",
    "coocc_df = final_df[attr].astype(int)\n",
    "coocc = coocc_df.T.dot(coocc_df)\n",
    "\n",
    "# Make sure it is relative for vis\n",
    "diag = np.diag(coocc)\n",
    "rel_co_matrix = np.array([1 / x for x in diag]) * coocc\n",
    "\n",
    "# Plot\n",
    "plt.figure(figsize=(15,10))\n",
    "sns.heatmap(rel_co_matrix);"
   ]
  },
  {
   "cell_type": "code",
   "execution_count": null,
   "id": "0b87d2d6-5e0f-4d32-9bfc-614e3c35f41b",
   "metadata": {},
   "outputs": [],
   "source": [
    "# Apply the lambda function to each row to create a new column 'label'\n",
    "final_df['label'] = final_df[final_df.columns[6:]].apply(to_label, axis=1).astype('category')\n",
    "final_df['label'] = final_df.label.str.split(',')\n",
    "final_df['label'] = final_df.label.apply(lambda x: str([int(i) for i in x]))"
   ]
  },
  {
   "cell_type": "code",
   "execution_count": null,
   "id": "832303f2-aea1-4153-ad41-e8a95c9a5ac8",
   "metadata": {},
   "outputs": [],
   "source": [
    "label_counts = pd.DataFrame(f.label.value_counts())"
   ]
  },
  {
   "cell_type": "code",
   "execution_count": null,
   "id": "2a5648d5-dc84-4f64-aaf5-f3d6aab100ca",
   "metadata": {},
   "outputs": [],
   "source": [
    "label_counts[label_counts.label>100].label.sum()"
   ]
  },
  {
   "cell_type": "code",
   "execution_count": null,
   "id": "baf5a187-f683-4a2f-ae4d-9fdf0422c00f",
   "metadata": {},
   "outputs": [],
   "source": [
    "label_counts[label_counts.label>20]"
   ]
  },
  {
   "cell_type": "code",
   "execution_count": null,
   "id": "67a62b43-8554-4271-b514-c9967cbc8400",
   "metadata": {},
   "outputs": [],
   "source": [
    "final_df"
   ]
  },
  {
   "cell_type": "code",
   "execution_count": null,
   "id": "a0352d49-cf62-4c8f-89c8-18f9bdb7a350",
   "metadata": {},
   "outputs": [],
   "source": [
    "attr"
   ]
  },
  {
   "cell_type": "code",
   "execution_count": null,
   "id": "c5025657-f173-499a-ba2f-01e66898b62e",
   "metadata": {},
   "outputs": [],
   "source": []
  }
 ],
 "metadata": {
  "kernelspec": {
   "display_name": "Python 3",
   "language": "python",
   "name": "python3"
  },
  "language_info": {
   "codemirror_mode": {
    "name": "ipython",
    "version": 3
   },
   "file_extension": ".py",
   "mimetype": "text/x-python",
   "name": "python",
   "nbconvert_exporter": "python",
   "pygments_lexer": "ipython3",
   "version": "3.8.13"
  }
 },
 "nbformat": 4,
 "nbformat_minor": 5
}
