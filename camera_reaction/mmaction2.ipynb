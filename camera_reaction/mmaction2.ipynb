{
 "cells": [
  {
   "cell_type": "code",
   "execution_count": 10,
   "metadata": {},
   "outputs": [],
   "source": [
    "import ast\n",
    "import numpy as np\n",
    "import pandas as pd"
   ]
  },
  {
   "cell_type": "code",
   "execution_count": 11,
   "metadata": {},
   "outputs": [],
   "source": [
    "train = pd.read_csv(\"data/train.csv\")\n",
    "train[\"video\"] = train[\"video\"] + \".mp4\"\n",
    "test = pd.read_csv(\"data/test.csv\")\n",
    "test[\"video\"] = test[\"video\"] + \".mp4\"\n",
    "val = pd.read_csv(\"data/val.csv\")\n",
    "val[\"video\"] = val[\"video\"] + \".mp4\""
   ]
  },
  {
   "cell_type": "code",
   "execution_count": 12,
   "metadata": {},
   "outputs": [],
   "source": [
    "frame_cnts = pd.read_csv(\"camera_reaction_frame_cnt.csv\")\n",
    "frame_cnts.rename({\"videos\": \"video\"}, axis=1, inplace=True)"
   ]
  },
  {
   "cell_type": "code",
   "execution_count": 13,
   "metadata": {},
   "outputs": [
    {
     "data": {
      "text/html": [
       "<div>\n",
       "<style scoped>\n",
       "    .dataframe tbody tr th:only-of-type {\n",
       "        vertical-align: middle;\n",
       "    }\n",
       "\n",
       "    .dataframe tbody tr th {\n",
       "        vertical-align: top;\n",
       "    }\n",
       "\n",
       "    .dataframe thead th {\n",
       "        text-align: right;\n",
       "    }\n",
       "</style>\n",
       "<table border=\"1\" class=\"dataframe\">\n",
       "  <thead>\n",
       "    <tr style=\"text-align: right;\">\n",
       "      <th></th>\n",
       "      <th>video</th>\n",
       "      <th>avoidance</th>\n",
       "      <th>attraction</th>\n",
       "      <th>inspection</th>\n",
       "      <th>no_reaction</th>\n",
       "      <th>label</th>\n",
       "    </tr>\n",
       "  </thead>\n",
       "  <tbody>\n",
       "    <tr>\n",
       "      <th>0</th>\n",
       "      <td>adk18_11090152.mp4</td>\n",
       "      <td>False</td>\n",
       "      <td>False</td>\n",
       "      <td>False</td>\n",
       "      <td>True</td>\n",
       "      <td>[0, 0, 0, 1]</td>\n",
       "    </tr>\n",
       "    <tr>\n",
       "      <th>1</th>\n",
       "      <td>adk20_10100389.mp4</td>\n",
       "      <td>False</td>\n",
       "      <td>False</td>\n",
       "      <td>False</td>\n",
       "      <td>True</td>\n",
       "      <td>[0, 0, 0, 1]</td>\n",
       "    </tr>\n",
       "    <tr>\n",
       "      <th>2</th>\n",
       "      <td>adk20_10100391.mp4</td>\n",
       "      <td>False</td>\n",
       "      <td>False</td>\n",
       "      <td>False</td>\n",
       "      <td>True</td>\n",
       "      <td>[0, 0, 0, 1]</td>\n",
       "    </tr>\n",
       "    <tr>\n",
       "      <th>3</th>\n",
       "      <td>adk20_1010781.mp4</td>\n",
       "      <td>False</td>\n",
       "      <td>False</td>\n",
       "      <td>False</td>\n",
       "      <td>True</td>\n",
       "      <td>[0, 0, 0, 1]</td>\n",
       "    </tr>\n",
       "    <tr>\n",
       "      <th>4</th>\n",
       "      <td>adk20_10170478.mp4</td>\n",
       "      <td>True</td>\n",
       "      <td>True</td>\n",
       "      <td>True</td>\n",
       "      <td>False</td>\n",
       "      <td>[1, 1, 1, 0]</td>\n",
       "    </tr>\n",
       "  </tbody>\n",
       "</table>\n",
       "</div>"
      ],
      "text/plain": [
       "                video  avoidance  attraction  inspection  no_reaction  \\\n",
       "0  adk18_11090152.mp4      False       False       False         True   \n",
       "1  adk20_10100389.mp4      False       False       False         True   \n",
       "2  adk20_10100391.mp4      False       False       False         True   \n",
       "3   adk20_1010781.mp4      False       False       False         True   \n",
       "4  adk20_10170478.mp4       True        True        True        False   \n",
       "\n",
       "          label  \n",
       "0  [0, 0, 0, 1]  \n",
       "1  [0, 0, 0, 1]  \n",
       "2  [0, 0, 0, 1]  \n",
       "3  [0, 0, 0, 1]  \n",
       "4  [1, 1, 1, 0]  "
      ]
     },
     "execution_count": 13,
     "metadata": {},
     "output_type": "execute_result"
    }
   ],
   "source": [
    "train.head()"
   ]
  },
  {
   "cell_type": "code",
   "execution_count": 14,
   "metadata": {},
   "outputs": [],
   "source": [
    "train[\"zero\"] = train.avoidance.apply(lambda x: 0 if x else pd.NA)\n",
    "train[\"one\"] = train.attraction.apply(lambda x: 1 if x else pd.NA)\n",
    "train[\"two\"] = train.inspection.apply(lambda x: 2 if x else pd.NA)\n",
    "train[\"three\"] = train.no_reaction.apply(lambda x: 3 if x else pd.NA)\n",
    "\n",
    "val[\"zero\"] = val.avoidance.apply(lambda x: 0 if x else pd.NA)\n",
    "val[\"one\"] = val.attraction.apply(lambda x: 1 if x else pd.NA)\n",
    "val[\"two\"] = val.inspection.apply(lambda x: 2 if x else pd.NA)\n",
    "val[\"three\"] = val.no_reaction.apply(lambda x: 3 if x else pd.NA)\n",
    "\n",
    "test[\"zero\"] = test.avoidance.apply(lambda x: 0 if x else pd.NA)\n",
    "test[\"one\"] = test.attraction.apply(lambda x: 1 if x else pd.NA)\n",
    "test[\"two\"] = test.inspection.apply(lambda x: 2 if x else pd.NA)\n",
    "test[\"three\"] = test.no_reaction.apply(lambda x: 3 if x else pd.NA)"
   ]
  },
  {
   "cell_type": "code",
   "execution_count": 6,
   "metadata": {},
   "outputs": [],
   "source": [
    "train = train.merge(frame_cnts, on=\"video\", how=\"left\")\n",
    "val = val.merge(frame_cnts, on=\"video\", how=\"left\")\n",
    "test = test.merge(frame_cnts, on=\"video\", how=\"left\")"
   ]
  },
  {
   "cell_type": "code",
   "execution_count": 7,
   "metadata": {},
   "outputs": [],
   "source": [
    "train[[\"video\", \"zero\", \"one\", \"two\", \"three\"]].to_csv(\n",
    "    \"train.txt\", header=None, index=None, sep=\" \"\n",
    ")\n",
    "val[[\"video\", \"zero\", \"one\", \"two\", \"three\"]].to_csv(\n",
    "    \"val.txt\", header=None, index=None, sep=\" \"\n",
    ")\n",
    "test[[\"video\", \"zero\", \"one\", \"two\", \"three\"]].to_csv(\n",
    "    \"test.txt\", header=None, index=None, sep=\" \"\n",
    ")"
   ]
  },
  {
   "cell_type": "code",
   "execution_count": 8,
   "metadata": {},
   "outputs": [],
   "source": [
    "# open text file\n",
    "def remove_whitespace(filename):\n",
    "    with open(filename, \"r\") as file:\n",
    "        # ensure only single whitespace between columns\n",
    "        data = file.read().replace(\"   \", \" \")\n",
    "\n",
    "    # write back to file\n",
    "    with open(filename, \"w\") as file:\n",
    "        file.write(data)\n",
    "\n",
    "    # open text file\n",
    "    with open(filename, \"r\") as file:\n",
    "        # ensure only single whitespace between columns\n",
    "        data = file.read().replace(\"  \", \" \")\n",
    "\n",
    "    # write back to file\n",
    "    with open(filename, \"w\") as file:\n",
    "        file.write(data)"
   ]
  },
  {
   "cell_type": "code",
   "execution_count": 9,
   "metadata": {},
   "outputs": [],
   "source": [
    "remove_whitespace(\"train.txt\")\n",
    "remove_whitespace(\"val.txt\")\n",
    "remove_whitespace(\"test.txt\")"
   ]
  },
  {
   "cell_type": "code",
   "execution_count": null,
   "metadata": {},
   "outputs": [],
   "source": []
  }
 ],
 "metadata": {
  "kernelspec": {
   "display_name": "dataset-upgrade",
   "language": "python",
   "name": "python3"
  },
  "language_info": {
   "codemirror_mode": {
    "name": "ipython",
    "version": 3
   },
   "file_extension": ".py",
   "mimetype": "text/x-python",
   "name": "python",
   "nbconvert_exporter": "python",
   "pygments_lexer": "ipython3",
   "version": "3.8.13"
  },
  "orig_nbformat": 4
 },
 "nbformat": 4,
 "nbformat_minor": 2
}
