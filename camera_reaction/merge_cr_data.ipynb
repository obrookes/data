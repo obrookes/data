{
 "cells": [
  {
   "cell_type": "code",
   "execution_count": 36,
   "metadata": {},
   "outputs": [],
   "source": [
    "import pandas as pd\n",
    "import numpy as np\n",
    "import seaborn as sns\n",
    "import matplotlib.pyplot as plt\n",
    "from glob import glob"
   ]
  },
  {
   "cell_type": "code",
   "execution_count": 33,
   "metadata": {},
   "outputs": [],
   "source": [
    "cotedivoire_df = pd.read_csv(\"annotations/cotedivoire.csv\")\n",
    "guinea_nw_df = pd.read_csv(\"annotations/guinea_nw.csv\")\n",
    "guinea_ne_df = pd.read_csv(\"annotations/guinea_ne.csv\")"
   ]
  },
  {
   "cell_type": "code",
   "execution_count": 34,
   "metadata": {},
   "outputs": [
    {
     "data": {
      "text/html": [
       "<div>\n",
       "<style scoped>\n",
       "    .dataframe tbody tr th:only-of-type {\n",
       "        vertical-align: middle;\n",
       "    }\n",
       "\n",
       "    .dataframe tbody tr th {\n",
       "        vertical-align: top;\n",
       "    }\n",
       "\n",
       "    .dataframe thead th {\n",
       "        text-align: right;\n",
       "    }\n",
       "</style>\n",
       "<table border=\"1\" class=\"dataframe\">\n",
       "  <thead>\n",
       "    <tr style=\"text-align: right;\">\n",
       "      <th></th>\n",
       "      <th>video</th>\n",
       "      <th>react</th>\n",
       "      <th>avoidance</th>\n",
       "      <th>attraction</th>\n",
       "      <th>inspection</th>\n",
       "      <th>no_reaction</th>\n",
       "      <th>label</th>\n",
       "    </tr>\n",
       "  </thead>\n",
       "  <tbody>\n",
       "    <tr>\n",
       "      <th>0</th>\n",
       "      <td>adk01_8230044</td>\n",
       "      <td>['Moving', 'Sitting']</td>\n",
       "      <td>False</td>\n",
       "      <td>False</td>\n",
       "      <td>False</td>\n",
       "      <td>True</td>\n",
       "      <td>[0, 0, 0, 1]</td>\n",
       "    </tr>\n",
       "    <tr>\n",
       "      <th>1</th>\n",
       "      <td>adk18_11090152</td>\n",
       "      <td>['Moving', 'Sitting']</td>\n",
       "      <td>False</td>\n",
       "      <td>False</td>\n",
       "      <td>False</td>\n",
       "      <td>True</td>\n",
       "      <td>[0, 0, 0, 1]</td>\n",
       "    </tr>\n",
       "    <tr>\n",
       "      <th>2</th>\n",
       "      <td>adk20_10020263</td>\n",
       "      <td>['Moving']</td>\n",
       "      <td>False</td>\n",
       "      <td>False</td>\n",
       "      <td>False</td>\n",
       "      <td>True</td>\n",
       "      <td>[0, 0, 0, 1]</td>\n",
       "    </tr>\n",
       "    <tr>\n",
       "      <th>3</th>\n",
       "      <td>adk20_10100389</td>\n",
       "      <td>['Moving']</td>\n",
       "      <td>False</td>\n",
       "      <td>False</td>\n",
       "      <td>False</td>\n",
       "      <td>True</td>\n",
       "      <td>[0, 0, 0, 1]</td>\n",
       "    </tr>\n",
       "    <tr>\n",
       "      <th>4</th>\n",
       "      <td>adk20_10100390</td>\n",
       "      <td>['Moving']</td>\n",
       "      <td>False</td>\n",
       "      <td>False</td>\n",
       "      <td>False</td>\n",
       "      <td>True</td>\n",
       "      <td>[0, 0, 0, 1]</td>\n",
       "    </tr>\n",
       "    <tr>\n",
       "      <th>...</th>\n",
       "      <td>...</td>\n",
       "      <td>...</td>\n",
       "      <td>...</td>\n",
       "      <td>...</td>\n",
       "      <td>...</td>\n",
       "      <td>...</td>\n",
       "      <td>...</td>\n",
       "    </tr>\n",
       "    <tr>\n",
       "      <th>206</th>\n",
       "      <td>tai58_2220142</td>\n",
       "      <td>['Moving']</td>\n",
       "      <td>False</td>\n",
       "      <td>False</td>\n",
       "      <td>False</td>\n",
       "      <td>True</td>\n",
       "      <td>[0, 0, 0, 1]</td>\n",
       "    </tr>\n",
       "    <tr>\n",
       "      <th>207</th>\n",
       "      <td>tai58_2220143</td>\n",
       "      <td>['Moving']</td>\n",
       "      <td>False</td>\n",
       "      <td>False</td>\n",
       "      <td>False</td>\n",
       "      <td>True</td>\n",
       "      <td>[0, 0, 0, 1]</td>\n",
       "    </tr>\n",
       "    <tr>\n",
       "      <th>208</th>\n",
       "      <td>tai58_2220145</td>\n",
       "      <td>['Moving']</td>\n",
       "      <td>False</td>\n",
       "      <td>False</td>\n",
       "      <td>False</td>\n",
       "      <td>True</td>\n",
       "      <td>[0, 0, 0, 1]</td>\n",
       "    </tr>\n",
       "    <tr>\n",
       "      <th>209</th>\n",
       "      <td>tai65_2070196</td>\n",
       "      <td>['Fixation']</td>\n",
       "      <td>False</td>\n",
       "      <td>False</td>\n",
       "      <td>True</td>\n",
       "      <td>False</td>\n",
       "      <td>[0, 0, 1, 0]</td>\n",
       "    </tr>\n",
       "    <tr>\n",
       "      <th>210</th>\n",
       "      <td>tai65_2070197</td>\n",
       "      <td>['Avoidance']</td>\n",
       "      <td>True</td>\n",
       "      <td>False</td>\n",
       "      <td>False</td>\n",
       "      <td>False</td>\n",
       "      <td>[1, 0, 0, 0]</td>\n",
       "    </tr>\n",
       "  </tbody>\n",
       "</table>\n",
       "<p>211 rows × 7 columns</p>\n",
       "</div>"
      ],
      "text/plain": [
       "              video                  react  avoidance  attraction  inspection  \\\n",
       "0     adk01_8230044  ['Moving', 'Sitting']      False       False       False   \n",
       "1    adk18_11090152  ['Moving', 'Sitting']      False       False       False   \n",
       "2    adk20_10020263             ['Moving']      False       False       False   \n",
       "3    adk20_10100389             ['Moving']      False       False       False   \n",
       "4    adk20_10100390             ['Moving']      False       False       False   \n",
       "..              ...                    ...        ...         ...         ...   \n",
       "206   tai58_2220142             ['Moving']      False       False       False   \n",
       "207   tai58_2220143             ['Moving']      False       False       False   \n",
       "208   tai58_2220145             ['Moving']      False       False       False   \n",
       "209   tai65_2070196           ['Fixation']      False       False        True   \n",
       "210   tai65_2070197          ['Avoidance']       True       False       False   \n",
       "\n",
       "     no_reaction         label  \n",
       "0           True  [0, 0, 0, 1]  \n",
       "1           True  [0, 0, 0, 1]  \n",
       "2           True  [0, 0, 0, 1]  \n",
       "3           True  [0, 0, 0, 1]  \n",
       "4           True  [0, 0, 0, 1]  \n",
       "..           ...           ...  \n",
       "206         True  [0, 0, 0, 1]  \n",
       "207         True  [0, 0, 0, 1]  \n",
       "208         True  [0, 0, 0, 1]  \n",
       "209        False  [0, 0, 1, 0]  \n",
       "210        False  [1, 0, 0, 0]  \n",
       "\n",
       "[211 rows x 7 columns]"
      ]
     },
     "execution_count": 34,
     "metadata": {},
     "output_type": "execute_result"
    }
   ],
   "source": [
    "cotedivoire_df"
   ]
  },
  {
   "cell_type": "code",
   "execution_count": 4,
   "metadata": {},
   "outputs": [],
   "source": [
    "df = pd.concat([cotedivoire_df, guinea_ne_df, guinea_nw_df])"
   ]
  },
  {
   "cell_type": "code",
   "execution_count": 44,
   "metadata": {},
   "outputs": [],
   "source": [
    "local_videos = pd.read_csv(\"camera_reaction_videos_jade2.csv\")"
   ]
  },
  {
   "cell_type": "code",
   "execution_count": 52,
   "metadata": {},
   "outputs": [
    {
     "data": {
      "text/plain": [
       "'20200405_093447_pan_troglodytes_verus_263468_1302289'"
      ]
     },
     "execution_count": 52,
     "metadata": {},
     "output_type": "execute_result"
    }
   ],
   "source": [
    "df[~df.video.isin(local_videos[\"0\"].values)].video.iloc[-2]"
   ]
  },
  {
   "cell_type": "code",
   "execution_count": 9,
   "metadata": {},
   "outputs": [
    {
     "data": {
      "text/html": [
       "<div>\n",
       "<style scoped>\n",
       "    .dataframe tbody tr th:only-of-type {\n",
       "        vertical-align: middle;\n",
       "    }\n",
       "\n",
       "    .dataframe tbody tr th {\n",
       "        vertical-align: top;\n",
       "    }\n",
       "\n",
       "    .dataframe thead th {\n",
       "        text-align: right;\n",
       "    }\n",
       "</style>\n",
       "<table border=\"1\" class=\"dataframe\">\n",
       "  <thead>\n",
       "    <tr style=\"text-align: right;\">\n",
       "      <th></th>\n",
       "      <th>avoidance</th>\n",
       "      <th>attraction</th>\n",
       "      <th>inspection</th>\n",
       "      <th>no_reaction</th>\n",
       "    </tr>\n",
       "  </thead>\n",
       "  <tbody>\n",
       "    <tr>\n",
       "      <th>0</th>\n",
       "      <td>False</td>\n",
       "      <td>False</td>\n",
       "      <td>False</td>\n",
       "      <td>True</td>\n",
       "    </tr>\n",
       "    <tr>\n",
       "      <th>1</th>\n",
       "      <td>False</td>\n",
       "      <td>False</td>\n",
       "      <td>False</td>\n",
       "      <td>True</td>\n",
       "    </tr>\n",
       "    <tr>\n",
       "      <th>2</th>\n",
       "      <td>False</td>\n",
       "      <td>False</td>\n",
       "      <td>False</td>\n",
       "      <td>True</td>\n",
       "    </tr>\n",
       "    <tr>\n",
       "      <th>3</th>\n",
       "      <td>False</td>\n",
       "      <td>False</td>\n",
       "      <td>False</td>\n",
       "      <td>True</td>\n",
       "    </tr>\n",
       "    <tr>\n",
       "      <th>4</th>\n",
       "      <td>False</td>\n",
       "      <td>False</td>\n",
       "      <td>False</td>\n",
       "      <td>True</td>\n",
       "    </tr>\n",
       "    <tr>\n",
       "      <th>...</th>\n",
       "      <td>...</td>\n",
       "      <td>...</td>\n",
       "      <td>...</td>\n",
       "      <td>...</td>\n",
       "    </tr>\n",
       "    <tr>\n",
       "      <th>377</th>\n",
       "      <td>False</td>\n",
       "      <td>False</td>\n",
       "      <td>False</td>\n",
       "      <td>True</td>\n",
       "    </tr>\n",
       "    <tr>\n",
       "      <th>378</th>\n",
       "      <td>False</td>\n",
       "      <td>False</td>\n",
       "      <td>False</td>\n",
       "      <td>True</td>\n",
       "    </tr>\n",
       "    <tr>\n",
       "      <th>379</th>\n",
       "      <td>False</td>\n",
       "      <td>False</td>\n",
       "      <td>False</td>\n",
       "      <td>True</td>\n",
       "    </tr>\n",
       "    <tr>\n",
       "      <th>380</th>\n",
       "      <td>False</td>\n",
       "      <td>False</td>\n",
       "      <td>False</td>\n",
       "      <td>True</td>\n",
       "    </tr>\n",
       "    <tr>\n",
       "      <th>381</th>\n",
       "      <td>False</td>\n",
       "      <td>False</td>\n",
       "      <td>False</td>\n",
       "      <td>True</td>\n",
       "    </tr>\n",
       "  </tbody>\n",
       "</table>\n",
       "<p>1466 rows × 4 columns</p>\n",
       "</div>"
      ],
      "text/plain": [
       "     avoidance  attraction  inspection  no_reaction\n",
       "0        False       False       False         True\n",
       "1        False       False       False         True\n",
       "2        False       False       False         True\n",
       "3        False       False       False         True\n",
       "4        False       False       False         True\n",
       "..         ...         ...         ...          ...\n",
       "377      False       False       False         True\n",
       "378      False       False       False         True\n",
       "379      False       False       False         True\n",
       "380      False       False       False         True\n",
       "381      False       False       False         True\n",
       "\n",
       "[1466 rows x 4 columns]"
      ]
     },
     "execution_count": 9,
     "metadata": {},
     "output_type": "execute_result"
    }
   ],
   "source": [
    "df[df.columns[2:6]]"
   ]
  },
  {
   "cell_type": "markdown",
   "metadata": {},
   "source": [
    "**Generate splits**"
   ]
  },
  {
   "cell_type": "code",
   "execution_count": 17,
   "metadata": {},
   "outputs": [],
   "source": [
    "from skmultilearn.model_selection import iterative_train_test_split\n",
    "\n",
    "X = df.video.to_numpy().reshape((1466, 1))\n",
    "labels = df[df.columns[2:6]].to_numpy()"
   ]
  },
  {
   "cell_type": "code",
   "execution_count": 24,
   "metadata": {},
   "outputs": [],
   "source": [
    "X_train, y_train, X_test, y_test = iterative_train_test_split(X, labels, test_size=0.30)\n",
    "X_test, y_test, X_val, y_val = iterative_train_test_split(\n",
    "    X_test, y_test, test_size=0.33\n",
    ")\n",
    "\n",
    "# Train df\n",
    "train_x_df = pd.DataFrame(X_train, columns=[\"video\"])\n",
    "train_y_df = pd.DataFrame(y_train, columns=df.columns[2:6])\n",
    "train_df = pd.concat([train_x_df, train_y_df], axis=1)\n",
    "\n",
    "# Test df\n",
    "test_x_df = pd.DataFrame(X_test, columns=[\"video\"])\n",
    "test_y_df = pd.DataFrame(y_test, columns=df.columns[2:6])\n",
    "test_df = pd.concat([test_x_df, test_y_df], axis=1)\n",
    "\n",
    "# Val df\n",
    "val_x_df = pd.DataFrame(X_val, columns=[\"video\"])\n",
    "val_y_df = pd.DataFrame(y_val, columns=df.columns[2:6])\n",
    "val_df = pd.concat([val_x_df, val_y_df], axis=1)\n",
    "\n",
    "to_label = lambda x: \",\".join([str(i) for i in x])\n",
    "\n",
    "for dataframe in [train_df, val_df, test_df]:\n",
    "    dataframe[\"label\"] = (\n",
    "        dataframe[df.columns[2:6]]\n",
    "        .astype(int)\n",
    "        .apply(to_label, axis=1)\n",
    "        .astype(\"category\")\n",
    "    )\n",
    "    dataframe[\"label\"] = dataframe.label.str.split(\",\")\n",
    "    dataframe[\"label\"] = dataframe.label.apply(lambda x: str([int(i) for i in x]))"
   ]
  },
  {
   "cell_type": "code",
   "execution_count": 31,
   "metadata": {},
   "outputs": [],
   "source": [
    "train_df.to_csv(\"annotations/splits/train.csv\", index=False)\n",
    "test_df.to_csv(\"annotations/splits/test.csv\", index=False)\n",
    "val_df.to_csv(\"annotations/splits/val.csv\", index=False)"
   ]
  },
  {
   "cell_type": "markdown",
   "metadata": {},
   "source": [
    "**Analysis**"
   ]
  },
  {
   "cell_type": "code",
   "execution_count": 9,
   "metadata": {},
   "outputs": [
    {
     "data": {
      "text/plain": [
       "<AxesSubplot:>"
      ]
     },
     "execution_count": 9,
     "metadata": {},
     "output_type": "execute_result"
    },
    {
     "data": {
      "image/png": "[encoded data removed]",
      "text/plain": [
       "<Figure size 432x288 with 1 Axes>"
      ]
     },
     "metadata": {
      "needs_background": "light"
     },
     "output_type": "display_data"
    }
   ],
   "source": [
    "df[df.columns[2:6]].astype(int).sum().plot.bar()"
   ]
  },
  {
   "cell_type": "code",
   "execution_count": 10,
   "metadata": {},
   "outputs": [
    {
     "data": {
      "text/plain": [
       "<AxesSubplot:>"
      ]
     },
     "execution_count": 10,
     "metadata": {},
     "output_type": "execute_result"
    },
    {
     "data": {
      "image/png": "[encoded data removed]",
      "text/plain": [
       "<Figure size 1080x720 with 2 Axes>"
      ]
     },
     "metadata": {
      "needs_background": "light"
     },
     "output_type": "display_data"
    }
   ],
   "source": [
    "attr = df.columns[2:6]\n",
    "\n",
    "# Plot co-occurence matrix\n",
    "coocc_df = df[attr].astype(int)\n",
    "coocc = coocc_df.T.dot(coocc_df)\n",
    "\n",
    "# Plot\n",
    "plt.figure(figsize=(15, 10))\n",
    "sns.heatmap(coocc, cmap=\"rocket_r\", annot=True, fmt=\".2f\")"
   ]
  }
 ],
 "metadata": {
  "kernelspec": {
   "display_name": "dataset-upgrade",
   "language": "python",
   "name": "python3"
  },
  "language_info": {
   "codemirror_mode": {
    "name": "ipython",
    "version": 3
   },
   "file_extension": ".py",
   "mimetype": "text/x-python",
   "name": "python",
   "nbconvert_exporter": "python",
   "pygments_lexer": "ipython3",
   "version": "3.8.13"
  },
  "orig_nbformat": 4
 },
 "nbformat": 4,
 "nbformat_minor": 2
}
