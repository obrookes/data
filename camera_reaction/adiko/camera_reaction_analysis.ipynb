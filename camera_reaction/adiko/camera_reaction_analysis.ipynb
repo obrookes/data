{
 "cells": [
  {
   "cell_type": "code",
   "execution_count": 1,
   "id": "b928f955-a74b-41b3-8aef-167233e221dd",
   "metadata": {},
   "outputs": [],
   "source": [
    "import os\n",
    "import numpy as np\n",
    "import pandas as pd\n",
    "import seaborn as sns\n",
    "from glob import glob\n",
    "from tqdm import tqdm\n",
    "from matplotlib import pyplot as plt\n",
    "from IPython.display import display, HTML"
   ]
  },
  {
   "cell_type": "markdown",
   "id": "f26be58d",
   "metadata": {},
   "source": [
    "**Process annotation file**"
   ]
  },
  {
   "cell_type": "code",
   "execution_count": 2,
   "id": "4033ea27-8f20-4751-9b49-9921000658e9",
   "metadata": {},
   "outputs": [
    {
     "ename": "FileNotFoundError",
     "evalue": "[Errno 2] No such file or directory: 'annotations/Species_Database.xlsx'",
     "output_type": "error",
     "traceback": [
      "\u001b[0;31m---------------------------------------------------------------------------\u001b[0m",
      "\u001b[0;31mFileNotFoundError\u001b[0m                         Traceback (most recent call last)",
      "\u001b[0;32m<ipython-input-2-383a7f572b3f>\u001b[0m in \u001b[0;36m<module>\u001b[0;34m\u001b[0m\n\u001b[1;32m      1\u001b[0m \u001b[0;31m# Load data and get basic info\u001b[0m\u001b[0;34m\u001b[0m\u001b[0;34m\u001b[0m\u001b[0;34m\u001b[0m\u001b[0m\n\u001b[0;32m----> 2\u001b[0;31m \u001b[0mdf\u001b[0m \u001b[0;34m=\u001b[0m \u001b[0mpd\u001b[0m\u001b[0;34m.\u001b[0m\u001b[0mread_excel\u001b[0m\u001b[0;34m(\u001b[0m\u001b[0;34m\"annotations/Species_Database.xlsx\"\u001b[0m\u001b[0;34m,\u001b[0m \u001b[0msheet_name\u001b[0m\u001b[0;34m=\u001b[0m\u001b[0;34m\"Western_chimpanzee\"\u001b[0m\u001b[0;34m)\u001b[0m\u001b[0;34m\u001b[0m\u001b[0;34m\u001b[0m\u001b[0m\n\u001b[0m\u001b[1;32m      3\u001b[0m \u001b[0;34m\u001b[0m\u001b[0m\n\u001b[1;32m      4\u001b[0m \u001b[0;31m# convert all column names to lower case\u001b[0m\u001b[0;34m\u001b[0m\u001b[0;34m\u001b[0m\u001b[0;34m\u001b[0m\u001b[0m\n\u001b[1;32m      5\u001b[0m \u001b[0mdf\u001b[0m\u001b[0;34m.\u001b[0m\u001b[0mcolumns\u001b[0m \u001b[0;34m=\u001b[0m \u001b[0mdf\u001b[0m\u001b[0;34m.\u001b[0m\u001b[0mcolumns\u001b[0m\u001b[0;34m.\u001b[0m\u001b[0mstr\u001b[0m\u001b[0;34m.\u001b[0m\u001b[0mlower\u001b[0m\u001b[0;34m(\u001b[0m\u001b[0;34m)\u001b[0m\u001b[0;34m\u001b[0m\u001b[0;34m\u001b[0m\u001b[0m\n",
      "\u001b[0;32m~/anaconda3/envs/dataset-upgrade/lib/python3.8/site-packages/pandas/util/_decorators.py\u001b[0m in \u001b[0;36mwrapper\u001b[0;34m(*args, **kwargs)\u001b[0m\n\u001b[1;32m    309\u001b[0m                     \u001b[0mstacklevel\u001b[0m\u001b[0;34m=\u001b[0m\u001b[0mstacklevel\u001b[0m\u001b[0;34m,\u001b[0m\u001b[0;34m\u001b[0m\u001b[0;34m\u001b[0m\u001b[0m\n\u001b[1;32m    310\u001b[0m                 )\n\u001b[0;32m--> 311\u001b[0;31m             \u001b[0;32mreturn\u001b[0m \u001b[0mfunc\u001b[0m\u001b[0;34m(\u001b[0m\u001b[0;34m*\u001b[0m\u001b[0margs\u001b[0m\u001b[0;34m,\u001b[0m \u001b[0;34m**\u001b[0m\u001b[0mkwargs\u001b[0m\u001b[0;34m)\u001b[0m\u001b[0;34m\u001b[0m\u001b[0;34m\u001b[0m\u001b[0m\n\u001b[0m\u001b[1;32m    312\u001b[0m \u001b[0;34m\u001b[0m\u001b[0m\n\u001b[1;32m    313\u001b[0m         \u001b[0;32mreturn\u001b[0m \u001b[0mwrapper\u001b[0m\u001b[0;34m\u001b[0m\u001b[0;34m\u001b[0m\u001b[0m\n",
      "\u001b[0;32m~/anaconda3/envs/dataset-upgrade/lib/python3.8/site-packages/pandas/io/excel/_base.py\u001b[0m in \u001b[0;36mread_excel\u001b[0;34m(io, sheet_name, header, names, index_col, usecols, squeeze, dtype, engine, converters, true_values, false_values, skiprows, nrows, na_values, keep_default_na, na_filter, verbose, parse_dates, date_parser, thousands, decimal, comment, skipfooter, convert_float, mangle_dupe_cols, storage_options)\u001b[0m\n\u001b[1;32m    455\u001b[0m     \u001b[0;32mif\u001b[0m \u001b[0;32mnot\u001b[0m \u001b[0misinstance\u001b[0m\u001b[0;34m(\u001b[0m\u001b[0mio\u001b[0m\u001b[0;34m,\u001b[0m \u001b[0mExcelFile\u001b[0m\u001b[0;34m)\u001b[0m\u001b[0;34m:\u001b[0m\u001b[0;34m\u001b[0m\u001b[0;34m\u001b[0m\u001b[0m\n\u001b[1;32m    456\u001b[0m         \u001b[0mshould_close\u001b[0m \u001b[0;34m=\u001b[0m \u001b[0;32mTrue\u001b[0m\u001b[0;34m\u001b[0m\u001b[0;34m\u001b[0m\u001b[0m\n\u001b[0;32m--> 457\u001b[0;31m         \u001b[0mio\u001b[0m \u001b[0;34m=\u001b[0m \u001b[0mExcelFile\u001b[0m\u001b[0;34m(\u001b[0m\u001b[0mio\u001b[0m\u001b[0;34m,\u001b[0m \u001b[0mstorage_options\u001b[0m\u001b[0;34m=\u001b[0m\u001b[0mstorage_options\u001b[0m\u001b[0;34m,\u001b[0m \u001b[0mengine\u001b[0m\u001b[0;34m=\u001b[0m\u001b[0mengine\u001b[0m\u001b[0;34m)\u001b[0m\u001b[0;34m\u001b[0m\u001b[0;34m\u001b[0m\u001b[0m\n\u001b[0m\u001b[1;32m    458\u001b[0m     \u001b[0;32melif\u001b[0m \u001b[0mengine\u001b[0m \u001b[0;32mand\u001b[0m \u001b[0mengine\u001b[0m \u001b[0;34m!=\u001b[0m \u001b[0mio\u001b[0m\u001b[0;34m.\u001b[0m\u001b[0mengine\u001b[0m\u001b[0;34m:\u001b[0m\u001b[0;34m\u001b[0m\u001b[0;34m\u001b[0m\u001b[0m\n\u001b[1;32m    459\u001b[0m         raise ValueError(\n",
      "\u001b[0;32m~/anaconda3/envs/dataset-upgrade/lib/python3.8/site-packages/pandas/io/excel/_base.py\u001b[0m in \u001b[0;36m__init__\u001b[0;34m(self, path_or_buffer, engine, storage_options)\u001b[0m\n\u001b[1;32m   1374\u001b[0m                 \u001b[0mext\u001b[0m \u001b[0;34m=\u001b[0m \u001b[0;34m\"xls\"\u001b[0m\u001b[0;34m\u001b[0m\u001b[0;34m\u001b[0m\u001b[0m\n\u001b[1;32m   1375\u001b[0m             \u001b[0;32melse\u001b[0m\u001b[0;34m:\u001b[0m\u001b[0;34m\u001b[0m\u001b[0;34m\u001b[0m\u001b[0m\n\u001b[0;32m-> 1376\u001b[0;31m                 ext = inspect_excel_format(\n\u001b[0m\u001b[1;32m   1377\u001b[0m                     \u001b[0mcontent_or_path\u001b[0m\u001b[0;34m=\u001b[0m\u001b[0mpath_or_buffer\u001b[0m\u001b[0;34m,\u001b[0m \u001b[0mstorage_options\u001b[0m\u001b[0;34m=\u001b[0m\u001b[0mstorage_options\u001b[0m\u001b[0;34m\u001b[0m\u001b[0;34m\u001b[0m\u001b[0m\n\u001b[1;32m   1378\u001b[0m                 )\n",
      "\u001b[0;32m~/anaconda3/envs/dataset-upgrade/lib/python3.8/site-packages/pandas/io/excel/_base.py\u001b[0m in \u001b[0;36minspect_excel_format\u001b[0;34m(content_or_path, storage_options)\u001b[0m\n\u001b[1;32m   1248\u001b[0m         \u001b[0mcontent_or_path\u001b[0m \u001b[0;34m=\u001b[0m \u001b[0mBytesIO\u001b[0m\u001b[0;34m(\u001b[0m\u001b[0mcontent_or_path\u001b[0m\u001b[0;34m)\u001b[0m\u001b[0;34m\u001b[0m\u001b[0;34m\u001b[0m\u001b[0m\n\u001b[1;32m   1249\u001b[0m \u001b[0;34m\u001b[0m\u001b[0m\n\u001b[0;32m-> 1250\u001b[0;31m     with get_handle(\n\u001b[0m\u001b[1;32m   1251\u001b[0m         \u001b[0mcontent_or_path\u001b[0m\u001b[0;34m,\u001b[0m \u001b[0;34m\"rb\"\u001b[0m\u001b[0;34m,\u001b[0m \u001b[0mstorage_options\u001b[0m\u001b[0;34m=\u001b[0m\u001b[0mstorage_options\u001b[0m\u001b[0;34m,\u001b[0m \u001b[0mis_text\u001b[0m\u001b[0;34m=\u001b[0m\u001b[0;32mFalse\u001b[0m\u001b[0;34m\u001b[0m\u001b[0;34m\u001b[0m\u001b[0m\n\u001b[1;32m   1252\u001b[0m     ) as handle:\n",
      "\u001b[0;32m~/anaconda3/envs/dataset-upgrade/lib/python3.8/site-packages/pandas/io/common.py\u001b[0m in \u001b[0;36mget_handle\u001b[0;34m(path_or_buf, mode, encoding, compression, memory_map, is_text, errors, storage_options)\u001b[0m\n\u001b[1;32m    796\u001b[0m         \u001b[0;32melse\u001b[0m\u001b[0;34m:\u001b[0m\u001b[0;34m\u001b[0m\u001b[0;34m\u001b[0m\u001b[0m\n\u001b[1;32m    797\u001b[0m             \u001b[0;31m# Binary mode\u001b[0m\u001b[0;34m\u001b[0m\u001b[0;34m\u001b[0m\u001b[0;34m\u001b[0m\u001b[0m\n\u001b[0;32m--> 798\u001b[0;31m             \u001b[0mhandle\u001b[0m \u001b[0;34m=\u001b[0m \u001b[0mopen\u001b[0m\u001b[0;34m(\u001b[0m\u001b[0mhandle\u001b[0m\u001b[0;34m,\u001b[0m \u001b[0mioargs\u001b[0m\u001b[0;34m.\u001b[0m\u001b[0mmode\u001b[0m\u001b[0;34m)\u001b[0m\u001b[0;34m\u001b[0m\u001b[0;34m\u001b[0m\u001b[0m\n\u001b[0m\u001b[1;32m    799\u001b[0m         \u001b[0mhandles\u001b[0m\u001b[0;34m.\u001b[0m\u001b[0mappend\u001b[0m\u001b[0;34m(\u001b[0m\u001b[0mhandle\u001b[0m\u001b[0;34m)\u001b[0m\u001b[0;34m\u001b[0m\u001b[0;34m\u001b[0m\u001b[0m\n\u001b[1;32m    800\u001b[0m \u001b[0;34m\u001b[0m\u001b[0m\n",
      "\u001b[0;31mFileNotFoundError\u001b[0m: [Errno 2] No such file or directory: 'annotations/Species_Database.xlsx'"
     ]
    }
   ],
   "source": [
    "# Load data and get basic info\n",
    "df = pd.read_excel(\n",
    "    \"/home/dl18206/Desktop/phd/data/panaf/camera_reaction/annotations/Species_Database.xlsx\",\n",
    "    sheet_name=\"Western_chimpanzee\",\n",
    ")\n",
    "\n",
    "# convert all column names to lower case\n",
    "df.columns = df.columns.str.lower()\n",
    "\n",
    "# remove rows where video_name is null\n",
    "df = df[df[\"video_name\"].notnull()]\n",
    "\n",
    "# assert all video_name end with .0\n",
    "assert all(df[\"video_name\"].astype(str).str.endswith(\".0\"))\n",
    "\n",
    "# remove .0 from video_name\n",
    "df[\"video_name\"] = df[\"video_name\"].astype(str).str[:-2]\n",
    "\n",
    "# Make a new column which combines transect_id and video_name\n",
    "df[\"transect_video_id\"] = (\n",
    "    df[\"transect_id\"].astype(str) + \"_\" + df[\"video_name\"].astype(str)\n",
    ")\n",
    "\n",
    "# Make all transect_video_id lower case\n",
    "df[\"transect_video_id\"] = df[\"transect_video_id\"].str.lower()"
   ]
  },
  {
   "attachments": {},
   "cell_type": "markdown",
   "id": "b055df10",
   "metadata": {},
   "source": [
    "**Process transect ID and names of local video**"
   ]
  },
  {
   "cell_type": "code",
   "execution_count": null,
   "id": "6fee6fbb",
   "metadata": {},
   "outputs": [],
   "source": [
    "# Analyse files stored locally\n",
    "path = \"/home/dl18206/Desktop/phd/data/panaf/camera_reaction/adiko/videos/chimps/full/transects\"\n",
    "full_path = glob(path + \"/**/*.MP4\", recursive=True)\n",
    "files = [x.split(\".\")[0] for x in full_path]\n",
    "\n",
    "# get transect and video name\n",
    "transect = [f.split(\"/\")[-2] for f in files]\n",
    "video = [f.split(\"/\")[-1] for f in files]\n",
    "\n",
    "# remove leading zerios from video names\n",
    "video = [v.lstrip(\"0\") for v in video]\n",
    "\n",
    "# combine transect and video name by /\n",
    "video = [t + \"_\" + v for t, v in zip(transect, video)]\n",
    "\n",
    "# make all lower case\n",
    "video = [v.lower() for v in video]\n",
    "\n",
    "df_local = pd.DataFrame({\"transect_video_id\": video, \"full_path\": full_path})"
   ]
  },
  {
   "cell_type": "markdown",
   "id": "7b61d9dc",
   "metadata": {},
   "source": [
    "**Rename videos to transect_video_id**"
   ]
  },
  {
   "cell_type": "code",
   "execution_count": null,
   "id": "e19ee91e",
   "metadata": {},
   "outputs": [],
   "source": [
    "# Rename videos to be a combination of transect and video_id\n",
    "videos = glob(\n",
    "    \"/home/dl18206/Desktop/phd/data/panaf/camera_reaction/adiko/videos/chimps/full/**/*.MP4\",\n",
    "    recursive=True,\n",
    ")\n",
    "videos_dir = (\n",
    "    \"/home/dl18206/Desktop/phd/data/panaf/camera_reaction/adiko/videos/chimps/full\"\n",
    ")\n",
    "for v in tqdm(videos):\n",
    "    filename = v.split(\"/\")[-1].split(\".\")[0].lstrip(\"0\")\n",
    "    transect = v.split(\"/\")[-2]\n",
    "    new_filename = f\"{transect}_{filename}.mp4\"\n",
    "    new_filename = new_filename.lower()\n",
    "    os.rename(v, os.path.join(videos_dir, new_filename))"
   ]
  },
  {
   "attachments": {},
   "cell_type": "markdown",
   "id": "a36d99e5",
   "metadata": {},
   "source": [
    "**Proportion of videos with (and without) camera reaction**"
   ]
  },
  {
   "cell_type": "code",
   "execution_count": null,
   "id": "ec0142ad",
   "metadata": {},
   "outputs": [],
   "source": [
    "tmp = merged_df[[\"transect_video_id\", \"full_path\"]].drop_duplicates()\n",
    "camera_reaction_df = (\n",
    "    merged_df.groupby(\"transect_video_id\")[[\"reactivity\"]]\n",
    "    .apply(lambda x: (x[\"reactivity\"] == \"With reaction\").any())\n",
    "    .reset_index()\n",
    "    .rename({0: \"camera_reaction\"}, axis=1)\n",
    ")\n",
    "camera_reaction_df = camera_reaction_df.merge(tmp, on=\"transect_video_id\")"
   ]
  },
  {
   "attachments": {},
   "cell_type": "markdown",
   "id": "ee1fd5a6",
   "metadata": {},
   "source": [
    "**Processing for annotation**"
   ]
  },
  {
   "cell_type": "code",
   "execution_count": 14,
   "id": "54c7a888",
   "metadata": {},
   "outputs": [],
   "source": [
    "tmp_df = pd.DataFrame(\n",
    "    df.groupby(\"transect_video_id\")[\"behaviour\"].apply(lambda x: list(set(x)))\n",
    ")\n",
    "tmp_df = pd.DataFrame({\"behaviour\": tmp_df.behaviour}).reset_index()\n",
    "\n",
    "for b in df.behaviour.unique():\n",
    "    tmp_df[b] = tmp_df.behaviour.apply(lambda x: True if b in x else False)\n",
    "tmp_df.columns = tmp_df.columns.str.lower()\n",
    "\n",
    "local_videos = [\n",
    "    x.split(\"/\")[-1].split(\".\")[0]\n",
    "    for x in glob(\n",
    "        \"/home/dl18206/Desktop/phd/data/panaf/camera_reaction/adiko/videos/chimps/full/all/**/*.mp4\",\n",
    "        recursive=True,\n",
    "    )\n",
    "]\n",
    "\n",
    "tmp_df[tmp_df.transect_video_id.isin(local_videos)]\n",
    "tmp_df.rename(columns={\"transect_video_id\": \"video\"}, inplace=True)"
   ]
  },
  {
   "cell_type": "code",
   "execution_count": 15,
   "id": "2ac3c56d",
   "metadata": {},
   "outputs": [
    {
     "data": {
      "text/plain": [
       "<AxesSubplot:>"
      ]
     },
     "execution_count": 15,
     "metadata": {},
     "output_type": "execute_result"
    },
    {
     "data": {
      "image/png": "[encoded data removed]",
      "text/plain": [
       "<Figure size 1080x720 with 2 Axes>"
      ]
     },
     "metadata": {
      "needs_background": "light"
     },
     "output_type": "display_data"
    }
   ],
   "source": [
    "attr = tmp_df.columns[2:]\n",
    "\n",
    "# Plot co-occurence matrix\n",
    "coocc_df = tmp_df[attr].astype(int)\n",
    "coocc = coocc_df.T.dot(coocc_df)\n",
    "\n",
    "# Plot\n",
    "plt.figure(figsize=(15, 10))\n",
    "sns.heatmap(coocc, cmap=\"rocket_r\", annot=True, fmt=\".2f\")"
   ]
  },
  {
   "cell_type": "code",
   "execution_count": 16,
   "id": "669ba11c",
   "metadata": {},
   "outputs": [],
   "source": [
    "# F = staring at the camera/inspecting the camera\n",
    "# P = No reaction\n",
    "# A = coming closer to the camera (because the camera was spotted. We can see that the chimpanzee noticed the camera, and they are now\n",
    "#     getting closer to inspect it)\n",
    "# R = Moving away from the camera (because the camera was spotted. We can see that the chipmanzee noticed the camera, and they are now\n",
    "#     going away from it, often quicky as affraid of it)"
   ]
  },
  {
   "cell_type": "code",
   "execution_count": 17,
   "id": "c339adb6",
   "metadata": {},
   "outputs": [],
   "source": [
    "# Group inspection and fixation as per benjamins annotations\n",
    "# This is wrong (maybe) should both be grouped into attraction as per Adikos ethogram\n",
    "# Ask Christophe about this grouping\n",
    "tmp_df[\"inspection_or_fixation\"] = tmp_df[\"inspection\"] | tmp_df[\"fixation\"]\n",
    "\n",
    "# No reaction column\n",
    "tmp_df[\"reaction\"] = (\n",
    "    tmp_df[\"inspection\"]\n",
    "    | tmp_df[\"fixation\"]\n",
    "    | tmp_df[\"avoidance\"]\n",
    "    | tmp_df[\"attraction\"]\n",
    ")\n",
    "tmp_df[\"no_reaction\"] = ~tmp_df[\"reaction\"]\n",
    "\n",
    "# Effectively use no_reaction to cover moving, sitting, feeding/foraging, grooming\n",
    "tmp_df.drop(\n",
    "    columns=[\n",
    "        \"inspection\",\n",
    "        \"fixation\",\n",
    "        \"reaction\",\n",
    "        \"moving\",\n",
    "        \"sitting\",\n",
    "        \"feeding/foraging\",\n",
    "        \"grooming\",\n",
    "    ],\n",
    "    inplace=True,\n",
    ")\n",
    "\n",
    "tmp_df.rename(\n",
    "    columns={\"inspection_or_fixation\": \"inspection\", \"behaviour\": \"react\"}, inplace=True\n",
    ")"
   ]
  },
  {
   "cell_type": "code",
   "execution_count": 18,
   "id": "fd951a0e",
   "metadata": {},
   "outputs": [],
   "source": [
    "to_label = lambda x: \",\".join([str(i) for i in x])\n",
    "tmp_df[\"label\"] = (\n",
    "    tmp_df[tmp_df.columns[2:]].astype(int).apply(to_label, axis=1).astype(\"category\")\n",
    ")\n",
    "tmp_df[\"label\"] = tmp_df.label.str.split(\",\")\n",
    "tmp_df[\"label\"] = tmp_df.label.apply(lambda x: [int(i) for i in x])"
   ]
  },
  {
   "cell_type": "code",
   "execution_count": 20,
   "id": "fc9bea3d",
   "metadata": {},
   "outputs": [
    {
     "data": {
      "text/html": [
       "<div>\n",
       "<style scoped>\n",
       "    .dataframe tbody tr th:only-of-type {\n",
       "        vertical-align: middle;\n",
       "    }\n",
       "\n",
       "    .dataframe tbody tr th {\n",
       "        vertical-align: top;\n",
       "    }\n",
       "\n",
       "    .dataframe thead th {\n",
       "        text-align: right;\n",
       "    }\n",
       "</style>\n",
       "<table border=\"1\" class=\"dataframe\">\n",
       "  <thead>\n",
       "    <tr style=\"text-align: right;\">\n",
       "      <th></th>\n",
       "      <th>video</th>\n",
       "      <th>react</th>\n",
       "      <th>avoidance</th>\n",
       "      <th>attraction</th>\n",
       "      <th>inspection</th>\n",
       "      <th>no_reaction</th>\n",
       "      <th>label</th>\n",
       "    </tr>\n",
       "  </thead>\n",
       "  <tbody>\n",
       "    <tr>\n",
       "      <th>0</th>\n",
       "      <td>adk01_8230044</td>\n",
       "      <td>[Moving, Sitting]</td>\n",
       "      <td>False</td>\n",
       "      <td>False</td>\n",
       "      <td>False</td>\n",
       "      <td>True</td>\n",
       "      <td>[0, 0, 0, 1]</td>\n",
       "    </tr>\n",
       "    <tr>\n",
       "      <th>1</th>\n",
       "      <td>adk18_11090152</td>\n",
       "      <td>[Moving, Sitting]</td>\n",
       "      <td>False</td>\n",
       "      <td>False</td>\n",
       "      <td>False</td>\n",
       "      <td>True</td>\n",
       "      <td>[0, 0, 0, 1]</td>\n",
       "    </tr>\n",
       "    <tr>\n",
       "      <th>2</th>\n",
       "      <td>adk20_10020263</td>\n",
       "      <td>[Moving]</td>\n",
       "      <td>False</td>\n",
       "      <td>False</td>\n",
       "      <td>False</td>\n",
       "      <td>True</td>\n",
       "      <td>[0, 0, 0, 1]</td>\n",
       "    </tr>\n",
       "    <tr>\n",
       "      <th>3</th>\n",
       "      <td>adk20_10100389</td>\n",
       "      <td>[Moving]</td>\n",
       "      <td>False</td>\n",
       "      <td>False</td>\n",
       "      <td>False</td>\n",
       "      <td>True</td>\n",
       "      <td>[0, 0, 0, 1]</td>\n",
       "    </tr>\n",
       "    <tr>\n",
       "      <th>4</th>\n",
       "      <td>adk20_10100390</td>\n",
       "      <td>[Moving]</td>\n",
       "      <td>False</td>\n",
       "      <td>False</td>\n",
       "      <td>False</td>\n",
       "      <td>True</td>\n",
       "      <td>[0, 0, 0, 1]</td>\n",
       "    </tr>\n",
       "    <tr>\n",
       "      <th>...</th>\n",
       "      <td>...</td>\n",
       "      <td>...</td>\n",
       "      <td>...</td>\n",
       "      <td>...</td>\n",
       "      <td>...</td>\n",
       "      <td>...</td>\n",
       "      <td>...</td>\n",
       "    </tr>\n",
       "    <tr>\n",
       "      <th>206</th>\n",
       "      <td>tai58_2220142</td>\n",
       "      <td>[Moving]</td>\n",
       "      <td>False</td>\n",
       "      <td>False</td>\n",
       "      <td>False</td>\n",
       "      <td>True</td>\n",
       "      <td>[0, 0, 0, 1]</td>\n",
       "    </tr>\n",
       "    <tr>\n",
       "      <th>207</th>\n",
       "      <td>tai58_2220143</td>\n",
       "      <td>[Moving]</td>\n",
       "      <td>False</td>\n",
       "      <td>False</td>\n",
       "      <td>False</td>\n",
       "      <td>True</td>\n",
       "      <td>[0, 0, 0, 1]</td>\n",
       "    </tr>\n",
       "    <tr>\n",
       "      <th>208</th>\n",
       "      <td>tai58_2220145</td>\n",
       "      <td>[Moving]</td>\n",
       "      <td>False</td>\n",
       "      <td>False</td>\n",
       "      <td>False</td>\n",
       "      <td>True</td>\n",
       "      <td>[0, 0, 0, 1]</td>\n",
       "    </tr>\n",
       "    <tr>\n",
       "      <th>209</th>\n",
       "      <td>tai65_2070196</td>\n",
       "      <td>[Fixation]</td>\n",
       "      <td>False</td>\n",
       "      <td>False</td>\n",
       "      <td>True</td>\n",
       "      <td>False</td>\n",
       "      <td>[0, 0, 1, 0]</td>\n",
       "    </tr>\n",
       "    <tr>\n",
       "      <th>210</th>\n",
       "      <td>tai65_2070197</td>\n",
       "      <td>[Avoidance]</td>\n",
       "      <td>True</td>\n",
       "      <td>False</td>\n",
       "      <td>False</td>\n",
       "      <td>False</td>\n",
       "      <td>[1, 0, 0, 0]</td>\n",
       "    </tr>\n",
       "  </tbody>\n",
       "</table>\n",
       "<p>211 rows × 7 columns</p>\n",
       "</div>"
      ],
      "text/plain": [
       "              video              react  avoidance  attraction  inspection  \\\n",
       "0     adk01_8230044  [Moving, Sitting]      False       False       False   \n",
       "1    adk18_11090152  [Moving, Sitting]      False       False       False   \n",
       "2    adk20_10020263           [Moving]      False       False       False   \n",
       "3    adk20_10100389           [Moving]      False       False       False   \n",
       "4    adk20_10100390           [Moving]      False       False       False   \n",
       "..              ...                ...        ...         ...         ...   \n",
       "206   tai58_2220142           [Moving]      False       False       False   \n",
       "207   tai58_2220143           [Moving]      False       False       False   \n",
       "208   tai58_2220145           [Moving]      False       False       False   \n",
       "209   tai65_2070196         [Fixation]      False       False        True   \n",
       "210   tai65_2070197        [Avoidance]       True       False       False   \n",
       "\n",
       "     no_reaction         label  \n",
       "0           True  [0, 0, 0, 1]  \n",
       "1           True  [0, 0, 0, 1]  \n",
       "2           True  [0, 0, 0, 1]  \n",
       "3           True  [0, 0, 0, 1]  \n",
       "4           True  [0, 0, 0, 1]  \n",
       "..           ...           ...  \n",
       "206         True  [0, 0, 0, 1]  \n",
       "207         True  [0, 0, 0, 1]  \n",
       "208         True  [0, 0, 0, 1]  \n",
       "209        False  [0, 0, 1, 0]  \n",
       "210        False  [1, 0, 0, 0]  \n",
       "\n",
       "[211 rows x 7 columns]"
      ]
     },
     "execution_count": 20,
     "metadata": {},
     "output_type": "execute_result"
    }
   ],
   "source": [
    "tmp_df"
   ]
  },
  {
   "cell_type": "markdown",
   "id": "ea7ec19f",
   "metadata": {},
   "source": [
    "**Write to CSV**"
   ]
  },
  {
   "cell_type": "code",
   "execution_count": null,
   "id": "92668fef",
   "metadata": {},
   "outputs": [],
   "source": [
    "tmp_df.to_csv(\"cotedivoire.csv\", index=False)"
   ]
  },
  {
   "cell_type": "code",
   "execution_count": null,
   "id": "7a3fe7ed",
   "metadata": {},
   "outputs": [],
   "source": []
  }
 ],
 "metadata": {
  "kernelspec": {
   "display_name": "Python 3",
   "language": "python",
   "name": "python3"
  },
  "language_info": {
   "codemirror_mode": {
    "name": "ipython",
    "version": 3
   },
   "file_extension": ".py",
   "mimetype": "text/x-python",
   "name": "python",
   "nbconvert_exporter": "python",
   "pygments_lexer": "ipython3",
   "version": "3.8.13"
  }
 },
 "nbformat": 4,
 "nbformat_minor": 5
}
