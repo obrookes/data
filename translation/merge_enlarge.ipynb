{
 "cells": [
  {
   "cell_type": "code",
   "execution_count": 109,
   "id": "17ce56d8-5b87-40c2-b72f-837736b74040",
   "metadata": {},
   "outputs": [],
   "source": [
    "import re\n",
    "import mmcv\n",
    "import json\n",
    "import torch\n",
    "import shutil\n",
    "import numpy as np\n",
    "import pandas as pd\n",
    "from glob import glob\n",
    "from tqdm import tqdm\n",
    "from PIL import Image"
   ]
  },
  {
   "cell_type": "code",
   "execution_count": 136,
   "id": "c8815fe3-c1bc-4a5c-a8f0-e495178a977d",
   "metadata": {},
   "outputs": [],
   "source": [
    "chimp = pd.read_excel(open('/home/dl18206/Downloads/Chimp & See master chimpanzee video list 2015-2018_OB_analysis.xlsx', 'rb'),\n",
    "              sheet_name=\"Otto's Analysis (Plain Text)\")"
   ]
  },
  {
   "cell_type": "code",
   "execution_count": 137,
   "id": "095aeda4-dbad-4f95-ae14-f083a7f0af77",
   "metadata": {},
   "outputs": [
    {
     "name": "stderr",
     "output_type": "stream",
     "text": [
      "<ipython-input-137-549ee0df9a75>:4: SettingWithCopyWarning: \n",
      "A value is trying to be set on a copy of a slice from a DataFrame.\n",
      "Try using .loc[row_indexer,col_indexer] = value instead\n",
      "\n",
      "See the caveats in the documentation: https://pandas.pydata.org/pandas-docs/stable/user_guide/indexing.html#returning-a-view-versus-a-copy\n",
      "  df['single_ape'] = df.Tags.apply(lambda x: '1_chimp' in x)\n"
     ]
    }
   ],
   "source": [
    "core_videos = glob('../acp/videos/core/**/*.mp4', recursive=True)\n",
    "core_videos = [x.split('/')[-1].split('.')[0] for x in core_videos]\n",
    "df = chimp[chimp['ID'].isin(core_videos)]\n",
    "df['single_ape'] = df.Tags.apply(lambda x: '1_chimp' in x)"
   ]
  },
  {
   "cell_type": "code",
   "execution_count": 138,
   "id": "9d63d709-1715-49a9-bb55-ca07bd891247",
   "metadata": {},
   "outputs": [
    {
     "data": {
      "text/html": [
       "<div>\n",
       "<style scoped>\n",
       "    .dataframe tbody tr th:only-of-type {\n",
       "        vertical-align: middle;\n",
       "    }\n",
       "\n",
       "    .dataframe tbody tr th {\n",
       "        vertical-align: top;\n",
       "    }\n",
       "\n",
       "    .dataframe thead th {\n",
       "        text-align: right;\n",
       "    }\n",
       "</style>\n",
       "<table border=\"1\" class=\"dataframe\">\n",
       "  <thead>\n",
       "    <tr style=\"text-align: right;\">\n",
       "      <th></th>\n",
       "      <th>ID</th>\n",
       "      <th>Tags</th>\n",
       "      <th>Unnamed: 2</th>\n",
       "      <th>single_ape</th>\n",
       "    </tr>\n",
       "  </thead>\n",
       "  <tbody>\n",
       "    <tr>\n",
       "      <th>1</th>\n",
       "      <td>ACP000002l</td>\n",
       "      <td>chimp 1_chimp early_morning quietwood juvenile...</td>\n",
       "      <td>QW1</td>\n",
       "      <td>True</td>\n",
       "    </tr>\n",
       "    <tr>\n",
       "      <th>2</th>\n",
       "      <td>ACP00000ga</td>\n",
       "      <td>chimp 1_chimp qwmale25 quietwood</td>\n",
       "      <td>QW1</td>\n",
       "      <td>True</td>\n",
       "    </tr>\n",
       "    <tr>\n",
       "      <th>6</th>\n",
       "      <td>ACP00000ep</td>\n",
       "      <td>chimp qwfam09b 2_chimp qwfam09a quietwood juve...</td>\n",
       "      <td>QW1</td>\n",
       "      <td>False</td>\n",
       "    </tr>\n",
       "    <tr>\n",
       "      <th>7</th>\n",
       "      <td>ACP00000g6</td>\n",
       "      <td>chimp needcid 1_chimp quietwood juvenile</td>\n",
       "      <td>QW1</td>\n",
       "      <td>True</td>\n",
       "    </tr>\n",
       "    <tr>\n",
       "      <th>8</th>\n",
       "      <td>ACP00000ma</td>\n",
       "      <td>chimp male 1_chimp quietwood qwmale23</td>\n",
       "      <td>QW1</td>\n",
       "      <td>True</td>\n",
       "    </tr>\n",
       "  </tbody>\n",
       "</table>\n",
       "</div>"
      ],
      "text/plain": [
       "           ID                                               Tags Unnamed: 2  \\\n",
       "1  ACP000002l  chimp 1_chimp early_morning quietwood juvenile...        QW1   \n",
       "2  ACP00000ga                   chimp 1_chimp qwmale25 quietwood        QW1   \n",
       "6  ACP00000ep  chimp qwfam09b 2_chimp qwfam09a quietwood juve...        QW1   \n",
       "7  ACP00000g6           chimp needcid 1_chimp quietwood juvenile        QW1   \n",
       "8  ACP00000ma              chimp male 1_chimp quietwood qwmale23        QW1   \n",
       "\n",
       "   single_ape  \n",
       "1        True  \n",
       "2        True  \n",
       "6       False  \n",
       "7        True  \n",
       "8        True  "
      ]
     },
     "execution_count": 138,
     "metadata": {},
     "output_type": "execute_result"
    }
   ],
   "source": [
    "df.head()"
   ]
  },
  {
   "cell_type": "markdown",
   "id": "cb340922-763d-45d5-8e32-bd4ad2772b1c",
   "metadata": {},
   "source": [
    "**Get videos with only 1 ape in annotations**"
   ]
  },
  {
   "cell_type": "code",
   "execution_count": 139,
   "id": "6dc6bee6-cdbc-4321-9481-51de2f34702c",
   "metadata": {},
   "outputs": [],
   "source": [
    "annotations = glob('/home/dl18206/Desktop/phd/code/personal/pan-africa-annotation/ape-tracking/annotations/**/*.json', recursive=True)"
   ]
  },
  {
   "cell_type": "code",
   "execution_count": 114,
   "id": "b14fe32f-a136-47bc-a461-67429037bb77",
   "metadata": {},
   "outputs": [
    {
     "name": "stderr",
     "output_type": "stream",
     "text": [
      "100%|██████████| 5045/5045 [00:11<00:00, 425.71it/s]\n"
     ]
    }
   ],
   "source": [
    "videos, apes = [], []\n",
    "\n",
    "for annotation in tqdm(annotations):\n",
    "    with open(annotation, 'rb') as handle:\n",
    "        data = json.load(handle)\n",
    "        \n",
    "    video = data['video']\n",
    "    ape_ids = []\n",
    "    \n",
    "    for a in data['annotations']:    \n",
    "        for i in a['detections']:\n",
    "            ape_ids.append(i['ape_id'])\n",
    "    if ape_ids == []:\n",
    "        ids = 0\n",
    "    else:\n",
    "        ids = max(ape_ids) + 1\n",
    "    \n",
    "    videos.append(video)\n",
    "    apes.append(ids)"
   ]
  },
  {
   "cell_type": "code",
   "execution_count": 121,
   "id": "fea947a2-6102-4a48-adf9-ab9a9a621514",
   "metadata": {},
   "outputs": [],
   "source": [
    "a_df = pd.DataFrame([videos, apes]).transpose()"
   ]
  },
  {
   "cell_type": "code",
   "execution_count": 122,
   "id": "e67736ab-ab3e-468f-942f-95246d33fadf",
   "metadata": {},
   "outputs": [],
   "source": [
    "a_df = pd.DataFrame([videos, apes]).transpose()\n",
    "joined_df = df.join(a_df.set_index(0), on='ID', how='inner')\n",
    "# joined_df = joined_df[(joined_df.single_ape==True)]"
   ]
  },
  {
   "cell_type": "code",
   "execution_count": 141,
   "id": "33701ff1-ddf1-4770-9c05-b9438c77ef8d",
   "metadata": {},
   "outputs": [
    {
     "data": {
      "text/html": [
       "<div>\n",
       "<style scoped>\n",
       "    .dataframe tbody tr th:only-of-type {\n",
       "        vertical-align: middle;\n",
       "    }\n",
       "\n",
       "    .dataframe tbody tr th {\n",
       "        vertical-align: top;\n",
       "    }\n",
       "\n",
       "    .dataframe thead th {\n",
       "        text-align: right;\n",
       "    }\n",
       "</style>\n",
       "<table border=\"1\" class=\"dataframe\">\n",
       "  <thead>\n",
       "    <tr style=\"text-align: right;\">\n",
       "      <th></th>\n",
       "      <th>ID</th>\n",
       "      <th>Tags</th>\n",
       "      <th>Unnamed: 2</th>\n",
       "    </tr>\n",
       "  </thead>\n",
       "  <tbody>\n",
       "    <tr>\n",
       "      <th>0</th>\n",
       "      <td>ACP000002j</td>\n",
       "      <td>chimp camera_reaction 3_chimp infant juvenile ...</td>\n",
       "      <td>QW1</td>\n",
       "    </tr>\n",
       "    <tr>\n",
       "      <th>1</th>\n",
       "      <td>ACP000002l</td>\n",
       "      <td>chimp 1_chimp early_morning quietwood juvenile...</td>\n",
       "      <td>QW1</td>\n",
       "    </tr>\n",
       "    <tr>\n",
       "      <th>2</th>\n",
       "      <td>ACP00000ga</td>\n",
       "      <td>chimp 1_chimp qwmale25 quietwood</td>\n",
       "      <td>QW1</td>\n",
       "    </tr>\n",
       "    <tr>\n",
       "      <th>3</th>\n",
       "      <td>ACP00000gd</td>\n",
       "      <td>chimp 1_chimp qwmale25 quietwood</td>\n",
       "      <td>QW1</td>\n",
       "    </tr>\n",
       "    <tr>\n",
       "      <th>4</th>\n",
       "      <td>ACP00000gf</td>\n",
       "      <td>chimp 1_chimp qwmale25 quietwood</td>\n",
       "      <td>QW1</td>\n",
       "    </tr>\n",
       "    <tr>\n",
       "      <th>...</th>\n",
       "      <td>...</td>\n",
       "      <td>...</td>\n",
       "      <td>...</td>\n",
       "    </tr>\n",
       "    <tr>\n",
       "      <th>14788</th>\n",
       "      <td>ACP000d2wi</td>\n",
       "      <td>vocalization needcid gsinf01 chimp gaia juveni...</td>\n",
       "      <td>GS16</td>\n",
       "    </tr>\n",
       "    <tr>\n",
       "      <th>14789</th>\n",
       "      <td>ACP000d2pf</td>\n",
       "      <td>chimp yoana gsinf31 infant adult camera_reacti...</td>\n",
       "      <td>GS16</td>\n",
       "    </tr>\n",
       "    <tr>\n",
       "      <th>14790</th>\n",
       "      <td>ACP000d2pg</td>\n",
       "      <td>gsinf31 yoana dailyzoo carrying_young chimp ca...</td>\n",
       "      <td>GS16</td>\n",
       "    </tr>\n",
       "    <tr>\n",
       "      <th>14791</th>\n",
       "      <td>ACP000d2ph</td>\n",
       "      <td>funny yoana gsinf31 juvenile camera_reaction g...</td>\n",
       "      <td>GS16</td>\n",
       "    </tr>\n",
       "    <tr>\n",
       "      <th>14792</th>\n",
       "      <td>ACP000d2y1</td>\n",
       "      <td>vocal-only screaming greensnowflake vocalizati...</td>\n",
       "      <td>GS16</td>\n",
       "    </tr>\n",
       "  </tbody>\n",
       "</table>\n",
       "<p>14793 rows × 3 columns</p>\n",
       "</div>"
      ],
      "text/plain": [
       "               ID                                               Tags  \\\n",
       "0      ACP000002j  chimp camera_reaction 3_chimp infant juvenile ...   \n",
       "1      ACP000002l  chimp 1_chimp early_morning quietwood juvenile...   \n",
       "2      ACP00000ga                   chimp 1_chimp qwmale25 quietwood   \n",
       "3      ACP00000gd                   chimp 1_chimp qwmale25 quietwood   \n",
       "4      ACP00000gf                   chimp 1_chimp qwmale25 quietwood   \n",
       "...           ...                                                ...   \n",
       "14788  ACP000d2wi  vocalization needcid gsinf01 chimp gaia juveni...   \n",
       "14789  ACP000d2pf  chimp yoana gsinf31 infant adult camera_reacti...   \n",
       "14790  ACP000d2pg  gsinf31 yoana dailyzoo carrying_young chimp ca...   \n",
       "14791  ACP000d2ph  funny yoana gsinf31 juvenile camera_reaction g...   \n",
       "14792  ACP000d2y1  vocal-only screaming greensnowflake vocalizati...   \n",
       "\n",
       "      Unnamed: 2  \n",
       "0            QW1  \n",
       "1            QW1  \n",
       "2            QW1  \n",
       "3            QW1  \n",
       "4            QW1  \n",
       "...          ...  \n",
       "14788       GS16  \n",
       "14789       GS16  \n",
       "14790       GS16  \n",
       "14791       GS16  \n",
       "14792       GS16  \n",
       "\n",
       "[14793 rows x 3 columns]"
      ]
     },
     "execution_count": 141,
     "metadata": {},
     "output_type": "execute_result"
    }
   ],
   "source": [
    "chimp"
   ]
  },
  {
   "cell_type": "code",
   "execution_count": 165,
   "id": "ce24a6a2-4268-42de-9484-783de1bc782d",
   "metadata": {},
   "outputs": [],
   "source": [
    "joined_df[(joined_df.single_ape==True) & (joined_df[1]!=0) & (joined_df[1]<4)].to_excel('tracklet_analysis.xlsx')"
   ]
  },
  {
   "cell_type": "code",
   "execution_count": 162,
   "id": "7fe3ae3c-30df-4862-ab59-e1432e09ee63",
   "metadata": {},
   "outputs": [
    {
     "data": {
      "text/html": [
       "<div>\n",
       "<style scoped>\n",
       "    .dataframe tbody tr th:only-of-type {\n",
       "        vertical-align: middle;\n",
       "    }\n",
       "\n",
       "    .dataframe tbody tr th {\n",
       "        vertical-align: top;\n",
       "    }\n",
       "\n",
       "    .dataframe thead th {\n",
       "        text-align: right;\n",
       "    }\n",
       "</style>\n",
       "<table border=\"1\" class=\"dataframe\">\n",
       "  <thead>\n",
       "    <tr style=\"text-align: right;\">\n",
       "      <th></th>\n",
       "      <th>ID</th>\n",
       "      <th>Tagsleft</th>\n",
       "      <th>Unnamed: 2left</th>\n",
       "      <th>Tagsright</th>\n",
       "      <th>Unnamed: 2right</th>\n",
       "      <th>single_ape</th>\n",
       "      <th>1</th>\n",
       "    </tr>\n",
       "  </thead>\n",
       "  <tbody>\n",
       "    <tr>\n",
       "      <th>0</th>\n",
       "      <td>ACP000002j</td>\n",
       "      <td>chimp camera_reaction 3_chimp infant juvenile ...</td>\n",
       "      <td>QW1</td>\n",
       "      <td>NaN</td>\n",
       "      <td>NaN</td>\n",
       "      <td>NaN</td>\n",
       "      <td>NaN</td>\n",
       "    </tr>\n",
       "    <tr>\n",
       "      <th>1</th>\n",
       "      <td>ACP000002l</td>\n",
       "      <td>chimp 1_chimp early_morning quietwood juvenile...</td>\n",
       "      <td>QW1</td>\n",
       "      <td>chimp 1_chimp early_morning quietwood juvenile...</td>\n",
       "      <td>QW1</td>\n",
       "      <td>True</td>\n",
       "      <td>1</td>\n",
       "    </tr>\n",
       "    <tr>\n",
       "      <th>2</th>\n",
       "      <td>ACP00000ga</td>\n",
       "      <td>chimp 1_chimp qwmale25 quietwood</td>\n",
       "      <td>QW1</td>\n",
       "      <td>chimp 1_chimp qwmale25 quietwood</td>\n",
       "      <td>QW1</td>\n",
       "      <td>True</td>\n",
       "      <td>1</td>\n",
       "    </tr>\n",
       "    <tr>\n",
       "      <th>3</th>\n",
       "      <td>ACP00000gd</td>\n",
       "      <td>chimp 1_chimp qwmale25 quietwood</td>\n",
       "      <td>QW1</td>\n",
       "      <td>NaN</td>\n",
       "      <td>NaN</td>\n",
       "      <td>NaN</td>\n",
       "      <td>NaN</td>\n",
       "    </tr>\n",
       "    <tr>\n",
       "      <th>4</th>\n",
       "      <td>ACP00000gf</td>\n",
       "      <td>chimp 1_chimp qwmale25 quietwood</td>\n",
       "      <td>QW1</td>\n",
       "      <td>NaN</td>\n",
       "      <td>NaN</td>\n",
       "      <td>NaN</td>\n",
       "      <td>NaN</td>\n",
       "    </tr>\n",
       "    <tr>\n",
       "      <th>...</th>\n",
       "      <td>...</td>\n",
       "      <td>...</td>\n",
       "      <td>...</td>\n",
       "      <td>...</td>\n",
       "      <td>...</td>\n",
       "      <td>...</td>\n",
       "      <td>...</td>\n",
       "    </tr>\n",
       "    <tr>\n",
       "      <th>14788</th>\n",
       "      <td>ACP000d2wi</td>\n",
       "      <td>vocalization needcid gsinf01 chimp gaia juveni...</td>\n",
       "      <td>GS16</td>\n",
       "      <td>NaN</td>\n",
       "      <td>NaN</td>\n",
       "      <td>NaN</td>\n",
       "      <td>NaN</td>\n",
       "    </tr>\n",
       "    <tr>\n",
       "      <th>14789</th>\n",
       "      <td>ACP000d2pf</td>\n",
       "      <td>chimp yoana gsinf31 infant adult camera_reacti...</td>\n",
       "      <td>GS16</td>\n",
       "      <td>NaN</td>\n",
       "      <td>NaN</td>\n",
       "      <td>NaN</td>\n",
       "      <td>NaN</td>\n",
       "    </tr>\n",
       "    <tr>\n",
       "      <th>14790</th>\n",
       "      <td>ACP000d2pg</td>\n",
       "      <td>gsinf31 yoana dailyzoo carrying_young chimp ca...</td>\n",
       "      <td>GS16</td>\n",
       "      <td>NaN</td>\n",
       "      <td>NaN</td>\n",
       "      <td>NaN</td>\n",
       "      <td>NaN</td>\n",
       "    </tr>\n",
       "    <tr>\n",
       "      <th>14791</th>\n",
       "      <td>ACP000d2ph</td>\n",
       "      <td>funny yoana gsinf31 juvenile camera_reaction g...</td>\n",
       "      <td>GS16</td>\n",
       "      <td>NaN</td>\n",
       "      <td>NaN</td>\n",
       "      <td>NaN</td>\n",
       "      <td>NaN</td>\n",
       "    </tr>\n",
       "    <tr>\n",
       "      <th>14792</th>\n",
       "      <td>ACP000d2y1</td>\n",
       "      <td>vocal-only screaming greensnowflake vocalizati...</td>\n",
       "      <td>GS16</td>\n",
       "      <td>NaN</td>\n",
       "      <td>NaN</td>\n",
       "      <td>NaN</td>\n",
       "      <td>NaN</td>\n",
       "    </tr>\n",
       "  </tbody>\n",
       "</table>\n",
       "<p>14793 rows × 7 columns</p>\n",
       "</div>"
      ],
      "text/plain": [
       "               ID                                           Tagsleft  \\\n",
       "0      ACP000002j  chimp camera_reaction 3_chimp infant juvenile ...   \n",
       "1      ACP000002l  chimp 1_chimp early_morning quietwood juvenile...   \n",
       "2      ACP00000ga                   chimp 1_chimp qwmale25 quietwood   \n",
       "3      ACP00000gd                   chimp 1_chimp qwmale25 quietwood   \n",
       "4      ACP00000gf                   chimp 1_chimp qwmale25 quietwood   \n",
       "...           ...                                                ...   \n",
       "14788  ACP000d2wi  vocalization needcid gsinf01 chimp gaia juveni...   \n",
       "14789  ACP000d2pf  chimp yoana gsinf31 infant adult camera_reacti...   \n",
       "14790  ACP000d2pg  gsinf31 yoana dailyzoo carrying_young chimp ca...   \n",
       "14791  ACP000d2ph  funny yoana gsinf31 juvenile camera_reaction g...   \n",
       "14792  ACP000d2y1  vocal-only screaming greensnowflake vocalizati...   \n",
       "\n",
       "      Unnamed: 2left                                          Tagsright  \\\n",
       "0                QW1                                                NaN   \n",
       "1                QW1  chimp 1_chimp early_morning quietwood juvenile...   \n",
       "2                QW1                   chimp 1_chimp qwmale25 quietwood   \n",
       "3                QW1                                                NaN   \n",
       "4                QW1                                                NaN   \n",
       "...              ...                                                ...   \n",
       "14788           GS16                                                NaN   \n",
       "14789           GS16                                                NaN   \n",
       "14790           GS16                                                NaN   \n",
       "14791           GS16                                                NaN   \n",
       "14792           GS16                                                NaN   \n",
       "\n",
       "      Unnamed: 2right single_ape    1  \n",
       "0                 NaN        NaN  NaN  \n",
       "1                 QW1       True    1  \n",
       "2                 QW1       True    1  \n",
       "3                 NaN        NaN  NaN  \n",
       "4                 NaN        NaN  NaN  \n",
       "...               ...        ...  ...  \n",
       "14788             NaN        NaN  NaN  \n",
       "14789             NaN        NaN  NaN  \n",
       "14790             NaN        NaN  NaN  \n",
       "14791             NaN        NaN  NaN  \n",
       "14792             NaN        NaN  NaN  \n",
       "\n",
       "[14793 rows x 7 columns]"
      ]
     },
     "execution_count": 162,
     "metadata": {},
     "output_type": "execute_result"
    }
   ],
   "source": [
    "chimp.join(joined_df.set_index('ID'), on='ID', how='outer', lsuffix='left', rsuffix='right')"
   ]
  },
  {
   "cell_type": "code",
   "execution_count": 42,
   "id": "45df48da-5ca8-49c0-97d7-606a3a0e67bd",
   "metadata": {},
   "outputs": [],
   "source": [
    "def make_patch(frame, bbox_scaler=0.15):\n",
    "    \n",
    "    x_min_lim = 0\n",
    "    y_min_lim = 0\n",
    "    \n",
    "    x_max_lim = 720\n",
    "    y_max_lim = 404\n",
    "    \n",
    "    species = frame['detections'][0]['species']\n",
    "    site = frame['detections'][0]['site']\n",
    "    detection_score = sum([x['detection_score'] for x in frame['detections']]) / len(frame['detections'])\n",
    "    \n",
    "    per_frame_detections = frame['detections']\n",
    "    \n",
    "\n",
    "    x1, y1, x2, y2 = [], [], [], []\n",
    "\n",
    "    for d in per_frame_detections:\n",
    "        x1.append(d['bbox'][0])\n",
    "        y1.append(d['bbox'][1])\n",
    "        x2.append(d['bbox'][2])\n",
    "        y2.append(d['bbox'][3])\n",
    "\n",
    "    xmin, ymin, xmax, ymax = min(x1), min(y1), max(x2), max(y2)\n",
    "    \n",
    "    xmin -= bbox_scaler * (xmax - xmin)\n",
    "    xmax += bbox_scaler * (xmax - xmin)\n",
    "    ymin -= bbox_scaler * (ymax - ymin)\n",
    "    ymax += bbox_scaler * (ymax - ymin)\n",
    "    \n",
    "    xmin = x_min_lim if (xmin < x_min_lim) else xmin\n",
    "    ymin = y_min_lim if (ymin < y_min_lim) else ymin\n",
    "    \n",
    "    xmax = x_max_lim if (xmax > x_max_lim) else xmax\n",
    "    ymax = y_max_lim if (ymax > y_max_lim) else ymax\n",
    "    \n",
    "    return dict(frame_id=frame['frame_id'],\n",
    "         detections = [dict(ape_id=0, species=species, site=site, detection_score=detection_score, bbox=[xmin, ymin, xmax, ymax])]\n",
    "    )"
   ]
  },
  {
   "cell_type": "code",
   "execution_count": 43,
   "id": "cf3c25b1-f935-4c82-bb56-1e766d1120ca",
   "metadata": {},
   "outputs": [],
   "source": [
    "def frame2patch(video_ids, annotations):\n",
    "    for v in tqdm(video_ids):\n",
    "        for a in annotations:\n",
    "            if(a.split('/')[-1].split('.')[0] == v):\n",
    "                with open(a, 'rb') as handle:\n",
    "                    data = json.load(handle)\n",
    "\n",
    "                for i in range(0, len(data['annotations'])):\n",
    "                    data['annotations'][i] = make_patch(data['annotations'][i])\n",
    "\n",
    "                with open(a, 'w') as handle:\n",
    "                    json.dump(data, handle, ensure_ascii=False, indent=4)"
   ]
  },
  {
   "cell_type": "code",
   "execution_count": 45,
   "id": "9a9103f8-4ecc-4c91-81f3-148f0311d8fe",
   "metadata": {},
   "outputs": [
    {
     "name": "stderr",
     "output_type": "stream",
     "text": [
      "100%|██████████| 1966/1966 [00:28<00:00, 69.37it/s]\n"
     ]
    }
   ],
   "source": [
    "frame2patch(joined_df.ID.values, annotations)"
   ]
  },
  {
   "cell_type": "code",
   "execution_count": 47,
   "id": "b743fcd7-7a70-4552-ac12-4d5844992127",
   "metadata": {},
   "outputs": [],
   "source": [
    "with open('/home/dl18206/Desktop/phd/code/personal/pan-africa-annotation/ape-tracking/annotations/ACP000d6gx.json', 'rb') as handle:\n",
    "    test_annotation = json.load(handle)\n",
    "\n",
    "test_video = mmcv.VideoReader('/home/dl18206/Desktop/phd/data/panaf/acp/videos/core/tracked/ACP000d6gx.mp4')\n",
    "test_frame = test_video[0]"
   ]
  },
  {
   "cell_type": "code",
   "execution_count": 48,
   "id": "33ef70bb-ba1d-4bee-9892-fef875bdf9cd",
   "metadata": {},
   "outputs": [
    {
     "data": {
      "text/plain": [
       "[81.70554122924804, 258.0314346313477, 245.92088848114014, 404]"
      ]
     },
     "execution_count": 48,
     "metadata": {},
     "output_type": "execute_result"
    }
   ],
   "source": [
    "test_bbox = test_annotation['annotations'][0]['detections'][0]['bbox']\n",
    "test_bbox"
   ]
  },
  {
   "cell_type": "code",
   "execution_count": 49,
   "id": "b0b3e9ea-888b-40fb-a214-5832105eb659",
   "metadata": {},
   "outputs": [
    {
     "data": {
      "image/png": "[encoded data removed]",
      "text/plain": [
       "<PIL.Image.Image image mode=RGB size=164x146 at 0x7FF93CE3C370>"
      ]
     },
     "execution_count": 49,
     "metadata": {},
     "output_type": "execute_result"
    }
   ],
   "source": [
    "img = Image.fromarray(test_frame)\n",
    "img.crop(test_bbox)"
   ]
  },
  {
   "cell_type": "code",
   "execution_count": 50,
   "id": "450fcfa2-f4c7-4cd4-abce-122081379093",
   "metadata": {},
   "outputs": [
    {
     "data": {
      "text/plain": [
       "(720, 404)"
      ]
     },
     "execution_count": 50,
     "metadata": {},
     "output_type": "execute_result"
    }
   ],
   "source": [
    "img.width, img.height"
   ]
  },
  {
   "cell_type": "code",
   "execution_count": null,
   "id": "b986db08-8cec-4c22-982e-976931ec2e3d",
   "metadata": {},
   "outputs": [],
   "source": []
  }
 ],
 "metadata": {
  "kernelspec": {
   "display_name": "Python 3",
   "language": "python",
   "name": "python3"
  },
  "language_info": {
   "codemirror_mode": {
    "name": "ipython",
    "version": 3
   },
   "file_extension": ".py",
   "mimetype": "text/x-python",
   "name": "python",
   "nbconvert_exporter": "python",
   "pygments_lexer": "ipython3",
   "version": "3.8.13"
  }
 },
 "nbformat": 4,
 "nbformat_minor": 5
}
