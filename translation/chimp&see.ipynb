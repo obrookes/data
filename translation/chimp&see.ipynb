{
 "cells": [
  {
   "cell_type": "markdown",
   "id": "4492e6ee-3f91-4365-b021-d89d4977c09d",
   "metadata": {},
   "source": [
    "**Create labels from Chimp&See data**"
   ]
  },
  {
   "cell_type": "code",
   "execution_count": 1,
   "id": "b5d39cd7-f41a-419d-8732-6d9c6d367347",
   "metadata": {},
   "outputs": [],
   "source": [
    "import re\n",
    "import json\n",
    "import shutil\n",
    "import numpy as np\n",
    "import pandas as pd\n",
    "import seaborn as sns\n",
    "from glob import glob\n",
    "from tqdm import tqdm\n",
    "import matplotlib.pyplot as plt\n",
    "from sklearn.model_selection import train_test_split"
   ]
  },
  {
   "cell_type": "code",
   "execution_count": null,
   "id": "863a805b-0b68-4bf7-8e78-caf02545fe6c",
   "metadata": {},
   "outputs": [],
   "source": [
    "chimp = pd.read_excel(open('/home/dl18206/Downloads/Chimp & See master chimpanzee video list 2015-2018_OB_analysis.xlsx', 'rb'),\n",
    "              sheet_name=\"Otto's Analysis (Plain Text)\")"
   ]
  },
  {
   "cell_type": "code",
   "execution_count": null,
   "id": "134a3fe7-02f1-4593-ade4-bf305c9a7a01",
   "metadata": {},
   "outputs": [],
   "source": [
    "core_videos = glob('../acp/videos/core/**/*.mp4', recursive=True)\n",
    "core_videos = [x.split('/')[-1].split('.')[0] for x in core_videos]\n",
    "\n",
    "df = chimp[chimp['ID'].isin(core_videos)]\n",
    "df['split_tags'] = df.Tags.str.split(' ')"
   ]
  },
  {
   "cell_type": "code",
   "execution_count": null,
   "id": "295ac3a6-b0e0-43f1-a994-0b42db1875ea",
   "metadata": {},
   "outputs": [],
   "source": [
    "# ID's for videos with single ape and tracklet info\n",
    "# subset_ids = open('single_ape_subset.txt', 'r').read().strip().split()\n",
    "# subset_df = pd.DataFrame(subset_ids, columns=['id'])"
   ]
  },
  {
   "cell_type": "code",
   "execution_count": null,
   "id": "6972f3a8-5923-41d2-a328-e42d56b58fca",
   "metadata": {},
   "outputs": [],
   "source": [
    "# df = df.join(subset_df.set_index('id'), on='ID', how='inner')"
   ]
  },
  {
   "cell_type": "code",
   "execution_count": null,
   "id": "01011327-ce25-4887-a8d4-33561e8fe88d",
   "metadata": {},
   "outputs": [],
   "source": [
    "single_chimp_mask = df.Tags.apply(lambda x:\n",
    "                                  ('1_chimp' in x) \n",
    "                                  & ('2_chimp' not in x)\n",
    "                                  & ('3_chimp' not in x)\n",
    "                                  & ('4_chimp' not in x)\n",
    "                                  & ('5_chimp' not in x)\n",
    "                                  & ('6_chimp' not in x)\n",
    "                                  & ('7_chimp' not in x)\n",
    "                                  & ('8_chimp' not in x)\n",
    "                                  & ('9_chimp' not in x)\n",
    "                                  & ('10_chimp' not in x)\n",
    "                                  & ('11_chimp' not in x)\n",
    "                                  & ('12_chimp' not in x)\n",
    "                                  & ('13_chimp' not in x)\n",
    "                                  & ('14_chimp' not in x)\n",
    "                                  & ('15_chimp' not in x)\n",
    "                                  & ('16_chimp' not in x)\n",
    "                                  & ('17_chimp' not in x)\n",
    "                                  & ('18_chimp' not in x)\n",
    "                                  & ('19_chimp' not in x)\n",
    "                                  & ('20_chimp' not in x))\n",
    "\n",
    "tool_use_mask = df.Tags.apply(lambda x: \n",
    "                 ('carrying_tool' in x) or \n",
    "                 ('using_tool' in x) or \n",
    "                 ('rock_tool_use' in x) or \n",
    "                 ('holding_tool' in x) or\n",
    "                 ('tool_usage' in x) or \n",
    "                 ('tool_modification' in x) or\n",
    "                 ('tool_user' in x) or \n",
    "                 ('tool_use_learning' in x) or\n",
    "                 ('tree_limb_tool' in x) or \n",
    "                 ('tool-usage' in x) or\n",
    "                 ('chimps_using_tool' in x) or\n",
    "                 ('tool_useage' in x) or \n",
    "                 ('chimp_with_tool' in x) or \n",
    "                 ('tool-using' in x) or\n",
    "                 ('toolusage' in x) or \n",
    "                 ('tool_working' in x) or\n",
    "                 ('log_tool' in x) or \n",
    "                 ('tree_limb_tool_use' in x) or\n",
    "                 ('tools_use' in x) or\n",
    "                 ('chimp_tool_use' in x) or \n",
    "                 ('tool_work' in x) or \n",
    "                 ('tool_use' in x) or\n",
    "                 ('nicetooluse' in x) or \n",
    "                 ('tool_using' in x) or\n",
    "                 ('tools' in x) or \n",
    "                 ('tool-use' in x) or\n",
    "                 ('termite-tool' in x) or                              \n",
    "                 ('tool' in x) or \n",
    "                 ('tooluse' in x) or \n",
    "                 ('chimptoolusage' in x) or\n",
    "                 ('usingtool' in x) or \n",
    "                 ('chimptooluse' in x) or\n",
    "                 ('ool_use' in x) or \n",
    "                 ('toool_usage' in x) or\n",
    "                 ('carrying_objects' in x) or\n",
    "                 ('rocksmash' in x) or\n",
    "                 ('cracking' in x) or\n",
    "                 ('stone_tool_use' in x) or\n",
    "                 ('hammerstone' in x) or\n",
    "                 ('stone' in x) or\n",
    "                 ('rock' in x) or\n",
    "                 ('hammer' in x) or\n",
    "                 ('cracking_nuts' in x) or\n",
    "                 ('breakingnut' in x) or\n",
    "                 ('nut_cracking' in x) or\n",
    "                 ('nutcracking' in x) or\n",
    "                 ('crackingnuts' in x) or\n",
    "                 ('woodhammer' in x))\n",
    "\n",
    "feeding_mask = df.Tags.apply(lambda x: \n",
    "                 ('eatingintree' in x) or \n",
    "                 ('eating' in x) or\n",
    "                 ('clay_eating' in x) or\n",
    "                 ('chimp_with_young_feeding_on_ground' in x) or\n",
    "                 ('feeding' in x) or \n",
    "                 ('insects' in x) or\n",
    "                 ('chimpcollectingfood' in x) or\n",
    "                 ('fruit' in x) or \n",
    "                 ('applejack' in x) or\n",
    "                 ('wood_' in x) or \n",
    "                 ('wood_eating' in x) or \n",
    "                 ('eating_wood' in x) or \n",
    "                 ('wood_chewing' in x) or\n",
    "                 ('wood_feeding' in x) or \n",
    "                 ('wood-eating' in x) or\n",
    "                 ('woodeating' in x) or \n",
    "                 ('woord_eating' in x) or\n",
    "                 ('wwod-eating' in x) or \n",
    "                 ('eatingbark' in x) or\n",
    "                 ('barking' in x) or \n",
    "                 ('bark-eating' in x) or\n",
    "                 ('bark_eating' in x) or \n",
    "                 ('tree_gnawing' in x) or                              \n",
    "                 ('stripping_bark' in x) or\n",
    "                 ('nut_pick' in x) or \n",
    "                 ('nutpick' in x) or\n",
    "                 ('nut' in x) or \n",
    "                 ('nuts' in x) or\n",
    "                 ('termites' in x) or \n",
    "                 ('termite_mound' in x) or \n",
    "                 ('termitefishing' in x) or \n",
    "                 ('female_on_termite_mound' in x))\n",
    "                             \n",
    "swelling_mask = df.Tags.apply(lambda x: \n",
    "                           ('femaleswelling' in x) or \n",
    "                           ('max_swelling' in x) or \n",
    "                           ('sexual_swelling' in x) or \n",
    "                           ('max-swelling' in x) or \n",
    "                           ('big_swelling' in x) or \n",
    "                           ('swelling' in x) or \n",
    "                           ('extreme_swelling' in x) or                          \n",
    "                           ('same_swelling' in x))\n",
    "\n",
    "camera_mask = df.Tags.apply(lambda x: \n",
    "                 ('camera_interaction' in x) or \n",
    "                 ('camera_' in x) or \n",
    "                 ('camera_aware' in x) or \n",
    "                 ('camera_touch' in x) or\n",
    "                 ('camera-reaction' in x) or \n",
    "                 ('camerainteraction' in x) or\n",
    "                 ('camera_reactrion' in x) or \n",
    "                 ('camera_stare' in x) or\n",
    "                 ('camera_reaction' in x) or \n",
    "                 ('camerareaction' in x) or\n",
    "                 ('cam_reaction' in x) or \n",
    "                 ('camera_reaction_infants' in x) or\n",
    "                 ('camera-aware' in x) or \n",
    "                 ('touchcam' in x) or   \n",
    "                 ('camea_reaction' in x) or    \n",
    "                 ('camara_reaction' in x) or    \n",
    "                 ('cam_touch' in x) or                                \n",
    "                 ('caerma_reaction' in x) or\n",
    "                 ('selfie' in x) or                                \n",
    "                 ('chimp_selfie' in x))\n",
    "\n",
    "climbing_mask = df.Tags.apply(lambda x: \n",
    "                           ('climbing_in_tree' in x) or \n",
    "                           ('treeclimbing' in x) or \n",
    "                           ('climbing' in x) or \n",
    "                           ('climbing_tree' in x) or \n",
    "                           ('tree' in x) or\n",
    "                           ('climping' in x) or\n",
    "                           ('inatree' in x))\n",
    "\n",
    "\n",
    "bipedal_mask = df.Tags.apply(lambda x: \n",
    "                           ('pibedal' in x) or \n",
    "                           ('upright_walking' in x) or \n",
    "                           ('chimp_just_standing' in x) or \n",
    "                           ('chimp_standing' in x) or \n",
    "                           ('standing' in x) or \n",
    "                           ('bipedal' in x))\n",
    "\n",
    "night_mask = df.Tags.apply(lambda x: \n",
    "                           ('chimatnight' in x) or \n",
    "                           ('nightchimps' in x) or \n",
    "                           ('nightmeal' in x) or \n",
    "                           ('nightfeeding' in x) or \n",
    "                           ('nightchimp' in x) or \n",
    "                           ('nightfeeding' in x) or \n",
    "                           ('night_chimp' in x))"
   ]
  },
  {
   "cell_type": "code",
   "execution_count": null,
   "id": "d4ee51f5-6b40-4411-855a-220871f6f60f",
   "metadata": {},
   "outputs": [],
   "source": [
    "df['single_chimp'] = single_chimp_mask\n",
    "df['tool_use'] = tool_use_mask\n",
    "df['feeding'] = feeding_mask\n",
    "df['climbing'] = climbing_mask\n",
    "df['swelling'] = swelling_mask\n",
    "df['bipedal'] = bipedal_mask\n",
    "df['camera'] = camera_mask\n",
    "df['night'] = night_mask"
   ]
  },
  {
   "cell_type": "markdown",
   "id": "abbd321f-6aed-45e8-8315-e292deea88e7",
   "metadata": {},
   "source": [
    "**Single ape subset - label processing**"
   ]
  },
  {
   "cell_type": "code",
   "execution_count": null,
   "id": "326fd53b-3058-4bf5-9d4c-b33783353af5",
   "metadata": {},
   "outputs": [],
   "source": [
    "single_df = df[df.single_chimp].rename(columns={'Unnamed: 2': 'site'})\n",
    "single_df = single_df.reindex(sorted(single_df.columns), axis=1).drop(columns=['split_tags', 'single_chimp'])\n",
    "first_column = single_df.pop('site')\n",
    "single_df.insert(1, 'Name', first_column)\n",
    "single_df = single_df.rename(columns={'ID': 'id', 'Name': 'name', 'Tags': 'tags'})\n",
    "single_df['label'] = single_df.apply(lambda x: list(map(int, [x.bipedal, x.camera, x.climbing, x.feeding, x.night, x.swelling, x.tool_use])), axis=1)\n",
    "single_df"
   ]
  },
  {
   "cell_type": "code",
   "execution_count": null,
   "id": "6aaab51d-2045-4932-bb5b-4734eaf9b6a7",
   "metadata": {},
   "outputs": [],
   "source": [
    "single_df[single_df.id=='ACP000002l'].apply(lambda x: list(map(int, [x.bipedal, x.camera, x.climbing, x.feeding, x.night, x.swelling, x.tool_use])), axis=1).iloc[0]"
   ]
  },
  {
   "cell_type": "code",
   "execution_count": null,
   "id": "f5fe0ad4-5583-4885-99d0-9b3bc147b0a4",
   "metadata": {},
   "outputs": [],
   "source": [
    "# sklearn.model_selection.train_test_split(*arrays, test_size=None, train_size=None, random_state=None, shuffle=True, stratify=None)\n",
    "videos = single_df.id.values\n",
    "sites = single_df.name.values\n",
    "train_x, test_x, train_y, test_y = train_test_split(videos, sites, train_size=0.7, test_size=0.3, random_state=0)"
   ]
  },
  {
   "cell_type": "code",
   "execution_count": null,
   "id": "cf5b12dd-fe27-4432-9c3f-9f1df7778e1a",
   "metadata": {},
   "outputs": [],
   "source": [
    "single_df['train'] = single_df.id.apply(lambda x: True if x in train_x else False)\n",
    "single_df['test'] = single_df.train.apply(lambda x: True if not x else False)"
   ]
  },
  {
   "cell_type": "code",
   "execution_count": null,
   "id": "1ef33aa9-e268-4776-9ce0-bed41d8c30f6",
   "metadata": {},
   "outputs": [],
   "source": [
    "single_df.to_excel('panaf_5k_labels.xlsx')"
   ]
  },
  {
   "cell_type": "code",
   "execution_count": null,
   "id": "450b7924-315b-4fa1-9fd2-c9fa6842c895",
   "metadata": {},
   "outputs": [],
   "source": [
    "single_df.head()"
   ]
  },
  {
   "cell_type": "markdown",
   "id": "4549254c-4756-42dd-a011-59279285c354",
   "metadata": {},
   "source": [
    "**Behaviour occurences**"
   ]
  },
  {
   "cell_type": "code",
   "execution_count": null,
   "id": "7e4d5f9a-8057-4345-8dcb-768088703c6e",
   "metadata": {},
   "outputs": [],
   "source": [
    "attr = single_df.columns[3:10]\n",
    "counts=single_df[attr].sum(axis=0) # occurence counts\n",
    "ax = counts.plot.bar(figsize=(15,5));\n",
    "ax.set_xlabel(\"Attributes\");\n",
    "ax.set_ylabel(\"Occurence\");"
   ]
  },
  {
   "cell_type": "markdown",
   "id": "c8f90e9e-b63b-4b45-b682-c6720f6ca785",
   "metadata": {},
   "source": [
    "**Behaviour co-occurences**"
   ]
  },
  {
   "cell_type": "code",
   "execution_count": null,
   "id": "2b99099e-507e-4600-83c7-f162591cc783",
   "metadata": {},
   "outputs": [],
   "source": [
    "matrix = single_df[attr].astype(int)\n",
    "co_matrix = matrix.T.dot(matrix)\n",
    "diag = np.diag(co_matrix)\n",
    "rel_co_matrix = np.array([1 / x for x in diag]) * co_matrix\n",
    "plt.figure(figsize=(15,10))\n",
    "sns.heatmap(rel_co_matrix);"
   ]
  },
  {
   "cell_type": "markdown",
   "id": "1db1c783-3e3e-44f5-b5ca-97879e880db6",
   "metadata": {},
   "source": [
    "**Generate multi-label groundtruth**"
   ]
  },
  {
   "cell_type": "code",
   "execution_count": null,
   "id": "304281b1-c1be-4a39-99aa-8d8a5fc52040",
   "metadata": {},
   "outputs": [],
   "source": [
    "df.apply(lambda x: list(map(int, [x.tool_use, x.swelling, x.bipedal, x.camera, x.night])), axis=1)"
   ]
  },
  {
   "cell_type": "code",
   "execution_count": null,
   "id": "979f53cc-f449-48a0-90a1-c285ea17e287",
   "metadata": {},
   "outputs": [],
   "source": [
    "data= {}\n",
    "for column in df:\n",
    "    if column in ['tool_use', 'swelling', 'bipedal', 'camera', 'night']:\n",
    "        data[column] = df[column].value_counts().loc[True]"
   ]
  },
  {
   "cell_type": "code",
   "execution_count": null,
   "id": "f51ad825-a05b-4a5b-ad86-f91a147db2df",
   "metadata": {},
   "outputs": [],
   "source": [
    "data"
   ]
  }
 ],
 "metadata": {
  "kernelspec": {
   "display_name": "Python 3",
   "language": "python",
   "name": "python3"
  },
  "language_info": {
   "codemirror_mode": {
    "name": "ipython",
    "version": 3
   },
   "file_extension": ".py",
   "mimetype": "text/x-python",
   "name": "python",
   "nbconvert_exporter": "python",
   "pygments_lexer": "ipython3",
   "version": "3.8.11"
  }
 },
 "nbformat": 4,
 "nbformat_minor": 5
}
