{
 "cells": [
  {
   "cell_type": "markdown",
   "id": "e1d65a67-3880-4028-8de5-73f38dc4bdba",
   "metadata": {},
   "source": [
    "**Basic tag processing**"
   ]
  },
  {
   "cell_type": "code",
   "execution_count": null,
   "id": "67dad9a9-37c5-416b-a514-615b838b60fc",
   "metadata": {},
   "outputs": [],
   "source": [
    "# Tool usage and feeding\n",
    "tool_use_mask = df.Tags.apply(lambda x: 'tool' in x)\n",
    "hammer_mask = df[df.Tags.apply(lambda x: ('hammer' in x))]\n",
    "termite_mask = df.Tags.apply(lambda x: 'termite' in x)\n",
    "mound_mask = df.Tags.apply(lambda x: 'mound' in x)\n",
    "surface_mask = df.Tags.apply(lambda x: 'surface' in x)\n",
    "nut_mask = df.Tags.apply(lambda x: 'nut' in x)\n",
    "stone_mask = df.Tags.apply(lambda x: 'stone' in x)\n",
    "honey_mask = df.Tags.apply(lambda x: 'honey' in x)\n",
    "\n",
    "# Other behaviours\n",
    "swelling_mask = df.Tags.apply(lambda x: 'max_swelling' in x)\n",
    "bipedal_mask = df.Tags.apply(lambda x: 'bipedal' in x)\n",
    "selfie_mask = df.Tags.apply(lambda x: 'selfie' in x)\n",
    "camera_reaction_mask = df.Tags.apply(lambda x: 'camera' in x)"
   ]
  },
  {
   "cell_type": "markdown",
   "id": "7ef08265-5f9e-4e64-b0d7-206f0e28a52a",
   "metadata": {},
   "source": [
    "**Fuzzy tag processing**"
   ]
  },
  {
   "cell_type": "code",
   "execution_count": null,
   "id": "186ea44e-cf55-498b-bd76-1c613cd8b67e",
   "metadata": {},
   "outputs": [],
   "source": [
    "single_chimp_mask = df.Tags.apply(lambda x: '1_chimp' in x)"
   ]
  },
  {
   "cell_type": "code",
   "execution_count": null,
   "id": "e4bc3f0d-57d1-412e-adc2-a928089e1dfa",
   "metadata": {},
   "outputs": [],
   "source": [
    "tool_use_mask = df.Tags.apply(lambda x: \n",
    "                 ('carrying_tool' in x) or \n",
    "                 ('using_tool' in x) or \n",
    "                 ('rock_tool_use' in x) or \n",
    "                 ('holding_tool' in x) or\n",
    "                 ('tool_usage' in x) or \n",
    "                 ('tool_modification' in x) or\n",
    "                 ('tool_user' in x) or \n",
    "                 ('tool_use_learning' in x) or\n",
    "                 ('tree_limb_tool' in x) or \n",
    "                 ('tool-usage' in x) or\n",
    "                 ('chimps_using_tool' in x) or\n",
    "                 ('tool_useage' in x) or \n",
    "                 ('chimp_with_tool' in x) or \n",
    "                 ('tool-using' in x) or\n",
    "                 ('toolusage' in x) or \n",
    "                 ('tool_working' in x) or\n",
    "                 ('log_tool' in x) or \n",
    "                 ('tree_limb_tool_use' in x) or\n",
    "                 ('tools_use' in x) or\n",
    "                 ('chimp_tool_use' in x) or \n",
    "                 ('tool_work' in x) or \n",
    "                 ('tool_use' in x) or\n",
    "                 ('nicetooluse' in x) or \n",
    "                 ('tool_using' in x) or\n",
    "                 ('tools' in x) or \n",
    "                 ('tool-use' in x) or\n",
    "                 ('termite-tool' in x) or                              \n",
    "                 ('tool' in x) or \n",
    "                 ('tooluse' in x) or \n",
    "                 ('chimptoolusage' in x) or\n",
    "                 ('usingtool' in x) or \n",
    "                 ('chimptooluse' in x) or\n",
    "                 ('ool_use' in x) or \n",
    "                 ('toool_usage' in x) or\n",
    "                 ('carrying_objects' in x) or\n",
    "                 ('rocksmash' in x) or\n",
    "                 ('cracking' in x) or\n",
    "                 ('stone_tool_use' in x) or\n",
    "                 ('hammerstone' in x) or\n",
    "                 ('stone' in x) or\n",
    "                 ('rock' in x) or\n",
    "                 ('hammer' in x) or\n",
    "                 ('cracking_nuts' in x) or\n",
    "                 ('breakingnut' in x) or\n",
    "                 ('nut_cracking' in x) or\n",
    "                 ('nutcracking' in x) or\n",
    "                 ('crackingnuts' in x) or\n",
    "                 ('woodhammer' in x))"
   ]
  },
  {
   "cell_type": "code",
   "execution_count": null,
   "id": "20c3acff-158f-46ca-b3cc-3dafe2f4043e",
   "metadata": {},
   "outputs": [],
   "source": [
    "carrying_mask = df.Tags.apply(lambda x: \n",
    "                 ('carryingobject' in x) or \n",
    "                 ('carring_object' in x) or \n",
    "                 ('carryingsomething' in x) or \n",
    "                 ('rockcarrying' in x) or\n",
    "                 ('carryin_object' in x) or \n",
    "                 ('carring_object' in x) or\n",
    "                 ('carrying_an_object' in x) or \n",
    "                 ('carry' in x) or\n",
    "                 ('carring_objekt' in x) or \n",
    "                 ('carrying' in x) or\n",
    "                 ('carrying_object' in x))"
   ]
  },
  {
   "cell_type": "code",
   "execution_count": null,
   "id": "8a9b82ec-6779-4801-b8b9-675ed1d64c42",
   "metadata": {},
   "outputs": [],
   "source": [
    "feeding_mask = df.Tags.apply(lambda x: \n",
    "                 ('eatingintree' in x) or \n",
    "                 ('eating' in x) or\n",
    "                 ('clay_eating' in x) or\n",
    "                 ('chimp_with_young_feeding_on_ground' in x) or\n",
    "                 ('feeding' in x) or \n",
    "                 ('insects' in x) or\n",
    "                 ('chimpcollectingfood' in x) or\n",
    "                 ('fruit' in x) or \n",
    "                 ('applejack' in x))"
   ]
  },
  {
   "cell_type": "code",
   "execution_count": null,
   "id": "8c33b102-41fe-4c6f-9418-a1cfe2f3b026",
   "metadata": {},
   "outputs": [],
   "source": [
    "wood_mask = df.Tags.apply(lambda x: \n",
    "                 ('wood_' in x) or \n",
    "                 ('wood_eating' in x) or \n",
    "                 ('eating_wood' in x) or \n",
    "                 ('wood_chewing' in x) or\n",
    "                 ('wood_feeding' in x) or \n",
    "                 ('wood-eating' in x) or\n",
    "                 ('woodeating' in x) or \n",
    "                 ('woord_eating' in x) or\n",
    "                 ('wwod-eating' in x) or \n",
    "                 ('eatingbark' in x) or\n",
    "                 ('barking' in x) or \n",
    "                 ('bark-eating' in x) or\n",
    "                 ('bark_eating' in x) or \n",
    "                 ('tree_gnawing' in x) or                              \n",
    "                 ('stripping_bark' in x))"
   ]
  },
  {
   "cell_type": "code",
   "execution_count": null,
   "id": "6c8e092b-9417-40f2-ab7c-231f4515a252",
   "metadata": {},
   "outputs": [],
   "source": [
    "nut_mask = df.Tags.apply(lambda x: \n",
    "                 ('nut_pick' in x) or \n",
    "                 ('nutpick' in x) or\n",
    "                 ('nut' in x) or \n",
    "                 ('nuts' in x))"
   ]
  },
  {
   "cell_type": "code",
   "execution_count": null,
   "id": "dc9acc4c-fd9e-4aa8-9367-269168857618",
   "metadata": {},
   "outputs": [],
   "source": [
    "termite_mask = df.Tags.apply(lambda x: \n",
    "                 ('termites' in x) or \n",
    "                 ('termite_mound' in x) or \n",
    "                 ('termitefishing' in x) or \n",
    "                 ('female_on_termite_mound' in x))"
   ]
  },
  {
   "cell_type": "code",
   "execution_count": null,
   "id": "dd0f7eba-6bc6-4f97-8d77-cf0cbcc452c0",
   "metadata": {},
   "outputs": [],
   "source": [
    "swelling_mask = df.Tags.apply(lambda x: \n",
    "                           ('femaleswelling' in x) or \n",
    "                           ('max_swelling' in x) or \n",
    "                           ('sexual_swelling' in x) or \n",
    "                           ('max-swelling' in x) or \n",
    "                           ('big_swelling' in x) or \n",
    "                           ('swelling' in x) or \n",
    "                           ('extreme_swelling' in x) or                          \n",
    "                           ('same_swelling' in x))"
   ]
  },
  {
   "cell_type": "code",
   "execution_count": null,
   "id": "2fb9a332-3e7a-415e-bfd7-8e50c33d1881",
   "metadata": {},
   "outputs": [],
   "source": [
    "camera_mask = df.Tags.apply(lambda x: \n",
    "                 ('camera_interaction' in x) or \n",
    "                 ('camera_' in x) or \n",
    "                 ('camera_aware' in x) or \n",
    "                 ('camera_touch' in x) or\n",
    "                 ('camera-reaction' in x) or \n",
    "                 ('camerainteraction' in x) or\n",
    "                 ('camera_reactrion' in x) or \n",
    "                 ('camera_stare' in x) or\n",
    "                 ('camera_reaction' in x) or \n",
    "                 ('camerareaction' in x) or\n",
    "                 ('cam_reaction' in x) or \n",
    "                 ('camera_reaction_infants' in x) or\n",
    "                 ('camera-aware' in x) or \n",
    "                 ('touchcam' in x) or   \n",
    "                 ('camea_reaction' in x) or    \n",
    "                 ('camara_reaction' in x) or    \n",
    "                 ('cam_touch' in x) or                                \n",
    "                 ('caerma_reaction' in x) or\n",
    "                 ('selfie' in x) or                                \n",
    "                 ('chimp_selfie' in x))"
   ]
  },
  {
   "cell_type": "code",
   "execution_count": null,
   "id": "743caabf-f985-4b35-a83f-707d7e534e52",
   "metadata": {},
   "outputs": [],
   "source": [
    "environment_mask = df.Tags.apply(lambda x: \n",
    "                           ('surface' in x) or \n",
    "                           ('mound' in x))"
   ]
  },
  {
   "cell_type": "code",
   "execution_count": null,
   "id": "4b39e57e-a249-463a-8fb5-01ee260d7da6",
   "metadata": {},
   "outputs": [],
   "source": [
    "bipedal_mask = df.Tags.apply(lambda x: \n",
    "                           ('pibedal' in x) or \n",
    "                           ('upright_walking' in x) or \n",
    "                           ('chimp_just_standing' in x) or \n",
    "                           ('chimp_standing' in x) or \n",
    "                           ('standing' in x) or \n",
    "                           ('bipedal' in x))"
   ]
  },
  {
   "cell_type": "code",
   "execution_count": null,
   "id": "49dcbe56-aab6-46ba-8433-f9bb7efbf7ba",
   "metadata": {},
   "outputs": [],
   "source": [
    "night_mask = df.Tags.apply(lambda x: \n",
    "                           ('chimatnight' in x) or \n",
    "                           ('nightchimps' in x) or \n",
    "                           ('nightmeal' in x) or \n",
    "                           ('nightfeeding' in x) or \n",
    "                           ('nightchimp' in x) or \n",
    "                           ('nightfeeding' in x) or \n",
    "                           ('night_chimp' in x))"
   ]
  },
  {
   "cell_type": "markdown",
   "id": "df190c62-ac8b-4bc8-9a8e-dd8da4b57b0e",
   "metadata": {},
   "source": [
    "**Mask assigment & filtering**"
   ]
  },
  {
   "cell_type": "code",
   "execution_count": null,
   "id": "830f413a-38ab-46a9-bfc6-f22e4565b79b",
   "metadata": {},
   "outputs": [],
   "source": [
    "df['single_chimp'] = single_chimp_mask\n",
    "df['tool_use'] = tool_use_mask\n",
    "df['tool_carrying'] = carrying_mask\n",
    "df['feeding'] = feeding_mask\n",
    "df['termite'] = termite_mask\n",
    "df['nuts'] = nut_mask\n",
    "df['wood'] = wood_mask\n",
    "df['swelling'] = swelling_mask\n",
    "df['bipedal'] = bipedal_mask\n",
    "df['camera'] = camera_mask\n",
    "df['night'] = night_mask"
   ]
  }
 ],
 "metadata": {
  "kernelspec": {
   "display_name": "Python 3",
   "language": "python",
   "name": "python3"
  },
  "language_info": {
   "codemirror_mode": {
    "name": "ipython",
    "version": 3
   },
   "file_extension": ".py",
   "mimetype": "text/x-python",
   "name": "python",
   "nbconvert_exporter": "python",
   "pygments_lexer": "ipython3",
   "version": "3.8.11"
  }
 },
 "nbformat": 4,
 "nbformat_minor": 5
}
