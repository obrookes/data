{
 "cells": [
  {
   "cell_type": "code",
   "execution_count": 2,
   "id": "84b40594-5977-49a2-88e7-b52fa040e44b",
   "metadata": {},
   "outputs": [],
   "source": [
    "import json\n",
    "import pandas as pd\n",
    "from glob import glob"
   ]
  },
  {
   "cell_type": "code",
   "execution_count": 33,
   "id": "160cc7e8-96f7-4d14-b886-7a927737ca54",
   "metadata": {},
   "outputs": [],
   "source": [
    "videos = [x.split('/')[-1].split('.')[0] for x in glob('annotations/**/*.json', recursive=True)]\n",
    "df = pd.DataFrame(videos).rename(columns={0:'video'})"
   ]
  },
  {
   "cell_type": "code",
   "execution_count": 38,
   "id": "1bf90741-48aa-432e-bb94-88fa30d29cfc",
   "metadata": {},
   "outputs": [],
   "source": [
    "df.to_excel('single_ape_subset.xlsx')"
   ]
  },
  {
   "cell_type": "code",
   "execution_count": 52,
   "id": "2d4f5136-c9d7-497a-b3fb-390aff1385ad",
   "metadata": {},
   "outputs": [],
   "source": [
    "def modify_annotation(annotation_prefix, outpath_prefix, video_id, xmin_scaler=0, ymin_scaler=0, xmax_scaler=0, ymax_scaler=0):\n",
    "    \n",
    "    x_min_lim = 0\n",
    "    y_min_lim = 0\n",
    "    \n",
    "    x_max_lim = 720\n",
    "    y_max_lim = 404\n",
    "    \n",
    "    with open(f'{annotation_prefix}/{video_id}.json', 'rb') as handle:\n",
    "        a = json.load(handle)\n",
    "    \n",
    "    for frame in a['annotations']:\n",
    "        for d in frame['detections']:\n",
    "            \n",
    "            xmin, ymin, xmax, ymax = d['bbox'][0], d['bbox'][1], d['bbox'][2], d['bbox'][3]\n",
    "            \n",
    "            xmin -= xmin_scaler * (xmax - xmin)\n",
    "            xmax += xmax_scaler * (xmax - xmin)\n",
    "            ymin -= ymin_scaler * (ymax - ymin)\n",
    "            ymax += ymax_scaler * (ymax - ymin)\n",
    "\n",
    "            xmin = x_min_lim if (xmin < x_min_lim) else xmin\n",
    "            ymin = y_min_lim if (ymin < y_min_lim) else ymin\n",
    "            xmax = x_max_lim if (xmax > x_max_lim) else xmax\n",
    "            ymax = y_max_lim if (ymax > y_max_lim) else ymax\n",
    "            \n",
    "            d['bbox'][0], d['bbox'][1], d['bbox'][2], d['bbox'][3] = xmin, ymin, 720, 404\n",
    "            \n",
    "    with open(f'{outpath_prefix}/{video_id}.json', 'w') as handle:\n",
    "        json.dump(a, handle, ensure_ascii=False, indent=4)"
   ]
  }
 ],
 "metadata": {
  "kernelspec": {
   "display_name": "Python 3",
   "language": "python",
   "name": "python3"
  },
  "language_info": {
   "codemirror_mode": {
    "name": "ipython",
    "version": 3
   },
   "file_extension": ".py",
   "mimetype": "text/x-python",
   "name": "python",
   "nbconvert_exporter": "python",
   "pygments_lexer": "ipython3",
   "version": "3.8.13"
  }
 },
 "nbformat": 4,
 "nbformat_minor": 5
}
